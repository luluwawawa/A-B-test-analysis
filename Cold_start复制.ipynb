{
 "cells": [
  {
   "cell_type": "code",
   "execution_count": 201,
   "metadata": {
    "tags": []
   },
   "outputs": [],
   "source": [
    "import pandas as pd\n",
    "import numpy as np\n",
    "from metric_funcs import Ttest, Metric\n",
    "from frt_pvalue import sharp_null_hypothesis_pvalue\n",
    "from generator import EnvironmentGenerator\n",
    "from recommandation import RecommandationSys\n",
    "import xlwt\n",
    "import warnings\n",
    "import time\n",
    "warnings.filterwarnings(\"ignore\")"
   ]
  },
  {
   "cell_type": "markdown",
   "metadata": {
    "pycharm": {
     "name": "#%% md\n"
    }
   },
   "source": [
    "1. 总体样本的生成"
   ]
  },
  {
   "cell_type": "code",
   "execution_count": 202,
   "metadata": {
    "collapsed": false,
    "jupyter": {
     "outputs_hidden": false
    },
    "pycharm": {
     "name": "#%%\n"
    }
   },
   "outputs": [
    {
     "name": "stdout",
     "output_type": "stream",
     "text": [
      "新广告条数: 385\n",
      "mature 广告条数: 1615\n",
      "所有广告ctr的均值 0.0028140766799801026\n",
      "新广告ctr的均值： 0.0024559713782141635\n",
      "mature 广告均值: 0.002899445436128639\n"
     ]
    }
   ],
   "source": [
    "# # 1. 模拟前参数准备\n",
    "# 1.1 定义全局参数\n",
    "total_user = 100000\n",
    "total_feed = 2000\n",
    "# target_click = 3000\n",
    "impression_number= 10\n",
    "\n",
    "# 1.2 调用实验数据\n",
    "# 环境变量\n",
    "rec_env = EnvironmentGenerator(total_user, total_feed)\n",
    "rec_sys = RecommandationSys(rec_env.get_users(), rec_env.get_feeds())\n",
    "# 获取全部users,feeds 特征\n",
    "users = rec_env.get_users()\n",
    "feeds = rec_env.get_feeds()\n",
    "# 创建 is_new_index\n",
    "is_new_index = np.zeros(len(feeds))\n",
    "is_new_index[(feeds[:, 1] > 0.002) & (feeds[:, 1] <= 0.003)] = 1\n",
    "\n",
    "new_ad_index = np.where(is_new_index == 1)[0]\n",
    "new_feed_number= len(new_ad_index)\n",
    "mature_feed_number= total_feed- new_feed_number\n",
    "# print(is_new_index)\n",
    "# 创建 coefficient_ctr_model\n",
    "coefficients=rec_sys.generate_groundtruth_model()\n",
    "coefficient_ctr_model= coefficients[1]\n",
    "# 创建 target_bid_price\n",
    "target_bid_price= np.random.normal(10.89, 1, total_feed)\n",
    "\n",
    "print(\"新广告条数:\",new_feed_number)\n",
    "print(\"mature 广告条数:\",mature_feed_number)\n",
    "print(\"所有广告ctr的均值\",np.mean(feeds[:,1]))\n",
    "print(\"新广告ctr的均值：\",np.mean(feeds[:,1][(is_new_index==1)]))\n",
    "print(\"mature 广告均值:\",np.mean(feeds[:,1][(is_new_index==0)]))"
   ]
  },
  {
   "cell_type": "markdown",
   "metadata": {
    "pycharm": {
     "name": "#%% md\n"
    }
   },
   "source": [
    "2. 渐进式双边实验"
   ]
  },
  {
   "cell_type": "code",
   "execution_count": 203,
   "metadata": {
    "collapsed": false,
    "jupyter": {
     "outputs_hidden": false
    },
    "pycharm": {
     "name": "#%%\n"
    }
   },
   "outputs": [],
   "source": [
    "T1 = time.time()\n",
    "# 1.3 构造实验变量\n",
    "# 构造treatment和control的初始数据\n",
    "is_new_index_t=is_new_index; is_new_index_c=is_new_index\n",
    "target_bid_price_t= target_bid_price; target_bid_price_c= target_bid_price\n",
    "new_ad_index_t= new_ad_index; new_ad_index_c= new_ad_index\n",
    "\n",
    "# 调整new feed 的 bid\n",
    "current_cpc_c = np.zeros(total_feed)\n",
    "for i in range(int(total_feed)):\n",
    "    if is_new_index[i] == 0:\n",
    "        current_cpc_c[i] = target_bid_price[i]\n",
    "    else:\n",
    "        current_cpc_c[i] = target_bid_price[i] + 2\n",
    "# print(current_cpc)\n",
    "current_cpc_t = current_cpc_c"
   ]
  },
  {
   "cell_type": "markdown",
   "metadata": {
    "pycharm": {
     "name": "#%% md\n"
    }
   },
   "source": [
    "实验分组"
   ]
  },
  {
   "cell_type": "code",
   "execution_count": 636,
   "metadata": {
    "collapsed": false,
    "jupyter": {
     "outputs_hidden": false
    },
    "pycharm": {
     "name": "#%%\n"
    }
   },
   "outputs": [
    {
     "name": "stdout",
     "output_type": "stream",
     "text": [
      "================================================\n",
      "cold_start--双边实验\n",
      "treatment_ratio： 0.25\n",
      "control_ratio： 0.25\n",
      "================================================\n"
     ]
    }
   ],
   "source": [
    "# 实验流量\n",
    "# treatment user/feed\n",
    "treatment_ratio= 0.25\n",
    "control_ratio= 0.25\n",
    "print('================================================')\n",
    "print('cold_start--双边实验')\n",
    "print('treatment_ratio：', treatment_ratio)\n",
    "print('control_ratio：', control_ratio)\n",
    "print('================================================')"
   ]
  },
  {
   "cell_type": "code",
   "execution_count": 637,
   "metadata": {
    "collapsed": false,
    "jupyter": {
     "outputs_hidden": false
    },
    "pycharm": {
     "name": "#%%\n"
    }
   },
   "outputs": [
    {
     "name": "stdout",
     "output_type": "stream",
     "text": [
      "385.0\n",
      "385.0\n",
      "385.0\n",
      "115.0\n",
      "115.0\n"
     ]
    }
   ],
   "source": [
    "# 参与实验的user数\n",
    "t_user_number= int(total_user* treatment_ratio)\n",
    "c_user_number= int(total_user* treatment_ratio)\n",
    "# t_user_number= int(total_user* 0.3)\n",
    "# c_user_number= int(total_user* 0.3)\n",
    "# 参与实验的feed数\n",
    "# t_new_feed_number= int(new_feed_number * treatment_ratio)\n",
    "t_new_feed_number= int(new_feed_number * 0.3)\n",
    "t_all_feed_number= int(mature_feed_number+ t_new_feed_number)\n",
    "# c_new_feed_number= int(new_feed_number * treatment_ratio)\n",
    "c_new_feed_number= int(new_feed_number * 0.3)\n",
    "c_all_feed_number= int(mature_feed_number+ c_new_feed_number)\n",
    "\n",
    "# # 2. 实验变量建立\n",
    "# 2.2 建立实验组和对照组的index\n",
    "# 建立feed侧的分组变量\n",
    "is_new_treatment = np.zeros(total_feed)\n",
    "is_new_control = np.zeros(total_feed)\n",
    "# 全部的index\n",
    "new_ad_index = np.where(is_new_index == 1)[0]\n",
    "treatment_new_index = new_ad_index[0:t_new_feed_number]\n",
    "# print(treatment_new_index)\n",
    "control_new_index = treatment_new_index\n",
    "\n",
    "# 实验组，对照组的向量\n",
    "for i in range(t_new_feed_number):\n",
    "    is_new_treatment[int(treatment_new_index[i])] = 1\n",
    "    is_new_control[int(control_new_index[i])] = 1\n",
    "\n",
    "# 最终有；is_new_index,is_new_control,is_new_treatment,\n",
    "       # current_cpc_c,\n",
    "print(is_new_index.sum())\n",
    "print(is_new_index_c.sum())\n",
    "print(is_new_index_t.sum())\n",
    "print(is_new_treatment.sum())\n",
    "print(is_new_control.sum())"
   ]
  },
  {
   "cell_type": "markdown",
   "metadata": {
    "pycharm": {
     "name": "#%% md\n"
    }
   },
   "source": [
    "1. control"
   ]
  },
  {
   "cell_type": "code",
   "execution_count": 638,
   "metadata": {
    "collapsed": false,
    "jupyter": {
     "outputs_hidden": false
    },
    "pycharm": {
     "name": "#%%\n"
    }
   },
   "outputs": [
    {
     "name": "stdout",
     "output_type": "stream",
     "text": [
      "================================================\n",
      "cold_start--0.25 control\n",
      "================================================\n",
      "user_总曝光： 250000.0\n",
      "user_new曝光： 38835.0\n",
      "user_mature曝光： 211165.0\n",
      "c组new feed impression总值: 38835.0\n",
      "c组new feed impression 均值: 337.69565217391306\n",
      "c组 new feed impression 人均： 1.5534\n"
     ]
    }
   ],
   "source": [
    "# # 2. 模拟双边的 control\n",
    "print('================================================')\n",
    "print(f\"cold_start--{treatment_ratio} control\")\n",
    "print('================================================')\n",
    "\n",
    "# 2.1 建立实验输出变量\n",
    "# feed侧输出变量(所有feed--1000条)\n",
    "c_total_impressions_feed = np.zeros(total_feed)\n",
    "c_total_clicks_feed = np.zeros(total_feed)\n",
    "# user侧输出变量(所有user)\n",
    "c_total_impressions_user = np.zeros(int(c_user_number))\n",
    "c_total_clicks_user = np.zeros(int(c_user_number))\n",
    "# user侧输出变量(所有user-new feed)\n",
    "c_total_impressions_user_c = np.zeros(int(c_user_number))\n",
    "c_total_clicks_user_c = np.zeros(int(c_user_number))\n",
    "c_total_impressions_user_mature= np.zeros(int(c_user_number))\n",
    "see_new_c=np.zeros(int(c_user_number))\n",
    "\n",
    "# 2.2 100% control模拟\n",
    "for user_index in range(int(c_user_number)):\n",
    "# for user_index in range(10):\n",
    "    # (1) 调用real_ctr\n",
    "    user_i = users[user_index]\n",
    "    real_ctr = np.maximum(0, np.minimum(np.matmul(coefficient_ctr_model, user_i), 1))\n",
    "    # (2) 召回 + 排序 + 曝光\n",
    "    pCTR = real_ctr\n",
    "    ecpm = pCTR * current_cpc_c\n",
    "    # 屏蔽\n",
    "    rank = np.argsort(-ecpm)\n",
    "    impression_id=[]\n",
    "    for i in range(len(rank)):\n",
    "        if len(impression_id)<10:\n",
    "            if is_new_control[rank[i]]==1:\n",
    "                impression_id.append(rank[i])\n",
    "            elif is_new_index[rank[i]]==0:\n",
    "                impression_id.append(rank[i])\n",
    "            else:\n",
    "                pass\n",
    "\n",
    "    impression_id=np.array(impression_id)         # list 和 array 互换: np.array(a),a.tolist()\n",
    "    impression_id = impression_id.astype(\"int64\")\n",
    "    # print(impression_id)\n",
    "    for i in impression_id:\n",
    "        if is_new_control[i] == 1:\n",
    "            see_new_c[user_index] += 1\n",
    "    # (3) 输出变量\n",
    "    # 曝光\n",
    "    for j in impression_id:\n",
    "        c_total_impressions_feed[j] += 1\n",
    "        c_total_impressions_user[user_index] += 1  # user: 所有feed：t + mature\n",
    "        if is_new_control[j]==1:\n",
    "            c_total_impressions_user_c[user_index] += 1 # user : new feed\n",
    "        if is_new_index[j]==0:\n",
    "            c_total_impressions_user_mature[user_index] += 1\n",
    "    # 点击\n",
    "    is_clicked = np.zeros(total_feed)\n",
    "    for j in impression_id:\n",
    "        is_clicked[j] = np.random.binomial(1, max(0, min(real_ctr[j], 1)))\n",
    "        if is_clicked[j] == 1:  # if clicked\n",
    "            c_total_clicks_feed[j] += 1\n",
    "            c_total_clicks_user[user_index]+= 1\n",
    "            if is_new_control[j] == 1:\n",
    "                c_total_clicks_user_c[user_index] += 1\n",
    "\n",
    "    # (5) 判断new feed是否变成了mature feed\n",
    "    # 如果 click > traget_clicks, 就变为 mature ads, 不再给它加 bid\n",
    "    # current_cpc_c = np.less(c_total_clicks_feed, target_click) * current_cpc_c + (\n",
    "                # 1 - np.less(c_total_clicks_feed, target_click)) * target_bid_price_c\n",
    "\n",
    "# 2.3 control 实验结果\n",
    "# # feed侧结果\n",
    "# 曝光\n",
    "c_total_impressions_feed = np.copy(c_total_impressions_feed)   # c+ mature\n",
    "c_total_impressions_feed_c=[]                          # c(new feed c个)\n",
    "for i in range(int(c_new_feed_number)):\n",
    "    c_total_impressions_feed_c.append(c_total_impressions_feed[control_new_index[i]])\n",
    "# 总值和均值\n",
    "c_total_impressions_feed_sum= c_total_impressions_feed.sum()\n",
    "c_total_impressions_feed_average= c_total_impressions_feed_sum/c_all_feed_number   # c +mature\n",
    "c_total_impressions_feed_c_sum= sum(c_total_impressions_feed_c)\n",
    "c_total_impressions_feed_c_average= c_total_impressions_feed_c_sum/(c_new_feed_number)\n",
    "\n",
    "# 点击\n",
    "c_total_clicks_feed = np.copy(c_total_clicks_feed)\n",
    "c_total_clicks_feed_c=[]\n",
    "for i in range(int(c_new_feed_number)):\n",
    "    c_total_clicks_feed_c.append(c_total_clicks_feed[control_new_index[i]])\n",
    "# 总值和均值\n",
    "c_total_clicks_feed_sum= c_total_clicks_feed.sum()\n",
    "c_total_clicks_feed_average= c_total_clicks_feed_sum/total_feed\n",
    "c_total_clicks_feed_c_sum= sum(c_total_clicks_feed_c)\n",
    "c_total_clicks_feed_c_average= c_total_clicks_feed_c_sum/(c_new_feed_number)\n",
    "\n",
    "# # user侧结果\n",
    "# 曝光\n",
    "c_total_impressions_user = np.copy(c_total_impressions_user)\n",
    "c_total_impressions_user_c = np.copy(c_total_impressions_user_c)\n",
    "# 总值和均值\n",
    "c_total_impressions_user_sum= c_total_impressions_user.sum()\n",
    "c_total_impressions_user_average= c_total_impressions_user_sum/c_user_number\n",
    "c_total_impressions_user_c_sum= c_total_impressions_user_c.sum()\n",
    "c_total_impressions_user_c_average= c_total_impressions_user_c_sum/c_user_number\n",
    "\n",
    "# 点击\n",
    "c_total_clicks_user = np.copy(c_total_clicks_user)\n",
    "c_total_clicks_user_c= np.copy(c_total_clicks_user_c)\n",
    "# 总值和均值\n",
    "c_total_clicks_user_sum= c_total_clicks_user.sum()\n",
    "c_total_clicks_user_average= c_total_clicks_user_sum/c_user_number\n",
    "c_total_clicks_user_c_sum= c_total_clicks_user_c.sum()\n",
    "c_total_clicks_user_c_average= c_total_clicks_user_c_sum/c_user_number\n",
    "\n",
    "\n",
    "print(\"user_总曝光：\",c_total_impressions_user_sum)\n",
    "print(\"user_new曝光：\",c_total_impressions_user_c_sum)\n",
    "print(\"user_mature曝光：\",c_total_impressions_user_mature.sum())\n",
    "print(\"c组new feed impression总值:\",c_total_impressions_feed_c_sum)\n",
    "print(\"c组new feed impression 均值:\",c_total_impressions_feed_c_average)\n",
    "print(\"c组 new feed impression 人均：\",c_total_impressions_user_c_average)"
   ]
  },
  {
   "cell_type": "markdown",
   "metadata": {
    "pycharm": {
     "name": "#%% md\n"
    }
   },
   "source": [
    "2. treatment"
   ]
  },
  {
   "cell_type": "code",
   "execution_count": 639,
   "metadata": {
    "collapsed": false,
    "jupyter": {
     "outputs_hidden": false
    },
    "pycharm": {
     "name": "#%%\n"
    }
   },
   "outputs": [
    {
     "name": "stdout",
     "output_type": "stream",
     "text": [
      "================================================\n",
      "cold_start--0.25 treatment\n",
      "================================================\n",
      "user总曝光： 250000.0\n",
      "user_new总曝光： 50992.0\n",
      "user_mature总曝光： 199008.0\n",
      "t组new feed impression总值: 50992.0\n",
      "t组new feed impression 均值: 443.4086956521739\n",
      "t组 new feed impression 人均： 2.03968\n"
     ]
    }
   ],
   "source": [
    "# # 3. 100% treatment 实验\n",
    "print('================================================')\n",
    "print(f\"cold_start--{treatment_ratio} treatment\")\n",
    "print('================================================')\n",
    "\n",
    "# 3.1 建立实验输出变量\n",
    "# feed侧输出变量\n",
    "t_total_impressions_feed = np.zeros(total_feed)\n",
    "t_total_clicks_feed = np.zeros(total_feed)\n",
    "\n",
    "# user侧输出变量\n",
    "t_total_impressions_user = np.zeros(int(t_user_number))\n",
    "t_total_clicks_user = np.zeros(int(t_user_number))\n",
    "\n",
    "t_total_impressions_user_t = np.zeros(int(t_user_number))\n",
    "t_total_clicks_user_t = np.zeros(int(t_user_number))\n",
    "t_total_impressions_user_mature= np.zeros(int(t_user_number))\n",
    "\n",
    "see_new_t=np.zeros(int(t_user_number))\n",
    "\n",
    "# 3.2 100% treatment模拟\n",
    "for user_index in range(int(t_user_number)):\n",
    "# for user_index in range(10):\n",
    "    # (1) 调用real_ctr\n",
    "    user_i = users[user_index]\n",
    "    real_ctr = np.maximum(0, np.minimum(np.matmul(coefficient_ctr_model, user_i), 1))\n",
    "    # (2) 召回 + 排序 + 曝光\n",
    "    pCTR = real_ctr\n",
    "    ecpm = pCTR * current_cpc_t\n",
    "    if np.random.binomial(1, 0.3) == 1:\n",
    "        # print(\"置顶了\")\n",
    "        top_index = np.random.choice(treatment_new_index, int(2), replace=False)\n",
    "        top_index=np.array(top_index)[0:2]\n",
    "        # 排序\n",
    "        rank= np.argsort(-ecpm)\n",
    "        rest_index= []\n",
    "        for i in range(len(rank)):\n",
    "            if len(rest_index)<8:\n",
    "                if rank[i] not in top_index:\n",
    "                    if is_new_treatment[rank[i]]==1:\n",
    "                        rest_index.append(rank[i])\n",
    "                    elif is_new_index[rank[i]]==0:\n",
    "                        rest_index.append(rank[i])\n",
    "                    else:\n",
    "                        pass\n",
    "                else:\n",
    "                    pass\n",
    "        impression_id=[]\n",
    "        for i in top_index:\n",
    "            impression_id.append(i)\n",
    "        for j in rest_index:\n",
    "            impression_id.append(j)\n",
    "    else:\n",
    "        # print(\"没置顶\")\n",
    "        rank = np.argsort(-ecpm)\n",
    "        impression_id=[]\n",
    "        for i in range(len(rank)):\n",
    "            if len(impression_id)<10:\n",
    "                if is_new_treatment[rank[i]]==1:\n",
    "                    impression_id.append(rank[i])\n",
    "                elif is_new_index[rank[i]]==0:\n",
    "                    impression_id.append(rank[i])\n",
    "                else:\n",
    "                    pass\n",
    "    # print(impression_id)\n",
    "    impression_id = np.array(impression_id)  # list 和 array 互换: np.array(a),a.tolist()\n",
    "    impression_id = impression_id.astype(\"int64\")\n",
    "    # see_new_t = 0\n",
    "    for i in impression_id:\n",
    "        if is_new_treatment[i] == 1:\n",
    "            see_new_t[user_index] += 1\n",
    "    # (3) 输出变量\n",
    "    # 曝光\n",
    "    for j in impression_id:\n",
    "        t_total_impressions_feed[j] +=1\n",
    "        t_total_impressions_user[user_index] += 1\n",
    "        if is_new_treatment[j]==1:\n",
    "            t_total_impressions_user_t[user_index] += 1\n",
    "        if is_new_index[j]==0 and is_new_treatment[j]==0:\n",
    "            t_total_impressions_user_mature[user_index] += 1\n",
    "    # 点击\n",
    "    is_clicked = np.zeros(total_feed)\n",
    "    for j in impression_id:\n",
    "        is_clicked[j] = np.random.binomial(1, max(0, min(real_ctr[j], 1)))\n",
    "        if is_clicked[j] == 1:  # if clicked\n",
    "            t_total_clicks_feed[j] += 1\n",
    "            t_total_clicks_user[user_index]+= 1\n",
    "            if is_new_treatment[j] == 1:\n",
    "                t_total_clicks_user_t[user_index] += 1\n",
    "\n",
    "    # (5) 判断 new feed 是否变成了mature feed\n",
    "    # current_cpc_t = np.less(t_total_clicks_feed, target_click) * current_cpc_t + (\n",
    "                # 1 - np.less(t_total_clicks_feed, target_click)) * target_bid_price_t\n",
    "\n",
    "# 3.3 treatment 实验结果\n",
    "# # feed侧结果\n",
    "# 曝光\n",
    "t_total_impressions_feed = np.copy(t_total_impressions_feed)\n",
    "t_total_impressions_feed_t=[]                          # 300个new feed\n",
    "for i in range(int(t_new_feed_number)):\n",
    "    t_total_impressions_feed_t.append(t_total_impressions_feed[treatment_new_index[i]])\n",
    "# 总值和均值\n",
    "t_total_impressions_feed_sum= t_total_impressions_feed.sum()\n",
    "t_total_impressions_feed_average= t_total_impressions_feed_sum/t_all_feed_number\n",
    "t_total_impressions_feed_t_sum= sum(t_total_impressions_feed_t)\n",
    "t_total_impressions_feed_t_average= t_total_impressions_feed_t_sum/(t_new_feed_number)\n",
    "\n",
    "# 点击\n",
    "t_total_clicks_feed = np.copy(t_total_clicks_feed)\n",
    "t_total_clicks_feed_t=[]\n",
    "for i in range(int(t_new_feed_number)):\n",
    "    t_total_clicks_feed_t.append(t_total_clicks_feed[treatment_new_index[i]])\n",
    "# 总值和均值\n",
    "t_total_clicks_feed_sum= t_total_clicks_feed.sum()\n",
    "t_total_clicks_feed_average= t_total_clicks_feed_sum/t_all_feed_number\n",
    "t_total_clicks_feed_t_sum= sum(t_total_clicks_feed_t)\n",
    "t_total_clicks_feed_t_average= t_total_clicks_feed_t_sum/(t_new_feed_number)\n",
    "\n",
    "# # user侧结果\n",
    "# 曝光\n",
    "t_total_impressions_user = np.copy(t_total_impressions_user)\n",
    "t_total_impressions_user_t = np.copy(t_total_impressions_user_t)\n",
    "# 总值和均值\n",
    "t_total_impressions_user_sum= t_total_impressions_user.sum()\n",
    "t_total_impressions_user_average= t_total_impressions_user_sum/t_user_number\n",
    "t_total_impressions_user_t_sum= t_total_impressions_user_t.sum()\n",
    "t_total_impressions_user_t_average= t_total_impressions_user_t_sum/t_user_number\n",
    "\n",
    "# 点击\n",
    "t_total_clicks_user = np.copy(t_total_clicks_user)\n",
    "t_total_clicks_user_t= np.copy(t_total_clicks_user_t)\n",
    "# 总值和均值\n",
    "t_total_clicks_user_sum= t_total_clicks_user.sum()\n",
    "t_total_clicks_user_average= t_total_clicks_user_sum/t_user_number\n",
    "t_total_clicks_user_t_sum= t_total_clicks_user_t.sum()\n",
    "t_total_clicks_user_t_average= t_total_clicks_user_t_sum/t_user_number\n",
    "\n",
    "see_new_t=np.copy(see_new_t)\n",
    "\n",
    "print(\"user总曝光：\",t_total_impressions_user_sum)\n",
    "print(\"user_new总曝光：\",t_total_impressions_user_t_sum)\n",
    "print(\"user_mature总曝光：\",t_total_impressions_user_mature.sum())\n",
    "print(\"t组new feed impression总值:\",t_total_impressions_feed_t_sum)\n",
    "print(\"t组new feed impression 均值:\",t_total_impressions_feed_t_average)\n",
    "print(\"t组 new feed impression 人均：\",t_total_impressions_user_t_average)"
   ]
  },
  {
   "cell_type": "markdown",
   "metadata": {
    "pycharm": {
     "name": "#%% md\n"
    }
   },
   "source": [
    "3. T test"
   ]
  },
  {
   "cell_type": "code",
   "execution_count": 640,
   "metadata": {
    "collapsed": false,
    "jupyter": {
     "outputs_hidden": false
    },
    "pycharm": {
     "name": "#%%\n"
    }
   },
   "outputs": [
    {
     "name": "stdout",
     "output_type": "stream",
     "text": [
      "impressions_feed_p1: 0.17365\n",
      "clicks_feed_p1: 0.4437\n",
      "ctr_feed_p1: 5e-05\n",
      "impression_user_p: 0.0\n",
      "clicks_user_p: 0.016450740640770123\n",
      "ctr_user_p: 0.0\n"
     ]
    }
   ],
   "source": [
    "# # 4. T-test\n",
    "# # feed侧\n",
    "# 曝光\n",
    "data0=pd.DataFrame()\n",
    "for i in range(int(c_new_feed_number)):\n",
    "    data0.loc[i,\"groupid\"]= 0\n",
    "    data0.loc[i,\"numerator\"]=c_total_impressions_feed_c[i]\n",
    "    data0.loc[i,\"denominator\"]= 1\n",
    "data1=pd.DataFrame()\n",
    "for i in range(int(t_new_feed_number)):\n",
    "    data1.loc[i, \"groupid\"] = 1\n",
    "    data1.loc[i, \"numerator\"] = t_total_impressions_feed_t[i]\n",
    "    data1.loc[i, \"denominator\"] = 1\n",
    "\n",
    "data=pd.concat([data0,data1])\n",
    "impressions_feed_p1= sharp_null_hypothesis_pvalue(data)\n",
    "print(\"impressions_feed_p1:\",impressions_feed_p1)\n",
    "\n",
    "# 点击\n",
    "data0=pd.DataFrame()\n",
    "for i in range(int(c_new_feed_number)):\n",
    "    data0.loc[i,\"groupid\"]= 0\n",
    "    data0.loc[i,\"numerator\"]=c_total_clicks_feed_c[i]\n",
    "    data0.loc[i,\"denominator\"]= 1\n",
    "data1=pd.DataFrame()\n",
    "for i in range(int(t_new_feed_number)):\n",
    "    data1.loc[i, \"groupid\"] = 1\n",
    "    data1.loc[i, \"numerator\"] = t_total_clicks_feed_t[i]\n",
    "    data1.loc[i, \"denominator\"] = 1\n",
    "\n",
    "data=pd.concat([data0,data1])\n",
    "clicks_feed_p1= sharp_null_hypothesis_pvalue(data)\n",
    "print(\"clicks_feed_p1:\",clicks_feed_p1)\n",
    "\n",
    "# ctr\n",
    "data0=pd.DataFrame()\n",
    "for i in range(int(c_new_feed_number)):\n",
    "    data0.loc[i,\"groupid\"]= 0\n",
    "    data0.loc[i,\"numerator\"]=c_total_clicks_feed_c[i]\n",
    "    data0.loc[i,\"denominator\"]= c_total_impressions_feed_c[i]\n",
    "data1=pd.DataFrame()\n",
    "for i in range(int(t_new_feed_number)):\n",
    "    data1.loc[i, \"groupid\"] = 1\n",
    "    data1.loc[i, \"numerator\"] = t_total_clicks_feed_t[i]\n",
    "    data1.loc[i, \"denominator\"] = t_total_impressions_feed_t[i]\n",
    "\n",
    "data=pd.concat([data0,data1])\n",
    "ctr_feed_p1= sharp_null_hypothesis_pvalue(data)\n",
    "print(\"ctr_feed_p1:\",ctr_feed_p1)\n",
    "\n",
    "# # user侧\n",
    "# 曝光\n",
    "content_c=(c_total_impressions_user_c).tolist()\n",
    "count_c=[1 for _ in range(c_user_number)]\n",
    "content_t=(t_total_impressions_user_t).tolist()\n",
    "count_t=[1 for _ in range(t_user_number)]\n",
    "M_c=Metric(content_c,count_c)\n",
    "M_t=Metric(content_t,count_t)\n",
    "impression_user_p= Ttest(M_c,M_t).pvalue()\n",
    "print(\"impression_user_p:\",impression_user_p)\n",
    "\n",
    "# 点击\n",
    "content_c=(c_total_clicks_user_c).tolist()\n",
    "count_c=[1 for _ in range(c_user_number)]\n",
    "content_t=(t_total_clicks_user_t).tolist()\n",
    "count_t=[1 for _ in range(t_user_number)]\n",
    "M_c=Metric(content_c,count_c)\n",
    "M_t=Metric(content_t,count_t)\n",
    "clicks_user_p= Ttest(M_c,M_t).pvalue()\n",
    "print(\"clicks_user_p:\",clicks_user_p)\n",
    "\n",
    "# ctr\n",
    "content_c=(c_total_clicks_user_c).tolist()\n",
    "count_c=(c_total_impressions_user_c).tolist()\n",
    "content_t=(t_total_clicks_user_t).tolist()\n",
    "count_t=(t_total_impressions_user_t).tolist()\n",
    "M_c=Metric(content_c,count_c)\n",
    "M_t=Metric(content_t,count_t)\n",
    "ctr_user_p= Ttest(M_c,M_t).pvalue()\n",
    "print(\"ctr_user_p:\",ctr_user_p)"
   ]
  },
  {
   "cell_type": "markdown",
   "metadata": {
    "pycharm": {
     "name": "#%% md\n"
    }
   },
   "source": [
    "4. 输出实验结果"
   ]
  },
  {
   "cell_type": "code",
   "execution_count": 641,
   "metadata": {
    "collapsed": false,
    "jupyter": {
     "outputs_hidden": false
    },
    "pycharm": {
     "name": "#%%\n"
    }
   },
   "outputs": [
    {
     "name": "stdout",
     "output_type": "stream",
     "text": [
      "================================================\n",
      "0.25- treatment feed侧结果\n",
      "        t_all_feed(所有user)  t_average(/总feed数1000)  t_new_feed(所有user)  \\\n",
      "曝光数          250000.000000              144.508671        50992.000000   \n",
      "点击数           29563.000000               17.088439         4597.000000   \n",
      "点击率ctr            0.118252                0.118252            0.090151   \n",
      "\n",
      "        t_average(/new_feed数300)  c_all_feed(所有user)  c_average(/总feed数1000)  \\\n",
      "曝光数                   443.408696       250000.000000              144.508671   \n",
      "点击数                    39.973913        30537.000000               15.268500   \n",
      "点击率ctr                  0.090151            0.122148                0.105658   \n",
      "\n",
      "        c_new_feed(所有user)  c_average(/new feed数300)         ATE  p_value  \n",
      "曝光数           38835.000000                337.695652  105.713043  0.17365  \n",
      "点击数            4373.000000                 38.026087    1.947826  0.44370  \n",
      "点击率ctr            0.112605                  0.112605   -0.022453  0.00005  \n",
      "================================================\n"
     ]
    }
   ],
   "source": [
    "# # 5. 输出实验结果\n",
    "# 5.1 feed侧\n",
    "outputs_feed= pd.DataFrame()\n",
    "index=[\"曝光数\",\"点击数\",\"点击率ctr\"]\n",
    "col=[\"t_all_feed(所有user)\",\"t_average(/总feed数1000)\",\"t_new_feed(所有user)\",\"t_average(/new_feed数300)\",\n",
    "     \"c_all_feed(所有user)\",\"c_average(/总feed数1000)\",\"c_new_feed(所有user)\",\"c_average(/new feed数300)\",\"ATE\",\"p_value\"]\n",
    "###曝光\n",
    "outputs_feed.loc[index[0],col[0]]= t_total_impressions_feed_sum\n",
    "outputs_feed.loc[index[0],col[1]]= t_total_impressions_feed_average\n",
    "outputs_feed.loc[index[0],col[2]]= t_total_impressions_feed_t_sum\n",
    "outputs_feed.loc[index[0],col[3]]= t_total_impressions_feed_t_average\n",
    "outputs_feed.loc[index[0],col[4]]= c_total_impressions_feed_sum\n",
    "outputs_feed.loc[index[0],col[5]]= c_total_impressions_feed_average\n",
    "outputs_feed.loc[index[0],col[6]]= c_total_impressions_feed_c_sum\n",
    "outputs_feed.loc[index[0],col[7]]= c_total_impressions_feed_c_average\n",
    "outputs_feed.loc[index[0],col[8]]= t_total_impressions_feed_t_average - c_total_impressions_feed_c_average\n",
    "outputs_feed.loc[index[0],col[9]]= impressions_feed_p1\n",
    "###点击\n",
    "outputs_feed.loc[index[1],col[0]]=t_total_clicks_feed_sum\n",
    "outputs_feed.loc[index[1],col[1]]=t_total_clicks_feed_average\n",
    "outputs_feed.loc[index[1],col[2]]=t_total_clicks_feed_t_sum\n",
    "outputs_feed.loc[index[1],col[3]]=t_total_clicks_feed_t_average\n",
    "outputs_feed.loc[index[1],col[4]]=c_total_clicks_feed_sum\n",
    "outputs_feed.loc[index[1],col[5]]=c_total_clicks_feed_average\n",
    "outputs_feed.loc[index[1],col[6]]=c_total_clicks_feed_c_sum\n",
    "outputs_feed.loc[index[1],col[7]]=c_total_clicks_feed_c_average\n",
    "outputs_feed.loc[index[1],col[8]]=t_total_clicks_feed_t_average-c_total_clicks_feed_c_average\n",
    "outputs_feed.loc[index[1],col[9]]=clicks_feed_p1\n",
    "###点击率\n",
    "outputs_feed.loc[index[2],col[0]]=t_total_clicks_feed_sum/ t_total_impressions_feed_sum\n",
    "outputs_feed.loc[index[2],col[1]]=t_total_clicks_feed_average / t_total_impressions_feed_average # 与上面一样\n",
    "outputs_feed.loc[index[2],col[2]]=t_total_clicks_feed_t_sum/ t_total_impressions_feed_t_sum\n",
    "outputs_feed.loc[index[2],col[3]]=t_total_clicks_feed_t_average / t_total_impressions_feed_t_average  # 与上面一样\n",
    "outputs_feed.loc[index[2],col[4]]=c_total_clicks_feed_sum / c_total_impressions_feed_sum\n",
    "outputs_feed.loc[index[2],col[5]]=c_total_clicks_feed_average / c_total_impressions_feed_average    # 与上面一样\n",
    "outputs_feed.loc[index[2],col[6]]=c_total_clicks_feed_c_sum / c_total_impressions_feed_c_sum\n",
    "outputs_feed.loc[index[2],col[7]]=c_total_clicks_feed_c_average / c_total_impressions_feed_c_average  # 与上面一样\n",
    "outputs_feed.loc[index[2],col[8]]=(t_total_clicks_feed_t_average / t_total_impressions_feed_t_average)-(c_total_clicks_feed_c_average / c_total_impressions_feed_c_average)\n",
    "outputs_feed.loc[index[2],col[9]]=ctr_feed_p1\n",
    "\n",
    "print('================================================')\n",
    "print(f\"{treatment_ratio}- treatment feed侧结果\")\n",
    "print(outputs_feed)\n",
    "print('================================================')\n",
    "outputs_feed.to_excel(f\"outputs_feed_{treatment_ratio}.xls\")"
   ]
  },
  {
   "cell_type": "code",
   "execution_count": 642,
   "metadata": {
    "collapsed": false,
    "jupyter": {
     "outputs_hidden": false
    },
    "pycharm": {
     "name": "#%%\n"
    }
   },
   "outputs": [
    {
     "name": "stdout",
     "output_type": "stream",
     "text": [
      "================================================\n",
      "0.25- treatment user侧结果\n",
      "        t_all_user(所有feed)  average1(/总user数100000)  t_all_user(new feed)  \\\n",
      "曝光数          250000.000000                10.000000          50992.000000   \n",
      "点击数           29563.000000                 1.182520           4597.000000   \n",
      "点击率ctr            0.118252                 0.118252              0.090151   \n",
      "\n",
      "        average2(/总user数100000)  c_all_user(所有feed)  average3(/总user数100000)  \\\n",
      "曝光数                    2.039680       250000.000000                10.000000   \n",
      "点击数                    0.183880        30537.000000                 1.221480   \n",
      "点击率ctr                 0.090151            0.122148                 0.122148   \n",
      "\n",
      "        c_all_user(new feed)  average4(/总user数100000)       ATE   p_value  \n",
      "曝光数             38835.000000                 1.553400  0.486280  0.000000  \n",
      "点击数              4373.000000                 0.174920  0.008960  0.016451  \n",
      "点击率ctr              0.112605                 0.112605 -0.022453  0.000000  \n",
      "================================================\n"
     ]
    }
   ],
   "source": [
    "# 5.1 user侧\n",
    "outputs_user= pd.DataFrame()\n",
    "index=[\"曝光数\",\"点击数\",\"点击率ctr\"]\n",
    "col=[\"t_all_user(所有feed)\",f\"average1(/总user数{total_user})\",\"t_all_user(new feed)\",f\"average2(/总user数{total_user})\",\n",
    "     \"c_all_user(所有feed)\",f\"average3(/总user数{total_user})\",\"c_all_user(new feed)\",f\"average4(/总user数{total_user})\",\"ATE\",\"p_value\"]\n",
    "###曝光\n",
    "outputs_user.loc[index[0],col[0]]= t_total_impressions_user_sum\n",
    "outputs_user.loc[index[0],col[1]]= t_total_impressions_user_average\n",
    "outputs_user.loc[index[0],col[2]]= t_total_impressions_user_t_sum\n",
    "outputs_user.loc[index[0],col[3]]= t_total_impressions_user_t_average\n",
    "outputs_user.loc[index[0],col[4]]= c_total_impressions_user_sum\n",
    "outputs_user.loc[index[0],col[5]]= c_total_impressions_user_average\n",
    "outputs_user.loc[index[0],col[6]]= c_total_impressions_user_c_sum\n",
    "outputs_user.loc[index[0],col[7]]= c_total_impressions_user_c_average\n",
    "outputs_user.loc[index[0],col[8]]= t_total_impressions_user_t_average-c_total_impressions_user_c_average\n",
    "outputs_user.loc[index[0],col[9]]= impression_user_p\n",
    "###点击\n",
    "outputs_user.loc[index[1],col[0]]=t_total_clicks_user_sum\n",
    "outputs_user.loc[index[1],col[1]]=t_total_clicks_user_average\n",
    "outputs_user.loc[index[1],col[2]]=t_total_clicks_user_t_sum\n",
    "outputs_user.loc[index[1],col[3]]=t_total_clicks_user_t_average\n",
    "outputs_user.loc[index[1],col[4]]=c_total_clicks_user_sum\n",
    "outputs_user.loc[index[1],col[5]]=c_total_clicks_user_average\n",
    "outputs_user.loc[index[1],col[6]]=c_total_clicks_user_c_sum\n",
    "outputs_user.loc[index[1],col[7]]=c_total_clicks_user_c_average\n",
    "outputs_user.loc[index[1],col[8]]=t_total_clicks_user_t_average-c_total_clicks_user_c_average\n",
    "outputs_user.loc[index[1],col[9]]= clicks_user_p\n",
    "###点击率\n",
    "outputs_user.loc[index[2],col[0]]=t_total_clicks_user_sum / t_total_impressions_user_sum\n",
    "outputs_user.loc[index[2],col[1]]=t_total_clicks_user_average / t_total_impressions_user_average    # 与上面一样\n",
    "outputs_user.loc[index[2],col[2]]=t_total_clicks_user_t_sum / t_total_impressions_user_t_sum\n",
    "outputs_user.loc[index[2],col[3]]=t_total_clicks_user_t_average / t_total_impressions_user_t_average   # 与上面一样\n",
    "outputs_user.loc[index[2],col[4]]=c_total_clicks_user_sum/ c_total_impressions_user_sum\n",
    "outputs_user.loc[index[2],col[5]]=c_total_clicks_user_average/ c_total_impressions_user_average    # 与上面一样\n",
    "outputs_user.loc[index[2],col[6]]=c_total_clicks_user_c_sum / c_total_impressions_user_c_sum\n",
    "outputs_user.loc[index[2],col[7]]=c_total_clicks_user_c_average / c_total_impressions_user_c_average  # 与上面一样\n",
    "outputs_user.loc[index[2],col[8]]= (t_total_clicks_user_t_average / t_total_impressions_user_t_average)-(c_total_clicks_user_c_average / c_total_impressions_user_c_average)\n",
    "outputs_user.loc[index[2],col[9]]= ctr_user_p\n",
    "\n",
    "print('================================================')\n",
    "print(f\"{treatment_ratio}- treatment user侧结果\")\n",
    "print(outputs_user)\n",
    "print('================================================')\n",
    "outputs_user.to_excel(f\"outputs_user_{treatment_ratio}.xls\")"
   ]
  },
  {
   "cell_type": "code",
   "execution_count": 643,
   "metadata": {
    "collapsed": false,
    "jupyter": {
     "outputs_hidden": false
    },
    "pycharm": {
     "name": "#%%\n"
    }
   },
   "outputs": [
    {
     "name": "stdout",
     "output_type": "stream",
     "text": [
      "c组new feed平均曝光量： 1.5534\n",
      "t组new feed平均曝光量： 2.03968\n",
      "差值 0.48628000000000027\n"
     ]
    }
   ],
   "source": [
    "print(\"c组new feed平均曝光量：\",see_new_c.mean())\n",
    "print(\"t组new feed平均曝光量：\",see_new_t.mean())\n",
    "print(\"差值\",see_new_t.mean()-see_new_c.mean())"
   ]
  },
  {
   "cell_type": "code",
   "execution_count": 644,
   "metadata": {
    "collapsed": false,
    "jupyter": {
     "outputs_hidden": false
    },
    "pycharm": {
     "name": "#%%\n"
    }
   },
   "outputs": [
    {
     "name": "stdout",
     "output_type": "stream",
     "text": [
      "程序运行时间:174194.85534715652秒\n"
     ]
    }
   ],
   "source": [
    "T2 = time.time()\n",
    "print('程序运行时间:%s秒' % ((T2 - T1)))"
   ]
  },
  {
   "cell_type": "code",
   "execution_count": 446,
   "metadata": {
    "collapsed": false,
    "jupyter": {
     "outputs_hidden": false
    },
    "pycharm": {
     "name": "#%%\n"
    }
   },
   "outputs": [],
   "source": []
  },
  {
   "cell_type": "code",
   "execution_count": 213,
   "metadata": {
    "collapsed": false,
    "jupyter": {
     "outputs_hidden": false
    },
    "pycharm": {
     "name": "#%%\n"
    }
   },
   "outputs": [],
   "source": []
  },
  {
   "cell_type": "code",
   "execution_count": null,
   "metadata": {
    "collapsed": false,
    "jupyter": {
     "outputs_hidden": false
    },
    "pycharm": {
     "name": "#%%\n"
    }
   },
   "outputs": [],
   "source": []
  }
 ],
 "metadata": {
  "kernelspec": {
   "display_name": "Python 3.7",
   "language": "python",
   "name": "python3"
  },
  "language_info": {
   "codemirror_mode": {
    "name": "ipython",
    "version": 3
   },
   "file_extension": ".py",
   "mimetype": "text/x-python",
   "name": "python",
   "nbconvert_exporter": "python",
   "pygments_lexer": "ipython3",
   "version": "3.7.3"
  }
 },
 "nbformat": 4,
 "nbformat_minor": 4
}
