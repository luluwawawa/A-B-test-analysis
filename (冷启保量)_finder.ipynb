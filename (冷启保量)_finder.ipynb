{
 "cells": [
  {
   "cell_type": "code",
   "execution_count": 8,
   "id": "3953ea6e",
   "metadata": {},
   "outputs": [],
   "source": [
    "# 从数据库中读取数据包\n",
    "from pyspark.sql import SparkSession\n",
    "import os\n",
    "from pytoolkit import TDWSQLProvider\n",
    "import pandas"
   ]
  },
  {
   "cell_type": "code",
   "execution_count": 9,
   "id": "4ae623db",
   "metadata": {
    "tags": []
   },
   "outputs": [],
   "source": [
    "# 连接spark,这个只允许运行一次，再次运行需要重启内核\n",
    "os.environ['GROUP_ID'] = 'g_wxg_wxt_product_analytics_intern'\n",
    "os.environ['GAIA_ID'] = '5729'\n",
    "session = SparkSession.builder.config('spark.driver.maxResultSize','14g').config('spark.driver.memory', '14g').config('spark.executor.cores', 4).config('spark.executor.memory', '14g').config('spark.yarn.archive','hdfs://qy-ieg-4-v2/data/SPARK/cachefile/3_12_2.4.6_hadoop3/spark-jars_old_notauth.zip').getOrCreate()\n",
    "# session = SparkSession.builder.config('spark.driver.memory', '8g').config('spark.executor.cores', 4).config('spark.executor.memory', '8g').getOrCreate()"
   ]
  },
  {
   "cell_type": "code",
   "execution_count": null,
   "id": "a81954d9",
   "metadata": {},
   "outputs": [],
   "source": [
    "# 若数据量小，可以直接读取\n",
    "from pytoolkit import TDWSQLProvider\n",
    "provider = TDWSQLProvider(session, group='tl', db='wxg_weixin_analytics_intern')\n",
    "df=provider.table('tmp_dws_app_bilateral_expt_11010219_finder_intern_uin_i').toPandas()"
   ]
  },
  {
   "cell_type": "code",
   "execution_count": 14,
   "id": "543e4941",
   "metadata": {},
   "outputs": [],
   "source": [
    "# 若数据量较大，分不同的sql读取\n",
    "from pytoolkit import TDWSQLProvider\n",
    "provider = TDWSQLProvider(session, group='tl', db='wxg_weixin_analytics_intern')\n",
    "tbl=provider.table('tmp_dws_app_bilateral_expt_11010219_finder_intern_uin_i')\n",
    "tbl.createOrReplaceTempView('tbl')\n",
    "df=session.sql('select * from tbl limit 100').toPandas()"
   ]
  },
  {
   "cell_type": "code",
   "execution_count": 15,
   "id": "c28f565a",
   "metadata": {},
   "outputs": [
    {
     "data": {
      "text/html": [
       "<div>\n",
       "<style scoped>\n",
       "    .dataframe tbody tr th:only-of-type {\n",
       "        vertical-align: middle;\n",
       "    }\n",
       "\n",
       "    .dataframe tbody tr th {\n",
       "        vertical-align: top;\n",
       "    }\n",
       "\n",
       "    .dataframe thead th {\n",
       "        text-align: right;\n",
       "    }\n",
       "</style>\n",
       "<table border=\"1\" class=\"dataframe\">\n",
       "  <thead>\n",
       "    <tr style=\"text-align: right;\">\n",
       "      <th></th>\n",
       "      <th>ds</th>\n",
       "      <th>groupid</th>\n",
       "      <th>first_hit_ds</th>\n",
       "      <th>is_active_today</th>\n",
       "      <th>stay_cnt</th>\n",
       "      <th>like_svr_cnt</th>\n",
       "      <th>follow_svr_cnt</th>\n",
       "      <th>forward_cnt</th>\n",
       "      <th>cold_start_stay_cnt</th>\n",
       "      <th>stay_time</th>\n",
       "      <th>anonymous</th>\n",
       "    </tr>\n",
       "  </thead>\n",
       "  <tbody>\n",
       "    <tr>\n",
       "      <th>0</th>\n",
       "      <td>20220328</td>\n",
       "      <td>253814</td>\n",
       "      <td>20220402</td>\n",
       "      <td>7.929746</td>\n",
       "      <td>2.959817</td>\n",
       "      <td>3.259428</td>\n",
       "      <td>8.343132</td>\n",
       "      <td>2.097061</td>\n",
       "      <td>7.390883</td>\n",
       "      <td>0.700326</td>\n",
       "      <td>cf5d25623e771b880a3262f43f18dbe5</td>\n",
       "    </tr>\n",
       "    <tr>\n",
       "      <th>1</th>\n",
       "      <td>20220328</td>\n",
       "      <td>253815</td>\n",
       "      <td>20220326</td>\n",
       "      <td>7.929746</td>\n",
       "      <td>2.959817</td>\n",
       "      <td>3.259428</td>\n",
       "      <td>8.343132</td>\n",
       "      <td>2.097061</td>\n",
       "      <td>7.390883</td>\n",
       "      <td>0.700326</td>\n",
       "      <td>893622d1e54504eeb0a3fec7e1d52e62</td>\n",
       "    </tr>\n",
       "    <tr>\n",
       "      <th>2</th>\n",
       "      <td>20220328</td>\n",
       "      <td>253814</td>\n",
       "      <td>20220331</td>\n",
       "      <td>7.929746</td>\n",
       "      <td>2.959817</td>\n",
       "      <td>3.259428</td>\n",
       "      <td>8.343132</td>\n",
       "      <td>2.097061</td>\n",
       "      <td>7.390883</td>\n",
       "      <td>0.700326</td>\n",
       "      <td>a4806c2a63f1c233a47ca06528ab4f24</td>\n",
       "    </tr>\n",
       "    <tr>\n",
       "      <th>3</th>\n",
       "      <td>20220328</td>\n",
       "      <td>253814</td>\n",
       "      <td>20220326</td>\n",
       "      <td>7.929746</td>\n",
       "      <td>2.959817</td>\n",
       "      <td>3.259428</td>\n",
       "      <td>8.343132</td>\n",
       "      <td>2.097061</td>\n",
       "      <td>7.390883</td>\n",
       "      <td>0.700326</td>\n",
       "      <td>ba3310215cb7e1fa4f0d9e575475e4fd</td>\n",
       "    </tr>\n",
       "    <tr>\n",
       "      <th>4</th>\n",
       "      <td>20220328</td>\n",
       "      <td>253815</td>\n",
       "      <td>20220326</td>\n",
       "      <td>7.929746</td>\n",
       "      <td>2.959817</td>\n",
       "      <td>3.259428</td>\n",
       "      <td>8.343132</td>\n",
       "      <td>2.097061</td>\n",
       "      <td>7.390883</td>\n",
       "      <td>0.700326</td>\n",
       "      <td>a523b49b164aa930e07041bfbb910096</td>\n",
       "    </tr>\n",
       "    <tr>\n",
       "      <th>...</th>\n",
       "      <td>...</td>\n",
       "      <td>...</td>\n",
       "      <td>...</td>\n",
       "      <td>...</td>\n",
       "      <td>...</td>\n",
       "      <td>...</td>\n",
       "      <td>...</td>\n",
       "      <td>...</td>\n",
       "      <td>...</td>\n",
       "      <td>...</td>\n",
       "      <td>...</td>\n",
       "    </tr>\n",
       "    <tr>\n",
       "      <th>95</th>\n",
       "      <td>20220328</td>\n",
       "      <td>253816</td>\n",
       "      <td>20220325</td>\n",
       "      <td>7.929746</td>\n",
       "      <td>2.959817</td>\n",
       "      <td>3.259428</td>\n",
       "      <td>8.343132</td>\n",
       "      <td>2.097061</td>\n",
       "      <td>7.390883</td>\n",
       "      <td>0.700326</td>\n",
       "      <td>f6a403c3748e66da428bae43bdb7e299</td>\n",
       "    </tr>\n",
       "    <tr>\n",
       "      <th>96</th>\n",
       "      <td>20220328</td>\n",
       "      <td>253815</td>\n",
       "      <td>20220326</td>\n",
       "      <td>7.929746</td>\n",
       "      <td>2.959817</td>\n",
       "      <td>3.259428</td>\n",
       "      <td>8.343132</td>\n",
       "      <td>2.097061</td>\n",
       "      <td>7.390883</td>\n",
       "      <td>0.700326</td>\n",
       "      <td>fd55dd4de9d2ad49f8dd28a3f5c8d4e3</td>\n",
       "    </tr>\n",
       "    <tr>\n",
       "      <th>97</th>\n",
       "      <td>20220328</td>\n",
       "      <td>253814</td>\n",
       "      <td>20220327</td>\n",
       "      <td>7.929746</td>\n",
       "      <td>2.959817</td>\n",
       "      <td>3.259428</td>\n",
       "      <td>8.343132</td>\n",
       "      <td>2.097061</td>\n",
       "      <td>7.390883</td>\n",
       "      <td>0.700326</td>\n",
       "      <td>4726e849106c124140343cbb8c828687</td>\n",
       "    </tr>\n",
       "    <tr>\n",
       "      <th>98</th>\n",
       "      <td>20220328</td>\n",
       "      <td>253814</td>\n",
       "      <td>20220325</td>\n",
       "      <td>17.209022</td>\n",
       "      <td>515.173740</td>\n",
       "      <td>19.006659</td>\n",
       "      <td>8.343132</td>\n",
       "      <td>2.097061</td>\n",
       "      <td>7.390883</td>\n",
       "      <td>63553.099801</td>\n",
       "      <td>93c5ff2c2cacf94517287eb238939b49</td>\n",
       "    </tr>\n",
       "    <tr>\n",
       "      <th>99</th>\n",
       "      <td>20220328</td>\n",
       "      <td>253816</td>\n",
       "      <td>20220330</td>\n",
       "      <td>7.929746</td>\n",
       "      <td>2.959817</td>\n",
       "      <td>3.259428</td>\n",
       "      <td>8.343132</td>\n",
       "      <td>2.097061</td>\n",
       "      <td>7.390883</td>\n",
       "      <td>0.700326</td>\n",
       "      <td>0ca692fdd4031ac8d7d921ee3e8caa67</td>\n",
       "    </tr>\n",
       "  </tbody>\n",
       "</table>\n",
       "<p>100 rows × 11 columns</p>\n",
       "</div>"
      ],
      "text/plain": [
       "          ds  groupid  first_hit_ds  is_active_today    stay_cnt  \\\n",
       "0   20220328   253814      20220402         7.929746    2.959817   \n",
       "1   20220328   253815      20220326         7.929746    2.959817   \n",
       "2   20220328   253814      20220331         7.929746    2.959817   \n",
       "3   20220328   253814      20220326         7.929746    2.959817   \n",
       "4   20220328   253815      20220326         7.929746    2.959817   \n",
       "..       ...      ...           ...              ...         ...   \n",
       "95  20220328   253816      20220325         7.929746    2.959817   \n",
       "96  20220328   253815      20220326         7.929746    2.959817   \n",
       "97  20220328   253814      20220327         7.929746    2.959817   \n",
       "98  20220328   253814      20220325        17.209022  515.173740   \n",
       "99  20220328   253816      20220330         7.929746    2.959817   \n",
       "\n",
       "    like_svr_cnt  follow_svr_cnt  forward_cnt  cold_start_stay_cnt  \\\n",
       "0       3.259428        8.343132     2.097061             7.390883   \n",
       "1       3.259428        8.343132     2.097061             7.390883   \n",
       "2       3.259428        8.343132     2.097061             7.390883   \n",
       "3       3.259428        8.343132     2.097061             7.390883   \n",
       "4       3.259428        8.343132     2.097061             7.390883   \n",
       "..           ...             ...          ...                  ...   \n",
       "95      3.259428        8.343132     2.097061             7.390883   \n",
       "96      3.259428        8.343132     2.097061             7.390883   \n",
       "97      3.259428        8.343132     2.097061             7.390883   \n",
       "98     19.006659        8.343132     2.097061             7.390883   \n",
       "99      3.259428        8.343132     2.097061             7.390883   \n",
       "\n",
       "       stay_time                         anonymous  \n",
       "0       0.700326  cf5d25623e771b880a3262f43f18dbe5  \n",
       "1       0.700326  893622d1e54504eeb0a3fec7e1d52e62  \n",
       "2       0.700326  a4806c2a63f1c233a47ca06528ab4f24  \n",
       "3       0.700326  ba3310215cb7e1fa4f0d9e575475e4fd  \n",
       "4       0.700326  a523b49b164aa930e07041bfbb910096  \n",
       "..           ...                               ...  \n",
       "95      0.700326  f6a403c3748e66da428bae43bdb7e299  \n",
       "96      0.700326  fd55dd4de9d2ad49f8dd28a3f5c8d4e3  \n",
       "97      0.700326  4726e849106c124140343cbb8c828687  \n",
       "98  63553.099801  93c5ff2c2cacf94517287eb238939b49  \n",
       "99      0.700326  0ca692fdd4031ac8d7d921ee3e8caa67  \n",
       "\n",
       "[100 rows x 11 columns]"
      ]
     },
     "execution_count": 15,
     "metadata": {},
     "output_type": "execute_result"
    }
   ],
   "source": [
    "df"
   ]
  },
  {
   "cell_type": "code",
   "execution_count": 3,
   "id": "5f66682d",
   "metadata": {},
   "outputs": [],
   "source": [
    "#数据分析包\n",
    "import warnings\n",
    "warnings.filterwarnings(\"ignore\")\n",
    "\n",
    "import pandas as pd\n",
    "import numpy as np\n",
    "from scipy import stats\n",
    "import seaborn as sns\n",
    "import matplotlib.pyplot as plt\n",
    "# \n",
    "from metric_funcs import Ttest, Metric\n",
    "from frt_pvalue import sharp_null_hypothesis_pvalue"
   ]
  },
  {
   "cell_type": "code",
   "execution_count": 4,
   "id": "fe3a2aa7",
   "metadata": {},
   "outputs": [
    {
     "data": {
      "text/html": [
       "<div>\n",
       "<style scoped>\n",
       "    .dataframe tbody tr th:only-of-type {\n",
       "        vertical-align: middle;\n",
       "    }\n",
       "\n",
       "    .dataframe tbody tr th {\n",
       "        vertical-align: top;\n",
       "    }\n",
       "\n",
       "    .dataframe thead th {\n",
       "        text-align: right;\n",
       "    }\n",
       "</style>\n",
       "<table border=\"1\" class=\"dataframe\">\n",
       "  <thead>\n",
       "    <tr style=\"text-align: right;\">\n",
       "      <th></th>\n",
       "      <th>ds</th>\n",
       "      <th>groupid</th>\n",
       "      <th>first_hit_ds</th>\n",
       "      <th>feed_cnt_hot_100</th>\n",
       "      <th>feed_cnt_hot_5k</th>\n",
       "      <th>feed_cnt</th>\n",
       "      <th>post_cnt</th>\n",
       "      <th>anonymous</th>\n",
       "    </tr>\n",
       "  </thead>\n",
       "  <tbody>\n",
       "    <tr>\n",
       "      <th>0</th>\n",
       "      <td>20220321</td>\n",
       "      <td>251301</td>\n",
       "      <td>20220327</td>\n",
       "      <td>3.007821</td>\n",
       "      <td>5.848722</td>\n",
       "      <td>7.982649</td>\n",
       "      <td>8.408615</td>\n",
       "      <td>97a36a811d9caddf6f0fd01960acccc0</td>\n",
       "    </tr>\n",
       "    <tr>\n",
       "      <th>1</th>\n",
       "      <td>20220321</td>\n",
       "      <td>251300</td>\n",
       "      <td>20220322</td>\n",
       "      <td>3.007821</td>\n",
       "      <td>5.848722</td>\n",
       "      <td>7.982649</td>\n",
       "      <td>8.408615</td>\n",
       "      <td>13d4522f483d0267a39598a400525063</td>\n",
       "    </tr>\n",
       "    <tr>\n",
       "      <th>2</th>\n",
       "      <td>20220321</td>\n",
       "      <td>251300</td>\n",
       "      <td>20220321</td>\n",
       "      <td>3.007821</td>\n",
       "      <td>5.848722</td>\n",
       "      <td>7.982649</td>\n",
       "      <td>8.408615</td>\n",
       "      <td>0ff897fc42586de68939ad2f0e81049a</td>\n",
       "    </tr>\n",
       "    <tr>\n",
       "      <th>3</th>\n",
       "      <td>20220321</td>\n",
       "      <td>251299</td>\n",
       "      <td>20220328</td>\n",
       "      <td>3.007821</td>\n",
       "      <td>5.848722</td>\n",
       "      <td>7.982649</td>\n",
       "      <td>8.408615</td>\n",
       "      <td>b796ffd34875119248a427200171c887</td>\n",
       "    </tr>\n",
       "    <tr>\n",
       "      <th>4</th>\n",
       "      <td>20220321</td>\n",
       "      <td>251300</td>\n",
       "      <td>20220323</td>\n",
       "      <td>3.007821</td>\n",
       "      <td>5.848722</td>\n",
       "      <td>7.982649</td>\n",
       "      <td>8.408615</td>\n",
       "      <td>c3f08fba49abba83f90aef5265334bd8</td>\n",
       "    </tr>\n",
       "  </tbody>\n",
       "</table>\n",
       "</div>"
      ],
      "text/plain": [
       "         ds  groupid  first_hit_ds  feed_cnt_hot_100  feed_cnt_hot_5k  \\\n",
       "0  20220321   251301      20220327          3.007821         5.848722   \n",
       "1  20220321   251300      20220322          3.007821         5.848722   \n",
       "2  20220321   251300      20220321          3.007821         5.848722   \n",
       "3  20220321   251299      20220328          3.007821         5.848722   \n",
       "4  20220321   251300      20220323          3.007821         5.848722   \n",
       "\n",
       "   feed_cnt  post_cnt                         anonymous  \n",
       "0  7.982649  8.408615  97a36a811d9caddf6f0fd01960acccc0  \n",
       "1  7.982649  8.408615  13d4522f483d0267a39598a400525063  \n",
       "2  7.982649  8.408615  0ff897fc42586de68939ad2f0e81049a  \n",
       "3  7.982649  8.408615  b796ffd34875119248a427200171c887  \n",
       "4  7.982649  8.408615  c3f08fba49abba83f90aef5265334bd8  "
      ]
     },
     "execution_count": 4,
     "metadata": {},
     "output_type": "execute_result"
    }
   ],
   "source": [
    "df.head(5)"
   ]
  },
  {
   "cell_type": "markdown",
   "id": "106b3597",
   "metadata": {},
   "source": [
    "# 数据分析"
   ]
  },
  {
   "cell_type": "markdown",
   "id": "3f2ca039",
   "metadata": {},
   "source": [
    "## 1. initial data exploration"
   ]
  },
  {
   "cell_type": "code",
   "execution_count": 5,
   "id": "b148492f",
   "metadata": {},
   "outputs": [
    {
     "data": {
      "text/html": [
       "<div>\n",
       "<style scoped>\n",
       "    .dataframe tbody tr th:only-of-type {\n",
       "        vertical-align: middle;\n",
       "    }\n",
       "\n",
       "    .dataframe tbody tr th {\n",
       "        vertical-align: top;\n",
       "    }\n",
       "\n",
       "    .dataframe thead th {\n",
       "        text-align: right;\n",
       "    }\n",
       "</style>\n",
       "<table border=\"1\" class=\"dataframe\">\n",
       "  <thead>\n",
       "    <tr style=\"text-align: right;\">\n",
       "      <th></th>\n",
       "      <th>ds</th>\n",
       "      <th>groupid</th>\n",
       "      <th>first_hit_ds</th>\n",
       "      <th>feed_cnt_hot_100</th>\n",
       "      <th>feed_cnt_hot_5k</th>\n",
       "      <th>feed_cnt</th>\n",
       "      <th>post_cnt</th>\n",
       "      <th>anonymous</th>\n",
       "    </tr>\n",
       "  </thead>\n",
       "  <tbody>\n",
       "    <tr>\n",
       "      <th>0</th>\n",
       "      <td>20220321</td>\n",
       "      <td>251301</td>\n",
       "      <td>20220327</td>\n",
       "      <td>3.007821</td>\n",
       "      <td>5.848722</td>\n",
       "      <td>7.982649</td>\n",
       "      <td>8.408615</td>\n",
       "      <td>97a36a811d9caddf6f0fd01960acccc0</td>\n",
       "    </tr>\n",
       "    <tr>\n",
       "      <th>1</th>\n",
       "      <td>20220321</td>\n",
       "      <td>251300</td>\n",
       "      <td>20220322</td>\n",
       "      <td>3.007821</td>\n",
       "      <td>5.848722</td>\n",
       "      <td>7.982649</td>\n",
       "      <td>8.408615</td>\n",
       "      <td>13d4522f483d0267a39598a400525063</td>\n",
       "    </tr>\n",
       "    <tr>\n",
       "      <th>2</th>\n",
       "      <td>20220321</td>\n",
       "      <td>251300</td>\n",
       "      <td>20220321</td>\n",
       "      <td>3.007821</td>\n",
       "      <td>5.848722</td>\n",
       "      <td>7.982649</td>\n",
       "      <td>8.408615</td>\n",
       "      <td>0ff897fc42586de68939ad2f0e81049a</td>\n",
       "    </tr>\n",
       "    <tr>\n",
       "      <th>3</th>\n",
       "      <td>20220321</td>\n",
       "      <td>251299</td>\n",
       "      <td>20220328</td>\n",
       "      <td>3.007821</td>\n",
       "      <td>5.848722</td>\n",
       "      <td>7.982649</td>\n",
       "      <td>8.408615</td>\n",
       "      <td>b796ffd34875119248a427200171c887</td>\n",
       "    </tr>\n",
       "    <tr>\n",
       "      <th>4</th>\n",
       "      <td>20220321</td>\n",
       "      <td>251300</td>\n",
       "      <td>20220323</td>\n",
       "      <td>3.007821</td>\n",
       "      <td>5.848722</td>\n",
       "      <td>7.982649</td>\n",
       "      <td>8.408615</td>\n",
       "      <td>c3f08fba49abba83f90aef5265334bd8</td>\n",
       "    </tr>\n",
       "  </tbody>\n",
       "</table>\n",
       "</div>"
      ],
      "text/plain": [
       "         ds  groupid  first_hit_ds  feed_cnt_hot_100  feed_cnt_hot_5k  \\\n",
       "0  20220321   251301      20220327          3.007821         5.848722   \n",
       "1  20220321   251300      20220322          3.007821         5.848722   \n",
       "2  20220321   251300      20220321          3.007821         5.848722   \n",
       "3  20220321   251299      20220328          3.007821         5.848722   \n",
       "4  20220321   251300      20220323          3.007821         5.848722   \n",
       "\n",
       "   feed_cnt  post_cnt                         anonymous  \n",
       "0  7.982649  8.408615  97a36a811d9caddf6f0fd01960acccc0  \n",
       "1  7.982649  8.408615  13d4522f483d0267a39598a400525063  \n",
       "2  7.982649  8.408615  0ff897fc42586de68939ad2f0e81049a  \n",
       "3  7.982649  8.408615  b796ffd34875119248a427200171c887  \n",
       "4  7.982649  8.408615  c3f08fba49abba83f90aef5265334bd8  "
      ]
     },
     "execution_count": 5,
     "metadata": {},
     "output_type": "execute_result"
    }
   ],
   "source": [
    "df.head(5)"
   ]
  },
  {
   "cell_type": "code",
   "execution_count": 6,
   "id": "bfec919a",
   "metadata": {},
   "outputs": [
    {
     "data": {
      "text/plain": [
       "ds                    int64\n",
       "groupid               int64\n",
       "first_hit_ds          int64\n",
       "feed_cnt_hot_100    float64\n",
       "feed_cnt_hot_5k     float64\n",
       "feed_cnt            float64\n",
       "post_cnt            float64\n",
       "anonymous            object\n",
       "dtype: object"
      ]
     },
     "execution_count": 6,
     "metadata": {},
     "output_type": "execute_result"
    }
   ],
   "source": [
    "df.dtypes"
   ]
  },
  {
   "cell_type": "markdown",
   "id": "da296d49",
   "metadata": {},
   "source": [
    "numerical variable：\n",
    "feed_cnt_hot_100: 24小时内曝光达到100的feed\n",
    "feed_cnt_hot_5k: 24小时内曝光达到5000的feed\n",
    "feed_cnt: 当天冷启的feed数\n",
    "post_cnt: 当天发表的全部视频数\n",
    "    \n",
    "catgorical variable:\n",
    "anonymous: user nuique id\n",
    "ds: date\n",
    "first_hit_ds: 首次命中的日期\n",
    "group_id: 是哪个实验组"
   ]
  },
  {
   "cell_type": "code",
   "execution_count": 13,
   "id": "7c04c3a0",
   "metadata": {},
   "outputs": [],
   "source": [
    "numerical_col=[\"post_cnt\"]\n",
    "categorical_col=[\"anonymous\",\"ds\",\"first_hit_ds\",\"groupid\"]"
   ]
  },
  {
   "cell_type": "markdown",
   "id": "e98a9f1f",
   "metadata": {},
   "source": [
    "## 2.Univariate Analysis"
   ]
  },
  {
   "cell_type": "markdown",
   "id": "b754ca74",
   "metadata": {},
   "source": [
    "### 2.1 orginal data"
   ]
  },
  {
   "cell_type": "code",
   "execution_count": 14,
   "id": "52785680",
   "metadata": {},
   "outputs": [],
   "source": [
    "# Univariate statistics\n",
    "def unistats(df):\n",
    "    output_df=pd.DataFrame(columns=[\"count\",\"Mising\",\"Unique\",\"Dtype\",\"Numeric\",\"Mean\",\"Min\",\"25%\",\"Median\",\"75%\",\"Max\",\"std\",\"Skew\",\"Kurt\"])\n",
    "    for col in categorical_col:\n",
    "            output_df.loc[col]=[df[col].count(),df[col].isnull().sum(),len(df[col].unique()),df[col].dtype,pd.api.types.is_numeric_dtype(df[col]),\n",
    "                                '-','-','-','-','-','-','-','-','-']\n",
    "    for col in numerical_col:\n",
    "        output_df.loc[col]=[df[col].count(),df[col].isnull().sum(),len(df[col].unique()),df[col].dtype,pd.api.types.is_numeric_dtype(df[col]),\n",
    "                               df[col].mean(),df[col].min(),df[col].quantile(0.25),df[col].median(),df[col].quantile(0.75),df[col].max(),df[col].std(),df[col].skew(),df[col].kurt()]\n",
    "    return output_df\n",
    "\n",
    "output=unistats(df)\n",
    "output.to_excel(\"f_univariate_statistics.xls\")"
   ]
  },
  {
   "cell_type": "code",
   "execution_count": 15,
   "id": "bfb7217b",
   "metadata": {},
   "outputs": [
    {
     "data": {
      "text/html": [
       "<div>\n",
       "<style scoped>\n",
       "    .dataframe tbody tr th:only-of-type {\n",
       "        vertical-align: middle;\n",
       "    }\n",
       "\n",
       "    .dataframe tbody tr th {\n",
       "        vertical-align: top;\n",
       "    }\n",
       "\n",
       "    .dataframe thead th {\n",
       "        text-align: right;\n",
       "    }\n",
       "</style>\n",
       "<table border=\"1\" class=\"dataframe\">\n",
       "  <thead>\n",
       "    <tr style=\"text-align: right;\">\n",
       "      <th></th>\n",
       "      <th>count</th>\n",
       "      <th>Mising</th>\n",
       "      <th>Unique</th>\n",
       "      <th>Dtype</th>\n",
       "      <th>Numeric</th>\n",
       "      <th>Mean</th>\n",
       "      <th>Min</th>\n",
       "      <th>25%</th>\n",
       "      <th>Median</th>\n",
       "      <th>75%</th>\n",
       "      <th>Max</th>\n",
       "      <th>std</th>\n",
       "      <th>Skew</th>\n",
       "      <th>Kurt</th>\n",
       "    </tr>\n",
       "  </thead>\n",
       "  <tbody>\n",
       "    <tr>\n",
       "      <th>anonymous</th>\n",
       "      <td>5374499</td>\n",
       "      <td>0</td>\n",
       "      <td>413423</td>\n",
       "      <td>object</td>\n",
       "      <td>False</td>\n",
       "      <td>-</td>\n",
       "      <td>-</td>\n",
       "      <td>-</td>\n",
       "      <td>-</td>\n",
       "      <td>-</td>\n",
       "      <td>-</td>\n",
       "      <td>-</td>\n",
       "      <td>-</td>\n",
       "      <td>-</td>\n",
       "    </tr>\n",
       "    <tr>\n",
       "      <th>ds</th>\n",
       "      <td>5374499</td>\n",
       "      <td>0</td>\n",
       "      <td>13</td>\n",
       "      <td>int64</td>\n",
       "      <td>True</td>\n",
       "      <td>-</td>\n",
       "      <td>-</td>\n",
       "      <td>-</td>\n",
       "      <td>-</td>\n",
       "      <td>-</td>\n",
       "      <td>-</td>\n",
       "      <td>-</td>\n",
       "      <td>-</td>\n",
       "      <td>-</td>\n",
       "    </tr>\n",
       "    <tr>\n",
       "      <th>first_hit_ds</th>\n",
       "      <td>5374499</td>\n",
       "      <td>0</td>\n",
       "      <td>13</td>\n",
       "      <td>int64</td>\n",
       "      <td>True</td>\n",
       "      <td>-</td>\n",
       "      <td>-</td>\n",
       "      <td>-</td>\n",
       "      <td>-</td>\n",
       "      <td>-</td>\n",
       "      <td>-</td>\n",
       "      <td>-</td>\n",
       "      <td>-</td>\n",
       "      <td>-</td>\n",
       "    </tr>\n",
       "    <tr>\n",
       "      <th>groupid</th>\n",
       "      <td>5374499</td>\n",
       "      <td>0</td>\n",
       "      <td>3</td>\n",
       "      <td>int64</td>\n",
       "      <td>True</td>\n",
       "      <td>-</td>\n",
       "      <td>-</td>\n",
       "      <td>-</td>\n",
       "      <td>-</td>\n",
       "      <td>-</td>\n",
       "      <td>-</td>\n",
       "      <td>-</td>\n",
       "      <td>-</td>\n",
       "      <td>-</td>\n",
       "    </tr>\n",
       "    <tr>\n",
       "      <th>post_cnt</th>\n",
       "      <td>5374499</td>\n",
       "      <td>0</td>\n",
       "      <td>124</td>\n",
       "      <td>float64</td>\n",
       "      <td>True</td>\n",
       "      <td>8.520604</td>\n",
       "      <td>8.408615</td>\n",
       "      <td>8.408615</td>\n",
       "      <td>8.408615</td>\n",
       "      <td>8.408615</td>\n",
       "      <td>175.614761</td>\n",
       "      <td>0.471147</td>\n",
       "      <td>60.188352</td>\n",
       "      <td>12213.934016</td>\n",
       "    </tr>\n",
       "  </tbody>\n",
       "</table>\n",
       "</div>"
      ],
      "text/plain": [
       "                count Mising  Unique    Dtype Numeric      Mean       Min  \\\n",
       "anonymous     5374499      0  413423   object   False         -         -   \n",
       "ds            5374499      0      13    int64    True         -         -   \n",
       "first_hit_ds  5374499      0      13    int64    True         -         -   \n",
       "groupid       5374499      0       3    int64    True         -         -   \n",
       "post_cnt      5374499      0     124  float64    True  8.520604  8.408615   \n",
       "\n",
       "                   25%    Median       75%         Max       std       Skew  \\\n",
       "anonymous            -         -         -           -         -          -   \n",
       "ds                   -         -         -           -         -          -   \n",
       "first_hit_ds         -         -         -           -         -          -   \n",
       "groupid              -         -         -           -         -          -   \n",
       "post_cnt      8.408615  8.408615  8.408615  175.614761  0.471147  60.188352   \n",
       "\n",
       "                      Kurt  \n",
       "anonymous                -  \n",
       "ds                       -  \n",
       "first_hit_ds             -  \n",
       "groupid                  -  \n",
       "post_cnt      12213.934016  "
      ]
     },
     "execution_count": 15,
     "metadata": {},
     "output_type": "execute_result"
    }
   ],
   "source": [
    "output"
   ]
  },
  {
   "cell_type": "markdown",
   "id": "421f9938",
   "metadata": {},
   "source": [
    "### 2.2 restore real data"
   ]
  },
  {
   "cell_type": "markdown",
   "id": "c07dfa2f",
   "metadata": {},
   "source": [
    "#### restore numerical data"
   ]
  },
  {
   "cell_type": "code",
   "execution_count": 16,
   "id": "746b8eef",
   "metadata": {},
   "outputs": [],
   "source": [
    "# copy data\n",
    "new_df=df"
   ]
  },
  {
   "cell_type": "code",
   "execution_count": 17,
   "id": "9b3dd1e0",
   "metadata": {},
   "outputs": [
    {
     "name": "stdout",
     "output_type": "stream",
     "text": [
      "post_cnt [8.40861517 8.84404784]\n"
     ]
    }
   ],
   "source": [
    "# (1) -min (suppose min= 0)\n",
    "for col in numerical_col:\n",
    "    print(col,np.sort(df[col].unique())[0:2])"
   ]
  },
  {
   "cell_type": "code",
   "execution_count": 18,
   "id": "a787baf4",
   "metadata": {},
   "outputs": [
    {
     "name": "stdout",
     "output_type": "stream",
     "text": [
      "post_cnt 8.408615171556876 0.4354326710191927\n",
      "post_cnt [0. 1.]\n"
     ]
    }
   ],
   "source": [
    "for col in numerical_col:\n",
    "    B= np.sort(df[col].unique())[0]\n",
    "    A= np.sort(df[col].unique())[1]-np.sort(df[col].unique())[0]\n",
    "    print(col,B,A)\n",
    "    new_df[col]=(df[col]-B)/A\n",
    "    print(col,np.sort(new_df[col].unique())[0:2])"
   ]
  },
  {
   "cell_type": "code",
   "execution_count": 19,
   "id": "9c2a94f2",
   "metadata": {},
   "outputs": [
    {
     "data": {
      "text/html": [
       "<div>\n",
       "<style scoped>\n",
       "    .dataframe tbody tr th:only-of-type {\n",
       "        vertical-align: middle;\n",
       "    }\n",
       "\n",
       "    .dataframe tbody tr th {\n",
       "        vertical-align: top;\n",
       "    }\n",
       "\n",
       "    .dataframe thead th {\n",
       "        text-align: right;\n",
       "    }\n",
       "</style>\n",
       "<table border=\"1\" class=\"dataframe\">\n",
       "  <thead>\n",
       "    <tr style=\"text-align: right;\">\n",
       "      <th></th>\n",
       "      <th>ds</th>\n",
       "      <th>groupid</th>\n",
       "      <th>first_hit_ds</th>\n",
       "      <th>feed_cnt_hot_100</th>\n",
       "      <th>feed_cnt_hot_5k</th>\n",
       "      <th>feed_cnt</th>\n",
       "      <th>post_cnt</th>\n",
       "    </tr>\n",
       "  </thead>\n",
       "  <tbody>\n",
       "    <tr>\n",
       "      <th>count</th>\n",
       "      <td>5.374499e+06</td>\n",
       "      <td>5374499.000</td>\n",
       "      <td>5.374499e+06</td>\n",
       "      <td>5374499.000</td>\n",
       "      <td>5374499.000</td>\n",
       "      <td>5374499.000</td>\n",
       "      <td>5374499.000</td>\n",
       "    </tr>\n",
       "    <tr>\n",
       "      <th>mean</th>\n",
       "      <td>2.022034e+07</td>\n",
       "      <td>251300.001</td>\n",
       "      <td>2.022033e+07</td>\n",
       "      <td>3.008</td>\n",
       "      <td>5.849</td>\n",
       "      <td>7.983</td>\n",
       "      <td>0.257</td>\n",
       "    </tr>\n",
       "    <tr>\n",
       "      <th>std</th>\n",
       "      <td>2.739600e+01</td>\n",
       "      <td>0.816</td>\n",
       "      <td>2.087600e+01</td>\n",
       "      <td>0.000</td>\n",
       "      <td>0.000</td>\n",
       "      <td>0.000</td>\n",
       "      <td>1.082</td>\n",
       "    </tr>\n",
       "    <tr>\n",
       "      <th>min</th>\n",
       "      <td>2.022032e+07</td>\n",
       "      <td>251299.000</td>\n",
       "      <td>2.022032e+07</td>\n",
       "      <td>3.008</td>\n",
       "      <td>5.849</td>\n",
       "      <td>7.983</td>\n",
       "      <td>0.000</td>\n",
       "    </tr>\n",
       "    <tr>\n",
       "      <th>25%</th>\n",
       "      <td>2.022032e+07</td>\n",
       "      <td>251299.000</td>\n",
       "      <td>2.022032e+07</td>\n",
       "      <td>3.008</td>\n",
       "      <td>5.849</td>\n",
       "      <td>7.983</td>\n",
       "      <td>0.000</td>\n",
       "    </tr>\n",
       "    <tr>\n",
       "      <th>50%</th>\n",
       "      <td>2.022033e+07</td>\n",
       "      <td>251300.000</td>\n",
       "      <td>2.022032e+07</td>\n",
       "      <td>3.008</td>\n",
       "      <td>5.849</td>\n",
       "      <td>7.983</td>\n",
       "      <td>0.000</td>\n",
       "    </tr>\n",
       "    <tr>\n",
       "      <th>75%</th>\n",
       "      <td>2.022033e+07</td>\n",
       "      <td>251301.000</td>\n",
       "      <td>2.022033e+07</td>\n",
       "      <td>3.008</td>\n",
       "      <td>5.849</td>\n",
       "      <td>7.983</td>\n",
       "      <td>0.000</td>\n",
       "    </tr>\n",
       "    <tr>\n",
       "      <th>max</th>\n",
       "      <td>2.022040e+07</td>\n",
       "      <td>251301.000</td>\n",
       "      <td>2.022040e+07</td>\n",
       "      <td>3.008</td>\n",
       "      <td>5.849</td>\n",
       "      <td>7.983</td>\n",
       "      <td>384.000</td>\n",
       "    </tr>\n",
       "  </tbody>\n",
       "</table>\n",
       "</div>"
      ],
      "text/plain": [
       "                 ds      groupid  first_hit_ds  feed_cnt_hot_100  \\\n",
       "count  5.374499e+06  5374499.000  5.374499e+06       5374499.000   \n",
       "mean   2.022034e+07   251300.001  2.022033e+07             3.008   \n",
       "std    2.739600e+01        0.816  2.087600e+01             0.000   \n",
       "min    2.022032e+07   251299.000  2.022032e+07             3.008   \n",
       "25%    2.022032e+07   251299.000  2.022032e+07             3.008   \n",
       "50%    2.022033e+07   251300.000  2.022032e+07             3.008   \n",
       "75%    2.022033e+07   251301.000  2.022033e+07             3.008   \n",
       "max    2.022040e+07   251301.000  2.022040e+07             3.008   \n",
       "\n",
       "       feed_cnt_hot_5k     feed_cnt     post_cnt  \n",
       "count      5374499.000  5374499.000  5374499.000  \n",
       "mean             5.849        7.983        0.257  \n",
       "std              0.000        0.000        1.082  \n",
       "min              5.849        7.983        0.000  \n",
       "25%              5.849        7.983        0.000  \n",
       "50%              5.849        7.983        0.000  \n",
       "75%              5.849        7.983        0.000  \n",
       "max              5.849        7.983      384.000  "
      ]
     },
     "execution_count": 19,
     "metadata": {},
     "output_type": "execute_result"
    }
   ],
   "source": [
    "np.round(new_df.describe(),3)"
   ]
  },
  {
   "cell_type": "code",
   "execution_count": 20,
   "id": "ad22517e",
   "metadata": {},
   "outputs": [
    {
     "name": "stdout",
     "output_type": "stream",
     "text": [
      "[ 0.  1.  2.  3.  4.  5.  6.  7.  8.  9. 10. 11. 12. 13. 14.]\n"
     ]
    }
   ],
   "source": [
    "# check new data\n",
    "for col in numerical_col:\n",
    "    print(np.sort(new_df[col].unique())[0:15])"
   ]
  },
  {
   "cell_type": "markdown",
   "id": "61969530",
   "metadata": {},
   "source": [
    "#### restore categorical data"
   ]
  },
  {
   "cell_type": "markdown",
   "id": "f8237fcd",
   "metadata": {},
   "source": [
    "### 2.3 cleaning data"
   ]
  },
  {
   "cell_type": "code",
   "execution_count": 21,
   "id": "b3ef5dac",
   "metadata": {},
   "outputs": [],
   "source": [
    "# check first_hit_ds\n",
    "new_df[\"in_experiment\"]=np.where(pd.to_numeric(new_df[\"ds\"])>new_df[\"first_hit_ds\"],1,0)"
   ]
  },
  {
   "cell_type": "code",
   "execution_count": 22,
   "id": "dea69c34",
   "metadata": {},
   "outputs": [
    {
     "data": {
      "text/plain": [
       "1    3063096\n",
       "0    2311403\n",
       "Name: in_experiment, dtype: int64"
      ]
     },
     "execution_count": 22,
     "metadata": {},
     "output_type": "execute_result"
    }
   ],
   "source": [
    "new_df[\"in_experiment\"].value_counts()"
   ]
  },
  {
   "cell_type": "code",
   "execution_count": 23,
   "id": "9c668781",
   "metadata": {},
   "outputs": [],
   "source": [
    "numerical_col=[\"post_cnt\"]\n",
    "categorical_col=[\"anonymous\",\"ds\",\"first_hit_ds\",\"groupid\",\"in_experiment\"]"
   ]
  },
  {
   "cell_type": "markdown",
   "id": "5d5b48da",
   "metadata": {},
   "source": [
    "### 2.4 univariate analysis"
   ]
  },
  {
   "cell_type": "markdown",
   "id": "7310d224",
   "metadata": {},
   "source": [
    "#### statistics analysis"
   ]
  },
  {
   "cell_type": "code",
   "execution_count": 24,
   "id": "7462b35e",
   "metadata": {},
   "outputs": [],
   "source": [
    "# statistics\n",
    "def unistats(df):\n",
    "    output_df=pd.DataFrame(columns=[\"count\",\"Mising\",\"Unique\",\"Dtype\",\"Numeric\",\"Mean\",\"Min\",\"25%\",\"Median\",\"75%\",\"Max\",\"std\",\"Skew\",\"Kurt\"])\n",
    "    for col in categorical_col:\n",
    "            output_df.loc[col]=[df[col].count(),df[col].isnull().sum(),len(df[col].unique()),df[col].dtype,pd.api.types.is_numeric_dtype(df[col]),\n",
    "                                '-','-','-','-','-','-','-','-','-']\n",
    "    for col in numerical_col:\n",
    "        output_df.loc[col]=[df[col].count(),df[col].isnull().sum(),len(df[col].unique()),df[col].dtype,pd.api.types.is_numeric_dtype(df[col]),\n",
    "                               df[col].mean(),df[col].min(),df[col].quantile(0.25),df[col].median(),df[col].quantile(0.75),df[col].max(),df[col].std(),df[col].skew(),df[col].kurt()]\n",
    "    return output_df\n",
    "\n",
    "new_df_output=unistats(new_df)\n",
    "new_df_output.to_excel(\"f_new_univariate_statistics.xls\")"
   ]
  },
  {
   "cell_type": "code",
   "execution_count": 25,
   "id": "5face07d",
   "metadata": {},
   "outputs": [
    {
     "data": {
      "text/html": [
       "<div>\n",
       "<style scoped>\n",
       "    .dataframe tbody tr th:only-of-type {\n",
       "        vertical-align: middle;\n",
       "    }\n",
       "\n",
       "    .dataframe tbody tr th {\n",
       "        vertical-align: top;\n",
       "    }\n",
       "\n",
       "    .dataframe thead th {\n",
       "        text-align: right;\n",
       "    }\n",
       "</style>\n",
       "<table border=\"1\" class=\"dataframe\">\n",
       "  <thead>\n",
       "    <tr style=\"text-align: right;\">\n",
       "      <th></th>\n",
       "      <th>count</th>\n",
       "      <th>Mising</th>\n",
       "      <th>Unique</th>\n",
       "      <th>Dtype</th>\n",
       "      <th>Numeric</th>\n",
       "      <th>Mean</th>\n",
       "      <th>Min</th>\n",
       "      <th>25%</th>\n",
       "      <th>Median</th>\n",
       "      <th>75%</th>\n",
       "      <th>Max</th>\n",
       "      <th>std</th>\n",
       "      <th>Skew</th>\n",
       "      <th>Kurt</th>\n",
       "    </tr>\n",
       "  </thead>\n",
       "  <tbody>\n",
       "    <tr>\n",
       "      <th>anonymous</th>\n",
       "      <td>5374499</td>\n",
       "      <td>0</td>\n",
       "      <td>413423</td>\n",
       "      <td>object</td>\n",
       "      <td>False</td>\n",
       "      <td>-</td>\n",
       "      <td>-</td>\n",
       "      <td>-</td>\n",
       "      <td>-</td>\n",
       "      <td>-</td>\n",
       "      <td>-</td>\n",
       "      <td>-</td>\n",
       "      <td>-</td>\n",
       "      <td>-</td>\n",
       "    </tr>\n",
       "    <tr>\n",
       "      <th>ds</th>\n",
       "      <td>5374499</td>\n",
       "      <td>0</td>\n",
       "      <td>13</td>\n",
       "      <td>int64</td>\n",
       "      <td>True</td>\n",
       "      <td>-</td>\n",
       "      <td>-</td>\n",
       "      <td>-</td>\n",
       "      <td>-</td>\n",
       "      <td>-</td>\n",
       "      <td>-</td>\n",
       "      <td>-</td>\n",
       "      <td>-</td>\n",
       "      <td>-</td>\n",
       "    </tr>\n",
       "    <tr>\n",
       "      <th>first_hit_ds</th>\n",
       "      <td>5374499</td>\n",
       "      <td>0</td>\n",
       "      <td>13</td>\n",
       "      <td>int64</td>\n",
       "      <td>True</td>\n",
       "      <td>-</td>\n",
       "      <td>-</td>\n",
       "      <td>-</td>\n",
       "      <td>-</td>\n",
       "      <td>-</td>\n",
       "      <td>-</td>\n",
       "      <td>-</td>\n",
       "      <td>-</td>\n",
       "      <td>-</td>\n",
       "    </tr>\n",
       "    <tr>\n",
       "      <th>groupid</th>\n",
       "      <td>5374499</td>\n",
       "      <td>0</td>\n",
       "      <td>3</td>\n",
       "      <td>int64</td>\n",
       "      <td>True</td>\n",
       "      <td>-</td>\n",
       "      <td>-</td>\n",
       "      <td>-</td>\n",
       "      <td>-</td>\n",
       "      <td>-</td>\n",
       "      <td>-</td>\n",
       "      <td>-</td>\n",
       "      <td>-</td>\n",
       "      <td>-</td>\n",
       "    </tr>\n",
       "    <tr>\n",
       "      <th>in_experiment</th>\n",
       "      <td>5374499</td>\n",
       "      <td>0</td>\n",
       "      <td>2</td>\n",
       "      <td>int64</td>\n",
       "      <td>True</td>\n",
       "      <td>-</td>\n",
       "      <td>-</td>\n",
       "      <td>-</td>\n",
       "      <td>-</td>\n",
       "      <td>-</td>\n",
       "      <td>-</td>\n",
       "      <td>-</td>\n",
       "      <td>-</td>\n",
       "      <td>-</td>\n",
       "    </tr>\n",
       "    <tr>\n",
       "      <th>post_cnt</th>\n",
       "      <td>5374499</td>\n",
       "      <td>0</td>\n",
       "      <td>124</td>\n",
       "      <td>float64</td>\n",
       "      <td>True</td>\n",
       "      <td>0.25719</td>\n",
       "      <td>0.0</td>\n",
       "      <td>0.0</td>\n",
       "      <td>0.0</td>\n",
       "      <td>0.0</td>\n",
       "      <td>384.0</td>\n",
       "      <td>1.082021</td>\n",
       "      <td>60.188352</td>\n",
       "      <td>12213.934016</td>\n",
       "    </tr>\n",
       "  </tbody>\n",
       "</table>\n",
       "</div>"
      ],
      "text/plain": [
       "                 count Mising  Unique    Dtype Numeric     Mean  Min  25%  \\\n",
       "anonymous      5374499      0  413423   object   False        -    -    -   \n",
       "ds             5374499      0      13    int64    True        -    -    -   \n",
       "first_hit_ds   5374499      0      13    int64    True        -    -    -   \n",
       "groupid        5374499      0       3    int64    True        -    -    -   \n",
       "in_experiment  5374499      0       2    int64    True        -    -    -   \n",
       "post_cnt       5374499      0     124  float64    True  0.25719  0.0  0.0   \n",
       "\n",
       "              Median  75%    Max       std       Skew          Kurt  \n",
       "anonymous          -    -      -         -          -             -  \n",
       "ds                 -    -      -         -          -             -  \n",
       "first_hit_ds       -    -      -         -          -             -  \n",
       "groupid            -    -      -         -          -             -  \n",
       "in_experiment      -    -      -         -          -             -  \n",
       "post_cnt         0.0  0.0  384.0  1.082021  60.188352  12213.934016  "
      ]
     },
     "execution_count": 25,
     "metadata": {},
     "output_type": "execute_result"
    }
   ],
   "source": [
    "new_df_output"
   ]
  },
  {
   "cell_type": "code",
   "execution_count": 26,
   "id": "aad4b519",
   "metadata": {},
   "outputs": [
    {
     "name": "stdout",
     "output_type": "stream",
     "text": [
      "20220321    413423\n",
      "20220323    413423\n",
      "20220322    413423\n",
      "20220325    413423\n",
      "20220324    413423\n",
      "20220327    413423\n",
      "20220326    413423\n",
      "20220329    413423\n",
      "20220328    413423\n",
      "20220331    413423\n",
      "20220330    413423\n",
      "20220401    413423\n",
      "20220402    413423\n",
      "Name: ds, dtype: int64\n",
      "20220321    1096498\n",
      "20220322     471484\n",
      "20220326     432341\n",
      "20220323     426816\n",
      "20220324     414596\n",
      "20220327     390949\n",
      "20220325     387036\n",
      "20220328     342043\n",
      "20220401     338975\n",
      "20220330     333307\n",
      "20220329     328315\n",
      "20220331     322842\n",
      "20220402      89297\n",
      "Name: first_hit_ds, dtype: int64\n",
      "251301    1793870\n",
      "251300    1793233\n",
      "251299    1787396\n",
      "Name: groupid, dtype: int64\n",
      "1    3063096\n",
      "0    2311403\n",
      "Name: in_experiment, dtype: int64\n"
     ]
    }
   ],
   "source": [
    "# categorical--statistics\n",
    "for col in categorical_col[1:len(categorical_col)]:\n",
    "    print(new_df[col].value_counts())"
   ]
  },
  {
   "cell_type": "markdown",
   "id": "03519907",
   "metadata": {},
   "source": [
    "#### visualization analysis"
   ]
  },
  {
   "cell_type": "code",
   "execution_count": 27,
   "id": "bcafb76b",
   "metadata": {},
   "outputs": [
    {
     "data": {
      "text/plain": [
       "array([[<AxesSubplot:title={'center':'ds'}>,\n",
       "        <AxesSubplot:title={'center':'groupid'}>,\n",
       "        <AxesSubplot:title={'center':'first_hit_ds'}>],\n",
       "       [<AxesSubplot:title={'center':'feed_cnt_hot_100'}>,\n",
       "        <AxesSubplot:title={'center':'feed_cnt_hot_5k'}>,\n",
       "        <AxesSubplot:title={'center':'feed_cnt'}>],\n",
       "       [<AxesSubplot:title={'center':'post_cnt'}>,\n",
       "        <AxesSubplot:title={'center':'in_experiment'}>, <AxesSubplot:>]],\n",
       "      dtype=object)"
      ]
     },
     "execution_count": 27,
     "metadata": {},
     "output_type": "execute_result"
    },
    {
     "data": {
      "image/png": "[encoded data removed]",
      "text/plain": [
       "<Figure size 720x720 with 9 Axes>"
      ]
     },
     "metadata": {
      "needs_background": "light"
     },
     "output_type": "display_data"
    }
   ],
   "source": [
    "# # Univariate visualization(numerical variable)--histgram\n",
    "new_df.hist(figsize=(10,10))"
   ]
  },
  {
   "cell_type": "code",
   "execution_count": 28,
   "id": "4877b2e1",
   "metadata": {},
   "outputs": [
    {
     "data": {
      "image/png": "[encoded data removed]",
      "text/plain": [
       "<Figure size 432x288 with 1 Axes>"
      ]
     },
     "metadata": {
      "needs_background": "light"
     },
     "output_type": "display_data"
    }
   ],
   "source": [
    "# # Univariate visualization(categorical variable)--brachart\n",
    "for col in numerical_col:\n",
    "    sns.distplot(new_df[col])\n",
    "    plt.show()"
   ]
  },
  {
   "cell_type": "code",
   "execution_count": 29,
   "id": "6b8f1e95",
   "metadata": {},
   "outputs": [
    {
     "data": {
      "image/png": "[encoded data removed]",
      "text/plain": [
       "<Figure size 432x288 with 1 Axes>"
      ]
     },
     "metadata": {
      "needs_background": "light"
     },
     "output_type": "display_data"
    },
    {
     "data": {
      "image/png": "[encoded data removed]",
      "text/plain": [
       "<Figure size 432x288 with 1 Axes>"
      ]
     },
     "metadata": {
      "needs_background": "light"
     },
     "output_type": "display_data"
    },
    {
     "data": {
      "image/png": "[encoded data removed]",
      "text/plain": [
       "<Figure size 432x288 with 1 Axes>"
      ]
     },
     "metadata": {
      "needs_background": "light"
     },
     "output_type": "display_data"
    },
    {
     "data": {
      "image/png": "[encoded data removed]",
      "text/plain": [
       "<Figure size 432x288 with 1 Axes>"
      ]
     },
     "metadata": {
      "needs_background": "light"
     },
     "output_type": "display_data"
    }
   ],
   "source": [
    "# # Univariate visualization(categorical variable)--brachart\n",
    "for col in categorical_col[1:len(categorical_col)]:\n",
    "    sns.countplot(new_df[col])\n",
    "    plt.show()"
   ]
  },
  {
   "cell_type": "markdown",
   "id": "078a3ac2",
   "metadata": {},
   "source": [
    "conlusion:\n",
    "1. panel data: individul: 413423, 13 period(20220321-0402) , total data: 5374499\n",
    "2. first_hit_sd: 13 different joining days,(20220321--0402)-- filter out 2311403\n",
    "3. groupid: 251299 is control，251300 and 251301 is treatment\n",
    "4. for numerical variable: they all highly right skew, a lot of zeros."
   ]
  },
  {
   "cell_type": "markdown",
   "id": "c625b991",
   "metadata": {},
   "source": [
    "## 3.Bivarite Analysis"
   ]
  },
  {
   "cell_type": "code",
   "execution_count": 30,
   "id": "0d3bd6c9",
   "metadata": {},
   "outputs": [],
   "source": [
    "# filter out 没参与实验的user\n",
    "new_new_df= new_df"
   ]
  },
  {
   "cell_type": "code",
   "execution_count": 31,
   "id": "4a6e81db",
   "metadata": {},
   "outputs": [],
   "source": [
    "new_new_df.drop(new_new_df[new_new_df[\"in_experiment\"]==0].index,inplace=True)"
   ]
  },
  {
   "cell_type": "code",
   "execution_count": 32,
   "id": "facadb64",
   "metadata": {},
   "outputs": [],
   "source": [
    "# statistics\n",
    "def unistats(df):\n",
    "    output_df=pd.DataFrame(columns=[\"count\",\"Mising\",\"Unique\",\"Dtype\",\"Numeric\",\"Mean\",\"Min\",\"25%\",\"Median\",\"75%\",\"Max\",\"std\",\"Skew\",\"Kurt\"])\n",
    "    for col in categorical_col:\n",
    "            output_df.loc[col]=[df[col].count(),df[col].isnull().sum(),len(df[col].unique()),df[col].dtype,pd.api.types.is_numeric_dtype(df[col]),\n",
    "                                '-','-','-','-','-','-','-','-','-']\n",
    "    for col in numerical_col:\n",
    "        output_df.loc[col]=[df[col].count(),df[col].isnull().sum(),len(df[col].unique()),df[col].dtype,pd.api.types.is_numeric_dtype(df[col]),\n",
    "                               df[col].mean(),df[col].min(),df[col].quantile(0.25),df[col].median(),df[col].quantile(0.75),df[col].max(),df[col].std(),df[col].skew(),df[col].kurt()]\n",
    "    return output_df\n",
    "\n",
    "new_new_df_output=unistats(new_new_df)\n",
    "new_new_df_output.to_excel(\"f_new_new_univariate_statistics.xls\")"
   ]
  },
  {
   "cell_type": "code",
   "execution_count": 33,
   "id": "a8bfbb24",
   "metadata": {},
   "outputs": [
    {
     "data": {
      "text/html": [
       "<div>\n",
       "<style scoped>\n",
       "    .dataframe tbody tr th:only-of-type {\n",
       "        vertical-align: middle;\n",
       "    }\n",
       "\n",
       "    .dataframe tbody tr th {\n",
       "        vertical-align: top;\n",
       "    }\n",
       "\n",
       "    .dataframe thead th {\n",
       "        text-align: right;\n",
       "    }\n",
       "</style>\n",
       "<table border=\"1\" class=\"dataframe\">\n",
       "  <thead>\n",
       "    <tr style=\"text-align: right;\">\n",
       "      <th></th>\n",
       "      <th>count</th>\n",
       "      <th>Mising</th>\n",
       "      <th>Unique</th>\n",
       "      <th>Dtype</th>\n",
       "      <th>Numeric</th>\n",
       "      <th>Mean</th>\n",
       "      <th>Min</th>\n",
       "      <th>25%</th>\n",
       "      <th>Median</th>\n",
       "      <th>75%</th>\n",
       "      <th>Max</th>\n",
       "      <th>std</th>\n",
       "      <th>Skew</th>\n",
       "      <th>Kurt</th>\n",
       "    </tr>\n",
       "  </thead>\n",
       "  <tbody>\n",
       "    <tr>\n",
       "      <th>anonymous</th>\n",
       "      <td>3063096</td>\n",
       "      <td>0</td>\n",
       "      <td>406554</td>\n",
       "      <td>object</td>\n",
       "      <td>False</td>\n",
       "      <td>-</td>\n",
       "      <td>-</td>\n",
       "      <td>-</td>\n",
       "      <td>-</td>\n",
       "      <td>-</td>\n",
       "      <td>-</td>\n",
       "      <td>-</td>\n",
       "      <td>-</td>\n",
       "      <td>-</td>\n",
       "    </tr>\n",
       "    <tr>\n",
       "      <th>ds</th>\n",
       "      <td>3063096</td>\n",
       "      <td>0</td>\n",
       "      <td>12</td>\n",
       "      <td>int64</td>\n",
       "      <td>True</td>\n",
       "      <td>-</td>\n",
       "      <td>-</td>\n",
       "      <td>-</td>\n",
       "      <td>-</td>\n",
       "      <td>-</td>\n",
       "      <td>-</td>\n",
       "      <td>-</td>\n",
       "      <td>-</td>\n",
       "      <td>-</td>\n",
       "    </tr>\n",
       "    <tr>\n",
       "      <th>first_hit_ds</th>\n",
       "      <td>3063096</td>\n",
       "      <td>0</td>\n",
       "      <td>12</td>\n",
       "      <td>int64</td>\n",
       "      <td>True</td>\n",
       "      <td>-</td>\n",
       "      <td>-</td>\n",
       "      <td>-</td>\n",
       "      <td>-</td>\n",
       "      <td>-</td>\n",
       "      <td>-</td>\n",
       "      <td>-</td>\n",
       "      <td>-</td>\n",
       "      <td>-</td>\n",
       "    </tr>\n",
       "    <tr>\n",
       "      <th>groupid</th>\n",
       "      <td>3063096</td>\n",
       "      <td>0</td>\n",
       "      <td>3</td>\n",
       "      <td>int64</td>\n",
       "      <td>True</td>\n",
       "      <td>-</td>\n",
       "      <td>-</td>\n",
       "      <td>-</td>\n",
       "      <td>-</td>\n",
       "      <td>-</td>\n",
       "      <td>-</td>\n",
       "      <td>-</td>\n",
       "      <td>-</td>\n",
       "      <td>-</td>\n",
       "    </tr>\n",
       "    <tr>\n",
       "      <th>in_experiment</th>\n",
       "      <td>3063096</td>\n",
       "      <td>0</td>\n",
       "      <td>1</td>\n",
       "      <td>int64</td>\n",
       "      <td>True</td>\n",
       "      <td>-</td>\n",
       "      <td>-</td>\n",
       "      <td>-</td>\n",
       "      <td>-</td>\n",
       "      <td>-</td>\n",
       "      <td>-</td>\n",
       "      <td>-</td>\n",
       "      <td>-</td>\n",
       "      <td>-</td>\n",
       "    </tr>\n",
       "    <tr>\n",
       "      <th>post_cnt</th>\n",
       "      <td>3063096</td>\n",
       "      <td>0</td>\n",
       "      <td>114</td>\n",
       "      <td>float64</td>\n",
       "      <td>True</td>\n",
       "      <td>0.253262</td>\n",
       "      <td>0.0</td>\n",
       "      <td>0.0</td>\n",
       "      <td>0.0</td>\n",
       "      <td>0.0</td>\n",
       "      <td>339.0</td>\n",
       "      <td>1.16306</td>\n",
       "      <td>47.14182</td>\n",
       "      <td>6607.630161</td>\n",
       "    </tr>\n",
       "  </tbody>\n",
       "</table>\n",
       "</div>"
      ],
      "text/plain": [
       "                 count Mising  Unique    Dtype Numeric      Mean  Min  25%  \\\n",
       "anonymous      3063096      0  406554   object   False         -    -    -   \n",
       "ds             3063096      0      12    int64    True         -    -    -   \n",
       "first_hit_ds   3063096      0      12    int64    True         -    -    -   \n",
       "groupid        3063096      0       3    int64    True         -    -    -   \n",
       "in_experiment  3063096      0       1    int64    True         -    -    -   \n",
       "post_cnt       3063096      0     114  float64    True  0.253262  0.0  0.0   \n",
       "\n",
       "              Median  75%    Max      std      Skew         Kurt  \n",
       "anonymous          -    -      -        -         -            -  \n",
       "ds                 -    -      -        -         -            -  \n",
       "first_hit_ds       -    -      -        -         -            -  \n",
       "groupid            -    -      -        -         -            -  \n",
       "in_experiment      -    -      -        -         -            -  \n",
       "post_cnt         0.0  0.0  339.0  1.16306  47.14182  6607.630161  "
      ]
     },
     "execution_count": 33,
     "metadata": {},
     "output_type": "execute_result"
    }
   ],
   "source": [
    "new_new_df_output"
   ]
  },
  {
   "cell_type": "markdown",
   "id": "a88d2822",
   "metadata": {},
   "source": [
    "#### (1) numerical- numerical"
   ]
  },
  {
   "cell_type": "markdown",
   "id": "994232ba",
   "metadata": {},
   "source": [
    "##### correlation "
   ]
  },
  {
   "cell_type": "code",
   "execution_count": 34,
   "id": "24245c39",
   "metadata": {},
   "outputs": [
    {
     "data": {
      "text/html": [
       "<div>\n",
       "<style scoped>\n",
       "    .dataframe tbody tr th:only-of-type {\n",
       "        vertical-align: middle;\n",
       "    }\n",
       "\n",
       "    .dataframe tbody tr th {\n",
       "        vertical-align: top;\n",
       "    }\n",
       "\n",
       "    .dataframe thead th {\n",
       "        text-align: right;\n",
       "    }\n",
       "</style>\n",
       "<table border=\"1\" class=\"dataframe\">\n",
       "  <thead>\n",
       "    <tr style=\"text-align: right;\">\n",
       "      <th></th>\n",
       "      <th>post_cnt</th>\n",
       "    </tr>\n",
       "  </thead>\n",
       "  <tbody>\n",
       "    <tr>\n",
       "      <th>post_cnt</th>\n",
       "      <td>1.0</td>\n",
       "    </tr>\n",
       "  </tbody>\n",
       "</table>\n",
       "</div>"
      ],
      "text/plain": [
       "          post_cnt\n",
       "post_cnt       1.0"
      ]
     },
     "execution_count": 34,
     "metadata": {},
     "output_type": "execute_result"
    }
   ],
   "source": [
    "# (1) Numerical/Numerical\n",
    "# numercial=4个\n",
    "np.round(new_new_df[numerical_col].corr(),3)"
   ]
  },
  {
   "cell_type": "code",
   "execution_count": 35,
   "id": "412b78fe",
   "metadata": {},
   "outputs": [
    {
     "data": {
      "image/png": "[encoded data removed]",
      "text/plain": [
       "<Figure size 360x360 with 2 Axes>"
      ]
     },
     "metadata": {
      "needs_background": "light"
     },
     "output_type": "display_data"
    }
   ],
   "source": [
    "# 画correlation heat map图\n",
    "plt.figure(figsize=(5,5))\n",
    "sns.heatmap(np.round(new_new_df[numerical_col].corr(),3),annot=True)\n",
    "plt.show()"
   ]
  },
  {
   "cell_type": "markdown",
   "id": "5b5d9c3b",
   "metadata": {},
   "source": [
    "##### visualization--scatterplot"
   ]
  },
  {
   "cell_type": "code",
   "execution_count": null,
   "id": "115ab3ad",
   "metadata": {},
   "outputs": [
    {
     "ename": "KeyboardInterrupt",
     "evalue": "",
     "output_type": "error",
     "traceback": [
      "\u001b[0;31m---------------------------------------------------------------------------\u001b[0m",
      "\u001b[0;31mKeyboardInterrupt\u001b[0m                         Traceback (most recent call last)",
      "\u001b[0;32m/tmp/ipykernel_192/3314807405.py\u001b[0m in \u001b[0;36m<module>\u001b[0;34m\u001b[0m\n\u001b[0;32m----> 1\u001b[0;31m \u001b[0msns\u001b[0m\u001b[0;34m.\u001b[0m\u001b[0mregplot\u001b[0m\u001b[0;34m(\u001b[0m\u001b[0mnew_new_df\u001b[0m\u001b[0;34m[\u001b[0m\u001b[0;34m\"post_cnt\"\u001b[0m\u001b[0;34m]\u001b[0m\u001b[0;34m,\u001b[0m\u001b[0mnew_new_df\u001b[0m\u001b[0;34m[\u001b[0m\u001b[0;34m\"feed_cnt\"\u001b[0m\u001b[0;34m]\u001b[0m\u001b[0;34m)\u001b[0m\u001b[0;34m\u001b[0m\u001b[0;34m\u001b[0m\u001b[0m\n\u001b[0m",
      "\u001b[0;32m/usr/local/lib/python3.7/site-packages/seaborn/_decorators.py\u001b[0m in \u001b[0;36minner_f\u001b[0;34m(*args, **kwargs)\u001b[0m\n\u001b[1;32m     44\u001b[0m             )\n\u001b[1;32m     45\u001b[0m         \u001b[0mkwargs\u001b[0m\u001b[0;34m.\u001b[0m\u001b[0mupdate\u001b[0m\u001b[0;34m(\u001b[0m\u001b[0;34m{\u001b[0m\u001b[0mk\u001b[0m\u001b[0;34m:\u001b[0m \u001b[0marg\u001b[0m \u001b[0;32mfor\u001b[0m \u001b[0mk\u001b[0m\u001b[0;34m,\u001b[0m \u001b[0marg\u001b[0m \u001b[0;32min\u001b[0m \u001b[0mzip\u001b[0m\u001b[0;34m(\u001b[0m\u001b[0msig\u001b[0m\u001b[0;34m.\u001b[0m\u001b[0mparameters\u001b[0m\u001b[0;34m,\u001b[0m \u001b[0margs\u001b[0m\u001b[0;34m)\u001b[0m\u001b[0;34m}\u001b[0m\u001b[0;34m)\u001b[0m\u001b[0;34m\u001b[0m\u001b[0;34m\u001b[0m\u001b[0m\n\u001b[0;32m---> 46\u001b[0;31m         \u001b[0;32mreturn\u001b[0m \u001b[0mf\u001b[0m\u001b[0;34m(\u001b[0m\u001b[0;34m**\u001b[0m\u001b[0mkwargs\u001b[0m\u001b[0;34m)\u001b[0m\u001b[0;34m\u001b[0m\u001b[0;34m\u001b[0m\u001b[0m\n\u001b[0m\u001b[1;32m     47\u001b[0m     \u001b[0;32mreturn\u001b[0m \u001b[0minner_f\u001b[0m\u001b[0;34m\u001b[0m\u001b[0;34m\u001b[0m\u001b[0m\n\u001b[1;32m     48\u001b[0m \u001b[0;34m\u001b[0m\u001b[0m\n",
      "\u001b[0;32m/usr/local/lib/python3.7/site-packages/seaborn/regression.py\u001b[0m in \u001b[0;36mregplot\u001b[0;34m(x, y, data, x_estimator, x_bins, x_ci, scatter, fit_reg, ci, n_boot, units, seed, order, logistic, lowess, robust, logx, x_partial, y_partial, truncate, dropna, x_jitter, y_jitter, label, color, marker, scatter_kws, line_kws, ax)\u001b[0m\n\u001b[1;32m    833\u001b[0m     \u001b[0mscatter_kws\u001b[0m\u001b[0;34m[\u001b[0m\u001b[0;34m\"marker\"\u001b[0m\u001b[0;34m]\u001b[0m \u001b[0;34m=\u001b[0m \u001b[0mmarker\u001b[0m\u001b[0;34m\u001b[0m\u001b[0;34m\u001b[0m\u001b[0m\n\u001b[1;32m    834\u001b[0m     \u001b[0mline_kws\u001b[0m \u001b[0;34m=\u001b[0m \u001b[0;34m{\u001b[0m\u001b[0;34m}\u001b[0m \u001b[0;32mif\u001b[0m \u001b[0mline_kws\u001b[0m \u001b[0;32mis\u001b[0m \u001b[0;32mNone\u001b[0m \u001b[0;32melse\u001b[0m \u001b[0mcopy\u001b[0m\u001b[0;34m.\u001b[0m\u001b[0mcopy\u001b[0m\u001b[0;34m(\u001b[0m\u001b[0mline_kws\u001b[0m\u001b[0;34m)\u001b[0m\u001b[0;34m\u001b[0m\u001b[0;34m\u001b[0m\u001b[0m\n\u001b[0;32m--> 835\u001b[0;31m     \u001b[0mplotter\u001b[0m\u001b[0;34m.\u001b[0m\u001b[0mplot\u001b[0m\u001b[0;34m(\u001b[0m\u001b[0max\u001b[0m\u001b[0;34m,\u001b[0m \u001b[0mscatter_kws\u001b[0m\u001b[0;34m,\u001b[0m \u001b[0mline_kws\u001b[0m\u001b[0;34m)\u001b[0m\u001b[0;34m\u001b[0m\u001b[0;34m\u001b[0m\u001b[0m\n\u001b[0m\u001b[1;32m    836\u001b[0m     \u001b[0;32mreturn\u001b[0m \u001b[0max\u001b[0m\u001b[0;34m\u001b[0m\u001b[0;34m\u001b[0m\u001b[0m\n\u001b[1;32m    837\u001b[0m \u001b[0;34m\u001b[0m\u001b[0m\n",
      "\u001b[0;32m/usr/local/lib/python3.7/site-packages/seaborn/regression.py\u001b[0m in \u001b[0;36mplot\u001b[0;34m(self, ax, scatter_kws, line_kws)\u001b[0m\n\u001b[1;32m    368\u001b[0m \u001b[0;34m\u001b[0m\u001b[0m\n\u001b[1;32m    369\u001b[0m         \u001b[0;32mif\u001b[0m \u001b[0mself\u001b[0m\u001b[0;34m.\u001b[0m\u001b[0mfit_reg\u001b[0m\u001b[0;34m:\u001b[0m\u001b[0;34m\u001b[0m\u001b[0;34m\u001b[0m\u001b[0m\n\u001b[0;32m--> 370\u001b[0;31m             \u001b[0mself\u001b[0m\u001b[0;34m.\u001b[0m\u001b[0mlineplot\u001b[0m\u001b[0;34m(\u001b[0m\u001b[0max\u001b[0m\u001b[0;34m,\u001b[0m \u001b[0mline_kws\u001b[0m\u001b[0;34m)\u001b[0m\u001b[0;34m\u001b[0m\u001b[0;34m\u001b[0m\u001b[0m\n\u001b[0m\u001b[1;32m    371\u001b[0m \u001b[0;34m\u001b[0m\u001b[0m\n\u001b[1;32m    372\u001b[0m         \u001b[0;31m# Label the axes\u001b[0m\u001b[0;34m\u001b[0m\u001b[0;34m\u001b[0m\u001b[0;34m\u001b[0m\u001b[0m\n",
      "\u001b[0;32m/usr/local/lib/python3.7/site-packages/seaborn/regression.py\u001b[0m in \u001b[0;36mlineplot\u001b[0;34m(self, ax, kws)\u001b[0m\n\u001b[1;32m    411\u001b[0m         \u001b[0;34m\"\"\"Draw the model.\"\"\"\u001b[0m\u001b[0;34m\u001b[0m\u001b[0;34m\u001b[0m\u001b[0m\n\u001b[1;32m    412\u001b[0m         \u001b[0;31m# Fit the regression model\u001b[0m\u001b[0;34m\u001b[0m\u001b[0;34m\u001b[0m\u001b[0;34m\u001b[0m\u001b[0m\n\u001b[0;32m--> 413\u001b[0;31m         \u001b[0mgrid\u001b[0m\u001b[0;34m,\u001b[0m \u001b[0myhat\u001b[0m\u001b[0;34m,\u001b[0m \u001b[0merr_bands\u001b[0m \u001b[0;34m=\u001b[0m \u001b[0mself\u001b[0m\u001b[0;34m.\u001b[0m\u001b[0mfit_regression\u001b[0m\u001b[0;34m(\u001b[0m\u001b[0max\u001b[0m\u001b[0;34m)\u001b[0m\u001b[0;34m\u001b[0m\u001b[0;34m\u001b[0m\u001b[0m\n\u001b[0m\u001b[1;32m    414\u001b[0m         \u001b[0medges\u001b[0m \u001b[0;34m=\u001b[0m \u001b[0mgrid\u001b[0m\u001b[0;34m[\u001b[0m\u001b[0;36m0\u001b[0m\u001b[0;34m]\u001b[0m\u001b[0;34m,\u001b[0m \u001b[0mgrid\u001b[0m\u001b[0;34m[\u001b[0m\u001b[0;34m-\u001b[0m\u001b[0;36m1\u001b[0m\u001b[0;34m]\u001b[0m\u001b[0;34m\u001b[0m\u001b[0;34m\u001b[0m\u001b[0m\n\u001b[1;32m    415\u001b[0m \u001b[0;34m\u001b[0m\u001b[0m\n",
      "\u001b[0;32m/usr/local/lib/python3.7/site-packages/seaborn/regression.py\u001b[0m in \u001b[0;36mfit_regression\u001b[0;34m(self, ax, x_range, grid)\u001b[0m\n\u001b[1;32m    219\u001b[0m             \u001b[0myhat\u001b[0m\u001b[0;34m,\u001b[0m \u001b[0myhat_boots\u001b[0m \u001b[0;34m=\u001b[0m \u001b[0mself\u001b[0m\u001b[0;34m.\u001b[0m\u001b[0mfit_logx\u001b[0m\u001b[0;34m(\u001b[0m\u001b[0mgrid\u001b[0m\u001b[0;34m)\u001b[0m\u001b[0;34m\u001b[0m\u001b[0;34m\u001b[0m\u001b[0m\n\u001b[1;32m    220\u001b[0m         \u001b[0;32melse\u001b[0m\u001b[0;34m:\u001b[0m\u001b[0;34m\u001b[0m\u001b[0;34m\u001b[0m\u001b[0m\n\u001b[0;32m--> 221\u001b[0;31m             \u001b[0myhat\u001b[0m\u001b[0;34m,\u001b[0m \u001b[0myhat_boots\u001b[0m \u001b[0;34m=\u001b[0m \u001b[0mself\u001b[0m\u001b[0;34m.\u001b[0m\u001b[0mfit_fast\u001b[0m\u001b[0;34m(\u001b[0m\u001b[0mgrid\u001b[0m\u001b[0;34m)\u001b[0m\u001b[0;34m\u001b[0m\u001b[0;34m\u001b[0m\u001b[0m\n\u001b[0m\u001b[1;32m    222\u001b[0m \u001b[0;34m\u001b[0m\u001b[0m\n\u001b[1;32m    223\u001b[0m         \u001b[0;31m# Compute the confidence interval at each grid point\u001b[0m\u001b[0;34m\u001b[0m\u001b[0;34m\u001b[0m\u001b[0;34m\u001b[0m\u001b[0m\n",
      "\u001b[0;32m/usr/local/lib/python3.7/site-packages/seaborn/regression.py\u001b[0m in \u001b[0;36mfit_fast\u001b[0;34m(self, grid)\u001b[0m\n\u001b[1;32m    244\u001b[0m                                     \u001b[0mn_boot\u001b[0m\u001b[0;34m=\u001b[0m\u001b[0mself\u001b[0m\u001b[0;34m.\u001b[0m\u001b[0mn_boot\u001b[0m\u001b[0;34m,\u001b[0m\u001b[0;34m\u001b[0m\u001b[0;34m\u001b[0m\u001b[0m\n\u001b[1;32m    245\u001b[0m                                     \u001b[0munits\u001b[0m\u001b[0;34m=\u001b[0m\u001b[0mself\u001b[0m\u001b[0;34m.\u001b[0m\u001b[0munits\u001b[0m\u001b[0;34m,\u001b[0m\u001b[0;34m\u001b[0m\u001b[0;34m\u001b[0m\u001b[0m\n\u001b[0;32m--> 246\u001b[0;31m                                     seed=self.seed).T\n\u001b[0m\u001b[1;32m    247\u001b[0m         \u001b[0myhat_boots\u001b[0m \u001b[0;34m=\u001b[0m \u001b[0mgrid\u001b[0m\u001b[0;34m.\u001b[0m\u001b[0mdot\u001b[0m\u001b[0;34m(\u001b[0m\u001b[0mbeta_boots\u001b[0m\u001b[0;34m)\u001b[0m\u001b[0;34m.\u001b[0m\u001b[0mT\u001b[0m\u001b[0;34m\u001b[0m\u001b[0;34m\u001b[0m\u001b[0m\n\u001b[1;32m    248\u001b[0m         \u001b[0;32mreturn\u001b[0m \u001b[0myhat\u001b[0m\u001b[0;34m,\u001b[0m \u001b[0myhat_boots\u001b[0m\u001b[0;34m\u001b[0m\u001b[0;34m\u001b[0m\u001b[0m\n",
      "\u001b[0;32m/usr/local/lib/python3.7/site-packages/seaborn/algorithms.py\u001b[0m in \u001b[0;36mbootstrap\u001b[0;34m(*args, **kwargs)\u001b[0m\n\u001b[1;32m     83\u001b[0m         \u001b[0mresampler\u001b[0m \u001b[0;34m=\u001b[0m \u001b[0mintegers\u001b[0m\u001b[0;34m(\u001b[0m\u001b[0;36m0\u001b[0m\u001b[0;34m,\u001b[0m \u001b[0mn\u001b[0m\u001b[0;34m,\u001b[0m \u001b[0mn\u001b[0m\u001b[0;34m,\u001b[0m \u001b[0mdtype\u001b[0m\u001b[0;34m=\u001b[0m\u001b[0mnp\u001b[0m\u001b[0;34m.\u001b[0m\u001b[0mintp\u001b[0m\u001b[0;34m)\u001b[0m  \u001b[0;31m# intp is indexing dtype\u001b[0m\u001b[0;34m\u001b[0m\u001b[0;34m\u001b[0m\u001b[0m\n\u001b[1;32m     84\u001b[0m         \u001b[0msample\u001b[0m \u001b[0;34m=\u001b[0m \u001b[0;34m[\u001b[0m\u001b[0ma\u001b[0m\u001b[0;34m.\u001b[0m\u001b[0mtake\u001b[0m\u001b[0;34m(\u001b[0m\u001b[0mresampler\u001b[0m\u001b[0;34m,\u001b[0m \u001b[0maxis\u001b[0m\u001b[0;34m=\u001b[0m\u001b[0;36m0\u001b[0m\u001b[0;34m)\u001b[0m \u001b[0;32mfor\u001b[0m \u001b[0ma\u001b[0m \u001b[0;32min\u001b[0m \u001b[0margs\u001b[0m\u001b[0;34m]\u001b[0m\u001b[0;34m\u001b[0m\u001b[0;34m\u001b[0m\u001b[0m\n\u001b[0;32m---> 85\u001b[0;31m         \u001b[0mboot_dist\u001b[0m\u001b[0;34m.\u001b[0m\u001b[0mappend\u001b[0m\u001b[0;34m(\u001b[0m\u001b[0mf\u001b[0m\u001b[0;34m(\u001b[0m\u001b[0;34m*\u001b[0m\u001b[0msample\u001b[0m\u001b[0;34m,\u001b[0m \u001b[0;34m**\u001b[0m\u001b[0mfunc_kwargs\u001b[0m\u001b[0;34m)\u001b[0m\u001b[0;34m)\u001b[0m\u001b[0;34m\u001b[0m\u001b[0;34m\u001b[0m\u001b[0m\n\u001b[0m\u001b[1;32m     86\u001b[0m     \u001b[0;32mreturn\u001b[0m \u001b[0mnp\u001b[0m\u001b[0;34m.\u001b[0m\u001b[0marray\u001b[0m\u001b[0;34m(\u001b[0m\u001b[0mboot_dist\u001b[0m\u001b[0;34m)\u001b[0m\u001b[0;34m\u001b[0m\u001b[0;34m\u001b[0m\u001b[0m\n\u001b[1;32m     87\u001b[0m \u001b[0;34m\u001b[0m\u001b[0m\n",
      "\u001b[0;32m/usr/local/lib/python3.7/site-packages/seaborn/regression.py\u001b[0m in \u001b[0;36mreg_func\u001b[0;34m(_x, _y)\u001b[0m\n\u001b[1;32m    232\u001b[0m         \u001b[0;34m\"\"\"Low-level regression and prediction using linear algebra.\"\"\"\u001b[0m\u001b[0;34m\u001b[0m\u001b[0;34m\u001b[0m\u001b[0m\n\u001b[1;32m    233\u001b[0m         \u001b[0;32mdef\u001b[0m \u001b[0mreg_func\u001b[0m\u001b[0;34m(\u001b[0m\u001b[0m_x\u001b[0m\u001b[0;34m,\u001b[0m \u001b[0m_y\u001b[0m\u001b[0;34m)\u001b[0m\u001b[0;34m:\u001b[0m\u001b[0;34m\u001b[0m\u001b[0;34m\u001b[0m\u001b[0m\n\u001b[0;32m--> 234\u001b[0;31m             \u001b[0;32mreturn\u001b[0m \u001b[0mnp\u001b[0m\u001b[0;34m.\u001b[0m\u001b[0mlinalg\u001b[0m\u001b[0;34m.\u001b[0m\u001b[0mpinv\u001b[0m\u001b[0;34m(\u001b[0m\u001b[0m_x\u001b[0m\u001b[0;34m)\u001b[0m\u001b[0;34m.\u001b[0m\u001b[0mdot\u001b[0m\u001b[0;34m(\u001b[0m\u001b[0m_y\u001b[0m\u001b[0;34m)\u001b[0m\u001b[0;34m\u001b[0m\u001b[0;34m\u001b[0m\u001b[0m\n\u001b[0m\u001b[1;32m    235\u001b[0m \u001b[0;34m\u001b[0m\u001b[0m\n\u001b[1;32m    236\u001b[0m         \u001b[0mX\u001b[0m\u001b[0;34m,\u001b[0m \u001b[0my\u001b[0m \u001b[0;34m=\u001b[0m \u001b[0mnp\u001b[0m\u001b[0;34m.\u001b[0m\u001b[0mc_\u001b[0m\u001b[0;34m[\u001b[0m\u001b[0mnp\u001b[0m\u001b[0;34m.\u001b[0m\u001b[0mones\u001b[0m\u001b[0;34m(\u001b[0m\u001b[0mlen\u001b[0m\u001b[0;34m(\u001b[0m\u001b[0mself\u001b[0m\u001b[0;34m.\u001b[0m\u001b[0mx\u001b[0m\u001b[0;34m)\u001b[0m\u001b[0;34m)\u001b[0m\u001b[0;34m,\u001b[0m \u001b[0mself\u001b[0m\u001b[0;34m.\u001b[0m\u001b[0mx\u001b[0m\u001b[0;34m]\u001b[0m\u001b[0;34m,\u001b[0m \u001b[0mself\u001b[0m\u001b[0;34m.\u001b[0m\u001b[0my\u001b[0m\u001b[0;34m\u001b[0m\u001b[0;34m\u001b[0m\u001b[0m\n",
      "\u001b[0;32m<__array_function__ internals>\u001b[0m in \u001b[0;36mpinv\u001b[0;34m(*args, **kwargs)\u001b[0m\n",
      "\u001b[0;32m/usr/local/lib/python3.7/site-packages/numpy/linalg/linalg.py\u001b[0m in \u001b[0;36mpinv\u001b[0;34m(a, rcond, hermitian)\u001b[0m\n\u001b[1;32m   2009\u001b[0m     \u001b[0ms\u001b[0m\u001b[0;34m[\u001b[0m\u001b[0;34m~\u001b[0m\u001b[0mlarge\u001b[0m\u001b[0;34m]\u001b[0m \u001b[0;34m=\u001b[0m \u001b[0;36m0\u001b[0m\u001b[0;34m\u001b[0m\u001b[0;34m\u001b[0m\u001b[0m\n\u001b[1;32m   2010\u001b[0m \u001b[0;34m\u001b[0m\u001b[0m\n\u001b[0;32m-> 2011\u001b[0;31m     \u001b[0mres\u001b[0m \u001b[0;34m=\u001b[0m \u001b[0mmatmul\u001b[0m\u001b[0;34m(\u001b[0m\u001b[0mtranspose\u001b[0m\u001b[0;34m(\u001b[0m\u001b[0mvt\u001b[0m\u001b[0;34m)\u001b[0m\u001b[0;34m,\u001b[0m \u001b[0mmultiply\u001b[0m\u001b[0;34m(\u001b[0m\u001b[0ms\u001b[0m\u001b[0;34m[\u001b[0m\u001b[0;34m...\u001b[0m\u001b[0;34m,\u001b[0m \u001b[0mnewaxis\u001b[0m\u001b[0;34m]\u001b[0m\u001b[0;34m,\u001b[0m \u001b[0mtranspose\u001b[0m\u001b[0;34m(\u001b[0m\u001b[0mu\u001b[0m\u001b[0;34m)\u001b[0m\u001b[0;34m)\u001b[0m\u001b[0;34m)\u001b[0m\u001b[0;34m\u001b[0m\u001b[0;34m\u001b[0m\u001b[0m\n\u001b[0m\u001b[1;32m   2012\u001b[0m     \u001b[0;32mreturn\u001b[0m \u001b[0mwrap\u001b[0m\u001b[0;34m(\u001b[0m\u001b[0mres\u001b[0m\u001b[0;34m)\u001b[0m\u001b[0;34m\u001b[0m\u001b[0;34m\u001b[0m\u001b[0m\n\u001b[1;32m   2013\u001b[0m \u001b[0;34m\u001b[0m\u001b[0m\n",
      "\u001b[0;31mKeyboardInterrupt\u001b[0m: "
     ]
    }
   ],
   "source": [
    "sns.regplot(new_new_df[\"post_cnt\"],new_new_df[\"feed_cnt\"])"
   ]
  },
  {
   "cell_type": "code",
   "execution_count": null,
   "id": "051351a2",
   "metadata": {},
   "outputs": [],
   "source": [
    "sns.regplot(new_new_df[\"post_cnt\"],new_new_df[\"feed_cnt_hot_100\"])"
   ]
  },
  {
   "cell_type": "code",
   "execution_count": 29,
   "id": "3927f34f",
   "metadata": {},
   "outputs": [
    {
     "data": {
      "text/plain": [
       "<AxesSubplot:xlabel='post_cnt', ylabel='feed_cnt_hot_5k'>"
      ]
     },
     "execution_count": 29,
     "metadata": {},
     "output_type": "execute_result"
    },
    {
     "data": {
      "image/png": "[encoded data removed]",
      "text/plain": [
       "<Figure size 432x288 with 1 Axes>"
      ]
     },
     "metadata": {
      "needs_background": "light"
     },
     "output_type": "display_data"
    }
   ],
   "source": [
    "sns.regplot(new_new_df[\"post_cnt\"],new_new_df[\"feed_cnt_hot_5k\"])"
   ]
  },
  {
   "cell_type": "code",
   "execution_count": 30,
   "id": "ea8e2d38",
   "metadata": {},
   "outputs": [
    {
     "data": {
      "text/plain": [
       "<AxesSubplot:xlabel='feed_cnt', ylabel='feed_cnt_hot_100'>"
      ]
     },
     "execution_count": 30,
     "metadata": {},
     "output_type": "execute_result"
    },
    {
     "data": {
      "image/png": "[encoded data removed]",
      "text/plain": [
       "<Figure size 432x288 with 1 Axes>"
      ]
     },
     "metadata": {
      "needs_background": "light"
     },
     "output_type": "display_data"
    }
   ],
   "source": [
    "sns.regplot(new_new_df[\"feed_cnt\"],new_new_df[\"feed_cnt_hot_100\"])"
   ]
  },
  {
   "cell_type": "code",
   "execution_count": 31,
   "id": "60b41bfd",
   "metadata": {},
   "outputs": [
    {
     "data": {
      "text/plain": [
       "<AxesSubplot:xlabel='feed_cnt', ylabel='feed_cnt_hot_5k'>"
      ]
     },
     "execution_count": 31,
     "metadata": {},
     "output_type": "execute_result"
    },
    {
     "data": {
      "image/png": "[encoded data removed]",
      "text/plain": [
       "<Figure size 432x288 with 1 Axes>"
      ]
     },
     "metadata": {
      "needs_background": "light"
     },
     "output_type": "display_data"
    }
   ],
   "source": [
    "sns.regplot(new_new_df[\"feed_cnt\"],new_new_df[\"feed_cnt_hot_5k\"])"
   ]
  },
  {
   "cell_type": "code",
   "execution_count": 32,
   "id": "3eb97230",
   "metadata": {},
   "outputs": [
    {
     "data": {
      "text/plain": [
       "<AxesSubplot:xlabel='feed_cnt_hot_100', ylabel='feed_cnt_hot_5k'>"
      ]
     },
     "execution_count": 32,
     "metadata": {},
     "output_type": "execute_result"
    },
    {
     "data": {
      "image/png": "[encoded data removed]",
      "text/plain": [
       "<Figure size 432x288 with 1 Axes>"
      ]
     },
     "metadata": {
      "needs_background": "light"
     },
     "output_type": "display_data"
    }
   ],
   "source": [
    "sns.regplot(new_new_df[\"feed_cnt_hot_100\"],new_new_df[\"feed_cnt_hot_5k\"])"
   ]
  },
  {
   "cell_type": "code",
   "execution_count": null,
   "id": "c514b4aa",
   "metadata": {},
   "outputs": [],
   "source": [
    "# (2)Categorical/Numerical\n",
    "# categorical = 看下日期和分组，分别的对不同nmuerical的影响\n",
    "# # statistics--计算下ATE和p值\n",
    "# 按照日期(一共有三天)\n",
    "np.round(new_new_df.groupby(new_new_df[\"ds\"]).mean(),3)"
   ]
  },
  {
   "cell_type": "code",
   "execution_count": 35,
   "id": "4e6186e4",
   "metadata": {},
   "outputs": [
    {
     "data": {
      "text/html": [
       "<div>\n",
       "<style scoped>\n",
       "    .dataframe tbody tr th:only-of-type {\n",
       "        vertical-align: middle;\n",
       "    }\n",
       "\n",
       "    .dataframe tbody tr th {\n",
       "        vertical-align: top;\n",
       "    }\n",
       "\n",
       "    .dataframe thead th {\n",
       "        text-align: right;\n",
       "    }\n",
       "</style>\n",
       "<table border=\"1\" class=\"dataframe\">\n",
       "  <thead>\n",
       "    <tr style=\"text-align: right;\">\n",
       "      <th></th>\n",
       "      <th>first_hit_ds</th>\n",
       "      <th>feed_cnt_hot_100</th>\n",
       "      <th>feed_cnt_hot_5k</th>\n",
       "      <th>feed_cnt</th>\n",
       "      <th>post_cnt</th>\n",
       "      <th>in_experiment</th>\n",
       "    </tr>\n",
       "    <tr>\n",
       "      <th>groupid</th>\n",
       "      <th></th>\n",
       "      <th></th>\n",
       "      <th></th>\n",
       "      <th></th>\n",
       "      <th></th>\n",
       "      <th></th>\n",
       "    </tr>\n",
       "  </thead>\n",
       "  <tbody>\n",
       "    <tr>\n",
       "      <th>308998</th>\n",
       "      <td>2.022071e+07</td>\n",
       "      <td>0.064</td>\n",
       "      <td>0.003</td>\n",
       "      <td>0.113</td>\n",
       "      <td>0.120</td>\n",
       "      <td>1.0</td>\n",
       "    </tr>\n",
       "    <tr>\n",
       "      <th>308999</th>\n",
       "      <td>2.022071e+07</td>\n",
       "      <td>0.067</td>\n",
       "      <td>0.002</td>\n",
       "      <td>0.113</td>\n",
       "      <td>0.118</td>\n",
       "      <td>1.0</td>\n",
       "    </tr>\n",
       "  </tbody>\n",
       "</table>\n",
       "</div>"
      ],
      "text/plain": [
       "         first_hit_ds  feed_cnt_hot_100  feed_cnt_hot_5k  feed_cnt  post_cnt  \\\n",
       "groupid                                                                        \n",
       "308998   2.022071e+07             0.064            0.003     0.113     0.120   \n",
       "308999   2.022071e+07             0.067            0.002     0.113     0.118   \n",
       "\n",
       "         in_experiment  \n",
       "groupid                 \n",
       "308998             1.0  \n",
       "308999             1.0  "
      ]
     },
     "execution_count": 35,
     "metadata": {},
     "output_type": "execute_result"
    }
   ],
   "source": [
    "# 按照分组\n",
    "np.round(new_new_df.groupby(new_new_df[\"groupid\"]).mean(),3)"
   ]
  },
  {
   "cell_type": "code",
   "execution_count": 36,
   "id": "f9cc0ff2",
   "metadata": {},
   "outputs": [
    {
     "data": {
      "text/html": [
       "<div>\n",
       "<style scoped>\n",
       "    .dataframe tbody tr th:only-of-type {\n",
       "        vertical-align: middle;\n",
       "    }\n",
       "\n",
       "    .dataframe tbody tr th {\n",
       "        vertical-align: top;\n",
       "    }\n",
       "\n",
       "    .dataframe thead th {\n",
       "        text-align: right;\n",
       "    }\n",
       "</style>\n",
       "<table border=\"1\" class=\"dataframe\">\n",
       "  <thead>\n",
       "    <tr style=\"text-align: right;\">\n",
       "      <th></th>\n",
       "      <th></th>\n",
       "      <th>first_hit_ds</th>\n",
       "      <th>feed_cnt_hot_100</th>\n",
       "      <th>feed_cnt_hot_5k</th>\n",
       "      <th>feed_cnt</th>\n",
       "      <th>post_cnt</th>\n",
       "      <th>in_experiment</th>\n",
       "    </tr>\n",
       "    <tr>\n",
       "      <th>groupid</th>\n",
       "      <th>ds</th>\n",
       "      <th></th>\n",
       "      <th></th>\n",
       "      <th></th>\n",
       "      <th></th>\n",
       "      <th></th>\n",
       "      <th></th>\n",
       "    </tr>\n",
       "  </thead>\n",
       "  <tbody>\n",
       "    <tr>\n",
       "      <th rowspan=\"2\" valign=\"top\">308998</th>\n",
       "      <th>20220717</th>\n",
       "      <td>2.022071e+07</td>\n",
       "      <td>0.065350</td>\n",
       "      <td>0.002720</td>\n",
       "      <td>0.115875</td>\n",
       "      <td>0.121641</td>\n",
       "      <td>1.0</td>\n",
       "    </tr>\n",
       "    <tr>\n",
       "      <th>20220718</th>\n",
       "      <td>2.022071e+07</td>\n",
       "      <td>0.063271</td>\n",
       "      <td>0.002699</td>\n",
       "      <td>0.110596</td>\n",
       "      <td>0.118284</td>\n",
       "      <td>1.0</td>\n",
       "    </tr>\n",
       "    <tr>\n",
       "      <th rowspan=\"2\" valign=\"top\">308999</th>\n",
       "      <th>20220717</th>\n",
       "      <td>2.022071e+07</td>\n",
       "      <td>0.067687</td>\n",
       "      <td>0.002345</td>\n",
       "      <td>0.118163</td>\n",
       "      <td>0.125159</td>\n",
       "      <td>1.0</td>\n",
       "    </tr>\n",
       "    <tr>\n",
       "      <th>20220718</th>\n",
       "      <td>2.022071e+07</td>\n",
       "      <td>0.065611</td>\n",
       "      <td>0.002208</td>\n",
       "      <td>0.108836</td>\n",
       "      <td>0.111913</td>\n",
       "      <td>1.0</td>\n",
       "    </tr>\n",
       "  </tbody>\n",
       "</table>\n",
       "</div>"
      ],
      "text/plain": [
       "                  first_hit_ds  feed_cnt_hot_100  feed_cnt_hot_5k  feed_cnt  \\\n",
       "groupid ds                                                                    \n",
       "308998  20220717  2.022071e+07          0.065350         0.002720  0.115875   \n",
       "        20220718  2.022071e+07          0.063271         0.002699  0.110596   \n",
       "308999  20220717  2.022071e+07          0.067687         0.002345  0.118163   \n",
       "        20220718  2.022071e+07          0.065611         0.002208  0.108836   \n",
       "\n",
       "                  post_cnt  in_experiment  \n",
       "groupid ds                                 \n",
       "308998  20220717  0.121641            1.0  \n",
       "        20220718  0.118284            1.0  \n",
       "308999  20220717  0.125159            1.0  \n",
       "        20220718  0.111913            1.0  "
      ]
     },
     "execution_count": 36,
     "metadata": {},
     "output_type": "execute_result"
    }
   ],
   "source": [
    "# 按照分组\n",
    "new_new_df.groupby([new_new_df[\"groupid\"],new_new_df[\"ds\"]]).mean()"
   ]
  },
  {
   "cell_type": "code",
   "execution_count": 38,
   "id": "72565d8a",
   "metadata": {},
   "outputs": [],
   "source": [
    "# 按照分组\n",
    "treatment_effect= np.round(new_new_df.groupby([new_new_df[\"groupid\"],new_new_df[\"ds\"]]).mean(),3)\n",
    "treatment_effect.to_excel(\"f_treatment_effect.xls\")"
   ]
  },
  {
   "cell_type": "code",
   "execution_count": 39,
   "id": "2709c86c",
   "metadata": {},
   "outputs": [
    {
     "data": {
      "text/html": [
       "<div>\n",
       "<style scoped>\n",
       "    .dataframe tbody tr th:only-of-type {\n",
       "        vertical-align: middle;\n",
       "    }\n",
       "\n",
       "    .dataframe tbody tr th {\n",
       "        vertical-align: top;\n",
       "    }\n",
       "\n",
       "    .dataframe thead th {\n",
       "        text-align: right;\n",
       "    }\n",
       "</style>\n",
       "<table border=\"1\" class=\"dataframe\">\n",
       "  <thead>\n",
       "    <tr style=\"text-align: right;\">\n",
       "      <th></th>\n",
       "      <th></th>\n",
       "      <th>first_hit_ds</th>\n",
       "      <th>feed_cnt_hot_100</th>\n",
       "      <th>feed_cnt_hot_5k</th>\n",
       "      <th>feed_cnt</th>\n",
       "      <th>post_cnt</th>\n",
       "      <th>in_experiment</th>\n",
       "    </tr>\n",
       "    <tr>\n",
       "      <th>groupid</th>\n",
       "      <th>ds</th>\n",
       "      <th></th>\n",
       "      <th></th>\n",
       "      <th></th>\n",
       "      <th></th>\n",
       "      <th></th>\n",
       "      <th></th>\n",
       "    </tr>\n",
       "  </thead>\n",
       "  <tbody>\n",
       "    <tr>\n",
       "      <th rowspan=\"2\" valign=\"top\">308998</th>\n",
       "      <th>20220717</th>\n",
       "      <td>2.022071e+07</td>\n",
       "      <td>0.065</td>\n",
       "      <td>0.003</td>\n",
       "      <td>0.116</td>\n",
       "      <td>0.122</td>\n",
       "      <td>1.0</td>\n",
       "    </tr>\n",
       "    <tr>\n",
       "      <th>20220718</th>\n",
       "      <td>2.022071e+07</td>\n",
       "      <td>0.063</td>\n",
       "      <td>0.003</td>\n",
       "      <td>0.111</td>\n",
       "      <td>0.118</td>\n",
       "      <td>1.0</td>\n",
       "    </tr>\n",
       "    <tr>\n",
       "      <th rowspan=\"2\" valign=\"top\">308999</th>\n",
       "      <th>20220717</th>\n",
       "      <td>2.022071e+07</td>\n",
       "      <td>0.068</td>\n",
       "      <td>0.002</td>\n",
       "      <td>0.118</td>\n",
       "      <td>0.125</td>\n",
       "      <td>1.0</td>\n",
       "    </tr>\n",
       "    <tr>\n",
       "      <th>20220718</th>\n",
       "      <td>2.022071e+07</td>\n",
       "      <td>0.066</td>\n",
       "      <td>0.002</td>\n",
       "      <td>0.109</td>\n",
       "      <td>0.112</td>\n",
       "      <td>1.0</td>\n",
       "    </tr>\n",
       "  </tbody>\n",
       "</table>\n",
       "</div>"
      ],
      "text/plain": [
       "                  first_hit_ds  feed_cnt_hot_100  feed_cnt_hot_5k  feed_cnt  \\\n",
       "groupid ds                                                                    \n",
       "308998  20220717  2.022071e+07             0.065            0.003     0.116   \n",
       "        20220718  2.022071e+07             0.063            0.003     0.111   \n",
       "308999  20220717  2.022071e+07             0.068            0.002     0.118   \n",
       "        20220718  2.022071e+07             0.066            0.002     0.109   \n",
       "\n",
       "                  post_cnt  in_experiment  \n",
       "groupid ds                                 \n",
       "308998  20220717     0.122            1.0  \n",
       "        20220718     0.118            1.0  \n",
       "308999  20220717     0.125            1.0  \n",
       "        20220718     0.112            1.0  "
      ]
     },
     "execution_count": 39,
     "metadata": {},
     "output_type": "execute_result"
    }
   ],
   "source": [
    "treatment_effect"
   ]
  },
  {
   "cell_type": "code",
   "execution_count": 40,
   "id": "d423bb63",
   "metadata": {},
   "outputs": [
    {
     "name": "stdout",
     "output_type": "stream",
     "text": [
      "feed_cnt_hot_100 0.004426542598258365\n",
      "feed_cnt_hot_5k 0.029931200989982587\n",
      "feed_cnt 0.8873502540608968\n",
      "post_cnt 0.6023431254228278\n"
     ]
    }
   ],
   "source": [
    "# 计算P值\n",
    "for col in numerical_col:\n",
    "    content_c=(new_new_df.where(new_new_df.groupid==308998)[col].dropna()).tolist()\n",
    "    count_c=[1 for _ in range(len(content_c))]\n",
    "    content_t2=(new_new_df.where(new_new_df.groupid==308999)[col].dropna()).tolist()\n",
    "    count_t2=[1 for _ in range(len(content_t2))]\n",
    "    M_c=Metric(content_c,count_c)\n",
    "    M_t=Metric(content_t2,count_t2)\n",
    "    p= Ttest(M_c,M_t).pvalue()\n",
    "    print(col,p)"
   ]
  },
  {
   "cell_type": "code",
   "execution_count": 51,
   "id": "9c78b0c9",
   "metadata": {},
   "outputs": [
    {
     "data": {
      "text/plain": [
       "<AxesSubplot:xlabel='groupid', ylabel='feed_cnt'>"
      ]
     },
     "execution_count": 51,
     "metadata": {},
     "output_type": "execute_result"
    },
    {
     "data": {
      "image/png": "[encoded data removed]",
      "text/plain": [
       "<Figure size 432x288 with 1 Axes>"
      ]
     },
     "metadata": {
      "needs_background": "light"
     },
     "output_type": "display_data"
    }
   ],
   "source": [
    "# # Visualization --箱线图\n",
    "sns.boxplot(x=new_new_df[\"groupid\"],y=new_new_df[\"feed_cnt\"])"
   ]
  },
  {
   "cell_type": "code",
   "execution_count": 52,
   "id": "d16181ef",
   "metadata": {},
   "outputs": [
    {
     "data": {
      "text/plain": [
       "<AxesSubplot:xlabel='groupid', ylabel='post_cnt'>"
      ]
     },
     "execution_count": 52,
     "metadata": {},
     "output_type": "execute_result"
    },
    {
     "data": {
      "image/png": "[encoded data removed]",
      "text/plain": [
       "<Figure size 432x288 with 1 Axes>"
      ]
     },
     "metadata": {
      "needs_background": "light"
     },
     "output_type": "display_data"
    }
   ],
   "source": [
    "sns.boxplot(x=new_new_df[\"groupid\"],y=new_new_df[\"post_cnt\"])"
   ]
  },
  {
   "cell_type": "code",
   "execution_count": 55,
   "id": "1594fbad",
   "metadata": {},
   "outputs": [
    {
     "data": {
      "text/plain": [
       "<AxesSubplot:xlabel='groupid', ylabel='feed_cnt_hot_100'>"
      ]
     },
     "execution_count": 55,
     "metadata": {},
     "output_type": "execute_result"
    },
    {
     "data": {
      "image/png": "[encoded data removed]",
      "text/plain": [
       "<Figure size 432x288 with 1 Axes>"
      ]
     },
     "metadata": {
      "needs_background": "light"
     },
     "output_type": "display_data"
    }
   ],
   "source": [
    "sns.boxplot(x=new_new_df[\"groupid\"],y=new_new_df[\"feed_cnt_hot_100\"])"
   ]
  },
  {
   "cell_type": "code",
   "execution_count": 56,
   "id": "fb655909",
   "metadata": {},
   "outputs": [
    {
     "data": {
      "text/plain": [
       "<AxesSubplot:xlabel='groupid', ylabel='feed_cnt_hot_5k'>"
      ]
     },
     "execution_count": 56,
     "metadata": {},
     "output_type": "execute_result"
    },
    {
     "data": {
      "image/png": "[encoded data removed]",
      "text/plain": [
       "<Figure size 432x288 with 1 Axes>"
      ]
     },
     "metadata": {
      "needs_background": "light"
     },
     "output_type": "display_data"
    }
   ],
   "source": [
    "sns.boxplot(x=new_new_df[\"groupid\"],y=new_new_df[\"feed_cnt_hot_5k\"])"
   ]
  },
  {
   "cell_type": "code",
   "execution_count": null,
   "id": "e0f16547",
   "metadata": {},
   "outputs": [],
   "source": []
  },
  {
   "cell_type": "code",
   "execution_count": null,
   "id": "5d67ff38",
   "metadata": {},
   "outputs": [],
   "source": []
  }
 ],
 "metadata": {
  "kernelspec": {
   "display_name": "Python 3.7",
   "language": "python",
   "name": "python3"
  },
  "language_info": {
   "codemirror_mode": {
    "name": "ipython",
    "version": 3
   },
   "file_extension": ".py",
   "mimetype": "text/x-python",
   "name": "python",
   "nbconvert_exporter": "python",
   "pygments_lexer": "ipython3",
   "version": "3.7.3"
  }
 },
 "nbformat": 4,
 "nbformat_minor": 5
}
