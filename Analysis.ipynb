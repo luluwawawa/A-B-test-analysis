{
 "cells": [
  {
   "cell_type": "code",
   "execution_count": 1,
   "id": "05c7dbd8",
   "metadata": {},
   "outputs": [],
   "source": [
    "#数据分析包\n",
    "import warnings\n",
    "warnings.filterwarnings('ignore')\n",
    "\n",
    "import pandas as pd\n",
    "import numpy as np\n",
    "from scipy import stats\n",
    "from matplotlib import style\n",
    "import seaborn as sns\n",
    "from matplotlib import pyplot as plt\n",
    "\n",
    "# sklearn 计算mse,r2,mape(y_true,y_predict)\n",
    "from sklearn.metrics import r2_score\n",
    "\n",
    "# linear regression\n",
    "# from sklearn.linear_model import LinearRegression\n",
    "import statsmodels.formula.api as smf\n",
    "\n",
    "# sklearn--lasso\n",
    "from sklearn.model_selection import train_test_split\n",
    "from sklearn.preprocessing import StandardScaler  # standardize the predictors\n",
    "from sklearn.linear_model import Lasso"
   ]
  },
  {
   "cell_type": "code",
   "execution_count": 2,
   "id": "3c5665c4",
   "metadata": {},
   "outputs": [],
   "source": [
    "# 1. 读取down sample数据\n",
    "new_df=pd.read_csv(\"sampled_df_x.csv\")"
   ]
  },
  {
   "cell_type": "markdown",
   "id": "eb8e6644",
   "metadata": {},
   "source": [
    "# 1. 模型前准备"
   ]
  },
  {
   "cell_type": "markdown",
   "id": "9278cac8",
   "metadata": {},
   "source": [
    "### 创建变量"
   ]
  },
  {
   "cell_type": "code",
   "execution_count": 3,
   "id": "4b5b40a8",
   "metadata": {},
   "outputs": [],
   "source": [
    "# 创建变量rate_f1c1,...rate_f6c4\n",
    "new_df[\"rate_f1c1\"]= new_df[\"feedcnt_f1c1\"]* new_df[\"rate\"]\n",
    "new_df[\"rate_f1c2\"]= new_df[\"feedcnt_f1c2\"]* new_df[\"rate\"]\n",
    "new_df[\"rate_f1c3\"]= new_df[\"feedcnt_f1c3\"]* new_df[\"rate\"]\n",
    "new_df[\"rate_f1c4\"]= new_df[\"feedcnt_f1c4\"]* new_df[\"rate\"]\n",
    "new_df[\"rate_f2c1\"]= new_df[\"feedcnt_f2c1\"]* new_df[\"rate\"]\n",
    "new_df[\"rate_f2c2\"]= new_df[\"feedcnt_f2c2\"]* new_df[\"rate\"]\n",
    "new_df[\"rate_f2c3\"]= new_df[\"feedcnt_f2c3\"]* new_df[\"rate\"]\n",
    "new_df[\"rate_f2c4\"]= new_df[\"feedcnt_f2c4\"]* new_df[\"rate\"]\n",
    "new_df[\"rate_f3c1\"]= new_df[\"feedcnt_f3c1\"]* new_df[\"rate\"]\n",
    "new_df[\"rate_f3c2\"]= new_df[\"feedcnt_f3c2\"]* new_df[\"rate\"]\n",
    "new_df[\"rate_f3c3\"]= new_df[\"feedcnt_f3c3\"]* new_df[\"rate\"]\n",
    "new_df[\"rate_f3c4\"]= new_df[\"feedcnt_f3c4\"]* new_df[\"rate\"]\n",
    "new_df[\"rate_f4c1\"]= new_df[\"feedcnt_f4c1\"]* new_df[\"rate\"]\n",
    "new_df[\"rate_f4c2\"]= new_df[\"feedcnt_f4c2\"]* new_df[\"rate\"]\n",
    "new_df[\"rate_f4c3\"]= new_df[\"feedcnt_f4c3\"]* new_df[\"rate\"]\n",
    "new_df[\"rate_f4c4\"]= new_df[\"feedcnt_f4c4\"]* new_df[\"rate\"]\n",
    "new_df[\"rate_f5c1\"]= new_df[\"feedcnt_f5c1\"]* new_df[\"rate\"]\n",
    "new_df[\"rate_f5c2\"]= new_df[\"feedcnt_f5c2\"]* new_df[\"rate\"]\n",
    "new_df[\"rate_f5c3\"]= new_df[\"feedcnt_f5c3\"]* new_df[\"rate\"]\n",
    "new_df[\"rate_f5c4\"]= new_df[\"feedcnt_f5c4\"]* new_df[\"rate\"]\n",
    "new_df[\"rate_f6c1\"]= new_df[\"feedcnt_f6c1\"]* new_df[\"rate\"]\n",
    "new_df[\"rate_f6c2\"]= new_df[\"feedcnt_f6c2\"]* new_df[\"rate\"]\n",
    "new_df[\"rate_f6c3\"]= new_df[\"feedcnt_f6c3\"]* new_df[\"rate\"]\n",
    "new_df[\"rate_f6c4\"]= new_df[\"feedcnt_f6c4\"]* new_df[\"rate\"]\n",
    "# 创建变量 rate_f1,...rate_f6\n",
    "new_df[\"rate_f1\"]= (new_df[\"feedcnt_f1c1\"]+ new_df[\"feedcnt_f1c2\"]+new_df[\"feedcnt_f1c3\"]+new_df[\"feedcnt_f1c4\"])*new_df[\"rate\"]\n",
    "new_df[\"rate_f2\"]= (new_df[\"feedcnt_f2c1\"]+ new_df[\"feedcnt_f2c2\"]+new_df[\"feedcnt_f2c3\"]+new_df[\"feedcnt_f2c4\"])*new_df[\"rate\"]\n",
    "new_df[\"rate_f3\"]= (new_df[\"feedcnt_f3c1\"]+ new_df[\"feedcnt_f3c2\"]+new_df[\"feedcnt_f3c3\"]+new_df[\"feedcnt_f3c4\"])*new_df[\"rate\"]\n",
    "new_df[\"rate_f4\"]= (new_df[\"feedcnt_f4c1\"]+ new_df[\"feedcnt_f4c2\"]+new_df[\"feedcnt_f4c3\"]+new_df[\"feedcnt_f4c4\"])*new_df[\"rate\"]\n",
    "new_df[\"rate_f5\"]= (new_df[\"feedcnt_f5c1\"]+ new_df[\"feedcnt_f5c2\"]+new_df[\"feedcnt_f5c3\"]+new_df[\"feedcnt_f5c4\"])*new_df[\"rate\"]\n",
    "new_df[\"rate_f6\"]= (new_df[\"feedcnt_f6c1\"]+ new_df[\"feedcnt_f6c2\"]+new_df[\"feedcnt_f6c3\"]+new_df[\"feedcnt_f6c4\"])*new_df[\"rate\"]\n",
    "# 创建变量：rate_c1,c2,c3,rate_c4\n",
    "new_df[\"rate_c1\"]= (new_df[\"feedcnt_f1c1\"]+ new_df[\"feedcnt_f2c1\"]+new_df[\"feedcnt_f3c1\"]+new_df[\"feedcnt_f4c1\"]+ new_df[\"feedcnt_f5c1\"]+new_df[\"feedcnt_f6c1\"])*new_df[\"rate\"]\n",
    "new_df[\"rate_c2\"]= (new_df[\"feedcnt_f1c2\"]+ new_df[\"feedcnt_f2c2\"]+new_df[\"feedcnt_f3c2\"]+new_df[\"feedcnt_f4c2\"]+ new_df[\"feedcnt_f5c2\"]+new_df[\"feedcnt_f6c2\"])*new_df[\"rate\"]\n",
    "new_df[\"rate_c3\"]= (new_df[\"feedcnt_f1c3\"]+ new_df[\"feedcnt_f2c3\"]+new_df[\"feedcnt_f3c3\"]+new_df[\"feedcnt_f4c3\"]+ new_df[\"feedcnt_f5c3\"]+new_df[\"feedcnt_f6c3\"])*new_df[\"rate\"]\n",
    "new_df[\"rate_c4\"]= (new_df[\"feedcnt_f1c4\"]+ new_df[\"feedcnt_f2c4\"]+new_df[\"feedcnt_f3c4\"]+new_df[\"feedcnt_f4c4\"]+ new_df[\"feedcnt_f5c4\"]+new_df[\"feedcnt_f6c4\"])*new_df[\"rate\"]"
   ]
  },
  {
   "cell_type": "markdown",
   "id": "21e168db",
   "metadata": {},
   "source": [
    "### 划分train 和 test set"
   ]
  },
  {
   "cell_type": "code",
   "execution_count": 4,
   "id": "59275be9",
   "metadata": {},
   "outputs": [
    {
     "name": "stdout",
     "output_type": "stream",
     "text": [
      "train_df长度 3916378\n",
      "test_df长度 445618\n",
      "test_df_group1长度 54380\n",
      "test_df_group2长度 10878\n",
      "test_df_group3长度 271932\n"
     ]
    }
   ],
   "source": [
    "# 划分测试集和训练集\n",
    "train_df= new_df[(new_df[\"exptid\"]==8540098)| (new_df[\"exptid\"]==8998768) | (new_df[\"exptid\"]==9457529)]\n",
    "print(\"train_df长度\",len(train_df))\n",
    "test_df= new_df[new_df[\"exptid\"]==9916162]\n",
    "print(\"test_df长度\",len(test_df))\n",
    "\n",
    "# 拉新渠道实验： [10047362 10047359 10047363 10047361 10047360]\n",
    "# 拉新渠道，控制组：10047359,10047360\n",
    "# 拉新渠道，实验组：10047361,10047362,10047363\n",
    "test_df_group1= new_df[new_df[\"groupid\"]==10047361]\n",
    "print(\"test_df_group1长度\",len(test_df_group1))\n",
    "test_df_group2= new_df[new_df[\"groupid\"]==10047362]\n",
    "print(\"test_df_group2长度\",len(test_df_group2))\n",
    "test_df_group3= new_df[new_df[\"groupid\"]==10047363]\n",
    "print(\"test_df_group3长度\",len(test_df_group3))\n",
    "test_df_control=new_df[(new_df[\"groupid\"]==10047359)|(new_df[\"groupid\"]==10047360)]"
   ]
  },
  {
   "cell_type": "markdown",
   "id": "a8f35a73",
   "metadata": {},
   "source": [
    "# 2. benchmark"
   ]
  },
  {
   "cell_type": "markdown",
   "id": "4b00a7c9",
   "metadata": {},
   "source": [
    "### 查看真实ATE"
   ]
  },
  {
   "cell_type": "code",
   "execution_count": 21,
   "id": "de6b819b",
   "metadata": {},
   "outputs": [
    {
     "name": "stdout",
     "output_type": "stream",
     "text": [
      "group_1_ATE: -17.191892413705318\n",
      "group_2_ATE: -27.690852030446422\n",
      "group_3_ATE: -8.014282542280853\n"
     ]
    }
   ],
   "source": [
    "real_ATE=[]\n",
    "group_1_ATE= np.mean(test_df_group1[\"session_time\"])- np.mean(test_df_control[\"session_time\"])\n",
    "group_2_ATE= np.mean(test_df_group2[\"session_time\"])- np.mean(test_df_control[\"session_time\"])\n",
    "group_3_ATE= np.mean(test_df_group3[\"session_time\"])- np.mean(test_df_control[\"session_time\"])\n",
    "real_ATE.append(group_1_ATE)\n",
    "real_ATE.append(group_2_ATE)\n",
    "real_ATE.append(group_3_ATE)\n",
    "real_ATE.append(0)\n",
    "print(\"group_1_ATE:\",group_1_ATE)\n",
    "print(\"group_2_ATE:\",group_2_ATE)\n",
    "print(\"group_3_ATE:\",group_3_ATE)"
   ]
  },
  {
   "cell_type": "code",
   "execution_count": 22,
   "id": "1be7cf6e",
   "metadata": {},
   "outputs": [
    {
     "data": {
      "text/plain": [
       "[-17.191892413705318, -27.690852030446422, -8.014282542280853, 0]"
      ]
     },
     "execution_count": 22,
     "metadata": {},
     "output_type": "execute_result"
    }
   ],
   "source": [
    "real_ATE"
   ]
  },
  {
   "cell_type": "markdown",
   "id": "5a20b2e9",
   "metadata": {},
   "source": [
    "# 3. Regression Model"
   ]
  },
  {
   "cell_type": "markdown",
   "id": "ca7dcdd9",
   "metadata": {},
   "source": [
    "## Model_1：baseline model(不考虑control variable)-f1c1+...f6c4"
   ]
  },
  {
   "cell_type": "code",
   "execution_count": 6,
   "id": "0493f1aa",
   "metadata": {},
   "outputs": [
    {
     "name": "stdout",
     "output_type": "stream",
     "text": [
      "                            OLS Regression Results                            \n",
      "==============================================================================\n",
      "Dep. Variable:           session_time   R-squared:                       0.003\n",
      "Model:                            OLS   Adj. R-squared:                  0.003\n",
      "Method:                 Least Squares   F-statistic:                     683.5\n",
      "Date:                Wed, 05 Apr 2023   Prob (F-statistic):               0.00\n",
      "Time:                        22:39:47   Log-Likelihood:            -3.9732e+07\n",
      "No. Observations:             3916378   AIC:                         7.946e+07\n",
      "Df Residuals:                 3916362   BIC:                         7.946e+07\n",
      "Df Model:                          15                                         \n",
      "Covariance Type:            nonrobust                                         \n",
      "==============================================================================\n",
      "                 coef    std err          t      P>|t|      [0.025      0.975]\n",
      "------------------------------------------------------------------------------\n",
      "Intercept   2828.7594     10.891    259.729      0.000    2807.413    2850.106\n",
      "rate_f1c1   1.207e+12   8.86e+12      0.136      0.892   -1.62e+13    1.86e+13\n",
      "rate_f1c2  -7.699e+11   5.57e+12     -0.138      0.890   -1.17e+13    1.01e+13\n",
      "rate_f1c3  -5.866e+11    4.9e+12     -0.120      0.905   -1.02e+13    9.01e+12\n",
      "rate_f1c4     -2.8059     42.096     -0.067      0.947     -85.312      79.700\n",
      "rate_f2c1    6.65e+12   6.08e+13      0.109      0.913   -1.13e+14    1.26e+14\n",
      "rate_f2c2  -7.288e+12   6.56e+13     -0.111      0.912   -1.36e+14    1.21e+14\n",
      "rate_f2c3   9.956e+12   8.63e+13      0.115      0.908   -1.59e+14    1.79e+14\n",
      "rate_f2c4     46.0588     25.326      1.819      0.069      -3.579      95.697\n",
      "rate_f3c1   2.461e+13   2.07e+14      0.119      0.905   -3.81e+14    4.31e+14\n",
      "rate_f3c2  -1.989e+13   1.38e+14     -0.144      0.885    -2.9e+14     2.5e+14\n",
      "rate_f3c3   1.289e+12   2.32e+14      0.006      0.996   -4.53e+14    4.56e+14\n",
      "rate_f3c4     30.8097     15.950      1.932      0.053      -0.452      62.072\n",
      "rate_f4c1   2.613e+13   1.72e+14      0.152      0.879   -3.11e+14    3.64e+14\n",
      "rate_f4c2  -1.813e+13   1.57e+14     -0.115      0.908   -3.26e+14     2.9e+14\n",
      "rate_f4c3  -2.304e+13   3.38e+14     -0.068      0.946   -6.86e+14     6.4e+14\n",
      "rate_f4c4     40.0164     11.767      3.401      0.001      16.953      63.080\n",
      "rate_f5c1  -3.632e+13   2.42e+14     -0.150      0.881    -5.1e+14    4.37e+14\n",
      "rate_f5c2   9.472e+13   7.46e+14      0.127      0.899   -1.37e+15    1.56e+15\n",
      "rate_f5c3   2.817e+13   2.95e+14      0.096      0.924    -5.5e+14    6.06e+14\n",
      "rate_f5c4     43.5451     13.313      3.271      0.001      17.451      69.639\n",
      "rate_f6c1   6.596e+12   4.88e+13      0.135      0.893   -8.91e+13    1.02e+14\n",
      "rate_f6c2  -4.402e+12   3.54e+13     -0.124      0.901   -7.38e+13     6.5e+13\n",
      "rate_f6c3  -5.725e+13   4.23e+14     -0.135      0.892   -8.87e+14    7.72e+14\n",
      "rate_f6c4    -13.8801     46.780     -0.297      0.767    -105.568      77.808\n",
      "==============================================================================\n",
      "Omnibus:                  3501283.280   Durbin-Watson:                   1.976\n",
      "Prob(Omnibus):                  0.000   Jarque-Bera (JB):        676558297.770\n",
      "Skew:                           3.671   Prob(JB):                         0.00\n",
      "Kurtosis:                      66.970   Cond. No.                     5.78e+17\n",
      "==============================================================================\n",
      "\n",
      "Notes:\n",
      "[1] Standard Errors assume that the covariance matrix of the errors is correctly specified.\n",
      "[2] The smallest eigenvalue is 7.87e-29. This might indicate that there are\n",
      "strong multicollinearity problems or that the design matrix is singular.\n"
     ]
    }
   ],
   "source": [
    "import statsmodels.formula.api as smf\n",
    "\n",
    "#Model 1: 不加控制变量，24个组\n",
    "# 选择特征\n",
    "features = ['rate_f1c1', 'rate_f1c2', 'rate_f1c3', 'rate_f1c4','rate_f2c1', 'rate_f2c2', 'rate_f2c3', 'rate_f2c4','rate_f3c1', 'rate_f3c2', 'rate_f3c3', 'rate_f3c4','rate_f4c1', 'rate_f4c2', 'rate_f4c3', 'rate_f4c4','rate_f5c1', 'rate_f5c2', 'rate_f5c3', 'rate_f5c4','rate_f6c1', 'rate_f6c2', 'rate_f6c3', 'rate_f6c4']\n",
    "\n",
    "# 选择目标\n",
    "target = 'session_time'\n",
    "\n",
    "# 指定线性回归模型公式\n",
    "formula = \"session_time ~ rate_f1c1 + rate_f1c2 + rate_f1c3 + rate_f1c4 + rate_f2c1 + rate_f2c2+ rate_f2c3+ rate_f2c4 + rate_f3c1 + rate_f3c2 + rate_f3c3 + rate_f3c4 + rate_f4c1 + rate_f4c2 + rate_f4c3 + rate_f4c4 + rate_f5c1 + rate_f5c2 + rate_f5c3 + rate_f5c4 + rate_f6c1 + rate_f6c2 + rate_f6c3 + rate_f6c4\"\n",
    "\n",
    "# 在训练集上拟合线性回归模型\n",
    "model_1 = smf.ols(formula=formula, data=train_df).fit()\n",
    "\n",
    "# results\n",
    "print(model_1.summary())\n",
    "\n",
    "# 在测试集上进行预测\n",
    "model_1_y_hat_group1 = model_1.predict(test_df_group1[features])\n",
    "model_1_y_hat_group2 = model_1.predict(test_df_group2[features])\n",
    "model_1_y_hat_group3 = model_1.predict(test_df_group3[features])"
   ]
  },
  {
   "cell_type": "code",
   "execution_count": 10,
   "id": "4c7c1a13",
   "metadata": {},
   "outputs": [
    {
     "name": "stdout",
     "output_type": "stream",
     "text": [
      "model_1_R2: [0.002611103108020818, -1.8062387129834449e+19, -5.943619623159787e+16, -1.775652661237807e+17]\n",
      "model_1_ATE: [25623235541671.62, 1441633954337.3372, -2546230210711.502, 0]\n"
     ]
    }
   ],
   "source": [
    "# 个体level\n",
    "Model_1_R2=[]\n",
    "Model_1_R2.append(r2_score(train_df[target],model_1.predict(train_df[features])))\n",
    "Model_1_R2.append(r2_score(test_df_group1[target],model_1.predict(test_df_group1[features])))\n",
    "Model_1_R2.append(r2_score(test_df_group2[target],model_1.predict(test_df_group2[features])))\n",
    "Model_1_R2.append(r2_score(test_df_group3[target],model_1.predict(test_df_group3[features])))\n",
    "\n",
    "print(\"model_1_R2:\",Model_1_R2)\n",
    "\n",
    "model_1_ATE=[]\n",
    "model_1_group_1_ATE= np.mean(model_1_y_hat_group1)- np.mean(test_df_control[\"session_time\"])\n",
    "model_1_group_2_ATE= np.mean(model_1_y_hat_group2)- np.mean(test_df_control[\"session_time\"])\n",
    "model_1_group_3_ATE= np.mean(model_1_y_hat_group3)- np.mean(test_df_control[\"session_time\"])\n",
    "model_1_ATE.append(model_1_group_1_ATE)\n",
    "model_1_ATE.append(model_1_group_2_ATE)\n",
    "model_1_ATE.append(model_1_group_3_ATE)\n",
    "model_1_ATE.append(0)\n",
    "\n",
    "print(\"model_1_ATE:\",model_1_ATE)"
   ]
  },
  {
   "cell_type": "code",
   "execution_count": 11,
   "id": "691faa28",
   "metadata": {},
   "outputs": [],
   "source": [
    "Model_1_result=pd.DataFrame(dict(\n",
    "    Model_1_R2=Model_1_R2,\n",
    "    model_1_ATE=model_1_ATE\n",
    "))\n",
    "Model_1_result.to_csv(\"Model_1_result.csv\")"
   ]
  },
  {
   "cell_type": "markdown",
   "id": "9810b2b7",
   "metadata": {},
   "source": [
    "## Model_2: 加入控制变量: f1c1+....f6c4+ stay_time_s"
   ]
  },
  {
   "cell_type": "code",
   "execution_count": 12,
   "id": "39d855ee",
   "metadata": {},
   "outputs": [
    {
     "name": "stdout",
     "output_type": "stream",
     "text": [
      "                            OLS Regression Results                            \n",
      "==============================================================================\n",
      "Dep. Variable:           session_time   R-squared:                       0.084\n",
      "Model:                            OLS   Adj. R-squared:                  0.084\n",
      "Method:                 Least Squares   F-statistic:                 2.249e+04\n",
      "Date:                Wed, 05 Apr 2023   Prob (F-statistic):               0.00\n",
      "Time:                        23:00:41   Log-Likelihood:            -3.9565e+07\n",
      "No. Observations:             3916378   AIC:                         7.913e+07\n",
      "Df Residuals:                 3916361   BIC:                         7.913e+07\n",
      "Df Model:                          16                                         \n",
      "Covariance Type:            nonrobust                                         \n",
      "===============================================================================\n",
      "                  coef    std err          t      P>|t|      [0.025      0.975]\n",
      "-------------------------------------------------------------------------------\n",
      "Intercept    2389.8325     10.425    229.243      0.000    2369.400    2410.265\n",
      "stay_time_s     0.0074   1.26e-05    590.544      0.000       0.007       0.007\n",
      "rate_f1c1   -1.429e+04   5738.583     -2.490      0.013   -2.55e+04   -3041.012\n",
      "rate_f1c2   -2.095e+04   8016.511     -2.613      0.009   -3.67e+04   -5235.130\n",
      "rate_f1c3   -3469.0498   1344.260     -2.581      0.010   -6103.751    -834.349\n",
      "rate_f1c4      23.3362     40.251      0.580      0.562     -55.554     102.227\n",
      "rate_f2c1     -20.0144    541.474     -0.037      0.971   -1081.284    1041.255\n",
      "rate_f2c2   -5475.3881    557.851     -9.815      0.000   -6568.757   -4382.020\n",
      "rate_f2c3    3414.4342    253.044     13.493      0.000    2918.477    3910.392\n",
      "rate_f2c4      31.5956     24.110      1.310      0.190     -15.660      78.851\n",
      "rate_f3c1    2.309e+04    894.153     25.822      0.000    2.13e+04    2.48e+04\n",
      "rate_f3c2   -1.821e+04    644.663    -28.242      0.000   -1.95e+04   -1.69e+04\n",
      "rate_f3c3   -5943.6529    219.885    -27.031      0.000   -6374.619   -5512.687\n",
      "rate_f3c4      31.0929     15.239      2.040      0.041       1.224      60.962\n",
      "rate_f4c1   -1.483e+04    571.228    -25.959      0.000   -1.59e+04   -1.37e+04\n",
      "rate_f4c2    1.574e+04    617.703     25.474      0.000    1.45e+04    1.69e+04\n",
      "rate_f4c3   -2154.4806     90.841    -23.717      0.000   -2332.525   -1976.436\n",
      "rate_f4c4      45.1619     11.272      4.007      0.000      23.070      67.254\n",
      "rate_f5c1    1095.5066     72.862     15.035      0.000     952.699    1238.314\n",
      "rate_f5c2   -1.086e+04    390.993    -27.776      0.000   -1.16e+04   -1.01e+04\n",
      "rate_f5c3    5105.3758    196.620     25.966      0.000    4720.008    5490.744\n",
      "rate_f5c4      36.4433     12.757      2.857      0.004      11.439      61.447\n",
      "rate_f6c1     959.1701     45.065     21.284      0.000     870.844    1047.496\n",
      "rate_f6c2   -2602.9202     97.887    -26.591      0.000   -2794.776   -2411.065\n",
      "rate_f6c3   -9302.3618    351.115    -26.494      0.000   -9990.535   -8614.189\n",
      "rate_f6c4      22.2342     44.827      0.496      0.620     -65.625     110.094\n",
      "==============================================================================\n",
      "Omnibus:                  1995982.857   Durbin-Watson:                   1.993\n",
      "Prob(Omnibus):                  0.000   Jarque-Bera (JB):        713313320.248\n",
      "Skew:                           1.204   Prob(JB):                         0.00\n",
      "Kurtosis:                      69.072   Cond. No.                     1.03e+16\n",
      "==============================================================================\n",
      "\n",
      "Notes:\n",
      "[1] Standard Errors assume that the covariance matrix of the errors is correctly specified.\n",
      "[2] The smallest eigenvalue is 2.2e-15. This might indicate that there are\n",
      "strong multicollinearity problems or that the design matrix is singular.\n"
     ]
    }
   ],
   "source": [
    "import statsmodels.formula.api as smf\n",
    "\n",
    "#Model 2: 加控制变量，24个组\n",
    "# 选择特征\n",
    "features = ['stay_time_s','rate_f1c1', 'rate_f1c2', 'rate_f1c3', 'rate_f1c4','rate_f2c1', 'rate_f2c2', 'rate_f2c3', 'rate_f2c4','rate_f3c1', 'rate_f3c2', 'rate_f3c3', 'rate_f3c4','rate_f4c1', 'rate_f4c2', 'rate_f4c3', 'rate_f4c4','rate_f5c1', 'rate_f5c2', 'rate_f5c3', 'rate_f5c4','rate_f6c1', 'rate_f6c2', 'rate_f6c3', 'rate_f6c4']\n",
    "\n",
    "# 选择目标\n",
    "target = 'session_time'\n",
    "\n",
    "# 指定线性回归模型公式\n",
    "formula = \"session_time ~ stay_time_s + rate_f1c1 + rate_f1c2 + rate_f1c3 + rate_f1c4 + rate_f2c1 + rate_f2c2+ rate_f2c3+ rate_f2c4 + rate_f3c1 + rate_f3c2 + rate_f3c3 + rate_f3c4 + rate_f4c1 + rate_f4c2 + rate_f4c3 + rate_f4c4 + rate_f5c1 + rate_f5c2 + rate_f5c3 + rate_f5c4 + rate_f6c1 + rate_f6c2 + rate_f6c3 + rate_f6c4\"\n",
    "\n",
    "# 在训练集上拟合线性回归模型\n",
    "model_2 = smf.ols(formula=formula, data=train_df).fit()\n",
    "\n",
    "# results\n",
    "print(model_2.summary())\n",
    "\n",
    "# 在测试集上进行预测\n",
    "model_2_y_hat_group1 = model_2.predict(test_df_group1[features])\n",
    "model_2_y_hat_group2 = model_2.predict(test_df_group2[features])\n",
    "model_2_y_hat_group3 = model_2.predict(test_df_group3[features])"
   ]
  },
  {
   "cell_type": "code",
   "execution_count": 13,
   "id": "877fdf38",
   "metadata": {},
   "outputs": [
    {
     "name": "stdout",
     "output_type": "stream",
     "text": [
      "model_2_R2: [0.08416420765569899, 0.027561808436595725, -0.3108654842091876, -0.438009232627419]\n",
      "model_2_ATE: [1030.038670929804, 3671.450752083056, 4279.203496764896, 0]\n"
     ]
    }
   ],
   "source": [
    "# 个体level\n",
    "Model_2_R2=[]\n",
    "Model_2_R2.append(r2_score(train_df[target],model_2.predict(train_df[features])))\n",
    "Model_2_R2.append(r2_score(test_df_group1[target],model_2.predict(test_df_group1[features])))\n",
    "Model_2_R2.append(r2_score(test_df_group2[target],model_2.predict(test_df_group2[features])))\n",
    "Model_2_R2.append(r2_score(test_df_group3[target],model_2.predict(test_df_group3[features])))\n",
    "\n",
    "print(\"model_2_R2:\",Model_2_R2)\n",
    "\n",
    "model_2_ATE=[]\n",
    "model_2_group_1_ATE= np.mean(model_2_y_hat_group1)- np.mean(test_df_control[\"session_time\"])\n",
    "model_2_group_2_ATE= np.mean(model_2_y_hat_group2)- np.mean(test_df_control[\"session_time\"])\n",
    "model_2_group_3_ATE= np.mean(model_2_y_hat_group3)- np.mean(test_df_control[\"session_time\"])\n",
    "model_2_ATE.append(model_2_group_1_ATE)\n",
    "model_2_ATE.append(model_2_group_2_ATE)\n",
    "model_2_ATE.append(model_2_group_3_ATE)\n",
    "model_2_ATE.append(0)\n",
    "\n",
    "print(\"model_2_ATE:\",model_2_ATE)"
   ]
  },
  {
   "cell_type": "code",
   "execution_count": 14,
   "id": "feb1ca22",
   "metadata": {},
   "outputs": [],
   "source": [
    "Model_2_result=pd.DataFrame(dict(\n",
    "    Model_2_R2=Model_2_R2,\n",
    "    model_2_ATE=model_2_ATE\n",
    "))\n",
    "Model_2_result.to_csv(\"Model_2_result.csv\")"
   ]
  },
  {
   "cell_type": "markdown",
   "id": "1653cb00",
   "metadata": {},
   "source": [
    "## Model_3: f1+ f2+f3+f4+f5+f6 + stay_time_s"
   ]
  },
  {
   "cell_type": "code",
   "execution_count": 15,
   "id": "450f9300",
   "metadata": {},
   "outputs": [
    {
     "name": "stdout",
     "output_type": "stream",
     "text": [
      "                            OLS Regression Results                            \n",
      "==============================================================================\n",
      "Dep. Variable:           session_time   R-squared:                       0.082\n",
      "Model:                            OLS   Adj. R-squared:                  0.082\n",
      "Method:                 Least Squares   F-statistic:                 5.009e+04\n",
      "Date:                Wed, 05 Apr 2023   Prob (F-statistic):               0.00\n",
      "Time:                        23:00:53   Log-Likelihood:            -3.9569e+07\n",
      "No. Observations:             3916378   AIC:                         7.914e+07\n",
      "Df Residuals:                 3916370   BIC:                         7.914e+07\n",
      "Df Model:                           7                                         \n",
      "Covariance Type:            nonrobust                                         \n",
      "===============================================================================\n",
      "                  coef    std err          t      P>|t|      [0.025      0.975]\n",
      "-------------------------------------------------------------------------------\n",
      "Intercept    2425.8855     10.428    232.630      0.000    2405.447    2446.324\n",
      "stay_time_s     0.0074   1.26e-05    589.902      0.000       0.007       0.007\n",
      "rate_f1       -69.2732      2.567    -26.987      0.000     -74.304     -64.242\n",
      "rate_f2       -31.3354      2.626    -11.932      0.000     -36.483     -26.188\n",
      "rate_f3        15.7699      2.612      6.038      0.000      10.651      20.889\n",
      "rate_f4        25.7644      2.493     10.335      0.000      20.879      30.650\n",
      "rate_f5       -22.0984      2.688     -8.222      0.000     -27.366     -16.830\n",
      "rate_f6       -77.4798      2.882    -26.881      0.000     -83.129     -71.830\n",
      "==============================================================================\n",
      "Omnibus:                  2009941.982   Durbin-Watson:                   1.989\n",
      "Prob(Omnibus):                  0.000   Jarque-Bera (JB):        710251903.734\n",
      "Skew:                           1.224   Prob(JB):                         0.00\n",
      "Kurtosis:                      68.928   Cond. No.                     9.23e+05\n",
      "==============================================================================\n",
      "\n",
      "Notes:\n",
      "[1] Standard Errors assume that the covariance matrix of the errors is correctly specified.\n",
      "[2] The condition number is large, 9.23e+05. This might indicate that there are\n",
      "strong multicollinearity or other numerical problems.\n"
     ]
    }
   ],
   "source": [
    "import statsmodels.formula.api as smf\n",
    "\n",
    "#Model 3: \n",
    "# 选择特征\n",
    "features = ['stay_time_s','rate_f1', 'rate_f2', 'rate_f3', 'rate_f4','rate_f5', 'rate_f6']\n",
    "# 选择目标\n",
    "target = 'session_time'\n",
    "\n",
    "# 指定线性回归模型公式\n",
    "formula = \"session_time ~ stay_time_s + rate_f1 + rate_f2 + rate_f3 + rate_f4 + rate_f5 + rate_f6\"    \n",
    "# 在训练集上拟合线性回归模型\n",
    "model_3 = smf.ols(formula=formula, data=train_df).fit()\n",
    "\n",
    "# results\n",
    "print(model_3.summary())\n",
    "\n",
    "# 在测试集上进行预测\n",
    "model_3_y_hat_group1 = model_3.predict(test_df_group1[features])\n",
    "model_3_y_hat_group2 = model_3.predict(test_df_group2[features])\n",
    "model_3_y_hat_group3 = model_3.predict(test_df_group3[features])"
   ]
  },
  {
   "cell_type": "code",
   "execution_count": 16,
   "id": "a0f33ff8",
   "metadata": {},
   "outputs": [
    {
     "name": "stdout",
     "output_type": "stream",
     "text": [
      "model_3_R2: [0.0821796785840534, 0.05768042050123623, 0.08004374688058191, 0.06537377579866677]\n",
      "model_3_ATE: [26.62408328500942, 93.59077924980193, 17.477617779889897, 0]\n"
     ]
    }
   ],
   "source": [
    "# 个体level\n",
    "Model_3_R2=[]\n",
    "Model_3_R2.append(r2_score(train_df[target],model_3.predict(train_df[features])))\n",
    "Model_3_R2.append(r2_score(test_df_group1[target],model_3.predict(test_df_group1[features])))\n",
    "Model_3_R2.append(r2_score(test_df_group2[target],model_3.predict(test_df_group2[features])))\n",
    "Model_3_R2.append(r2_score(test_df_group3[target],model_3.predict(test_df_group3[features])))\n",
    "\n",
    "print(\"model_3_R2:\",Model_3_R2)\n",
    "\n",
    "model_3_ATE=[]\n",
    "model_3_group_1_ATE= np.mean(model_3_y_hat_group1)- np.mean(test_df_control[\"session_time\"])\n",
    "model_3_group_2_ATE= np.mean(model_3_y_hat_group2)- np.mean(test_df_control[\"session_time\"])\n",
    "model_3_group_3_ATE= np.mean(model_3_y_hat_group3)- np.mean(test_df_control[\"session_time\"])\n",
    "model_3_ATE.append(model_3_group_1_ATE)\n",
    "model_3_ATE.append(model_3_group_2_ATE)\n",
    "model_3_ATE.append(model_3_group_3_ATE)\n",
    "model_3_ATE.append(0)\n",
    "\n",
    "print(\"model_3_ATE:\",model_3_ATE)"
   ]
  },
  {
   "cell_type": "code",
   "execution_count": 17,
   "id": "11be31d1",
   "metadata": {},
   "outputs": [],
   "source": [
    "Model_3_result=pd.DataFrame(dict(\n",
    "    Model_3_R2=Model_3_R2,\n",
    "    model_3_ATE=model_3_ATE\n",
    "))\n",
    "Model_3_result.to_csv(\"Model_3_result.csv\")"
   ]
  },
  {
   "cell_type": "markdown",
   "id": "0aedb3b5",
   "metadata": {},
   "source": [
    "## Model 3_1: f1+ f2+ f3 +f4 +f5+f6 ,不加control"
   ]
  },
  {
   "cell_type": "code",
   "execution_count": 18,
   "id": "6c804142",
   "metadata": {},
   "outputs": [
    {
     "name": "stdout",
     "output_type": "stream",
     "text": [
      "                            OLS Regression Results                            \n",
      "==============================================================================\n",
      "Dep. Variable:           session_time   R-squared:                       0.001\n",
      "Model:                            OLS   Adj. R-squared:                  0.001\n",
      "Method:                 Least Squares   F-statistic:                     410.1\n",
      "Date:                Wed, 05 Apr 2023   Prob (F-statistic):               0.00\n",
      "Time:                        23:01:42   Log-Likelihood:            -3.9736e+07\n",
      "No. Observations:             3916378   AIC:                         7.947e+07\n",
      "Df Residuals:                 3916371   BIC:                         7.947e+07\n",
      "Df Model:                           6                                         \n",
      "Covariance Type:            nonrobust                                         \n",
      "==============================================================================\n",
      "                 coef    std err          t      P>|t|      [0.025      0.975]\n",
      "------------------------------------------------------------------------------\n",
      "Intercept   2864.7968     10.854    263.945      0.000    2843.524    2886.070\n",
      "rate_f1      -70.0398      2.679    -26.148      0.000     -75.290     -64.790\n",
      "rate_f2      -32.6251      2.740    -11.905      0.000     -37.996     -27.254\n",
      "rate_f3       15.0472      2.725      5.521      0.000       9.706      20.389\n",
      "rate_f4       25.7461      2.601      9.898      0.000      20.648      30.844\n",
      "rate_f5      -21.4405      2.805     -7.645      0.000     -26.938     -15.943\n",
      "rate_f6      -78.5209      3.008    -26.107      0.000     -84.416     -72.626\n",
      "==============================================================================\n",
      "Omnibus:                  3507980.825   Durbin-Watson:                   1.972\n",
      "Prob(Omnibus):                  0.000   Jarque-Bera (JB):        675017322.487\n",
      "Skew:                           3.685   Prob(JB):                         0.00\n",
      "Kurtosis:                      66.893   Cond. No.                         10.4\n",
      "==============================================================================\n",
      "\n",
      "Notes:\n",
      "[1] Standard Errors assume that the covariance matrix of the errors is correctly specified.\n"
     ]
    }
   ],
   "source": [
    "import statsmodels.formula.api as smf\n",
    "\n",
    "#Model 3: \n",
    "# 选择特征\n",
    "features = ['rate_f1', 'rate_f2', 'rate_f3', 'rate_f4','rate_f5', 'rate_f6']\n",
    "# 选择目标\n",
    "target = 'session_time'\n",
    "\n",
    "# 指定线性回归模型公式\n",
    "formula = \"session_time ~ rate_f1 + rate_f2 + rate_f3 + rate_f4 + rate_f5 + rate_f6\"    \n",
    "# 在训练集上拟合线性回归模型\n",
    "model_3 = smf.ols(formula=formula, data=train_df).fit()\n",
    "\n",
    "# results\n",
    "print(model_3.summary())\n",
    "\n",
    "# 在测试集上进行预测\n",
    "model_3_y_hat_group1 = model_3.predict(test_df_group1[features])\n",
    "model_3_y_hat_group2 = model_3.predict(test_df_group2[features])\n",
    "model_3_y_hat_group3 = model_3.predict(test_df_group3[features])"
   ]
  },
  {
   "cell_type": "code",
   "execution_count": 19,
   "id": "5bde3732",
   "metadata": {},
   "outputs": [
    {
     "name": "stdout",
     "output_type": "stream",
     "text": [
      "model_3_R2: [0.0006278375019028726, -5.304946087059115e-05, -0.00043765632686776357, -2.8829457285217686e-05]\n",
      "model_3_ATE: [26.720478187890876, 96.01666900068903, 24.429904153243115, 0]\n"
     ]
    }
   ],
   "source": [
    "# 个体level\n",
    "Model_3_R2=[]\n",
    "Model_3_R2.append(r2_score(train_df[target],model_3.predict(train_df[features])))\n",
    "Model_3_R2.append(r2_score(test_df_group1[target],model_3.predict(test_df_group1[features])))\n",
    "Model_3_R2.append(r2_score(test_df_group2[target],model_3.predict(test_df_group2[features])))\n",
    "Model_3_R2.append(r2_score(test_df_group3[target],model_3.predict(test_df_group3[features])))\n",
    "\n",
    "print(\"model_3_R2:\",Model_3_R2)\n",
    "\n",
    "model_3_ATE=[]\n",
    "model_3_group_1_ATE= np.mean(model_3_y_hat_group1)- np.mean(test_df_control[\"session_time\"])\n",
    "model_3_group_2_ATE= np.mean(model_3_y_hat_group2)- np.mean(test_df_control[\"session_time\"])\n",
    "model_3_group_3_ATE= np.mean(model_3_y_hat_group3)- np.mean(test_df_control[\"session_time\"])\n",
    "model_3_ATE.append(model_3_group_1_ATE)\n",
    "model_3_ATE.append(model_3_group_2_ATE)\n",
    "model_3_ATE.append(model_3_group_3_ATE)\n",
    "model_3_ATE.append(0)\n",
    "\n",
    "print(\"model_3_ATE:\",model_3_ATE)"
   ]
  },
  {
   "cell_type": "code",
   "execution_count": 20,
   "id": "888ee71f",
   "metadata": {},
   "outputs": [],
   "source": [
    "Model_3_result=pd.DataFrame(dict(\n",
    "    Model_3_R2=Model_3_R2,\n",
    "    model_3_ATE=model_3_ATE\n",
    "))\n",
    "Model_3_result.to_csv(\"Model_3_1_result.csv\")"
   ]
  },
  {
   "cell_type": "markdown",
   "id": "2b774e3d",
   "metadata": {},
   "source": [
    "## Model_4: c1+ c2 + c3 + c4 + control"
   ]
  },
  {
   "cell_type": "code",
   "execution_count": 21,
   "id": "c34feac4",
   "metadata": {},
   "outputs": [
    {
     "name": "stdout",
     "output_type": "stream",
     "text": [
      "                            OLS Regression Results                            \n",
      "==============================================================================\n",
      "Dep. Variable:           session_time   R-squared:                       0.082\n",
      "Model:                            OLS   Adj. R-squared:                  0.082\n",
      "Method:                 Least Squares   F-statistic:                 6.999e+04\n",
      "Date:                Wed, 05 Apr 2023   Prob (F-statistic):               0.00\n",
      "Time:                        23:02:18   Log-Likelihood:            -3.9569e+07\n",
      "No. Observations:             3916378   AIC:                         7.914e+07\n",
      "Df Residuals:                 3916372   BIC:                         7.914e+07\n",
      "Df Model:                           5                                         \n",
      "Covariance Type:            nonrobust                                         \n",
      "===============================================================================\n",
      "                  coef    std err          t      P>|t|      [0.025      0.975]\n",
      "-------------------------------------------------------------------------------\n",
      "Intercept    2421.8057     10.429    232.213      0.000    2401.365    2442.247\n",
      "stay_time_s     0.0074   1.26e-05    589.883      0.000       0.007       0.007\n",
      "rate_c1      -151.2888      3.797    -39.844      0.000    -158.731    -143.847\n",
      "rate_c2       -41.5724      4.529     -9.179      0.000     -50.450     -32.695\n",
      "rate_c3        -5.3877      4.632     -1.163      0.245     -14.467       3.691\n",
      "rate_c4        -0.7497      1.845     -0.406      0.684      -4.366       2.866\n",
      "==============================================================================\n",
      "Omnibus:                  2010842.034   Durbin-Watson:                   1.989\n",
      "Prob(Omnibus):                  0.000   Jarque-Bera (JB):        709914994.087\n",
      "Skew:                           1.226   Prob(JB):                         0.00\n",
      "Kurtosis:                      68.912   Cond. No.                     9.03e+05\n",
      "==============================================================================\n",
      "\n",
      "Notes:\n",
      "[1] Standard Errors assume that the covariance matrix of the errors is correctly specified.\n",
      "[2] The condition number is large, 9.03e+05. This might indicate that there are\n",
      "strong multicollinearity or other numerical problems.\n"
     ]
    }
   ],
   "source": [
    "import statsmodels.formula.api as smf\n",
    "\n",
    "#Model 4: \n",
    "# 选择特征\n",
    "features = ['stay_time_s','rate_c1', 'rate_c2', 'rate_c3', 'rate_c4']\n",
    "# 选择目标\n",
    "target = 'session_time'\n",
    "\n",
    "# 指定线性回归模型公式\n",
    "formula = \"session_time ~ stay_time_s + rate_c1 + rate_c2 + rate_c3 + rate_c4\"    \n",
    "# 在训练集上拟合线性回归模型\n",
    "model_4 = smf.ols(formula=formula, data=train_df).fit()\n",
    "\n",
    "# results\n",
    "print(model_4.summary())\n",
    "\n",
    "# 在测试集上进行预测\n",
    "model_4_y_hat_group1 = model_4.predict(test_df_group1[features])\n",
    "model_4_y_hat_group2 = model_4.predict(test_df_group2[features])\n",
    "model_4_y_hat_group3 = model_4.predict(test_df_group3[features])"
   ]
  },
  {
   "cell_type": "code",
   "execution_count": 22,
   "id": "a592ffe9",
   "metadata": {},
   "outputs": [
    {
     "name": "stdout",
     "output_type": "stream",
     "text": [
      "model_4_R2: [0.08202295370800383, 0.05657845536040207, 0.08043125616377234, 0.06536864243264973]\n",
      "model_4_ATE: [-221.9253384760077, -61.451412570000684, -36.377682507644295, 0]\n"
     ]
    }
   ],
   "source": [
    "# 个体level\n",
    "Model_4_R2=[]\n",
    "Model_4_R2.append(r2_score(train_df[target],model_4.predict(train_df[features])))\n",
    "Model_4_R2.append(r2_score(test_df_group1[target],model_4.predict(test_df_group1[features])))\n",
    "Model_4_R2.append(r2_score(test_df_group2[target],model_4.predict(test_df_group2[features])))\n",
    "Model_4_R2.append(r2_score(test_df_group3[target],model_4.predict(test_df_group3[features])))\n",
    "\n",
    "print(\"model_4_R2:\",Model_4_R2)\n",
    "\n",
    "model_4_ATE=[]\n",
    "model_4_group_1_ATE= np.mean(model_4_y_hat_group1)- np.mean(test_df_control[\"session_time\"])\n",
    "model_4_group_2_ATE= np.mean(model_4_y_hat_group2)- np.mean(test_df_control[\"session_time\"])\n",
    "model_4_group_3_ATE= np.mean(model_4_y_hat_group3)- np.mean(test_df_control[\"session_time\"])\n",
    "model_4_ATE.append(model_4_group_1_ATE)\n",
    "model_4_ATE.append(model_4_group_2_ATE)\n",
    "model_4_ATE.append(model_4_group_3_ATE)\n",
    "model_4_ATE.append(0)\n",
    "\n",
    "print(\"model_4_ATE:\",model_4_ATE)"
   ]
  },
  {
   "cell_type": "code",
   "execution_count": 23,
   "id": "392b81a3",
   "metadata": {},
   "outputs": [],
   "source": [
    "Model_4_result=pd.DataFrame(dict(\n",
    "    Model_4_R2=Model_4_R2,\n",
    "    model_4_ATE=model_4_ATE\n",
    "))\n",
    "Model_4_result.to_csv(\"Model_4_result.csv\")"
   ]
  },
  {
   "cell_type": "markdown",
   "id": "9ae10ef5",
   "metadata": {},
   "source": [
    "## Model 4_1：c1+ c2 +c3 + c4 , without control"
   ]
  },
  {
   "cell_type": "code",
   "execution_count": 24,
   "id": "34de71b0",
   "metadata": {},
   "outputs": [
    {
     "name": "stdout",
     "output_type": "stream",
     "text": [
      "                            OLS Regression Results                            \n",
      "==============================================================================\n",
      "Dep. Variable:           session_time   R-squared:                       0.000\n",
      "Model:                            OLS   Adj. R-squared:                  0.000\n",
      "Method:                 Least Squares   F-statistic:                     452.9\n",
      "Date:                Wed, 05 Apr 2023   Prob (F-statistic):               0.00\n",
      "Time:                        23:02:55   Log-Likelihood:            -3.9736e+07\n",
      "No. Observations:             3916378   AIC:                         7.947e+07\n",
      "Df Residuals:                 3916373   BIC:                         7.947e+07\n",
      "Df Model:                           4                                         \n",
      "Covariance Type:            nonrobust                                         \n",
      "==============================================================================\n",
      "                 coef    std err          t      P>|t|      [0.025      0.975]\n",
      "------------------------------------------------------------------------------\n",
      "Intercept   2860.7913     10.855    263.548      0.000    2839.516    2882.067\n",
      "rate_c1     -152.3098      3.962    -38.441      0.000    -160.075    -144.544\n",
      "rate_c2      -40.1628      4.726     -8.498      0.000     -49.426     -30.900\n",
      "rate_c3       -3.9786      4.834     -0.823      0.410     -13.453       5.495\n",
      "rate_c4       -1.2614      1.925     -0.655      0.512      -5.034       2.512\n",
      "==============================================================================\n",
      "Omnibus:                  3508417.256   Durbin-Watson:                   1.971\n",
      "Prob(Omnibus):                  0.000   Jarque-Bera (JB):        674805454.575\n",
      "Skew:                           3.686   Prob(JB):                         0.00\n",
      "Kurtosis:                      66.882   Cond. No.                         19.6\n",
      "==============================================================================\n",
      "\n",
      "Notes:\n",
      "[1] Standard Errors assume that the covariance matrix of the errors is correctly specified.\n"
     ]
    }
   ],
   "source": [
    "import statsmodels.formula.api as smf\n",
    "\n",
    "#Model 4: \n",
    "# 选择特征\n",
    "features = ['rate_c1', 'rate_c2', 'rate_c3', 'rate_c4']\n",
    "# 选择目标\n",
    "target = 'session_time'\n",
    "\n",
    "# 指定线性回归模型公式\n",
    "formula = \"session_time ~ rate_c1 + rate_c2 + rate_c3 + rate_c4\"    \n",
    "# 在训练集上拟合线性回归模型\n",
    "model_4 = smf.ols(formula=formula, data=train_df).fit()\n",
    "\n",
    "# results\n",
    "print(model_4.summary())\n",
    "\n",
    "# 在测试集上进行预测\n",
    "model_4_y_hat_group1 = model_4.predict(test_df_group1[features])\n",
    "model_4_y_hat_group2 = model_4.predict(test_df_group2[features])\n",
    "model_4_y_hat_group3 = model_4.predict(test_df_group3[features])"
   ]
  },
  {
   "cell_type": "code",
   "execution_count": 25,
   "id": "078344d2",
   "metadata": {},
   "outputs": [
    {
     "name": "stdout",
     "output_type": "stream",
     "text": [
      "model_4_R2: [0.0004623805062602404, -0.0011279203667247106, -2.873113413026651e-05, -1.0683091588026272e-05]\n",
      "model_4_ATE: [-219.6735162680311, -59.38695604875511, -27.764284101017438, 0]\n"
     ]
    }
   ],
   "source": [
    "# 个体level\n",
    "Model_4_R2=[]\n",
    "Model_4_R2.append(r2_score(train_df[target],model_4.predict(train_df[features])))\n",
    "Model_4_R2.append(r2_score(test_df_group1[target],model_4.predict(test_df_group1[features])))\n",
    "Model_4_R2.append(r2_score(test_df_group2[target],model_4.predict(test_df_group2[features])))\n",
    "Model_4_R2.append(r2_score(test_df_group3[target],model_4.predict(test_df_group3[features])))\n",
    "\n",
    "print(\"model_4_R2:\",Model_4_R2)\n",
    "model_4_ATE=[]\n",
    "model_4_group_1_ATE= np.mean(model_4_y_hat_group1)- np.mean(test_df_control[\"session_time\"])\n",
    "model_4_group_2_ATE= np.mean(model_4_y_hat_group2)- np.mean(test_df_control[\"session_time\"])\n",
    "model_4_group_3_ATE= np.mean(model_4_y_hat_group3)- np.mean(test_df_control[\"session_time\"])\n",
    "model_4_ATE.append(model_4_group_1_ATE)\n",
    "model_4_ATE.append(model_4_group_2_ATE)\n",
    "model_4_ATE.append(model_4_group_3_ATE)\n",
    "model_4_ATE.append(0)\n",
    "\n",
    "print(\"model_4_ATE:\",model_4_ATE)"
   ]
  },
  {
   "cell_type": "code",
   "execution_count": 26,
   "id": "dcd2c16b",
   "metadata": {},
   "outputs": [],
   "source": [
    "Model_4_result=pd.DataFrame(dict(\n",
    "    Model_4_R2=Model_4_R2,\n",
    "    model_4_ATE=model_4_ATE\n",
    "))\n",
    "Model_4_result.to_csv(\"Model_4_1_result.csv\")"
   ]
  },
  {
   "cell_type": "markdown",
   "id": "f178c715",
   "metadata": {},
   "source": [
    "## Model_5: model selection"
   ]
  },
  {
   "cell_type": "code",
   "execution_count": 27,
   "id": "cacdd3b9",
   "metadata": {},
   "outputs": [
    {
     "name": "stdout",
     "output_type": "stream",
     "text": [
      "Lasso validation set- R2： 0.08593766626719979\n",
      "Best alpha: 1.7560170288021602\n"
     ]
    }
   ],
   "source": [
    "from sklearn.model_selection import train_test_split\n",
    "from sklearn.preprocessing import StandardScaler  # standardize the predictors\n",
    "from sklearn.linear_model import Lasso\n",
    "\n",
    "# 选择特征\n",
    "features = ['stay_time_s','rate_f1c1', 'rate_f1c2', 'rate_f1c3', 'rate_f1c4','rate_f2c1', 'rate_f2c2', 'rate_f2c3', 'rate_f2c4','rate_f3c1', 'rate_f3c2', 'rate_f3c3', 'rate_f3c4','rate_f4c1', 'rate_f4c2', 'rate_f4c3', 'rate_f4c4','rate_f5c1', 'rate_f5c2', 'rate_f5c3', 'rate_f5c4','rate_f6c1', 'rate_f6c2', 'rate_f6c3', 'rate_f6c4']\n",
    "\n",
    "# 选择目标\n",
    "target = 'session_time'\n",
    "\n",
    "# 1. Split the training set into training and validation sets\n",
    "X_train_all= train_df[features]\n",
    "y_train_all= train_df[target]\n",
    "X_train, X_val, y_train, y_val = train_test_split(X_train_all, y_train_all, test_size=0.2, random_state=42)\n",
    "X_test_1= test_df_group1[features]\n",
    "X_test_2= test_df_group2[features]\n",
    "X_test_3= test_df_group3[features]\n",
    "\n",
    "# 2.标准化数据集\n",
    "scaler = StandardScaler()\n",
    "X_train_all = scaler.fit_transform(X_train_all)\n",
    "X_train = scaler.fit_transform(X_train)\n",
    "X_val = scaler.transform(X_val)\n",
    "X_test_1 = scaler.transform(X_test_1)\n",
    "X_test_2 = scaler.transform(X_test_2)\n",
    "X_test_2 = scaler.transform(X_test_2)\n",
    "\n",
    "# 3.运用Lassocv 找到最优的alpha值\n",
    "from sklearn.linear_model import LassoCV\n",
    "\n",
    "# Create a LassoCV object with cross-validation\n",
    "regressor = LassoCV(cv=5)\n",
    "\n",
    "# Fit the LassoCV object on the training set\n",
    "regressor.fit(X_train, y_train)\n",
    "\n",
    "# Predict on the validation set\n",
    "y_val_pred = regressor.predict(X_val)\n",
    "\n",
    "# Evaluate the performance of the model on the validation set\n",
    "print(\"Lasso validation set- R2：\",r2_score(y_val, y_val_pred))\n",
    "print('Best alpha:', regressor.alpha_)"
   ]
  },
  {
   "cell_type": "code",
   "execution_count": 28,
   "id": "f14674c6",
   "metadata": {},
   "outputs": [],
   "source": [
    "# 4.使用最优的alpha值运用Lasso模型\n",
    "from sklearn.linear_model import Lasso\n",
    "\n",
    "# Create a Lasso object with the best alpha value\n",
    "# regressor = Lasso(alpha=regressor.alpha_)\n",
    "regressor = Lasso(alpha=1)\n",
    "regressor.fit(X_train_all, y_train_all)\n",
    "\n",
    "# Predict on the test set\n",
    "model_5_y_hat_group1 = regressor.predict(X_test_1)\n",
    "model_5_y_hat_group2 = regressor.predict(X_test_2)\n",
    "model_5_y_hat_group3 = regressor.predict(X_test_3)"
   ]
  },
  {
   "cell_type": "code",
   "execution_count": 29,
   "id": "53d57bb9",
   "metadata": {},
   "outputs": [
    {
     "name": "stdout",
     "output_type": "stream",
     "text": [
      "model_5_R2: [0.084011324942033, 0.054215506540973735, -161.44762173994687, -4909683926.10315]\n",
      "model_5_ATE: [-374.45013694747786, -75163.21588635225, 101824284.98814617, 0]\n"
     ]
    }
   ],
   "source": [
    "# 个体level\n",
    "Model_5_R2=[]\n",
    "Model_5_R2.append(r2_score(y_train_all,regressor.predict(X_train_all)))\n",
    "Model_5_R2.append(r2_score(test_df_group1[target],regressor.predict(X_test_1)))\n",
    "Model_5_R2.append(r2_score(test_df_group2[target],regressor.predict(X_test_2)))\n",
    "Model_5_R2.append(r2_score(test_df_group3[target],regressor.predict(X_test_3)))\n",
    "\n",
    "print(\"model_5_R2:\",Model_5_R2)\n",
    "\n",
    "# group ATE level\n",
    "model_5_ATE=[]\n",
    "model_5_group_1_ATE= np.mean(model_5_y_hat_group1)- np.mean(test_df_control[\"session_time\"])\n",
    "model_5_group_2_ATE= np.mean(model_5_y_hat_group2)- np.mean(test_df_control[\"session_time\"])\n",
    "model_5_group_3_ATE= np.mean(model_5_y_hat_group3)- np.mean(test_df_control[\"session_time\"])\n",
    "model_5_ATE.append(model_5_group_1_ATE)\n",
    "model_5_ATE.append(model_5_group_2_ATE)\n",
    "model_5_ATE.append(model_5_group_3_ATE)\n",
    "model_5_ATE.append(0)\n",
    "\n",
    "print(\"model_5_ATE:\",model_5_ATE)"
   ]
  },
  {
   "cell_type": "code",
   "execution_count": 30,
   "id": "ab845f7e",
   "metadata": {},
   "outputs": [],
   "source": [
    "Model_5_result=pd.DataFrame(dict(\n",
    "    Model_5_R2=Model_5_R2,\n",
    "    model_5_ATE=model_5_ATE\n",
    "))\n",
    "Model_5_result.to_csv(\"Model_5_result.csv\")"
   ]
  },
  {
   "cell_type": "markdown",
   "id": "58b8537f",
   "metadata": {},
   "source": [
    "## Model 6: f1+ f2 + f3 + f4 + f5 + f6 + c1 + c2 + c3 + c4 + control"
   ]
  },
  {
   "cell_type": "code",
   "execution_count": 31,
   "id": "72f242c0",
   "metadata": {},
   "outputs": [
    {
     "name": "stdout",
     "output_type": "stream",
     "text": [
      "                            OLS Regression Results                            \n",
      "==============================================================================\n",
      "Dep. Variable:           session_time   R-squared:                       0.083\n",
      "Model:                            OLS   Adj. R-squared:                  0.083\n",
      "Method:                 Least Squares   F-statistic:                 3.524e+04\n",
      "Date:                Wed, 05 Apr 2023   Prob (F-statistic):               0.00\n",
      "Time:                        23:14:37   Log-Likelihood:            -3.9568e+07\n",
      "No. Observations:             3916378   AIC:                         7.914e+07\n",
      "Df Residuals:                 3916367   BIC:                         7.914e+07\n",
      "Df Model:                          10                                         \n",
      "Covariance Type:            nonrobust                                         \n",
      "===============================================================================\n",
      "                  coef    std err          t      P>|t|      [0.025      0.975]\n",
      "-------------------------------------------------------------------------------\n",
      "Intercept    2415.0865     10.429    231.565      0.000    2394.645    2435.528\n",
      "stay_time_s     0.0074   1.26e-05    590.028      0.000       0.007       0.007\n",
      "rate_f1      -102.8843      2.297    -44.790      0.000    -107.386     -98.382\n",
      "rate_f2       -68.9230      2.460    -28.020      0.000     -73.744     -64.102\n",
      "rate_f3       -14.0631      2.395     -5.872      0.000     -18.757      -9.369\n",
      "rate_f4         3.7479      2.180      1.720      0.086      -0.524       8.020\n",
      "rate_f5       -11.8177      2.116     -5.585      0.000     -15.965      -7.670\n",
      "rate_f6         6.2932      3.143      2.002      0.045       0.133      12.453\n",
      "rate_c1      -178.3350      5.078    -35.118      0.000    -188.288    -168.382\n",
      "rate_c2       -39.2893      4.209     -9.335      0.000     -47.538     -31.040\n",
      "rate_c3        -2.1484      4.175     -0.515      0.607     -10.332       6.035\n",
      "rate_c4        32.1257      1.677     19.157      0.000      28.839      35.413\n",
      "==============================================================================\n",
      "Omnibus:                  2007283.044   Durbin-Watson:                   1.990\n",
      "Prob(Omnibus):                  0.000   Jarque-Bera (JB):        710707944.904\n",
      "Skew:                           1.221   Prob(JB):                         0.00\n",
      "Kurtosis:                      68.950   Cond. No.                     1.26e+19\n",
      "==============================================================================\n",
      "\n",
      "Notes:\n",
      "[1] Standard Errors assume that the covariance matrix of the errors is correctly specified.\n",
      "[2] The smallest eigenvalue is 1.49e-21. This might indicate that there are\n",
      "strong multicollinearity problems or that the design matrix is singular.\n"
     ]
    }
   ],
   "source": [
    "import statsmodels.formula.api as smf\n",
    "\n",
    "#Model 4: \n",
    "# 选择特征\n",
    "features = ['stay_time_s','rate_c1', 'rate_c2', 'rate_c3', 'rate_c4','rate_f1', 'rate_f2','rate_f3','rate_f4','rate_f5','rate_f6' ]\n",
    "# 选择目标\n",
    "target = 'session_time'\n",
    "\n",
    "# 指定线性回归模型公式\n",
    "formula = \"session_time ~ stay_time_s + rate_f1 + rate_f2 + rate_f3 + rate_f4 + rate_f5 + rate_f6 + rate_c1 + rate_c2 + rate_c3 + rate_c4\"    \n",
    "# 在训练集上拟合线性回归模型\n",
    "model_6 = smf.ols(formula=formula, data=train_df).fit()\n",
    "\n",
    "# results\n",
    "print(model_6.summary())\n",
    "\n",
    "# 在测试集上进行预测\n",
    "model_6_y_hat_group1 = model_6.predict(test_df_group1[features])\n",
    "model_6_y_hat_group2 = model_6.predict(test_df_group2[features])\n",
    "model_6_y_hat_group3 = model_6.predict(test_df_group3[features])"
   ]
  },
  {
   "cell_type": "code",
   "execution_count": 32,
   "id": "3f3d5df5",
   "metadata": {},
   "outputs": [
    {
     "name": "stdout",
     "output_type": "stream",
     "text": [
      "model_6_R2: [0.08255709791251153, 0.05674571507999815, 0.08026389246868104, 0.06538621174350989]\n",
      "model_6_ATE: [-206.62983822553224, 56.02617110136862, -21.832874601120693, 0]\n"
     ]
    }
   ],
   "source": [
    "# 个体level\n",
    "Model_6_R2=[]\n",
    "Model_6_R2.append(r2_score(train_df[target],model_6.predict(train_df[features])))\n",
    "Model_6_R2.append(r2_score(test_df_group1[target],model_6.predict(test_df_group1[features])))\n",
    "Model_6_R2.append(r2_score(test_df_group2[target],model_6.predict(test_df_group2[features])))\n",
    "Model_6_R2.append(r2_score(test_df_group3[target],model_6.predict(test_df_group3[features])))\n",
    "\n",
    "print(\"model_6_R2:\",Model_6_R2)\n",
    "\n",
    "model_6_ATE=[]\n",
    "model_6_group_1_ATE= np.mean(model_6_y_hat_group1)- np.mean(test_df_control[\"session_time\"])\n",
    "model_6_group_2_ATE= np.mean(model_6_y_hat_group2)- np.mean(test_df_control[\"session_time\"])\n",
    "model_6_group_3_ATE= np.mean(model_6_y_hat_group3)- np.mean(test_df_control[\"session_time\"])\n",
    "model_6_ATE.append(model_6_group_1_ATE)\n",
    "model_6_ATE.append(model_6_group_2_ATE)\n",
    "model_6_ATE.append(model_6_group_3_ATE)\n",
    "model_6_ATE.append(0)\n",
    "\n",
    "print(\"model_6_ATE:\",model_6_ATE)"
   ]
  },
  {
   "cell_type": "code",
   "execution_count": 33,
   "id": "8fb5c0bf",
   "metadata": {},
   "outputs": [],
   "source": [
    "Model_6_result=pd.DataFrame(dict(\n",
    "    Model_6_R2=Model_6_R2,\n",
    "    model_6_ATE=model_6_ATE\n",
    "))\n",
    "Model_6_result.to_csv(\"Model_6_result.csv\")"
   ]
  },
  {
   "cell_type": "markdown",
   "id": "19aaedce",
   "metadata": {},
   "source": [
    "## Model 6_1: f1+ f2 + f3 + f4 + f5 + f6 + c1 + c2 + c3 + c4, without control"
   ]
  },
  {
   "cell_type": "code",
   "execution_count": 34,
   "id": "32c26cba",
   "metadata": {},
   "outputs": [
    {
     "name": "stdout",
     "output_type": "stream",
     "text": [
      "                            OLS Regression Results                            \n",
      "==============================================================================\n",
      "Dep. Variable:           session_time   R-squared:                       0.001\n",
      "Model:                            OLS   Adj. R-squared:                  0.001\n",
      "Method:                 Least Squares   F-statistic:                     393.5\n",
      "Date:                Wed, 05 Apr 2023   Prob (F-statistic):               0.00\n",
      "Time:                        23:14:58   Log-Likelihood:            -3.9735e+07\n",
      "No. Observations:             3916378   AIC:                         7.947e+07\n",
      "Df Residuals:                 3916367   BIC:                         7.947e+07\n",
      "Df Model:                          10                                         \n",
      "Covariance Type:            nonrobust                                         \n",
      "==============================================================================\n",
      "                 coef    std err          t      P>|t|      [0.025      0.975]\n",
      "------------------------------------------------------------------------------\n",
      "Intercept   2853.4735     11.145    256.041      0.000    2831.630    2875.316\n",
      "rate_f1     7.608e+12   3.59e+13      0.212      0.832   -6.27e+13    7.79e+13\n",
      "rate_f2     7.608e+12   3.59e+13      0.212      0.832   -6.27e+13    7.79e+13\n",
      "rate_f3     7.608e+12   3.59e+13      0.212      0.832   -6.27e+13    7.79e+13\n",
      "rate_f4     7.608e+12   3.59e+13      0.212      0.832   -6.27e+13    7.79e+13\n",
      "rate_f5     7.608e+12   3.59e+13      0.212      0.832   -6.27e+13    7.79e+13\n",
      "rate_f6     7.608e+12   3.59e+13      0.212      0.832   -6.27e+13    7.79e+13\n",
      "rate_c1    -7.608e+12   3.59e+13     -0.212      0.832   -7.79e+13    6.27e+13\n",
      "rate_c2    -7.608e+12   3.59e+13     -0.212      0.832   -7.79e+13    6.27e+13\n",
      "rate_c3    -7.608e+12   3.59e+13     -0.212      0.832   -7.79e+13    6.27e+13\n",
      "rate_c4    -7.608e+12   3.59e+13     -0.212      0.832   -7.79e+13    6.27e+13\n",
      "==============================================================================\n",
      "Omnibus:                  3506640.797   Durbin-Watson:                   1.972\n",
      "Prob(Omnibus):                  0.000   Jarque-Bera (JB):        675197289.574\n",
      "Skew:                           3.682   Prob(JB):                         0.00\n",
      "Kurtosis:                      66.902   Cond. No.                     2.14e+14\n",
      "==============================================================================\n",
      "\n",
      "Notes:\n",
      "[1] Standard Errors assume that the covariance matrix of the errors is correctly specified.\n",
      "[2] The smallest eigenvalue is 2.95e-21. This might indicate that there are\n",
      "strong multicollinearity problems or that the design matrix is singular.\n"
     ]
    }
   ],
   "source": [
    "import statsmodels.formula.api as smf\n",
    "\n",
    "#Model 4: \n",
    "# 选择特征\n",
    "features = ['stay_time_s','rate_c1', 'rate_c2', 'rate_c3', 'rate_c4','rate_f1', 'rate_f2','rate_f3','rate_f4','rate_f5','rate_f6' ]\n",
    "# 选择目标\n",
    "target = 'session_time'\n",
    "\n",
    "# 指定线性回归模型公式\n",
    "formula = \"session_time ~ rate_f1 + rate_f2 + rate_f3 + rate_f4 + rate_f5 + rate_f6 + rate_c1 + rate_c2 + rate_c3 + rate_c4\"    \n",
    "# 在训练集上拟合线性回归模型\n",
    "model_6 = smf.ols(formula=formula, data=train_df).fit()\n",
    "\n",
    "# results\n",
    "print(model_6.summary())\n",
    "\n",
    "# 在测试集上进行预测\n",
    "model_6_y_hat_group1 = model_6.predict(test_df_group1[features])\n",
    "model_6_y_hat_group2 = model_6.predict(test_df_group2[features])\n",
    "model_6_y_hat_group3 = model_6.predict(test_df_group3[features])"
   ]
  },
  {
   "cell_type": "code",
   "execution_count": 35,
   "id": "0a1f3af9",
   "metadata": {},
   "outputs": [
    {
     "name": "stdout",
     "output_type": "stream",
     "text": [
      "model_6_R2: [0.0010036828096108286, -0.0010036065244647396, -0.00019189837936051113, -2.4330613910272803e-06]\n",
      "model_6_ATE: [-208.1895907638459, 54.2244717361541, -17.43958915498797, 0]\n"
     ]
    }
   ],
   "source": [
    "# 个体level\n",
    "Model_6_R2=[]\n",
    "Model_6_R2.append(r2_score(train_df[target],model_6.predict(train_df[features])))\n",
    "Model_6_R2.append(r2_score(test_df_group1[target],model_6.predict(test_df_group1[features])))\n",
    "Model_6_R2.append(r2_score(test_df_group2[target],model_6.predict(test_df_group2[features])))\n",
    "Model_6_R2.append(r2_score(test_df_group3[target],model_6.predict(test_df_group3[features])))\n",
    "\n",
    "print(\"model_6_R2:\",Model_6_R2)\n",
    "\n",
    "model_6_ATE=[]\n",
    "model_6_group_1_ATE= np.mean(model_6_y_hat_group1)- np.mean(test_df_control[\"session_time\"])\n",
    "model_6_group_2_ATE= np.mean(model_6_y_hat_group2)- np.mean(test_df_control[\"session_time\"])\n",
    "model_6_group_3_ATE= np.mean(model_6_y_hat_group3)- np.mean(test_df_control[\"session_time\"])\n",
    "model_6_ATE.append(model_6_group_1_ATE)\n",
    "model_6_ATE.append(model_6_group_2_ATE)\n",
    "model_6_ATE.append(model_6_group_3_ATE)\n",
    "model_6_ATE.append(0)\n",
    "\n",
    "print(\"model_6_ATE:\",model_6_ATE)"
   ]
  },
  {
   "cell_type": "code",
   "execution_count": 36,
   "id": "4ae44e74",
   "metadata": {},
   "outputs": [],
   "source": [
    "Model_6_result=pd.DataFrame(dict(\n",
    "    Model_6_R2=Model_6_R2,\n",
    "    model_6_ATE=model_6_ATE\n",
    "))\n",
    "Model_6_result.to_csv(\"Model_6_1_result.csv\")"
   ]
  },
  {
   "cell_type": "markdown",
   "id": "336be2ed",
   "metadata": {},
   "source": [
    "## Model 7: 加上交互项：X*T ---stay_time_s*(f1c1+....f6c4)"
   ]
  },
  {
   "cell_type": "code",
   "execution_count": 6,
   "id": "59a63ef2",
   "metadata": {},
   "outputs": [
    {
     "name": "stdout",
     "output_type": "stream",
     "text": [
      "                            OLS Regression Results                            \n",
      "==============================================================================\n",
      "Dep. Variable:           session_time   R-squared:                       0.087\n",
      "Model:                            OLS   Adj. R-squared:                  0.087\n",
      "Method:                 Least Squares   F-statistic:                 1.196e+04\n",
      "Date:                Wed, 05 Apr 2023   Prob (F-statistic):               0.00\n",
      "Time:                        23:20:29   Log-Likelihood:            -3.9560e+07\n",
      "No. Observations:             3916378   AIC:                         7.912e+07\n",
      "Df Residuals:                 3916346   BIC:                         7.912e+07\n",
      "Df Model:                          31                                         \n",
      "Covariance Type:            nonrobust                                         \n",
      "=========================================================================================\n",
      "                            coef    std err          t      P>|t|      [0.025      0.975]\n",
      "-----------------------------------------------------------------------------------------\n",
      "Intercept              2354.0478     10.698    220.044      0.000    2333.080    2375.016\n",
      "stay_time_s               0.0080   4.35e-05    184.689      0.000       0.008       0.008\n",
      "rate_f1c1              -1.95e+04   5905.255     -3.302      0.001   -3.11e+04   -7922.531\n",
      "rate_f1c2             -2.801e+04   8249.341     -3.395      0.001   -4.42e+04   -1.18e+04\n",
      "rate_f1c3             -4662.5832   1383.302     -3.371      0.001   -7373.806   -1951.360\n",
      "rate_f1c4                83.3231     41.420      2.012      0.044       2.141     164.505\n",
      "rate_f2c1               594.6537    557.242      1.067      0.286    -497.522    1686.829\n",
      "rate_f2c2             -3782.7052    574.122     -6.589      0.000   -4907.965   -2657.446\n",
      "rate_f2c3              3009.7265    260.393     11.558      0.000    2499.364    3520.088\n",
      "rate_f2c4                 6.3836     24.813      0.257      0.797     -42.249      55.016\n",
      "rate_f3c1               1.93e+04    920.060     20.978      0.000    1.75e+04    2.11e+04\n",
      "rate_f3c2             -1.511e+04    663.350    -22.773      0.000   -1.64e+04   -1.38e+04\n",
      "rate_f3c3             -4950.9691    226.259    -21.882      0.000   -5394.428   -4507.510\n",
      "rate_f3c4                25.5177     15.681      1.627      0.104      -5.217      56.253\n",
      "rate_f4c1             -1.237e+04    587.775    -21.050      0.000   -1.35e+04   -1.12e+04\n",
      "rate_f4c2              1.319e+04    635.611     20.757      0.000    1.19e+04    1.44e+04\n",
      "rate_f4c3             -1806.1020     93.471    -19.323      0.000   -1989.302   -1622.902\n",
      "rate_f4c4                44.8425     11.596      3.867      0.000      22.114      67.571\n",
      "rate_f5c1               947.6424     74.971     12.640      0.000     800.702    1094.583\n",
      "rate_f5c2             -9030.7663    402.324    -22.446      0.000   -9819.308   -8242.225\n",
      "rate_f5c3              4262.4500    202.316     21.068      0.000    3865.918    4658.982\n",
      "rate_f5c4                35.4283     13.126      2.699      0.007       9.702      61.154\n",
      "rate_f6c1               843.4468     46.377     18.187      0.000     752.550     934.343\n",
      "rate_f6c2             -2170.0101    100.724    -21.544      0.000   -2367.425   -1972.595\n",
      "rate_f6c3             -7757.4648    361.290    -21.472      0.000   -8465.580   -7049.349\n",
      "rate_f6c4               -14.3645     46.133     -0.311      0.756    -104.783      76.054\n",
      "stay_time_s:rate_f1c1     0.0831      0.024      3.397      0.001       0.035       0.131\n",
      "stay_time_s:rate_f1c2     0.1123      0.034      3.289      0.001       0.045       0.179\n",
      "stay_time_s:rate_f1c3     0.0190      0.006      3.318      0.001       0.008       0.030\n",
      "stay_time_s:rate_f1c4    -0.0010      0.000     -5.731      0.000      -0.001      -0.001\n",
      "stay_time_s:rate_f2c1    -0.0100      0.002     -4.373      0.000      -0.015      -0.006\n",
      "stay_time_s:rate_f2c2    -0.0284      0.002    -12.054      0.000      -0.033      -0.024\n",
      "stay_time_s:rate_f2c3     0.0071      0.001      6.609      0.000       0.005       0.009\n",
      "stay_time_s:rate_f2c4     0.0004      0.000      3.990      0.000       0.000       0.001\n",
      "stay_time_s:rate_f3c1     0.0652      0.004     17.151      0.000       0.058       0.073\n",
      "stay_time_s:rate_f3c2    -0.0533      0.003    -19.456      0.000      -0.059      -0.048\n",
      "stay_time_s:rate_f3c3    -0.0170      0.001    -17.966      0.000      -0.019      -0.015\n",
      "stay_time_s:rate_f3c4  9.305e-05    6.4e-05      1.453      0.146   -3.24e-05       0.000\n",
      "stay_time_s:rate_f4c1    -0.0423      0.002    -17.414      0.000      -0.047      -0.038\n",
      "stay_time_s:rate_f4c2     0.0438      0.003     16.648      0.000       0.039       0.049\n",
      "stay_time_s:rate_f4c3    -0.0060      0.000    -15.689      0.000      -0.007      -0.005\n",
      "stay_time_s:rate_f4c4  1.615e-05   4.73e-05      0.341      0.733   -7.65e-05       0.000\n",
      "stay_time_s:rate_f5c1     0.0026      0.000      8.469      0.000       0.002       0.003\n",
      "stay_time_s:rate_f5c2    -0.0314      0.002    -18.803      0.000      -0.035      -0.028\n",
      "stay_time_s:rate_f5c3     0.0145      0.001     17.274      0.000       0.013       0.016\n",
      "stay_time_s:rate_f5c4  1.441e-06   5.39e-05      0.027      0.979      -0.000       0.000\n",
      "stay_time_s:rate_f6c1     0.0019      0.000     10.015      0.000       0.002       0.002\n",
      "stay_time_s:rate_f6c2    -0.0074      0.000    -17.370      0.000      -0.008      -0.007\n",
      "stay_time_s:rate_f6c3    -0.0265      0.002    -17.639      0.000      -0.029      -0.024\n",
      "stay_time_s:rate_f6c4     0.0007      0.000      3.677      0.000       0.000       0.001\n",
      "==============================================================================\n",
      "Omnibus:                  1956404.089   Durbin-Watson:                   1.994\n",
      "Prob(Omnibus):                  0.000   Jarque-Bera (JB):        713201598.414\n",
      "Skew:                           1.148   Prob(JB):                         0.00\n",
      "Kurtosis:                      69.070   Cond. No.                     1.04e+16\n",
      "==============================================================================\n",
      "\n",
      "Notes:\n",
      "[1] Standard Errors assume that the covariance matrix of the errors is correctly specified.\n",
      "[2] The smallest eigenvalue is 1.46e-14. This might indicate that there are\n",
      "strong multicollinearity problems or that the design matrix is singular.\n"
     ]
    }
   ],
   "source": [
    "import statsmodels.formula.api as smf\n",
    "\n",
    "#Model 4: \n",
    "# 选择特征\n",
    "features = ['stay_time_s','rate_f1c1', 'rate_f1c2', 'rate_f1c3', 'rate_f1c4','rate_f2c1', 'rate_f2c2', 'rate_f2c3', 'rate_f2c4','rate_f3c1', 'rate_f3c2', 'rate_f3c3', 'rate_f3c4','rate_f4c1', 'rate_f4c2', 'rate_f4c3', 'rate_f4c4','rate_f5c1', 'rate_f5c2', 'rate_f5c3', 'rate_f5c4','rate_f6c1', 'rate_f6c2', 'rate_f6c3', 'rate_f6c4']\n",
    "\n",
    "# 选择目标\n",
    "target = 'session_time'\n",
    "\n",
    "# 指定线性回归模型公式\n",
    "formula = \"session_time ~ stay_time_s*(rate_f1c1 + rate_f1c2 + rate_f1c3 + rate_f1c4 + rate_f2c1 + rate_f2c2+ rate_f2c3+ rate_f2c4 + rate_f3c1 + rate_f3c2 + rate_f3c3 + rate_f3c4 + rate_f4c1 + rate_f4c2 + rate_f4c3 + rate_f4c4 + rate_f5c1 + rate_f5c2 + rate_f5c3 + rate_f5c4 + rate_f6c1 + rate_f6c2 + rate_f6c3 + rate_f6c4)\"\n",
    "   \n",
    "# 在训练集上拟合线性回归模型\n",
    "model_7 = smf.ols(formula=formula, data=train_df).fit()\n",
    "\n",
    "# results\n",
    "print(model_7.summary())\n",
    "\n",
    "# 在测试集上进行预测\n",
    "model_7_y_hat_group1 = model_7.predict(test_df_group1[features])\n",
    "model_7_y_hat_group2 = model_7.predict(test_df_group2[features])\n",
    "model_7_y_hat_group3 = model_7.predict(test_df_group3[features])"
   ]
  },
  {
   "cell_type": "code",
   "execution_count": 7,
   "id": "07fae491",
   "metadata": {},
   "outputs": [
    {
     "name": "stdout",
     "output_type": "stream",
     "text": [
      "model_7_R2: [0.08650874819204857, 0.02684105096310141, -0.4751258673068093, -0.7317607066444722]\n",
      "model_7_ATE: [1041.7386274511855, 3680.0677843840735, 4271.817932867631, 0]\n"
     ]
    }
   ],
   "source": [
    "# 个体level\n",
    "Model_7_R2=[]\n",
    "Model_7_R2.append(r2_score(train_df[target],model_7.predict(train_df[features])))\n",
    "Model_7_R2.append(r2_score(test_df_group1[target],model_7.predict(test_df_group1[features])))\n",
    "Model_7_R2.append(r2_score(test_df_group2[target],model_7.predict(test_df_group2[features])))\n",
    "Model_7_R2.append(r2_score(test_df_group3[target],model_7.predict(test_df_group3[features])))\n",
    "\n",
    "print(\"model_7_R2:\",Model_7_R2)\n",
    "\n",
    "model_7_ATE=[]\n",
    "model_7_group_1_ATE= np.mean(model_7_y_hat_group1)- np.mean(test_df_control[\"session_time\"])\n",
    "model_7_group_2_ATE= np.mean(model_7_y_hat_group2)- np.mean(test_df_control[\"session_time\"])\n",
    "model_7_group_3_ATE= np.mean(model_7_y_hat_group3)- np.mean(test_df_control[\"session_time\"])\n",
    "model_7_ATE.append(model_7_group_1_ATE)\n",
    "model_7_ATE.append(model_7_group_2_ATE)\n",
    "model_7_ATE.append(model_7_group_3_ATE)\n",
    "model_7_ATE.append(0)\n",
    "\n",
    "print(\"model_7_ATE:\",model_7_ATE)"
   ]
  },
  {
   "cell_type": "code",
   "execution_count": 8,
   "id": "bad7d21a",
   "metadata": {},
   "outputs": [],
   "source": [
    "Model_7_result=pd.DataFrame(dict(\n",
    "    Model_7_R2=Model_7_R2,\n",
    "    model_7_ATE=model_7_ATE\n",
    "))\n",
    "Model_7_result.to_csv(\"Model_7_result.csv\")"
   ]
  },
  {
   "cell_type": "markdown",
   "id": "a44d39ce",
   "metadata": {},
   "source": [
    "## Model 8: X*(f1 + f2 + f3 + f4 + f5 + f6)"
   ]
  },
  {
   "cell_type": "code",
   "execution_count": 9,
   "id": "01fa395c",
   "metadata": {},
   "outputs": [
    {
     "name": "stdout",
     "output_type": "stream",
     "text": [
      "                            OLS Regression Results                            \n",
      "==============================================================================\n",
      "Dep. Variable:           session_time   R-squared:                       0.083\n",
      "Model:                            OLS   Adj. R-squared:                  0.083\n",
      "Method:                 Least Squares   F-statistic:                 2.718e+04\n",
      "Date:                Wed, 05 Apr 2023   Prob (F-statistic):               0.00\n",
      "Time:                        23:20:59   Log-Likelihood:            -3.9568e+07\n",
      "No. Observations:             3916378   AIC:                         7.914e+07\n",
      "Df Residuals:                 3916364   BIC:                         7.914e+07\n",
      "Df Model:                          13                                         \n",
      "Covariance Type:            nonrobust                                         \n",
      "=======================================================================================\n",
      "                          coef    std err          t      P>|t|      [0.025      0.975]\n",
      "---------------------------------------------------------------------------------------\n",
      "Intercept            2381.7567     10.712    222.353      0.000    2360.762    2402.751\n",
      "stay_time_s             0.0082   4.35e-05    187.669      0.000       0.008       0.008\n",
      "rate_f1               -47.5397      2.644    -17.982      0.000     -52.721     -42.358\n",
      "rate_f2               -19.2017      2.705     -7.099      0.000     -24.503     -13.900\n",
      "rate_f3                16.3193      2.689      6.068      0.000      11.048      21.590\n",
      "rate_f4                26.3786      2.567     10.276      0.000      21.348      31.410\n",
      "rate_f5               -10.3441      2.769     -3.736      0.000     -15.771      -4.917\n",
      "rate_f6               -55.2843      2.968    -18.627      0.000     -61.101     -49.467\n",
      "stay_time_s:rate_f1    -0.0004   1.08e-05    -34.198      0.000      -0.000      -0.000\n",
      "stay_time_s:rate_f2    -0.0002   1.11e-05    -18.591      0.000      -0.000      -0.000\n",
      "stay_time_s:rate_f3  -7.87e-06    1.1e-05     -0.717      0.473   -2.94e-05    1.36e-05\n",
      "stay_time_s:rate_f4 -1.052e-05   1.04e-05     -1.009      0.313    -3.1e-05    9.92e-06\n",
      "stay_time_s:rate_f5    -0.0002   1.13e-05    -17.606      0.000      -0.000      -0.000\n",
      "stay_time_s:rate_f6    -0.0004   1.21e-05    -31.213      0.000      -0.000      -0.000\n",
      "==============================================================================\n",
      "Omnibus:                  2001132.596   Durbin-Watson:                   1.989\n",
      "Prob(Omnibus):                  0.000   Jarque-Bera (JB):        709934767.512\n",
      "Skew:                           1.212   Prob(JB):                         0.00\n",
      "Kurtosis:                      68.914   Cond. No.                     2.63e+06\n",
      "==============================================================================\n",
      "\n",
      "Notes:\n",
      "[1] Standard Errors assume that the covariance matrix of the errors is correctly specified.\n",
      "[2] The condition number is large, 2.63e+06. This might indicate that there are\n",
      "strong multicollinearity or other numerical problems.\n"
     ]
    }
   ],
   "source": [
    "import statsmodels.formula.api as smf\n",
    "\n",
    "#Model 8: \n",
    "# 选择特征\n",
    "features = ['stay_time_s','rate_f1', 'rate_f2', 'rate_f3', 'rate_f4','rate_f5', 'rate_f6']\n",
    "# 选择目标\n",
    "target = 'session_time'\n",
    "\n",
    "# 指定线性回归模型公式\n",
    "formula = \"session_time ~ stay_time_s *(rate_f1 + rate_f2 + rate_f3 + rate_f4 + rate_f5 + rate_f6)\"    \n",
    "# 在训练集上拟合线性回归模型\n",
    "model_8 = smf.ols(formula=formula, data=train_df).fit()\n",
    "\n",
    "# results\n",
    "print(model_8.summary())\n",
    "\n",
    "# 在测试集上进行预测\n",
    "model_8_y_hat_group1 = model_8.predict(test_df_group1[features])\n",
    "model_8_y_hat_group2 = model_8.predict(test_df_group2[features])\n",
    "model_8_y_hat_group3 = model_8.predict(test_df_group3[features])"
   ]
  },
  {
   "cell_type": "code",
   "execution_count": 10,
   "id": "f9acf7d0",
   "metadata": {},
   "outputs": [
    {
     "name": "stdout",
     "output_type": "stream",
     "text": [
      "model_8_R2: [0.08276537464963785, 0.05709818518861487, 0.07926093567405579, 0.06479337724510359]\n",
      "model_8_ATE: [26.763989810951898, 93.54883801813821, 17.223810999323177, 0]\n"
     ]
    }
   ],
   "source": [
    "# 个体level\n",
    "Model_8_R2=[]\n",
    "Model_8_R2.append(r2_score(train_df[target],model_8.predict(train_df[features])))\n",
    "Model_8_R2.append(r2_score(test_df_group1[target],model_8.predict(test_df_group1[features])))\n",
    "Model_8_R2.append(r2_score(test_df_group2[target],model_8.predict(test_df_group2[features])))\n",
    "Model_8_R2.append(r2_score(test_df_group3[target],model_8.predict(test_df_group3[features])))\n",
    "\n",
    "print(\"model_8_R2:\",Model_8_R2)\n",
    "\n",
    "model_8_ATE=[]\n",
    "model_8_group_1_ATE= np.mean(model_8_y_hat_group1)- np.mean(test_df_control[\"session_time\"])\n",
    "model_8_group_2_ATE= np.mean(model_8_y_hat_group2)- np.mean(test_df_control[\"session_time\"])\n",
    "model_8_group_3_ATE= np.mean(model_8_y_hat_group3)- np.mean(test_df_control[\"session_time\"])\n",
    "model_8_ATE.append(model_8_group_1_ATE)\n",
    "model_8_ATE.append(model_8_group_2_ATE)\n",
    "model_8_ATE.append(model_8_group_3_ATE)\n",
    "model_8_ATE.append(0)\n",
    "\n",
    "print(\"model_8_ATE:\",model_8_ATE)"
   ]
  },
  {
   "cell_type": "code",
   "execution_count": 11,
   "id": "5cfe5be2",
   "metadata": {},
   "outputs": [],
   "source": [
    "Model_8_result=pd.DataFrame(dict(\n",
    "    Model_8_R2=Model_8_R2,\n",
    "    model_8_ATE=model_8_ATE\n",
    "))\n",
    "Model_8_result.to_csv(\"Model_8_result.csv\")"
   ]
  },
  {
   "cell_type": "markdown",
   "id": "84d5302f",
   "metadata": {},
   "source": [
    "## Model 9: X*(c1 + c2 + c3 + c4)"
   ]
  },
  {
   "cell_type": "code",
   "execution_count": 12,
   "id": "1882fb17",
   "metadata": {},
   "outputs": [
    {
     "name": "stdout",
     "output_type": "stream",
     "text": [
      "                            OLS Regression Results                            \n",
      "==============================================================================\n",
      "Dep. Variable:           session_time   R-squared:                       0.083\n",
      "Model:                            OLS   Adj. R-squared:                  0.083\n",
      "Method:                 Least Squares   F-statistic:                 3.918e+04\n",
      "Date:                Wed, 05 Apr 2023   Prob (F-statistic):               0.00\n",
      "Time:                        23:21:14   Log-Likelihood:            -3.9568e+07\n",
      "No. Observations:             3916378   AIC:                         7.914e+07\n",
      "Df Residuals:                 3916368   BIC:                         7.914e+07\n",
      "Df Model:                           9                                         \n",
      "Covariance Type:            nonrobust                                         \n",
      "=======================================================================================\n",
      "                          coef    std err          t      P>|t|      [0.025      0.975]\n",
      "---------------------------------------------------------------------------------------\n",
      "Intercept            2378.8576     10.713    222.058      0.000    2357.861    2399.854\n",
      "stay_time_s             0.0082   4.36e-05    187.203      0.000       0.008       0.008\n",
      "rate_c1              -108.9648      3.910    -27.866      0.000    -116.629    -101.301\n",
      "rate_c2               -16.1630      4.666     -3.464      0.001     -25.309      -7.017\n",
      "rate_c3                -3.5890      4.771     -0.752      0.452     -12.940       5.762\n",
      "rate_c4                 4.5398      1.900      2.389      0.017       0.816       8.264\n",
      "stay_time_s:rate_c1    -0.0007   1.61e-05    -45.114      0.000      -0.001      -0.001\n",
      "stay_time_s:rate_c2    -0.0004   1.88e-05    -22.531      0.000      -0.000      -0.000\n",
      "stay_time_s:rate_c3 -3.133e-05   1.92e-05     -1.634      0.102   -6.89e-05    6.24e-06\n",
      "stay_time_s:rate_c4 -8.927e-05   7.73e-06    -11.547      0.000      -0.000   -7.41e-05\n",
      "==============================================================================\n",
      "Omnibus:                  2003138.432   Durbin-Watson:                   1.989\n",
      "Prob(Omnibus):                  0.000   Jarque-Bera (JB):        709684926.122\n",
      "Skew:                           1.215   Prob(JB):                         0.00\n",
      "Kurtosis:                      68.902   Cond. No.                     4.94e+06\n",
      "==============================================================================\n",
      "\n",
      "Notes:\n",
      "[1] Standard Errors assume that the covariance matrix of the errors is correctly specified.\n",
      "[2] The condition number is large, 4.94e+06. This might indicate that there are\n",
      "strong multicollinearity or other numerical problems.\n"
     ]
    }
   ],
   "source": [
    "import statsmodels.formula.api as smf\n",
    "\n",
    "#Model 4: \n",
    "# 选择特征\n",
    "features = ['stay_time_s','rate_c1', 'rate_c2', 'rate_c3', 'rate_c4']\n",
    "# 选择目标\n",
    "target = 'session_time'\n",
    "\n",
    "# 指定线性回归模型公式\n",
    "formula = \"session_time ~ stay_time_s*(rate_c1 + rate_c2 + rate_c3 + rate_c4)\"    \n",
    "# 在训练集上拟合线性回归模型\n",
    "model_9 = smf.ols(formula=formula, data=train_df).fit()\n",
    "\n",
    "# results\n",
    "print(model_9.summary())\n",
    "\n",
    "# 在测试集上进行预测\n",
    "model_9_y_hat_group1 = model_9.predict(test_df_group1[features])\n",
    "model_9_y_hat_group2 = model_9.predict(test_df_group2[features])\n",
    "model_9_y_hat_group3 = model_9.predict(test_df_group3[features])"
   ]
  },
  {
   "cell_type": "code",
   "execution_count": 13,
   "id": "47e10b63",
   "metadata": {},
   "outputs": [
    {
     "name": "stdout",
     "output_type": "stream",
     "text": [
      "model_9_R2: [0.08260790760624748, 0.059253608293464155, 0.08069570356643685, 0.06543989128240091]\n",
      "model_9_ATE: [-221.28696375953314, -61.03836639974634, -36.09252209535089, 0]\n"
     ]
    }
   ],
   "source": [
    "# 个体level\n",
    "Model_9_R2=[]\n",
    "Model_9_R2.append(r2_score(train_df[target],model_9.predict(train_df[features])))\n",
    "Model_9_R2.append(r2_score(test_df_group1[target],model_9.predict(test_df_group1[features])))\n",
    "Model_9_R2.append(r2_score(test_df_group2[target],model_9.predict(test_df_group2[features])))\n",
    "Model_9_R2.append(r2_score(test_df_group3[target],model_9.predict(test_df_group3[features])))\n",
    "\n",
    "print(\"model_9_R2:\",Model_9_R2)\n",
    "\n",
    "model_9_ATE=[]\n",
    "model_9_group_1_ATE= np.mean(model_9_y_hat_group1)- np.mean(test_df_control[\"session_time\"])\n",
    "model_9_group_2_ATE= np.mean(model_9_y_hat_group2)- np.mean(test_df_control[\"session_time\"])\n",
    "model_9_group_3_ATE= np.mean(model_9_y_hat_group3)- np.mean(test_df_control[\"session_time\"])\n",
    "model_9_ATE.append(model_9_group_1_ATE)\n",
    "model_9_ATE.append(model_9_group_2_ATE)\n",
    "model_9_ATE.append(model_9_group_3_ATE)\n",
    "model_9_ATE.append(0)\n",
    "\n",
    "print(\"model_9_ATE:\",model_9_ATE)"
   ]
  },
  {
   "cell_type": "code",
   "execution_count": 14,
   "id": "8577ae5c",
   "metadata": {},
   "outputs": [],
   "source": [
    "Model_9_result=pd.DataFrame(dict(\n",
    "    Model_9_R2=Model_9_R2,\n",
    "    model_9_ATE=model_9_ATE\n",
    "))\n",
    "Model_9_result.to_csv(\"Model_9_result.csv\")"
   ]
  },
  {
   "cell_type": "markdown",
   "id": "660eeaba",
   "metadata": {},
   "source": [
    "# 4. Copmare all model result"
   ]
  },
  {
   "cell_type": "code",
   "execution_count": 15,
   "id": "23391656",
   "metadata": {},
   "outputs": [],
   "source": [
    "# 给定两列值，Y和 Y_hat\n",
    "# 计算两列的R square\n",
    "def r_square(y, y_hat):\n",
    "    # 计算平均值\n",
    "    y_mean = np.mean(y)\n",
    "    # 计算总的方差\n",
    "    total_variance = np.sum((y - y_mean) ** 2)\n",
    "    # 计算残差\n",
    "    residual = np.sum((y - y_hat) ** 2)\n",
    "    # 计算R square\n",
    "    r_square = 1 - residual / total_variance\n",
    "    return r_square\n",
    "\n",
    "# 给定两列值，Y和 Y_hat\n",
    "# 计算两列的MAPE\n",
    "def mape(y, y_hat):\n",
    "    # 计算MAPE\n",
    "    mape = np.mean(np.abs((y - y_hat) / y))\n",
    "    return mape"
   ]
  },
  {
   "cell_type": "code",
   "execution_count": 26,
   "id": "ede0fcbf",
   "metadata": {},
   "outputs": [],
   "source": [
    "# 1. 读取全部的ATE\n",
    "Model_1_result=pd.read_csv(\"Model_1_result.csv\")\n",
    "Model_2_result=pd.read_csv(\"Model_2_result.csv\")\n",
    "Model_3_result=pd.read_csv(\"Model_3_result.csv\")\n",
    "Model_3_1_result=pd.read_csv(\"Model_3_1_result.csv\")\n",
    "Model_4_result=pd.read_csv(\"Model_4_result.csv\")\n",
    "Model_4_1_result=pd.read_csv(\"Model_4_1_result.csv\")\n",
    "Model_5_result=pd.read_csv(\"Model_5_result.csv\")\n",
    "Model_6_result=pd.read_csv(\"Model_6_result.csv\")\n",
    "Model_6_1_result=pd.read_csv(\"Model_6_1_result.csv\")\n",
    "Model_7_result=pd.read_csv(\"Model_7_result.csv\")\n",
    "Model_8_result=pd.read_csv(\"Model_8_result.csv\")\n",
    "Model_9_result=pd.read_csv(\"Model_9_result.csv\")"
   ]
  },
  {
   "cell_type": "code",
   "execution_count": 27,
   "id": "dbb2b4a8",
   "metadata": {},
   "outputs": [
    {
     "data": {
      "text/html": [
       "<div>\n",
       "<style scoped>\n",
       "    .dataframe tbody tr th:only-of-type {\n",
       "        vertical-align: middle;\n",
       "    }\n",
       "\n",
       "    .dataframe tbody tr th {\n",
       "        vertical-align: top;\n",
       "    }\n",
       "\n",
       "    .dataframe thead th {\n",
       "        text-align: right;\n",
       "    }\n",
       "</style>\n",
       "<table border=\"1\" class=\"dataframe\">\n",
       "  <thead>\n",
       "    <tr style=\"text-align: right;\">\n",
       "      <th></th>\n",
       "      <th>Unnamed: 0</th>\n",
       "      <th>Model_3_R2</th>\n",
       "      <th>model_3_ATE</th>\n",
       "    </tr>\n",
       "  </thead>\n",
       "  <tbody>\n",
       "    <tr>\n",
       "      <th>0</th>\n",
       "      <td>0</td>\n",
       "      <td>0.000628</td>\n",
       "      <td>26.720478</td>\n",
       "    </tr>\n",
       "    <tr>\n",
       "      <th>1</th>\n",
       "      <td>1</td>\n",
       "      <td>-0.000053</td>\n",
       "      <td>96.016669</td>\n",
       "    </tr>\n",
       "    <tr>\n",
       "      <th>2</th>\n",
       "      <td>2</td>\n",
       "      <td>-0.000438</td>\n",
       "      <td>24.429904</td>\n",
       "    </tr>\n",
       "    <tr>\n",
       "      <th>3</th>\n",
       "      <td>3</td>\n",
       "      <td>-0.000029</td>\n",
       "      <td>0.000000</td>\n",
       "    </tr>\n",
       "  </tbody>\n",
       "</table>\n",
       "</div>"
      ],
      "text/plain": [
       "   Unnamed: 0  Model_3_R2  model_3_ATE\n",
       "0           0    0.000628    26.720478\n",
       "1           1   -0.000053    96.016669\n",
       "2           2   -0.000438    24.429904\n",
       "3           3   -0.000029     0.000000"
      ]
     },
     "execution_count": 27,
     "metadata": {},
     "output_type": "execute_result"
    }
   ],
   "source": [
    "Model_3_1_result"
   ]
  },
  {
   "cell_type": "code",
   "execution_count": 30,
   "id": "b8c6693d",
   "metadata": {},
   "outputs": [
    {
     "data": {
      "text/html": [
       "<div>\n",
       "<style scoped>\n",
       "    .dataframe tbody tr th:only-of-type {\n",
       "        vertical-align: middle;\n",
       "    }\n",
       "\n",
       "    .dataframe tbody tr th {\n",
       "        vertical-align: top;\n",
       "    }\n",
       "\n",
       "    .dataframe thead th {\n",
       "        text-align: right;\n",
       "    }\n",
       "</style>\n",
       "<table border=\"1\" class=\"dataframe\">\n",
       "  <thead>\n",
       "    <tr style=\"text-align: right;\">\n",
       "      <th></th>\n",
       "      <th>real_ATE</th>\n",
       "      <th>model_1_ATE</th>\n",
       "      <th>model_2_ATE</th>\n",
       "      <th>model_3_ATE</th>\n",
       "      <th>model_3_1_ATE</th>\n",
       "      <th>model_4_ATE</th>\n",
       "      <th>model_4_1_ATE</th>\n",
       "      <th>model_5_ATE</th>\n",
       "      <th>model_6_ATE</th>\n",
       "      <th>model_6_1_ATE</th>\n",
       "      <th>model_7_ATE</th>\n",
       "      <th>model_8_ATE</th>\n",
       "      <th>model_9_ATE</th>\n",
       "    </tr>\n",
       "  </thead>\n",
       "  <tbody>\n",
       "    <tr>\n",
       "      <th>0</th>\n",
       "      <td>-17.191892</td>\n",
       "      <td>2.562324e+13</td>\n",
       "      <td>1030.038671</td>\n",
       "      <td>26.624083</td>\n",
       "      <td>26.720478</td>\n",
       "      <td>-221.925338</td>\n",
       "      <td>-219.673516</td>\n",
       "      <td>-3.744501e+02</td>\n",
       "      <td>-206.629838</td>\n",
       "      <td>-208.189591</td>\n",
       "      <td>1041.738627</td>\n",
       "      <td>26.763990</td>\n",
       "      <td>-221.286964</td>\n",
       "    </tr>\n",
       "    <tr>\n",
       "      <th>1</th>\n",
       "      <td>-27.690852</td>\n",
       "      <td>1.441634e+12</td>\n",
       "      <td>3671.450752</td>\n",
       "      <td>93.590779</td>\n",
       "      <td>96.016669</td>\n",
       "      <td>-61.451413</td>\n",
       "      <td>-59.386956</td>\n",
       "      <td>-7.516322e+04</td>\n",
       "      <td>56.026171</td>\n",
       "      <td>54.224472</td>\n",
       "      <td>3680.067784</td>\n",
       "      <td>93.548838</td>\n",
       "      <td>-61.038366</td>\n",
       "    </tr>\n",
       "    <tr>\n",
       "      <th>2</th>\n",
       "      <td>-8.014283</td>\n",
       "      <td>-2.546230e+12</td>\n",
       "      <td>4279.203497</td>\n",
       "      <td>17.477618</td>\n",
       "      <td>24.429904</td>\n",
       "      <td>-36.377683</td>\n",
       "      <td>-27.764284</td>\n",
       "      <td>1.018243e+08</td>\n",
       "      <td>-21.832875</td>\n",
       "      <td>-17.439589</td>\n",
       "      <td>4271.817933</td>\n",
       "      <td>17.223811</td>\n",
       "      <td>-36.092522</td>\n",
       "    </tr>\n",
       "    <tr>\n",
       "      <th>3</th>\n",
       "      <td>0.000000</td>\n",
       "      <td>0.000000e+00</td>\n",
       "      <td>0.000000</td>\n",
       "      <td>0.000000</td>\n",
       "      <td>0.000000</td>\n",
       "      <td>0.000000</td>\n",
       "      <td>0.000000</td>\n",
       "      <td>0.000000e+00</td>\n",
       "      <td>0.000000</td>\n",
       "      <td>0.000000</td>\n",
       "      <td>0.000000</td>\n",
       "      <td>0.000000</td>\n",
       "      <td>0.000000</td>\n",
       "    </tr>\n",
       "  </tbody>\n",
       "</table>\n",
       "</div>"
      ],
      "text/plain": [
       "    real_ATE   model_1_ATE  model_2_ATE  model_3_ATE  model_3_1_ATE  \\\n",
       "0 -17.191892  2.562324e+13  1030.038671    26.624083      26.720478   \n",
       "1 -27.690852  1.441634e+12  3671.450752    93.590779      96.016669   \n",
       "2  -8.014283 -2.546230e+12  4279.203497    17.477618      24.429904   \n",
       "3   0.000000  0.000000e+00     0.000000     0.000000       0.000000   \n",
       "\n",
       "   model_4_ATE  model_4_1_ATE   model_5_ATE  model_6_ATE  model_6_1_ATE  \\\n",
       "0  -221.925338    -219.673516 -3.744501e+02  -206.629838    -208.189591   \n",
       "1   -61.451413     -59.386956 -7.516322e+04    56.026171      54.224472   \n",
       "2   -36.377683     -27.764284  1.018243e+08   -21.832875     -17.439589   \n",
       "3     0.000000       0.000000  0.000000e+00     0.000000       0.000000   \n",
       "\n",
       "   model_7_ATE  model_8_ATE  model_9_ATE  \n",
       "0  1041.738627    26.763990  -221.286964  \n",
       "1  3680.067784    93.548838   -61.038366  \n",
       "2  4271.817933    17.223811   -36.092522  \n",
       "3     0.000000     0.000000     0.000000  "
      ]
     },
     "execution_count": 30,
     "metadata": {},
     "output_type": "execute_result"
    }
   ],
   "source": [
    "all_ATE=[]\n",
    "all_ATE=pd.DataFrame(dict(\n",
    "    real_ATE=real_ATE,\n",
    "    model_1_ATE=Model_1_result[\"model_1_ATE\"],\n",
    "    model_2_ATE=Model_2_result[\"model_2_ATE\"],\n",
    "    model_3_ATE=Model_3_result[\"model_3_ATE\"],\n",
    "    model_3_1_ATE=Model_3_1_result[\"model_3_ATE\"],\n",
    "    model_4_ATE=Model_4_result[\"model_4_ATE\"],\n",
    "    model_4_1_ATE=Model_4_1_result[\"model_4_ATE\"],\n",
    "    model_5_ATE=Model_5_result[\"model_5_ATE\"],\n",
    "    model_6_ATE=Model_6_result[\"model_6_ATE\"],\n",
    "    model_6_1_ATE=Model_6_1_result[\"model_6_ATE\"],\n",
    "    model_7_ATE=Model_7_result[\"model_7_ATE\"],\n",
    "    model_8_ATE=Model_8_result[\"model_8_ATE\"],\n",
    "    model_9_ATE=Model_9_result[\"model_9_ATE\"]\n",
    "))\n",
    "\n",
    "all_ATE"
   ]
  },
  {
   "cell_type": "code",
   "execution_count": 36,
   "id": "343d5729",
   "metadata": {},
   "outputs": [
    {
     "data": {
      "text/html": [
       "<div>\n",
       "<style scoped>\n",
       "    .dataframe tbody tr th:only-of-type {\n",
       "        vertical-align: middle;\n",
       "    }\n",
       "\n",
       "    .dataframe tbody tr th {\n",
       "        vertical-align: top;\n",
       "    }\n",
       "\n",
       "    .dataframe thead th {\n",
       "        text-align: right;\n",
       "    }\n",
       "</style>\n",
       "<table border=\"1\" class=\"dataframe\">\n",
       "  <thead>\n",
       "    <tr style=\"text-align: right;\">\n",
       "      <th></th>\n",
       "      <th>model_1_R2</th>\n",
       "      <th>model_2_R2</th>\n",
       "      <th>model_3_R2</th>\n",
       "      <th>model_3_1_R2</th>\n",
       "      <th>model_4_R2</th>\n",
       "      <th>model_4_1_R2</th>\n",
       "      <th>model_5_R2</th>\n",
       "      <th>model_6_R2</th>\n",
       "      <th>model_6_1_R2</th>\n",
       "      <th>model_7_R2</th>\n",
       "      <th>model_8_R2</th>\n",
       "      <th>model_9_R2</th>\n",
       "    </tr>\n",
       "  </thead>\n",
       "  <tbody>\n",
       "    <tr>\n",
       "      <th>0</th>\n",
       "      <td>2.611103e-03</td>\n",
       "      <td>0.084164</td>\n",
       "      <td>0.082180</td>\n",
       "      <td>0.000628</td>\n",
       "      <td>0.082023</td>\n",
       "      <td>0.000462</td>\n",
       "      <td>8.401132e-02</td>\n",
       "      <td>0.082557</td>\n",
       "      <td>0.001004</td>\n",
       "      <td>0.086509</td>\n",
       "      <td>0.082765</td>\n",
       "      <td>0.082608</td>\n",
       "    </tr>\n",
       "    <tr>\n",
       "      <th>1</th>\n",
       "      <td>-1.806239e+19</td>\n",
       "      <td>0.027562</td>\n",
       "      <td>0.057680</td>\n",
       "      <td>-0.000053</td>\n",
       "      <td>0.056578</td>\n",
       "      <td>-0.001128</td>\n",
       "      <td>5.421551e-02</td>\n",
       "      <td>0.056746</td>\n",
       "      <td>-0.001004</td>\n",
       "      <td>0.026841</td>\n",
       "      <td>0.057098</td>\n",
       "      <td>0.059254</td>\n",
       "    </tr>\n",
       "    <tr>\n",
       "      <th>2</th>\n",
       "      <td>-5.943620e+16</td>\n",
       "      <td>-0.310865</td>\n",
       "      <td>0.080044</td>\n",
       "      <td>-0.000438</td>\n",
       "      <td>0.080431</td>\n",
       "      <td>-0.000029</td>\n",
       "      <td>-1.614476e+02</td>\n",
       "      <td>0.080264</td>\n",
       "      <td>-0.000192</td>\n",
       "      <td>-0.475126</td>\n",
       "      <td>0.079261</td>\n",
       "      <td>0.080696</td>\n",
       "    </tr>\n",
       "    <tr>\n",
       "      <th>3</th>\n",
       "      <td>-1.775653e+17</td>\n",
       "      <td>-0.438009</td>\n",
       "      <td>0.065374</td>\n",
       "      <td>-0.000029</td>\n",
       "      <td>0.065369</td>\n",
       "      <td>-0.000011</td>\n",
       "      <td>-4.909684e+09</td>\n",
       "      <td>0.065386</td>\n",
       "      <td>-0.000002</td>\n",
       "      <td>-0.731761</td>\n",
       "      <td>0.064793</td>\n",
       "      <td>0.065440</td>\n",
       "    </tr>\n",
       "  </tbody>\n",
       "</table>\n",
       "</div>"
      ],
      "text/plain": [
       "     model_1_R2  model_2_R2  model_3_R2  model_3_1_R2  model_4_R2  \\\n",
       "0  2.611103e-03    0.084164    0.082180      0.000628    0.082023   \n",
       "1 -1.806239e+19    0.027562    0.057680     -0.000053    0.056578   \n",
       "2 -5.943620e+16   -0.310865    0.080044     -0.000438    0.080431   \n",
       "3 -1.775653e+17   -0.438009    0.065374     -0.000029    0.065369   \n",
       "\n",
       "   model_4_1_R2    model_5_R2  model_6_R2  model_6_1_R2  model_7_R2  \\\n",
       "0      0.000462  8.401132e-02    0.082557      0.001004    0.086509   \n",
       "1     -0.001128  5.421551e-02    0.056746     -0.001004    0.026841   \n",
       "2     -0.000029 -1.614476e+02    0.080264     -0.000192   -0.475126   \n",
       "3     -0.000011 -4.909684e+09    0.065386     -0.000002   -0.731761   \n",
       "\n",
       "   model_8_R2  model_9_R2  \n",
       "0    0.082765    0.082608  \n",
       "1    0.057098    0.059254  \n",
       "2    0.079261    0.080696  \n",
       "3    0.064793    0.065440  "
      ]
     },
     "execution_count": 36,
     "metadata": {},
     "output_type": "execute_result"
    }
   ],
   "source": [
    "all_R2=[]\n",
    "all_R2=pd.DataFrame(dict(\n",
    "    model_1_R2=Model_1_result[\"Model_1_R2\"],\n",
    "    model_2_R2=Model_2_result[\"Model_2_R2\"],\n",
    "    model_3_R2=Model_3_result[\"Model_3_R2\"],\n",
    "    model_3_1_R2=Model_3_1_result[\"Model_3_R2\"],\n",
    "    model_4_R2=Model_4_result[\"Model_4_R2\"],\n",
    "    model_4_1_R2=Model_4_1_result[\"Model_4_R2\"],\n",
    "    model_5_R2=Model_5_result[\"Model_5_R2\"],\n",
    "    model_6_R2=Model_6_result[\"Model_6_R2\"],\n",
    "    model_6_1_R2=Model_6_1_result[\"Model_6_R2\"],\n",
    "    model_7_R2=Model_7_result[\"Model_7_R2\"],\n",
    "    model_8_R2=Model_8_result[\"Model_8_R2\"],\n",
    "    model_9_R2=Model_9_result[\"Model_9_R2\"]\n",
    "))\n",
    "\n",
    "all_R2"
   ]
  },
  {
   "cell_type": "code",
   "execution_count": 31,
   "id": "a9c19518",
   "metadata": {},
   "outputs": [],
   "source": [
    "all_model_ATE_R2=[]\n",
    "all_model_ATE_R2.append(r_square(all_ATE[\"real_ATE\"],all_ATE[\"model_1_ATE\"]))\n",
    "all_model_ATE_R2.append(r_square(all_ATE[\"real_ATE\"],all_ATE[\"model_2_ATE\"]))\n",
    "all_model_ATE_R2.append(r_square(all_ATE[\"real_ATE\"],all_ATE[\"model_3_ATE\"]))\n",
    "all_model_ATE_R2.append(r_square(all_ATE[\"real_ATE\"],all_ATE[\"model_3_1_ATE\"]))\n",
    "all_model_ATE_R2.append(r_square(all_ATE[\"real_ATE\"],all_ATE[\"model_4_ATE\"]))\n",
    "all_model_ATE_R2.append(r_square(all_ATE[\"real_ATE\"],all_ATE[\"model_4_1_ATE\"]))\n",
    "all_model_ATE_R2.append(r_square(all_ATE[\"real_ATE\"],all_ATE[\"model_5_ATE\"]))\n",
    "all_model_ATE_R2.append(r_square(all_ATE[\"real_ATE\"],all_ATE[\"model_6_ATE\"]))\n",
    "all_model_ATE_R2.append(r_square(all_ATE[\"real_ATE\"],all_ATE[\"model_6_1_ATE\"]))\n",
    "all_model_ATE_R2.append(r_square(all_ATE[\"real_ATE\"],all_ATE[\"model_7_ATE\"]))\n",
    "all_model_ATE_R2.append(r_square(all_ATE[\"real_ATE\"],all_ATE[\"model_8_ATE\"]))\n",
    "all_model_ATE_R2.append(r_square(all_ATE[\"real_ATE\"],all_ATE[\"model_9_ATE\"]))"
   ]
  },
  {
   "cell_type": "code",
   "execution_count": 32,
   "id": "4e121e43",
   "metadata": {},
   "outputs": [],
   "source": [
    "all_model_ATE_MAPE=[]\n",
    "all_model_ATE_MAPE.append(mape(all_ATE[\"real_ATE\"],all_ATE[\"model_1_ATE\"]))\n",
    "all_model_ATE_MAPE.append(mape(all_ATE[\"real_ATE\"],all_ATE[\"model_2_ATE\"]))\n",
    "all_model_ATE_MAPE.append(mape(all_ATE[\"real_ATE\"],all_ATE[\"model_3_ATE\"]))\n",
    "all_model_ATE_MAPE.append(mape(all_ATE[\"real_ATE\"],all_ATE[\"model_3_1_ATE\"]))\n",
    "all_model_ATE_MAPE.append(mape(all_ATE[\"real_ATE\"],all_ATE[\"model_4_ATE\"]))\n",
    "all_model_ATE_MAPE.append(mape(all_ATE[\"real_ATE\"],all_ATE[\"model_4_1_ATE\"]))\n",
    "all_model_ATE_MAPE.append(mape(all_ATE[\"real_ATE\"],all_ATE[\"model_5_ATE\"]))\n",
    "all_model_ATE_MAPE.append(mape(all_ATE[\"real_ATE\"],all_ATE[\"model_6_ATE\"]))\n",
    "all_model_ATE_MAPE.append(mape(all_ATE[\"real_ATE\"],all_ATE[\"model_6_1_ATE\"]))\n",
    "all_model_ATE_MAPE.append(mape(all_ATE[\"real_ATE\"],all_ATE[\"model_7_ATE\"]))\n",
    "all_model_ATE_MAPE.append(mape(all_ATE[\"real_ATE\"],all_ATE[\"model_8_ATE\"]))\n",
    "all_model_ATE_MAPE.append(mape(all_ATE[\"real_ATE\"],all_ATE[\"model_9_ATE\"]))"
   ]
  },
  {
   "cell_type": "code",
   "execution_count": 33,
   "id": "26c854a8",
   "metadata": {},
   "outputs": [
    {
     "data": {
      "text/html": [
       "<div>\n",
       "<style scoped>\n",
       "    .dataframe tbody tr th:only-of-type {\n",
       "        vertical-align: middle;\n",
       "    }\n",
       "\n",
       "    .dataframe tbody tr th {\n",
       "        vertical-align: top;\n",
       "    }\n",
       "\n",
       "    .dataframe thead th {\n",
       "        text-align: right;\n",
       "    }\n",
       "</style>\n",
       "<table border=\"1\" class=\"dataframe\">\n",
       "  <thead>\n",
       "    <tr style=\"text-align: right;\">\n",
       "      <th></th>\n",
       "      <th>all_model_ATE_R2</th>\n",
       "      <th>all_model_ATE_MAPE</th>\n",
       "    </tr>\n",
       "  </thead>\n",
       "  <tbody>\n",
       "    <tr>\n",
       "      <th>0</th>\n",
       "      <td>-1.557459e+24</td>\n",
       "      <td>6.200663e+11</td>\n",
       "    </tr>\n",
       "    <tr>\n",
       "      <th>1</th>\n",
       "      <td>-7.764946e+04</td>\n",
       "      <td>2.431495e+02</td>\n",
       "    </tr>\n",
       "    <tr>\n",
       "      <th>2</th>\n",
       "      <td>-3.946116e+01</td>\n",
       "      <td>3.369765e+00</td>\n",
       "    </tr>\n",
       "    <tr>\n",
       "      <th>3</th>\n",
       "      <td>-4.181583e+01</td>\n",
       "      <td>3.689999e+00</td>\n",
       "    </tr>\n",
       "    <tr>\n",
       "      <th>4</th>\n",
       "      <td>-1.017049e+02</td>\n",
       "      <td>5.555674e+00</td>\n",
       "    </tr>\n",
       "    <tr>\n",
       "      <th>5</th>\n",
       "      <td>-9.827077e+01</td>\n",
       "      <td>5.128910e+00</td>\n",
       "    </tr>\n",
       "    <tr>\n",
       "      <th>6</th>\n",
       "      <td>-2.427868e+13</td>\n",
       "      <td>4.236029e+06</td>\n",
       "    </tr>\n",
       "    <tr>\n",
       "      <th>7</th>\n",
       "      <td>-9.989287e+01</td>\n",
       "      <td>5.255516e+00</td>\n",
       "    </tr>\n",
       "    <tr>\n",
       "      <th>8</th>\n",
       "      <td>-1.003445e+02</td>\n",
       "      <td>5.081342e+00</td>\n",
       "    </tr>\n",
       "    <tr>\n",
       "      <th>9</th>\n",
       "      <td>-7.770846e+04</td>\n",
       "      <td>2.431729e+02</td>\n",
       "    </tr>\n",
       "    <tr>\n",
       "      <th>10</th>\n",
       "      <td>-3.943595e+01</td>\n",
       "      <td>3.361416e+00</td>\n",
       "    </tr>\n",
       "    <tr>\n",
       "      <th>11</th>\n",
       "      <td>-1.009911e+02</td>\n",
       "      <td>5.526464e+00</td>\n",
       "    </tr>\n",
       "  </tbody>\n",
       "</table>\n",
       "</div>"
      ],
      "text/plain": [
       "    all_model_ATE_R2  all_model_ATE_MAPE\n",
       "0      -1.557459e+24        6.200663e+11\n",
       "1      -7.764946e+04        2.431495e+02\n",
       "2      -3.946116e+01        3.369765e+00\n",
       "3      -4.181583e+01        3.689999e+00\n",
       "4      -1.017049e+02        5.555674e+00\n",
       "5      -9.827077e+01        5.128910e+00\n",
       "6      -2.427868e+13        4.236029e+06\n",
       "7      -9.989287e+01        5.255516e+00\n",
       "8      -1.003445e+02        5.081342e+00\n",
       "9      -7.770846e+04        2.431729e+02\n",
       "10     -3.943595e+01        3.361416e+00\n",
       "11     -1.009911e+02        5.526464e+00"
      ]
     },
     "execution_count": 33,
     "metadata": {},
     "output_type": "execute_result"
    }
   ],
   "source": [
    "all_model_ATE_metrics=pd.DataFrame(dict(\n",
    "    all_model_ATE_R2=all_model_ATE_R2,\n",
    "    all_model_ATE_MAPE=all_model_ATE_MAPE\n",
    "))\n",
    "all_model_ATE_metrics"
   ]
  },
  {
   "cell_type": "code",
   "execution_count": 37,
   "id": "a4788da1",
   "metadata": {},
   "outputs": [],
   "source": [
    "all_model_ATE_metrics.to_excel(\"all_model_ATE_metrics.xls\")\n",
    "all_ATE.to_excel(\"all_ATE.xls\")\n",
    "all_R2.to_excel(\"all_R2.xls\")"
   ]
  },
  {
   "cell_type": "code",
   "execution_count": null,
   "id": "985c5965",
   "metadata": {},
   "outputs": [],
   "source": []
  }
 ],
 "metadata": {
  "kernelspec": {
   "display_name": "Python 3.7",
   "language": "python",
   "name": "python3"
  },
  "language_info": {
   "codemirror_mode": {
    "name": "ipython",
    "version": 3
   },
   "file_extension": ".py",
   "mimetype": "text/x-python",
   "name": "python",
   "nbconvert_exporter": "python",
   "pygments_lexer": "ipython3",
   "version": "3.7.3"
  }
 },
 "nbformat": 4,
 "nbformat_minor": 5
}
