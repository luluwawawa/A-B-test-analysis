{
 "cells": [
  {
   "cell_type": "code",
   "execution_count": 1,
   "id": "919822d9",
   "metadata": {},
   "outputs": [],
   "source": [
    "# # 从数据库中读取数据包\n",
    "from pyspark.sql import SparkSession\n",
    "import os\n",
    "from pytoolkit import TDWSQLProvider\n",
    "import pandas"
   ]
  },
  {
   "cell_type": "code",
   "execution_count": 2,
   "id": "e96c522e",
   "metadata": {},
   "outputs": [
    {
     "name": "stdout",
     "output_type": "stream",
     "text": [
      "Driver Log: b8872aef-0f3f-40d6-9d4e-052f5fd53fb8.log\n",
      "Tracking URL: http://application.tdw.oa.com:8080/proxy/application_1666389614065_1094480\n"
     ]
    }
   ],
   "source": [
    "# 连接spark,这个只允许运行一次，再次运行需要重启内核\n",
    "os.environ['GROUP_ID'] = 'g_wxg_wxt_product_analytics_intern'\n",
    "os.environ['GAIA_ID'] = '5729'\n",
    "session = SparkSession.builder.config('spark.driver.maxResultSize','14g').config('spark.driver.memory', '14g').config('spark.executor.cores', 4).config('spark.executor.memory', '14g').config('spark.yarn.archive','hdfs://qy-ieg-4-v2/data/SPARK/cachefile/3_12_2.4.6_hadoop3/spark-jars_old_notauth.zip').getOrCreate()\n",
    "# session = SparkSession.builder.config('spark.driver.memory', '8g').config('spark.executor.cores', 4).config('spark.executor.memory', '8g').getOrCreate()"
   ]
  },
  {
   "cell_type": "code",
   "execution_count": null,
   "id": "5bdba92c",
   "metadata": {},
   "outputs": [],
   "source": [
    "# 若数据量小，可以直接读取\n",
    "from pytoolkit import TDWSQLProvider\n",
    "provider = TDWSQLProvider(session, group='tl', db='wxg_weixin_analytics_intern')\n",
    "df=provider.table('tmp_dws_app_bilateral_expt_11141246_user_intern_uin_i').toPandas()"
   ]
  },
  {
   "cell_type": "code",
   "execution_count": 3,
   "id": "c6cd6cf1",
   "metadata": {},
   "outputs": [],
   "source": [
    "# 若数据量较大，分不同的sql读取\n",
    "from pytoolkit import TDWSQLProvider\n",
    "provider = TDWSQLProvider(session, group='tl', db='wxg_weixin_analytics_intern')\n",
    "tbl=provider.table('tmp_dws_app_bilateral_expt_11141246_user_intern_uin_i')\n",
    "tbl.createOrReplaceTempView('tbl')"
   ]
  },
  {
   "cell_type": "code",
   "execution_count": 4,
   "id": "92a82f24",
   "metadata": {},
   "outputs": [
    {
     "data": {
      "text/html": [
       "<div>\n",
       "<style scoped>\n",
       "    .dataframe tbody tr th:only-of-type {\n",
       "        vertical-align: middle;\n",
       "    }\n",
       "\n",
       "    .dataframe tbody tr th {\n",
       "        vertical-align: top;\n",
       "    }\n",
       "\n",
       "    .dataframe thead th {\n",
       "        text-align: right;\n",
       "    }\n",
       "</style>\n",
       "<table border=\"1\" class=\"dataframe\">\n",
       "  <thead>\n",
       "    <tr style=\"text-align: right;\">\n",
       "      <th></th>\n",
       "      <th>ds</th>\n",
       "      <th>groupid</th>\n",
       "      <th>first_hit_ds</th>\n",
       "      <th>is_active_today</th>\n",
       "      <th>stay_cnt</th>\n",
       "      <th>like_svr_cnt</th>\n",
       "      <th>follow_svr_cnt</th>\n",
       "      <th>forward_cnt</th>\n",
       "      <th>cold_start_stay_cnt</th>\n",
       "      <th>stay_time</th>\n",
       "      <th>anonymous</th>\n",
       "    </tr>\n",
       "  </thead>\n",
       "  <tbody>\n",
       "    <tr>\n",
       "      <th>0</th>\n",
       "      <td>20220328</td>\n",
       "      <td>253814</td>\n",
       "      <td>20220402</td>\n",
       "      <td>7.929746</td>\n",
       "      <td>2.959817</td>\n",
       "      <td>3.259428</td>\n",
       "      <td>8.343132</td>\n",
       "      <td>2.097061</td>\n",
       "      <td>7.390883</td>\n",
       "      <td>0.700326</td>\n",
       "      <td>cf5d25623e771b880a3262f43f18dbe5</td>\n",
       "    </tr>\n",
       "    <tr>\n",
       "      <th>1</th>\n",
       "      <td>20220328</td>\n",
       "      <td>253815</td>\n",
       "      <td>20220326</td>\n",
       "      <td>7.929746</td>\n",
       "      <td>2.959817</td>\n",
       "      <td>3.259428</td>\n",
       "      <td>8.343132</td>\n",
       "      <td>2.097061</td>\n",
       "      <td>7.390883</td>\n",
       "      <td>0.700326</td>\n",
       "      <td>893622d1e54504eeb0a3fec7e1d52e62</td>\n",
       "    </tr>\n",
       "    <tr>\n",
       "      <th>2</th>\n",
       "      <td>20220328</td>\n",
       "      <td>253814</td>\n",
       "      <td>20220331</td>\n",
       "      <td>7.929746</td>\n",
       "      <td>2.959817</td>\n",
       "      <td>3.259428</td>\n",
       "      <td>8.343132</td>\n",
       "      <td>2.097061</td>\n",
       "      <td>7.390883</td>\n",
       "      <td>0.700326</td>\n",
       "      <td>a4806c2a63f1c233a47ca06528ab4f24</td>\n",
       "    </tr>\n",
       "    <tr>\n",
       "      <th>3</th>\n",
       "      <td>20220328</td>\n",
       "      <td>253814</td>\n",
       "      <td>20220326</td>\n",
       "      <td>7.929746</td>\n",
       "      <td>2.959817</td>\n",
       "      <td>3.259428</td>\n",
       "      <td>8.343132</td>\n",
       "      <td>2.097061</td>\n",
       "      <td>7.390883</td>\n",
       "      <td>0.700326</td>\n",
       "      <td>ba3310215cb7e1fa4f0d9e575475e4fd</td>\n",
       "    </tr>\n",
       "    <tr>\n",
       "      <th>4</th>\n",
       "      <td>20220328</td>\n",
       "      <td>253815</td>\n",
       "      <td>20220326</td>\n",
       "      <td>7.929746</td>\n",
       "      <td>2.959817</td>\n",
       "      <td>3.259428</td>\n",
       "      <td>8.343132</td>\n",
       "      <td>2.097061</td>\n",
       "      <td>7.390883</td>\n",
       "      <td>0.700326</td>\n",
       "      <td>a523b49b164aa930e07041bfbb910096</td>\n",
       "    </tr>\n",
       "  </tbody>\n",
       "</table>\n",
       "</div>"
      ],
      "text/plain": [
       "         ds  groupid  first_hit_ds  is_active_today  stay_cnt  like_svr_cnt  \\\n",
       "0  20220328   253814      20220402         7.929746  2.959817      3.259428   \n",
       "1  20220328   253815      20220326         7.929746  2.959817      3.259428   \n",
       "2  20220328   253814      20220331         7.929746  2.959817      3.259428   \n",
       "3  20220328   253814      20220326         7.929746  2.959817      3.259428   \n",
       "4  20220328   253815      20220326         7.929746  2.959817      3.259428   \n",
       "\n",
       "   follow_svr_cnt  forward_cnt  cold_start_stay_cnt  stay_time  \\\n",
       "0        8.343132     2.097061             7.390883   0.700326   \n",
       "1        8.343132     2.097061             7.390883   0.700326   \n",
       "2        8.343132     2.097061             7.390883   0.700326   \n",
       "3        8.343132     2.097061             7.390883   0.700326   \n",
       "4        8.343132     2.097061             7.390883   0.700326   \n",
       "\n",
       "                          anonymous  \n",
       "0  cf5d25623e771b880a3262f43f18dbe5  \n",
       "1  893622d1e54504eeb0a3fec7e1d52e62  \n",
       "2  a4806c2a63f1c233a47ca06528ab4f24  \n",
       "3  ba3310215cb7e1fa4f0d9e575475e4fd  \n",
       "4  a523b49b164aa930e07041bfbb910096  "
      ]
     },
     "execution_count": 4,
     "metadata": {},
     "output_type": "execute_result"
    }
   ],
   "source": [
    "df_head=session.sql('select * from tbl limit 5').toPandas()\n",
    "df_head"
   ]
  },
  {
   "cell_type": "code",
   "execution_count": 5,
   "id": "88a96c38",
   "metadata": {},
   "outputs": [],
   "source": [
    "#数据分析包\n",
    "import warnings\n",
    "warnings.filterwarnings(\"ignore\")\n",
    "\n",
    "import pandas as pd\n",
    "import numpy as np\n",
    "from scipy import stats\n",
    "import seaborn as sns\n",
    "import matplotlib.pyplot as plt\n",
    "# \n",
    "from metric_funcs import Ttest, Metric\n",
    "from frt_pvalue import sharp_null_hypothesis_pvalue"
   ]
  },
  {
   "cell_type": "markdown",
   "id": "a2a23f36",
   "metadata": {},
   "source": [
    "# EDA_user_side"
   ]
  },
  {
   "cell_type": "markdown",
   "id": "2eca21ff",
   "metadata": {},
   "source": [
    "## 1. initial data exploration"
   ]
  },
  {
   "cell_type": "code",
   "execution_count": 8,
   "id": "d624589b",
   "metadata": {},
   "outputs": [
    {
     "data": {
      "text/html": [
       "<div>\n",
       "<style scoped>\n",
       "    .dataframe tbody tr th:only-of-type {\n",
       "        vertical-align: middle;\n",
       "    }\n",
       "\n",
       "    .dataframe tbody tr th {\n",
       "        vertical-align: top;\n",
       "    }\n",
       "\n",
       "    .dataframe thead th {\n",
       "        text-align: right;\n",
       "    }\n",
       "</style>\n",
       "<table border=\"1\" class=\"dataframe\">\n",
       "  <thead>\n",
       "    <tr style=\"text-align: right;\">\n",
       "      <th></th>\n",
       "      <th>ds</th>\n",
       "      <th>groupid</th>\n",
       "      <th>first_hit_ds</th>\n",
       "      <th>is_active_today</th>\n",
       "      <th>stay_cnt</th>\n",
       "      <th>like_svr_cnt</th>\n",
       "      <th>follow_svr_cnt</th>\n",
       "      <th>forward_cnt</th>\n",
       "      <th>cold_start_stay_cnt</th>\n",
       "      <th>stay_time</th>\n",
       "      <th>anonymous</th>\n",
       "    </tr>\n",
       "  </thead>\n",
       "  <tbody>\n",
       "    <tr>\n",
       "      <th>0</th>\n",
       "      <td>20220328</td>\n",
       "      <td>253814</td>\n",
       "      <td>20220402</td>\n",
       "      <td>7.929746</td>\n",
       "      <td>2.959817</td>\n",
       "      <td>3.259428</td>\n",
       "      <td>8.343132</td>\n",
       "      <td>2.097061</td>\n",
       "      <td>7.390883</td>\n",
       "      <td>0.700326</td>\n",
       "      <td>cf5d25623e771b880a3262f43f18dbe5</td>\n",
       "    </tr>\n",
       "    <tr>\n",
       "      <th>1</th>\n",
       "      <td>20220328</td>\n",
       "      <td>253815</td>\n",
       "      <td>20220326</td>\n",
       "      <td>7.929746</td>\n",
       "      <td>2.959817</td>\n",
       "      <td>3.259428</td>\n",
       "      <td>8.343132</td>\n",
       "      <td>2.097061</td>\n",
       "      <td>7.390883</td>\n",
       "      <td>0.700326</td>\n",
       "      <td>893622d1e54504eeb0a3fec7e1d52e62</td>\n",
       "    </tr>\n",
       "    <tr>\n",
       "      <th>2</th>\n",
       "      <td>20220328</td>\n",
       "      <td>253814</td>\n",
       "      <td>20220331</td>\n",
       "      <td>7.929746</td>\n",
       "      <td>2.959817</td>\n",
       "      <td>3.259428</td>\n",
       "      <td>8.343132</td>\n",
       "      <td>2.097061</td>\n",
       "      <td>7.390883</td>\n",
       "      <td>0.700326</td>\n",
       "      <td>a4806c2a63f1c233a47ca06528ab4f24</td>\n",
       "    </tr>\n",
       "    <tr>\n",
       "      <th>3</th>\n",
       "      <td>20220328</td>\n",
       "      <td>253814</td>\n",
       "      <td>20220326</td>\n",
       "      <td>7.929746</td>\n",
       "      <td>2.959817</td>\n",
       "      <td>3.259428</td>\n",
       "      <td>8.343132</td>\n",
       "      <td>2.097061</td>\n",
       "      <td>7.390883</td>\n",
       "      <td>0.700326</td>\n",
       "      <td>ba3310215cb7e1fa4f0d9e575475e4fd</td>\n",
       "    </tr>\n",
       "    <tr>\n",
       "      <th>4</th>\n",
       "      <td>20220328</td>\n",
       "      <td>253815</td>\n",
       "      <td>20220326</td>\n",
       "      <td>7.929746</td>\n",
       "      <td>2.959817</td>\n",
       "      <td>3.259428</td>\n",
       "      <td>8.343132</td>\n",
       "      <td>2.097061</td>\n",
       "      <td>7.390883</td>\n",
       "      <td>0.700326</td>\n",
       "      <td>a523b49b164aa930e07041bfbb910096</td>\n",
       "    </tr>\n",
       "  </tbody>\n",
       "</table>\n",
       "</div>"
      ],
      "text/plain": [
       "         ds  groupid  first_hit_ds  is_active_today  stay_cnt  like_svr_cnt  \\\n",
       "0  20220328   253814      20220402         7.929746  2.959817      3.259428   \n",
       "1  20220328   253815      20220326         7.929746  2.959817      3.259428   \n",
       "2  20220328   253814      20220331         7.929746  2.959817      3.259428   \n",
       "3  20220328   253814      20220326         7.929746  2.959817      3.259428   \n",
       "4  20220328   253815      20220326         7.929746  2.959817      3.259428   \n",
       "\n",
       "   follow_svr_cnt  forward_cnt  cold_start_stay_cnt  stay_time  \\\n",
       "0        8.343132     2.097061             7.390883   0.700326   \n",
       "1        8.343132     2.097061             7.390883   0.700326   \n",
       "2        8.343132     2.097061             7.390883   0.700326   \n",
       "3        8.343132     2.097061             7.390883   0.700326   \n",
       "4        8.343132     2.097061             7.390883   0.700326   \n",
       "\n",
       "                          anonymous  \n",
       "0  cf5d25623e771b880a3262f43f18dbe5  \n",
       "1  893622d1e54504eeb0a3fec7e1d52e62  \n",
       "2  a4806c2a63f1c233a47ca06528ab4f24  \n",
       "3  ba3310215cb7e1fa4f0d9e575475e4fd  \n",
       "4  a523b49b164aa930e07041bfbb910096  "
      ]
     },
     "execution_count": 8,
     "metadata": {},
     "output_type": "execute_result"
    }
   ],
   "source": [
    "# 1.check data\n",
    "df_head"
   ]
  },
  {
   "cell_type": "code",
   "execution_count": 9,
   "id": "b94507ee",
   "metadata": {},
   "outputs": [
    {
     "data": {
      "text/plain": [
       "ds                       int64\n",
       "groupid                  int64\n",
       "first_hit_ds             int64\n",
       "is_active_today        float64\n",
       "stay_cnt               float64\n",
       "like_svr_cnt           float64\n",
       "follow_svr_cnt         float64\n",
       "forward_cnt            float64\n",
       "cold_start_stay_cnt    float64\n",
       "stay_time              float64\n",
       "anonymous               object\n",
       "dtype: object"
      ]
     },
     "execution_count": 9,
     "metadata": {},
     "output_type": "execute_result"
    }
   ],
   "source": [
    "# 2.check columns\n",
    "df_head.dtypes"
   ]
  },
  {
   "cell_type": "markdown",
   "id": "14fc64e3",
   "metadata": {},
   "source": [
    "### context：冷启保量100vv "
   ]
  },
  {
   "cell_type": "markdown",
   "id": "a7c1db0c",
   "metadata": {},
   "source": [
    "context：改变冷启的召回的参数:\n",
    "1. numerical variable： \n",
    "stay_cnt: user当天看了多少条feed\n",
    "cold_start_stay_cnt:user当天看了多少条冷启feed\n",
    "like_svr_cnt:user当天的点赞数\n",
    "follow_svr_cnt:user当天的follow数\n",
    "forward_cnt:user当天的转发数 \n",
    "stay_time:当天的停留时长\n",
    "\n",
    "2. catgorical variable:\n",
    "is_active_today: bool型变量（True活跃，False不活跃） \n",
    "anonymous: user nuique id\n",
    "ds: date（日期）\n",
    "first_hit_ds: 首次命中的日期\n",
    "group_id: 是哪个实验组"
   ]
  },
  {
   "cell_type": "code",
   "execution_count": 7,
   "id": "2f457e9c",
   "metadata": {},
   "outputs": [],
   "source": [
    "numerical_col=[\"stay_cnt\",\"cold_start_stay_cnt\",\"like_svr_cnt\",\"follow_svr_cnt\",\"forward_cnt\",\"stay_time\"]\n",
    "categorical_col=[\"anonymous\",\"ds\",\"first_hit_ds\",\"groupid\",\"is_active_today\"]"
   ]
  },
  {
   "cell_type": "markdown",
   "id": "eebbdba6",
   "metadata": {},
   "source": [
    "## 2. Univariate Aanlysis"
   ]
  },
  {
   "cell_type": "markdown",
   "id": "4e8728ae",
   "metadata": {},
   "source": [
    "### 2.1 orginal data"
   ]
  },
  {
   "cell_type": "markdown",
   "id": "8b2dc351",
   "metadata": {},
   "source": [
    "### 2.2 try to restore real data"
   ]
  },
  {
   "cell_type": "markdown",
   "id": "a8b2f2c7",
   "metadata": {},
   "source": [
    "#### restore numerical variable"
   ]
  },
  {
   "cell_type": "code",
   "execution_count": 6,
   "id": "b56af773",
   "metadata": {},
   "outputs": [
    {
     "data": {
      "text/html": [
       "<div>\n",
       "<style scoped>\n",
       "    .dataframe tbody tr th:only-of-type {\n",
       "        vertical-align: middle;\n",
       "    }\n",
       "\n",
       "    .dataframe tbody tr th {\n",
       "        vertical-align: top;\n",
       "    }\n",
       "\n",
       "    .dataframe thead th {\n",
       "        text-align: right;\n",
       "    }\n",
       "</style>\n",
       "<table border=\"1\" class=\"dataframe\">\n",
       "  <thead>\n",
       "    <tr style=\"text-align: right;\">\n",
       "      <th></th>\n",
       "      <th>ds</th>\n",
       "      <th>groupid</th>\n",
       "      <th>stay_cnt</th>\n",
       "    </tr>\n",
       "  </thead>\n",
       "  <tbody>\n",
       "    <tr>\n",
       "      <th>0</th>\n",
       "      <td>20220328</td>\n",
       "      <td>253815</td>\n",
       "      <td>2.959817</td>\n",
       "    </tr>\n",
       "    <tr>\n",
       "      <th>1</th>\n",
       "      <td>20220328</td>\n",
       "      <td>253814</td>\n",
       "      <td>2.959817</td>\n",
       "    </tr>\n",
       "    <tr>\n",
       "      <th>2</th>\n",
       "      <td>20220328</td>\n",
       "      <td>253815</td>\n",
       "      <td>2.959817</td>\n",
       "    </tr>\n",
       "    <tr>\n",
       "      <th>3</th>\n",
       "      <td>20220328</td>\n",
       "      <td>253814</td>\n",
       "      <td>593.975882</td>\n",
       "    </tr>\n",
       "    <tr>\n",
       "      <th>4</th>\n",
       "      <td>20220328</td>\n",
       "      <td>253816</td>\n",
       "      <td>2.959817</td>\n",
       "    </tr>\n",
       "  </tbody>\n",
       "</table>\n",
       "</div>"
      ],
      "text/plain": [
       "         ds  groupid    stay_cnt\n",
       "0  20220328   253815    2.959817\n",
       "1  20220328   253814    2.959817\n",
       "2  20220328   253815    2.959817\n",
       "3  20220328   253814  593.975882\n",
       "4  20220328   253816    2.959817"
      ]
     },
     "execution_count": 6,
     "metadata": {},
     "output_type": "execute_result"
    }
   ],
   "source": [
    "# copy data\n",
    "df=session.sql('select ds,groupid,stay_cnt from tbl where ds> first_hit_ds').toPandas()\n",
    "df.head(5)"
   ]
  },
  {
   "cell_type": "markdown",
   "id": "cbbd9474",
   "metadata": {},
   "source": [
    "they did: AX + B (A and B are random value)\n",
    "1.X=0; AX+B=B\n",
    "2.X=1;AX+B = A+B"
   ]
  },
  {
   "cell_type": "code",
   "execution_count": 7,
   "id": "f30b183c",
   "metadata": {},
   "outputs": [
    {
     "name": "stdout",
     "output_type": "stream",
     "text": [
      "[2.95981725 7.33771403]\n"
     ]
    }
   ],
   "source": [
    "# (1) -min (suppose min= 0)\n",
    "print(np.sort(df[\"stay_cnt\"].unique())[0:2])"
   ]
  },
  {
   "cell_type": "code",
   "execution_count": 8,
   "id": "2a35a54a",
   "metadata": {},
   "outputs": [
    {
     "name": "stdout",
     "output_type": "stream",
     "text": [
      "stay_cnt 2.959817249436907 4.377896778541956\n",
      "stay_cnt [0. 1.]\n"
     ]
    }
   ],
   "source": [
    "B= np.sort(df[\"stay_cnt\"].unique())[0]\n",
    "A= np.sort(df[\"stay_cnt\"].unique())[1]-np.sort(df[\"stay_cnt\"].unique())[0]\n",
    "print(\"stay_cnt\",B,A)\n",
    "df[\"stay_cnt\"]=(df[\"stay_cnt\"]-B)/A\n",
    "print(\"stay_cnt\",np.sort(df[\"stay_cnt\"].unique())[0:2])"
   ]
  },
  {
   "cell_type": "code",
   "execution_count": 9,
   "id": "71b61f40",
   "metadata": {},
   "outputs": [
    {
     "name": "stdout",
     "output_type": "stream",
     "text": [
      "[ 0.  1.  2.  3.  4.  5.  6.  7.  8.  9. 10. 11. 12. 13. 14.]\n"
     ]
    }
   ],
   "source": [
    "# check new data\n",
    "print(np.sort(df[\"stay_cnt\"].unique())[0:15])"
   ]
  },
  {
   "cell_type": "code",
   "execution_count": 10,
   "id": "d7c98e25",
   "metadata": {},
   "outputs": [
    {
     "data": {
      "text/html": [
       "<div>\n",
       "<style scoped>\n",
       "    .dataframe tbody tr th:only-of-type {\n",
       "        vertical-align: middle;\n",
       "    }\n",
       "\n",
       "    .dataframe tbody tr th {\n",
       "        vertical-align: top;\n",
       "    }\n",
       "\n",
       "    .dataframe thead th {\n",
       "        text-align: right;\n",
       "    }\n",
       "</style>\n",
       "<table border=\"1\" class=\"dataframe\">\n",
       "  <thead>\n",
       "    <tr style=\"text-align: right;\">\n",
       "      <th></th>\n",
       "      <th>groupid</th>\n",
       "      <th>stay_cnt</th>\n",
       "    </tr>\n",
       "    <tr>\n",
       "      <th>ds</th>\n",
       "      <th></th>\n",
       "      <th></th>\n",
       "    </tr>\n",
       "  </thead>\n",
       "  <tbody>\n",
       "    <tr>\n",
       "      <th>20220326</th>\n",
       "      <td>253815.000</td>\n",
       "      <td>26.508</td>\n",
       "    </tr>\n",
       "    <tr>\n",
       "      <th>20220327</th>\n",
       "      <td>253815.001</td>\n",
       "      <td>18.287</td>\n",
       "    </tr>\n",
       "    <tr>\n",
       "      <th>20220328</th>\n",
       "      <td>253815.001</td>\n",
       "      <td>14.765</td>\n",
       "    </tr>\n",
       "    <tr>\n",
       "      <th>20220329</th>\n",
       "      <td>253815.001</td>\n",
       "      <td>14.267</td>\n",
       "    </tr>\n",
       "    <tr>\n",
       "      <th>20220330</th>\n",
       "      <td>253815.001</td>\n",
       "      <td>13.880</td>\n",
       "    </tr>\n",
       "    <tr>\n",
       "      <th>20220331</th>\n",
       "      <td>253815.001</td>\n",
       "      <td>13.622</td>\n",
       "    </tr>\n",
       "    <tr>\n",
       "      <th>20220401</th>\n",
       "      <td>253815.001</td>\n",
       "      <td>13.568</td>\n",
       "    </tr>\n",
       "    <tr>\n",
       "      <th>20220402</th>\n",
       "      <td>253815.001</td>\n",
       "      <td>12.795</td>\n",
       "    </tr>\n",
       "  </tbody>\n",
       "</table>\n",
       "</div>"
      ],
      "text/plain": [
       "             groupid  stay_cnt\n",
       "ds                            \n",
       "20220326  253815.000    26.508\n",
       "20220327  253815.001    18.287\n",
       "20220328  253815.001    14.765\n",
       "20220329  253815.001    14.267\n",
       "20220330  253815.001    13.880\n",
       "20220331  253815.001    13.622\n",
       "20220401  253815.001    13.568\n",
       "20220402  253815.001    12.795"
      ]
     },
     "execution_count": 10,
     "metadata": {},
     "output_type": "execute_result"
    }
   ],
   "source": [
    "np.round(df.groupby(df[\"ds\"]).mean(),3)"
   ]
  },
  {
   "cell_type": "code",
   "execution_count": 11,
   "id": "65075124",
   "metadata": {},
   "outputs": [
    {
     "data": {
      "text/html": [
       "<div>\n",
       "<style scoped>\n",
       "    .dataframe tbody tr th:only-of-type {\n",
       "        vertical-align: middle;\n",
       "    }\n",
       "\n",
       "    .dataframe tbody tr th {\n",
       "        vertical-align: top;\n",
       "    }\n",
       "\n",
       "    .dataframe thead th {\n",
       "        text-align: right;\n",
       "    }\n",
       "</style>\n",
       "<table border=\"1\" class=\"dataframe\">\n",
       "  <thead>\n",
       "    <tr style=\"text-align: right;\">\n",
       "      <th></th>\n",
       "      <th>ds</th>\n",
       "      <th>stay_cnt</th>\n",
       "    </tr>\n",
       "    <tr>\n",
       "      <th>groupid</th>\n",
       "      <th></th>\n",
       "      <th></th>\n",
       "    </tr>\n",
       "  </thead>\n",
       "  <tbody>\n",
       "    <tr>\n",
       "      <th>253814</th>\n",
       "      <td>2.022035e+07</td>\n",
       "      <td>15.070</td>\n",
       "    </tr>\n",
       "    <tr>\n",
       "      <th>253815</th>\n",
       "      <td>2.022035e+07</td>\n",
       "      <td>15.017</td>\n",
       "    </tr>\n",
       "    <tr>\n",
       "      <th>253816</th>\n",
       "      <td>2.022035e+07</td>\n",
       "      <td>15.134</td>\n",
       "    </tr>\n",
       "  </tbody>\n",
       "</table>\n",
       "</div>"
      ],
      "text/plain": [
       "                   ds  stay_cnt\n",
       "groupid                        \n",
       "253814   2.022035e+07    15.070\n",
       "253815   2.022035e+07    15.017\n",
       "253816   2.022035e+07    15.134"
      ]
     },
     "execution_count": 11,
     "metadata": {},
     "output_type": "execute_result"
    }
   ],
   "source": [
    "np.round(df.groupby(df[\"groupid\"]).mean(),3)"
   ]
  },
  {
   "cell_type": "code",
   "execution_count": 12,
   "id": "96aeba1d",
   "metadata": {},
   "outputs": [
    {
     "data": {
      "text/html": [
       "<div>\n",
       "<style scoped>\n",
       "    .dataframe tbody tr th:only-of-type {\n",
       "        vertical-align: middle;\n",
       "    }\n",
       "\n",
       "    .dataframe tbody tr th {\n",
       "        vertical-align: top;\n",
       "    }\n",
       "\n",
       "    .dataframe thead th {\n",
       "        text-align: right;\n",
       "    }\n",
       "</style>\n",
       "<table border=\"1\" class=\"dataframe\">\n",
       "  <thead>\n",
       "    <tr style=\"text-align: right;\">\n",
       "      <th></th>\n",
       "      <th>ds</th>\n",
       "      <th>groupid</th>\n",
       "      <th>cold_start_stay_cnt</th>\n",
       "    </tr>\n",
       "  </thead>\n",
       "  <tbody>\n",
       "    <tr>\n",
       "      <th>0</th>\n",
       "      <td>20220328</td>\n",
       "      <td>253815</td>\n",
       "      <td>7.390883</td>\n",
       "    </tr>\n",
       "    <tr>\n",
       "      <th>1</th>\n",
       "      <td>20220328</td>\n",
       "      <td>253814</td>\n",
       "      <td>7.390883</td>\n",
       "    </tr>\n",
       "    <tr>\n",
       "      <th>2</th>\n",
       "      <td>20220328</td>\n",
       "      <td>253815</td>\n",
       "      <td>7.390883</td>\n",
       "    </tr>\n",
       "    <tr>\n",
       "      <th>3</th>\n",
       "      <td>20220328</td>\n",
       "      <td>253814</td>\n",
       "      <td>7.390883</td>\n",
       "    </tr>\n",
       "    <tr>\n",
       "      <th>4</th>\n",
       "      <td>20220328</td>\n",
       "      <td>253816</td>\n",
       "      <td>7.390883</td>\n",
       "    </tr>\n",
       "  </tbody>\n",
       "</table>\n",
       "</div>"
      ],
      "text/plain": [
       "         ds  groupid  cold_start_stay_cnt\n",
       "0  20220328   253815             7.390883\n",
       "1  20220328   253814             7.390883\n",
       "2  20220328   253815             7.390883\n",
       "3  20220328   253814             7.390883\n",
       "4  20220328   253816             7.390883"
      ]
     },
     "execution_count": 12,
     "metadata": {},
     "output_type": "execute_result"
    }
   ],
   "source": [
    "####\n",
    "df=session.sql('select ds,groupid,cold_start_stay_cnt from tbl where ds> first_hit_ds').toPandas()\n",
    "df.head(5)"
   ]
  },
  {
   "cell_type": "code",
   "execution_count": 13,
   "id": "8f809574",
   "metadata": {},
   "outputs": [
    {
     "name": "stdout",
     "output_type": "stream",
     "text": [
      "[ 7.39088313 15.93872222]\n"
     ]
    }
   ],
   "source": [
    "# (1) -min (suppose min= 0)\n",
    "print(np.sort(df[\"cold_start_stay_cnt\"].unique())[0:2])"
   ]
  },
  {
   "cell_type": "code",
   "execution_count": 14,
   "id": "ab388a4b",
   "metadata": {},
   "outputs": [
    {
     "name": "stdout",
     "output_type": "stream",
     "text": [
      "cold_start_stay_cnt 7.390883125100945 8.547839090844223\n",
      "cold_start_stay_cnt [0. 1.]\n"
     ]
    }
   ],
   "source": [
    "B= np.sort(df[\"cold_start_stay_cnt\"].unique())[0]\n",
    "A= np.sort(df[\"cold_start_stay_cnt\"].unique())[1]-np.sort(df[\"cold_start_stay_cnt\"].unique())[0]\n",
    "print(\"cold_start_stay_cnt\",B,A)\n",
    "df[\"cold_start_stay_cnt\"]=(df[\"cold_start_stay_cnt\"]-B)/A\n",
    "print(\"cold_start_stay_cnt\",np.sort(df[\"cold_start_stay_cnt\"].unique())[0:2])"
   ]
  },
  {
   "cell_type": "code",
   "execution_count": 16,
   "id": "f1250865",
   "metadata": {},
   "outputs": [
    {
     "name": "stdout",
     "output_type": "stream",
     "text": [
      "[ 0.  1.  2.  3.  4.  5.  6.  7.  8.  9. 10. 11. 12. 13. 14.]\n"
     ]
    }
   ],
   "source": [
    "# check new data\n",
    "print(np.sort(df[\"cold_start_stay_cnt\"].unique())[0:15])"
   ]
  },
  {
   "cell_type": "code",
   "execution_count": 18,
   "id": "697a3344",
   "metadata": {},
   "outputs": [
    {
     "data": {
      "text/html": [
       "<div>\n",
       "<style scoped>\n",
       "    .dataframe tbody tr th:only-of-type {\n",
       "        vertical-align: middle;\n",
       "    }\n",
       "\n",
       "    .dataframe tbody tr th {\n",
       "        vertical-align: top;\n",
       "    }\n",
       "\n",
       "    .dataframe thead th {\n",
       "        text-align: right;\n",
       "    }\n",
       "</style>\n",
       "<table border=\"1\" class=\"dataframe\">\n",
       "  <thead>\n",
       "    <tr style=\"text-align: right;\">\n",
       "      <th></th>\n",
       "      <th>ds</th>\n",
       "      <th>cold_start_stay_cnt</th>\n",
       "    </tr>\n",
       "    <tr>\n",
       "      <th>groupid</th>\n",
       "      <th></th>\n",
       "      <th></th>\n",
       "    </tr>\n",
       "  </thead>\n",
       "  <tbody>\n",
       "    <tr>\n",
       "      <th>253814</th>\n",
       "      <td>2.022035e+07</td>\n",
       "      <td>0.226</td>\n",
       "    </tr>\n",
       "    <tr>\n",
       "      <th>253815</th>\n",
       "      <td>2.022035e+07</td>\n",
       "      <td>0.246</td>\n",
       "    </tr>\n",
       "    <tr>\n",
       "      <th>253816</th>\n",
       "      <td>2.022035e+07</td>\n",
       "      <td>0.288</td>\n",
       "    </tr>\n",
       "  </tbody>\n",
       "</table>\n",
       "</div>"
      ],
      "text/plain": [
       "                   ds  cold_start_stay_cnt\n",
       "groupid                                   \n",
       "253814   2.022035e+07                0.226\n",
       "253815   2.022035e+07                0.246\n",
       "253816   2.022035e+07                0.288"
      ]
     },
     "execution_count": 18,
     "metadata": {},
     "output_type": "execute_result"
    }
   ],
   "source": [
    "np.round(df.groupby(df[\"groupid\"]).mean(),3)"
   ]
  },
  {
   "cell_type": "code",
   "execution_count": 19,
   "id": "8d3fa0f9",
   "metadata": {},
   "outputs": [
    {
     "data": {
      "text/html": [
       "<div>\n",
       "<style scoped>\n",
       "    .dataframe tbody tr th:only-of-type {\n",
       "        vertical-align: middle;\n",
       "    }\n",
       "\n",
       "    .dataframe tbody tr th {\n",
       "        vertical-align: top;\n",
       "    }\n",
       "\n",
       "    .dataframe thead th {\n",
       "        text-align: right;\n",
       "    }\n",
       "</style>\n",
       "<table border=\"1\" class=\"dataframe\">\n",
       "  <thead>\n",
       "    <tr style=\"text-align: right;\">\n",
       "      <th></th>\n",
       "      <th>ds</th>\n",
       "      <th>groupid</th>\n",
       "      <th>like_svr_cnt</th>\n",
       "    </tr>\n",
       "  </thead>\n",
       "  <tbody>\n",
       "    <tr>\n",
       "      <th>0</th>\n",
       "      <td>20220328</td>\n",
       "      <td>253815</td>\n",
       "      <td>3.259428</td>\n",
       "    </tr>\n",
       "    <tr>\n",
       "      <th>1</th>\n",
       "      <td>20220328</td>\n",
       "      <td>253814</td>\n",
       "      <td>3.259428</td>\n",
       "    </tr>\n",
       "    <tr>\n",
       "      <th>2</th>\n",
       "      <td>20220328</td>\n",
       "      <td>253815</td>\n",
       "      <td>3.259428</td>\n",
       "    </tr>\n",
       "    <tr>\n",
       "      <th>3</th>\n",
       "      <td>20220328</td>\n",
       "      <td>253814</td>\n",
       "      <td>396.940187</td>\n",
       "    </tr>\n",
       "    <tr>\n",
       "      <th>4</th>\n",
       "      <td>20220328</td>\n",
       "      <td>253816</td>\n",
       "      <td>3.259428</td>\n",
       "    </tr>\n",
       "  </tbody>\n",
       "</table>\n",
       "</div>"
      ],
      "text/plain": [
       "         ds  groupid  like_svr_cnt\n",
       "0  20220328   253815      3.259428\n",
       "1  20220328   253814      3.259428\n",
       "2  20220328   253815      3.259428\n",
       "3  20220328   253814    396.940187\n",
       "4  20220328   253816      3.259428"
      ]
     },
     "execution_count": 19,
     "metadata": {},
     "output_type": "execute_result"
    }
   ],
   "source": [
    "####\n",
    "df=session.sql('select ds,groupid,like_svr_cnt from tbl where ds> first_hit_ds').toPandas()\n",
    "df.head(5)"
   ]
  },
  {
   "cell_type": "code",
   "execution_count": 20,
   "id": "e7e5822f",
   "metadata": {},
   "outputs": [
    {
     "name": "stdout",
     "output_type": "stream",
     "text": [
      "[ 3.25942828 11.13304347]\n",
      "like_svr_cnt 3.25942828482793 7.873615180670338\n",
      "like_svr_cnt [0. 1.]\n",
      "[ 0.  1.  2.  3.  4.  5.  6.  7.  8.  9. 10. 11. 12. 13. 14.]\n"
     ]
    }
   ],
   "source": [
    "# (1) -min (suppose min= 0)\n",
    "print(np.sort(df[\"like_svr_cnt\"].unique())[0:2])\n",
    "B= np.sort(df[\"like_svr_cnt\"].unique())[0]\n",
    "A= np.sort(df[\"like_svr_cnt\"].unique())[1]-np.sort(df[\"like_svr_cnt\"].unique())[0]\n",
    "print(\"like_svr_cnt\",B,A)\n",
    "df[\"like_svr_cnt\"]=(df[\"like_svr_cnt\"]-B)/A\n",
    "print(\"like_svr_cnt\",np.sort(df[\"like_svr_cnt\"].unique())[0:2])\n",
    "# check new data\n",
    "print(np.sort(df[\"like_svr_cnt\"].unique())[0:15])"
   ]
  },
  {
   "cell_type": "code",
   "execution_count": 21,
   "id": "45d8050d",
   "metadata": {},
   "outputs": [
    {
     "data": {
      "text/html": [
       "<div>\n",
       "<style scoped>\n",
       "    .dataframe tbody tr th:only-of-type {\n",
       "        vertical-align: middle;\n",
       "    }\n",
       "\n",
       "    .dataframe tbody tr th {\n",
       "        vertical-align: top;\n",
       "    }\n",
       "\n",
       "    .dataframe thead th {\n",
       "        text-align: right;\n",
       "    }\n",
       "</style>\n",
       "<table border=\"1\" class=\"dataframe\">\n",
       "  <thead>\n",
       "    <tr style=\"text-align: right;\">\n",
       "      <th></th>\n",
       "      <th>ds</th>\n",
       "      <th>like_svr_cnt</th>\n",
       "    </tr>\n",
       "    <tr>\n",
       "      <th>groupid</th>\n",
       "      <th></th>\n",
       "      <th></th>\n",
       "    </tr>\n",
       "  </thead>\n",
       "  <tbody>\n",
       "    <tr>\n",
       "      <th>253814</th>\n",
       "      <td>2.022035e+07</td>\n",
       "      <td>0.163</td>\n",
       "    </tr>\n",
       "    <tr>\n",
       "      <th>253815</th>\n",
       "      <td>2.022035e+07</td>\n",
       "      <td>0.164</td>\n",
       "    </tr>\n",
       "    <tr>\n",
       "      <th>253816</th>\n",
       "      <td>2.022035e+07</td>\n",
       "      <td>0.162</td>\n",
       "    </tr>\n",
       "  </tbody>\n",
       "</table>\n",
       "</div>"
      ],
      "text/plain": [
       "                   ds  like_svr_cnt\n",
       "groupid                            \n",
       "253814   2.022035e+07         0.163\n",
       "253815   2.022035e+07         0.164\n",
       "253816   2.022035e+07         0.162"
      ]
     },
     "execution_count": 21,
     "metadata": {},
     "output_type": "execute_result"
    }
   ],
   "source": [
    "np.round(df.groupby(df[\"groupid\"]).mean(),3)"
   ]
  },
  {
   "cell_type": "code",
   "execution_count": 22,
   "id": "9d1b4f21",
   "metadata": {},
   "outputs": [
    {
     "data": {
      "text/html": [
       "<div>\n",
       "<style scoped>\n",
       "    .dataframe tbody tr th:only-of-type {\n",
       "        vertical-align: middle;\n",
       "    }\n",
       "\n",
       "    .dataframe tbody tr th {\n",
       "        vertical-align: top;\n",
       "    }\n",
       "\n",
       "    .dataframe thead th {\n",
       "        text-align: right;\n",
       "    }\n",
       "</style>\n",
       "<table border=\"1\" class=\"dataframe\">\n",
       "  <thead>\n",
       "    <tr style=\"text-align: right;\">\n",
       "      <th></th>\n",
       "      <th>ds</th>\n",
       "      <th>groupid</th>\n",
       "      <th>stay_cnt</th>\n",
       "      <th>cold_start_stay_cnt</th>\n",
       "      <th>like_svr_cnt</th>\n",
       "    </tr>\n",
       "  </thead>\n",
       "  <tbody>\n",
       "    <tr>\n",
       "      <th>0</th>\n",
       "      <td>20220328</td>\n",
       "      <td>253815</td>\n",
       "      <td>2.959817</td>\n",
       "      <td>7.390883</td>\n",
       "      <td>3.259428</td>\n",
       "    </tr>\n",
       "    <tr>\n",
       "      <th>1</th>\n",
       "      <td>20220328</td>\n",
       "      <td>253814</td>\n",
       "      <td>2.959817</td>\n",
       "      <td>7.390883</td>\n",
       "      <td>3.259428</td>\n",
       "    </tr>\n",
       "    <tr>\n",
       "      <th>2</th>\n",
       "      <td>20220328</td>\n",
       "      <td>253815</td>\n",
       "      <td>2.959817</td>\n",
       "      <td>7.390883</td>\n",
       "      <td>3.259428</td>\n",
       "    </tr>\n",
       "    <tr>\n",
       "      <th>3</th>\n",
       "      <td>20220328</td>\n",
       "      <td>253814</td>\n",
       "      <td>593.975882</td>\n",
       "      <td>7.390883</td>\n",
       "      <td>396.940187</td>\n",
       "    </tr>\n",
       "    <tr>\n",
       "      <th>4</th>\n",
       "      <td>20220328</td>\n",
       "      <td>253816</td>\n",
       "      <td>2.959817</td>\n",
       "      <td>7.390883</td>\n",
       "      <td>3.259428</td>\n",
       "    </tr>\n",
       "  </tbody>\n",
       "</table>\n",
       "</div>"
      ],
      "text/plain": [
       "         ds  groupid    stay_cnt  cold_start_stay_cnt  like_svr_cnt\n",
       "0  20220328   253815    2.959817             7.390883      3.259428\n",
       "1  20220328   253814    2.959817             7.390883      3.259428\n",
       "2  20220328   253815    2.959817             7.390883      3.259428\n",
       "3  20220328   253814  593.975882             7.390883    396.940187\n",
       "4  20220328   253816    2.959817             7.390883      3.259428"
      ]
     },
     "execution_count": 22,
     "metadata": {},
     "output_type": "execute_result"
    }
   ],
   "source": [
    "####\n",
    "df=session.sql('select ds,groupid,stay_cnt,cold_start_stay_cnt,like_svr_cnt from tbl where ds> first_hit_ds').toPandas()\n",
    "df.head(5)"
   ]
  },
  {
   "cell_type": "code",
   "execution_count": null,
   "id": "f24e3720",
   "metadata": {},
   "outputs": [],
   "source": []
  },
  {
   "cell_type": "code",
   "execution_count": null,
   "id": "3a8fa9cd",
   "metadata": {},
   "outputs": [],
   "source": []
  },
  {
   "cell_type": "markdown",
   "id": "741d73fe",
   "metadata": {},
   "source": [
    "#### restore categorical variable"
   ]
  },
  {
   "cell_type": "code",
   "execution_count": 15,
   "id": "d8120566",
   "metadata": {},
   "outputs": [
    {
     "data": {
      "text/plain": [
       "array([ 3.49033122, 11.57288985])"
      ]
     },
     "execution_count": 15,
     "metadata": {},
     "output_type": "execute_result"
    }
   ],
   "source": [
    "# check is_active_today\n",
    "np.sort(df[\"is_active_today\"].unique())"
   ]
  },
  {
   "cell_type": "code",
   "execution_count": 16,
   "id": "9551a436",
   "metadata": {},
   "outputs": [
    {
     "data": {
      "text/plain": [
       "array([ 3.49033122, 11.57288985])"
      ]
     },
     "execution_count": 16,
     "metadata": {},
     "output_type": "execute_result"
    }
   ],
   "source": [
    "np.sort(new_df[\"is_active_today\"].unique())"
   ]
  },
  {
   "cell_type": "code",
   "execution_count": 17,
   "id": "f6422917",
   "metadata": {},
   "outputs": [
    {
     "data": {
      "text/plain": [
       "3.490331     1292248\n",
       "11.572890     528826\n",
       "Name: is_active_today, dtype: int64"
      ]
     },
     "execution_count": 17,
     "metadata": {},
     "output_type": "execute_result"
    }
   ],
   "source": [
    "new_df[\"is_active_today\"].value_counts()"
   ]
  },
  {
   "cell_type": "code",
   "execution_count": 18,
   "id": "942419e4",
   "metadata": {},
   "outputs": [],
   "source": [
    "new_df[\"is_active_today\"]= np.where(new_df[\"is_active_today\"]==new_df.loc[1,\"is_active_today\"],1,0)"
   ]
  },
  {
   "cell_type": "code",
   "execution_count": 19,
   "id": "72b77894",
   "metadata": {},
   "outputs": [
    {
     "data": {
      "text/plain": [
       "0    1292248\n",
       "1     528826\n",
       "Name: is_active_today, dtype: int64"
      ]
     },
     "execution_count": 19,
     "metadata": {},
     "output_type": "execute_result"
    }
   ],
   "source": [
    "new_df[\"is_active_today\"].value_counts()"
   ]
  },
  {
   "cell_type": "markdown",
   "id": "69879504",
   "metadata": {},
   "source": [
    "### 2.3 clearning data"
   ]
  },
  {
   "cell_type": "code",
   "execution_count": 20,
   "id": "3eb9e42e",
   "metadata": {},
   "outputs": [],
   "source": [
    "# check first_hit_ds\n",
    "new_df[\"in_experiment\"]=np.where(pd.to_numeric(new_df[\"ds\"])>new_df[\"first_hit_ds\"],1,0)"
   ]
  },
  {
   "cell_type": "code",
   "execution_count": 21,
   "id": "2c5d733f",
   "metadata": {},
   "outputs": [],
   "source": [
    "numerical_col=[\"stay_cnt\",\"cold_start_stay_cnt\",\"like_svr_cnt\",\"follow_svr_cnt\",\"forward_cnt\"]\n",
    "categorical_col=[\"anonymous\",\"ds\",\"first_hit_ds\",\"groupid\",\"is_active_today\",\"in_experiment\"]"
   ]
  },
  {
   "cell_type": "markdown",
   "id": "cb5111f7",
   "metadata": {},
   "source": [
    "### 2.4 univariate analysis"
   ]
  },
  {
   "cell_type": "markdown",
   "id": "68d360fe",
   "metadata": {},
   "source": [
    "#### statistics analysis"
   ]
  },
  {
   "cell_type": "code",
   "execution_count": 22,
   "id": "437ebb43",
   "metadata": {},
   "outputs": [],
   "source": [
    "# statistics\n",
    "def unistats(df):\n",
    "    output_df=pd.DataFrame(columns=[\"count\",\"Mising\",\"Unique\",\"Dtype\",\"Numeric\",\"Mean\",\"Min\",\"25%\",\"Median\",\"75%\",\"Max\",\"std\",\"Skew\",\"Kurt\"])\n",
    "    for col in categorical_col:\n",
    "            output_df.loc[col]=[df[col].count(),df[col].isnull().sum(),len(df[col].unique()),df[col].dtype,pd.api.types.is_numeric_dtype(df[col]),\n",
    "                                '-','-','-','-','-','-','-','-','-']\n",
    "    for col in numerical_col:\n",
    "        output_df.loc[col]=[df[col].count(),df[col].isnull().sum(),len(df[col].unique()),df[col].dtype,pd.api.types.is_numeric_dtype(df[col]),\n",
    "                               df[col].mean(),df[col].min(),df[col].quantile(0.25),df[col].median(),df[col].quantile(0.75),df[col].max(),df[col].std(),df[col].skew(),df[col].kurt()]\n",
    "    return output_df\n",
    "\n",
    "new_df_output=unistats(new_df)\n",
    "new_df_output.to_excel(\"new_univariate_statistics.xls\")"
   ]
  },
  {
   "cell_type": "code",
   "execution_count": 23,
   "id": "1d7a03b2",
   "metadata": {},
   "outputs": [
    {
     "data": {
      "text/html": [
       "<div>\n",
       "<style scoped>\n",
       "    .dataframe tbody tr th:only-of-type {\n",
       "        vertical-align: middle;\n",
       "    }\n",
       "\n",
       "    .dataframe tbody tr th {\n",
       "        vertical-align: top;\n",
       "    }\n",
       "\n",
       "    .dataframe thead th {\n",
       "        text-align: right;\n",
       "    }\n",
       "</style>\n",
       "<table border=\"1\" class=\"dataframe\">\n",
       "  <thead>\n",
       "    <tr style=\"text-align: right;\">\n",
       "      <th></th>\n",
       "      <th>count</th>\n",
       "      <th>Mising</th>\n",
       "      <th>Unique</th>\n",
       "      <th>Dtype</th>\n",
       "      <th>Numeric</th>\n",
       "      <th>Mean</th>\n",
       "      <th>Min</th>\n",
       "      <th>25%</th>\n",
       "      <th>Median</th>\n",
       "      <th>75%</th>\n",
       "      <th>Max</th>\n",
       "      <th>std</th>\n",
       "      <th>Skew</th>\n",
       "      <th>Kurt</th>\n",
       "    </tr>\n",
       "  </thead>\n",
       "  <tbody>\n",
       "    <tr>\n",
       "      <th>anonymous</th>\n",
       "      <td>1821074</td>\n",
       "      <td>0</td>\n",
       "      <td>910537</td>\n",
       "      <td>object</td>\n",
       "      <td>False</td>\n",
       "      <td>-</td>\n",
       "      <td>-</td>\n",
       "      <td>-</td>\n",
       "      <td>-</td>\n",
       "      <td>-</td>\n",
       "      <td>-</td>\n",
       "      <td>-</td>\n",
       "      <td>-</td>\n",
       "      <td>-</td>\n",
       "    </tr>\n",
       "    <tr>\n",
       "      <th>ds</th>\n",
       "      <td>1821074</td>\n",
       "      <td>0</td>\n",
       "      <td>2</td>\n",
       "      <td>object</td>\n",
       "      <td>False</td>\n",
       "      <td>-</td>\n",
       "      <td>-</td>\n",
       "      <td>-</td>\n",
       "      <td>-</td>\n",
       "      <td>-</td>\n",
       "      <td>-</td>\n",
       "      <td>-</td>\n",
       "      <td>-</td>\n",
       "      <td>-</td>\n",
       "    </tr>\n",
       "    <tr>\n",
       "      <th>first_hit_ds</th>\n",
       "      <td>1821074</td>\n",
       "      <td>0</td>\n",
       "      <td>12</td>\n",
       "      <td>int64</td>\n",
       "      <td>True</td>\n",
       "      <td>-</td>\n",
       "      <td>-</td>\n",
       "      <td>-</td>\n",
       "      <td>-</td>\n",
       "      <td>-</td>\n",
       "      <td>-</td>\n",
       "      <td>-</td>\n",
       "      <td>-</td>\n",
       "      <td>-</td>\n",
       "    </tr>\n",
       "    <tr>\n",
       "      <th>groupid</th>\n",
       "      <td>1821074</td>\n",
       "      <td>0</td>\n",
       "      <td>2</td>\n",
       "      <td>int64</td>\n",
       "      <td>True</td>\n",
       "      <td>-</td>\n",
       "      <td>-</td>\n",
       "      <td>-</td>\n",
       "      <td>-</td>\n",
       "      <td>-</td>\n",
       "      <td>-</td>\n",
       "      <td>-</td>\n",
       "      <td>-</td>\n",
       "      <td>-</td>\n",
       "    </tr>\n",
       "    <tr>\n",
       "      <th>is_active_today</th>\n",
       "      <td>1821074</td>\n",
       "      <td>0</td>\n",
       "      <td>2</td>\n",
       "      <td>int64</td>\n",
       "      <td>True</td>\n",
       "      <td>-</td>\n",
       "      <td>-</td>\n",
       "      <td>-</td>\n",
       "      <td>-</td>\n",
       "      <td>-</td>\n",
       "      <td>-</td>\n",
       "      <td>-</td>\n",
       "      <td>-</td>\n",
       "      <td>-</td>\n",
       "    </tr>\n",
       "    <tr>\n",
       "      <th>in_experiment</th>\n",
       "      <td>1821074</td>\n",
       "      <td>0</td>\n",
       "      <td>2</td>\n",
       "      <td>int64</td>\n",
       "      <td>True</td>\n",
       "      <td>-</td>\n",
       "      <td>-</td>\n",
       "      <td>-</td>\n",
       "      <td>-</td>\n",
       "      <td>-</td>\n",
       "      <td>-</td>\n",
       "      <td>-</td>\n",
       "      <td>-</td>\n",
       "      <td>-</td>\n",
       "    </tr>\n",
       "    <tr>\n",
       "      <th>stay_cnt</th>\n",
       "      <td>1821074</td>\n",
       "      <td>0</td>\n",
       "      <td>1345</td>\n",
       "      <td>float64</td>\n",
       "      <td>True</td>\n",
       "      <td>11.988874</td>\n",
       "      <td>0.0</td>\n",
       "      <td>0.0</td>\n",
       "      <td>0.0</td>\n",
       "      <td>1.0</td>\n",
       "      <td>2000.0</td>\n",
       "      <td>54.133345</td>\n",
       "      <td>11.027454</td>\n",
       "      <td>199.524849</td>\n",
       "    </tr>\n",
       "    <tr>\n",
       "      <th>cold_start_stay_cnt</th>\n",
       "      <td>1821074</td>\n",
       "      <td>0</td>\n",
       "      <td>243</td>\n",
       "      <td>float64</td>\n",
       "      <td>True</td>\n",
       "      <td>0.29789</td>\n",
       "      <td>0.0</td>\n",
       "      <td>0.0</td>\n",
       "      <td>0.0</td>\n",
       "      <td>0.0</td>\n",
       "      <td>1047.0</td>\n",
       "      <td>3.69449</td>\n",
       "      <td>49.881162</td>\n",
       "      <td>6480.320668</td>\n",
       "    </tr>\n",
       "    <tr>\n",
       "      <th>like_svr_cnt</th>\n",
       "      <td>1821074</td>\n",
       "      <td>0</td>\n",
       "      <td>51</td>\n",
       "      <td>float64</td>\n",
       "      <td>True</td>\n",
       "      <td>0.14998</td>\n",
       "      <td>0.0</td>\n",
       "      <td>0.0</td>\n",
       "      <td>0.0</td>\n",
       "      <td>0.0</td>\n",
       "      <td>50.0</td>\n",
       "      <td>1.384766</td>\n",
       "      <td>21.111903</td>\n",
       "      <td>592.291414</td>\n",
       "    </tr>\n",
       "    <tr>\n",
       "      <th>follow_svr_cnt</th>\n",
       "      <td>1821074</td>\n",
       "      <td>0</td>\n",
       "      <td>50</td>\n",
       "      <td>float64</td>\n",
       "      <td>True</td>\n",
       "      <td>0.01757</td>\n",
       "      <td>0.0</td>\n",
       "      <td>0.0</td>\n",
       "      <td>0.0</td>\n",
       "      <td>0.0</td>\n",
       "      <td>50.0</td>\n",
       "      <td>0.350406</td>\n",
       "      <td>69.45248</td>\n",
       "      <td>7458.645102</td>\n",
       "    </tr>\n",
       "    <tr>\n",
       "      <th>forward_cnt</th>\n",
       "      <td>1821074</td>\n",
       "      <td>0</td>\n",
       "      <td>48</td>\n",
       "      <td>float64</td>\n",
       "      <td>True</td>\n",
       "      <td>0.033222</td>\n",
       "      <td>0.0</td>\n",
       "      <td>0.0</td>\n",
       "      <td>0.0</td>\n",
       "      <td>0.0</td>\n",
       "      <td>50.0</td>\n",
       "      <td>0.498698</td>\n",
       "      <td>44.707244</td>\n",
       "      <td>3164.139644</td>\n",
       "    </tr>\n",
       "  </tbody>\n",
       "</table>\n",
       "</div>"
      ],
      "text/plain": [
       "                       count Mising  Unique    Dtype Numeric       Mean  Min  \\\n",
       "anonymous            1821074      0  910537   object   False          -    -   \n",
       "ds                   1821074      0       2   object   False          -    -   \n",
       "first_hit_ds         1821074      0      12    int64    True          -    -   \n",
       "groupid              1821074      0       2    int64    True          -    -   \n",
       "is_active_today      1821074      0       2    int64    True          -    -   \n",
       "in_experiment        1821074      0       2    int64    True          -    -   \n",
       "stay_cnt             1821074      0    1345  float64    True  11.988874  0.0   \n",
       "cold_start_stay_cnt  1821074      0     243  float64    True    0.29789  0.0   \n",
       "like_svr_cnt         1821074      0      51  float64    True    0.14998  0.0   \n",
       "follow_svr_cnt       1821074      0      50  float64    True    0.01757  0.0   \n",
       "forward_cnt          1821074      0      48  float64    True   0.033222  0.0   \n",
       "\n",
       "                     25% Median  75%     Max        std       Skew  \\\n",
       "anonymous              -      -    -       -          -          -   \n",
       "ds                     -      -    -       -          -          -   \n",
       "first_hit_ds           -      -    -       -          -          -   \n",
       "groupid                -      -    -       -          -          -   \n",
       "is_active_today        -      -    -       -          -          -   \n",
       "in_experiment          -      -    -       -          -          -   \n",
       "stay_cnt             0.0    0.0  1.0  2000.0  54.133345  11.027454   \n",
       "cold_start_stay_cnt  0.0    0.0  0.0  1047.0    3.69449  49.881162   \n",
       "like_svr_cnt         0.0    0.0  0.0    50.0   1.384766  21.111903   \n",
       "follow_svr_cnt       0.0    0.0  0.0    50.0   0.350406   69.45248   \n",
       "forward_cnt          0.0    0.0  0.0    50.0   0.498698  44.707244   \n",
       "\n",
       "                            Kurt  \n",
       "anonymous                      -  \n",
       "ds                             -  \n",
       "first_hit_ds                   -  \n",
       "groupid                        -  \n",
       "is_active_today                -  \n",
       "in_experiment                  -  \n",
       "stay_cnt              199.524849  \n",
       "cold_start_stay_cnt  6480.320668  \n",
       "like_svr_cnt          592.291414  \n",
       "follow_svr_cnt       7458.645102  \n",
       "forward_cnt          3164.139644  "
      ]
     },
     "execution_count": 23,
     "metadata": {},
     "output_type": "execute_result"
    }
   ],
   "source": [
    "new_df_output"
   ]
  },
  {
   "cell_type": "code",
   "execution_count": 187,
   "id": "3055fdbe",
   "metadata": {},
   "outputs": [
    {
     "name": "stdout",
     "output_type": "stream",
     "text": [
      "20220718    910537\n",
      "20220717    910537\n",
      "Name: ds, dtype: int64\n",
      "20220707    627412\n",
      "20220708    256622\n",
      "20220709    178786\n",
      "20220710    138172\n",
      "20220711    114964\n",
      "20220712     92920\n",
      "20220713     87850\n",
      "20220714     78856\n",
      "20220715     70510\n",
      "20220716     63494\n",
      "20220717     57868\n",
      "20220718     53620\n",
      "Name: first_hit_ds, dtype: int64\n",
      "309154    910892\n",
      "309153    910182\n",
      "Name: groupid, dtype: int64\n",
      "0    1292248\n",
      "1     528826\n",
      "Name: is_active_today, dtype: int64\n",
      "1    1738520\n",
      "0      82554\n",
      "Name: in_experiment, dtype: int64\n"
     ]
    }
   ],
   "source": [
    "# categorical--statistics\n",
    "for col in categorical_col[1:len(categorical_col)]:\n",
    "    print(new_df[col].value_counts())"
   ]
  },
  {
   "cell_type": "markdown",
   "id": "ed2e0ebb",
   "metadata": {},
   "source": [
    "#### visualization analysis"
   ]
  },
  {
   "cell_type": "code",
   "execution_count": 188,
   "id": "96cd9ef7",
   "metadata": {},
   "outputs": [
    {
     "data": {
      "text/plain": [
       "array([[<AxesSubplot:title={'center':'groupid'}>,\n",
       "        <AxesSubplot:title={'center':'first_hit_ds'}>,\n",
       "        <AxesSubplot:title={'center':'is_active_today'}>],\n",
       "       [<AxesSubplot:title={'center':'stay_cnt'}>,\n",
       "        <AxesSubplot:title={'center':'like_svr_cnt'}>,\n",
       "        <AxesSubplot:title={'center':'follow_svr_cnt'}>],\n",
       "       [<AxesSubplot:title={'center':'forward_cnt'}>,\n",
       "        <AxesSubplot:title={'center':'cold_start_stay_cnt'}>,\n",
       "        <AxesSubplot:title={'center':'in_experiment'}>]], dtype=object)"
      ]
     },
     "execution_count": 188,
     "metadata": {},
     "output_type": "execute_result"
    },
    {
     "data": {
      "image/png": "[encoded data removed]",
      "text/plain": [
       "<Figure size 720x720 with 9 Axes>"
      ]
     },
     "metadata": {
      "needs_background": "light"
     },
     "output_type": "display_data"
    }
   ],
   "source": [
    "# # Univariate visualization(numerical variable)--histgram\n",
    "new_df.hist(figsize=(10,10))"
   ]
  },
  {
   "cell_type": "code",
   "execution_count": 138,
   "id": "89968525",
   "metadata": {},
   "outputs": [
    {
     "data": {
      "image/png": "[encoded data removed]",
      "text/plain": [
       "<Figure size 432x288 with 1 Axes>"
      ]
     },
     "metadata": {
      "needs_background": "light"
     },
     "output_type": "display_data"
    },
    {
     "data": {
      "image/png": "[encoded data removed]",
      "text/plain": [
       "<Figure size 432x288 with 1 Axes>"
      ]
     },
     "metadata": {
      "needs_background": "light"
     },
     "output_type": "display_data"
    },
    {
     "data": {
      "image/png": "[encoded data removed]",
      "text/plain": [
       "<Figure size 432x288 with 1 Axes>"
      ]
     },
     "metadata": {
      "needs_background": "light"
     },
     "output_type": "display_data"
    },
    {
     "data": {
      "image/png": "[encoded data removed]",
      "text/plain": [
       "<Figure size 432x288 with 1 Axes>"
      ]
     },
     "metadata": {
      "needs_background": "light"
     },
     "output_type": "display_data"
    },
    {
     "data": {
      "image/png": "[encoded data removed]",
      "text/plain": [
       "<Figure size 432x288 with 1 Axes>"
      ]
     },
     "metadata": {
      "needs_background": "light"
     },
     "output_type": "display_data"
    }
   ],
   "source": [
    "# # Univariate visualization(categorical variable)--brachart\n",
    "for col in numerical_col:\n",
    "    sns.distplot(new_df[col])\n",
    "    plt.show()"
   ]
  },
  {
   "cell_type": "code",
   "execution_count": 190,
   "id": "049d7a1a",
   "metadata": {},
   "outputs": [
    {
     "data": {
      "image/png": "[encoded data removed]",
      "text/plain": [
       "<Figure size 432x288 with 1 Axes>"
      ]
     },
     "metadata": {
      "needs_background": "light"
     },
     "output_type": "display_data"
    },
    {
     "data": {
      "image/png": "[encoded data removed]",
      "text/plain": [
       "<Figure size 432x288 with 1 Axes>"
      ]
     },
     "metadata": {
      "needs_background": "light"
     },
     "output_type": "display_data"
    },
    {
     "data": {
      "image/png": "[encoded data removed]",
      "text/plain": [
       "<Figure size 432x288 with 1 Axes>"
      ]
     },
     "metadata": {
      "needs_background": "light"
     },
     "output_type": "display_data"
    },
    {
     "data": {
      "image/png": "[encoded data removed]",
      "text/plain": [
       "<Figure size 432x288 with 1 Axes>"
      ]
     },
     "metadata": {
      "needs_background": "light"
     },
     "output_type": "display_data"
    },
    {
     "data": {
      "image/png": "[encoded data removed]",
      "text/plain": [
       "<Figure size 432x288 with 1 Axes>"
      ]
     },
     "metadata": {
      "needs_background": "light"
     },
     "output_type": "display_data"
    }
   ],
   "source": [
    "# # Univariate visualization(categorical variable)--brachart\n",
    "for col in categorical_col[1:len(categorical_col)]:\n",
    "    sns.countplot(new_df[col])\n",
    "    plt.show()"
   ]
  },
  {
   "cell_type": "markdown",
   "id": "6397798a",
   "metadata": {},
   "source": [
    "conlusion:\n",
    "1. panel data: individul: 910537, 2-period(0717-0718)\n",
    "2. first_hit_sd: 12 different days,(20200707--20200718)。wehn ds> first_hit_ds，才参与实验。---需要检查\n",
    "3. groupid: 309153-control，309154- treatment。\n",
    "4. is_active_today: inactive number:1292248; active numer:528826, almost 1/3 is active user.\n",
    "5. for numerical variable: they all highly right skew, a lot of zeros"
   ]
  },
  {
   "cell_type": "markdown",
   "id": "53912c0e",
   "metadata": {},
   "source": [
    "## 3.Bivariate Analysis"
   ]
  },
  {
   "cell_type": "code",
   "execution_count": 24,
   "id": "71905239",
   "metadata": {},
   "outputs": [],
   "source": [
    "# filter out 没参与实验的user\n",
    "new_new_df= new_df"
   ]
  },
  {
   "cell_type": "code",
   "execution_count": 25,
   "id": "63d1e1d4",
   "metadata": {},
   "outputs": [],
   "source": [
    "new_new_df.drop(new_new_df[new_new_df[\"in_experiment\"]==0].index,inplace=True)"
   ]
  },
  {
   "cell_type": "code",
   "execution_count": 26,
   "id": "a301b1b2",
   "metadata": {},
   "outputs": [],
   "source": [
    "# statistics\n",
    "def unistats(df):\n",
    "    output_df=pd.DataFrame(columns=[\"count\",\"Mising\",\"Unique\",\"Dtype\",\"Numeric\",\"Mean\",\"Min\",\"25%\",\"Median\",\"75%\",\"Max\",\"std\",\"Skew\",\"Kurt\"])\n",
    "    for col in categorical_col:\n",
    "            output_df.loc[col]=[df[col].count(),df[col].isnull().sum(),len(df[col].unique()),df[col].dtype,pd.api.types.is_numeric_dtype(df[col]),\n",
    "                                '-','-','-','-','-','-','-','-','-']\n",
    "    for col in numerical_col:\n",
    "        output_df.loc[col]=[df[col].count(),df[col].isnull().sum(),len(df[col].unique()),df[col].dtype,pd.api.types.is_numeric_dtype(df[col]),\n",
    "                               df[col].mean(),df[col].min(),df[col].quantile(0.25),df[col].median(),df[col].quantile(0.75),df[col].max(),df[col].std(),df[col].skew(),df[col].kurt()]\n",
    "    return output_df\n",
    "\n",
    "new_new_df_output=unistats(new_new_df)\n",
    "new_new_df_output.to_excel(\"new_new_univariate_statistics.xls\")"
   ]
  },
  {
   "cell_type": "code",
   "execution_count": 27,
   "id": "8ca94ebf",
   "metadata": {},
   "outputs": [
    {
     "data": {
      "text/html": [
       "<div>\n",
       "<style scoped>\n",
       "    .dataframe tbody tr th:only-of-type {\n",
       "        vertical-align: middle;\n",
       "    }\n",
       "\n",
       "    .dataframe tbody tr th {\n",
       "        vertical-align: top;\n",
       "    }\n",
       "\n",
       "    .dataframe thead th {\n",
       "        text-align: right;\n",
       "    }\n",
       "</style>\n",
       "<table border=\"1\" class=\"dataframe\">\n",
       "  <thead>\n",
       "    <tr style=\"text-align: right;\">\n",
       "      <th></th>\n",
       "      <th>count</th>\n",
       "      <th>Mising</th>\n",
       "      <th>Unique</th>\n",
       "      <th>Dtype</th>\n",
       "      <th>Numeric</th>\n",
       "      <th>Mean</th>\n",
       "      <th>Min</th>\n",
       "      <th>25%</th>\n",
       "      <th>Median</th>\n",
       "      <th>75%</th>\n",
       "      <th>Max</th>\n",
       "      <th>std</th>\n",
       "      <th>Skew</th>\n",
       "      <th>Kurt</th>\n",
       "    </tr>\n",
       "  </thead>\n",
       "  <tbody>\n",
       "    <tr>\n",
       "      <th>anonymous</th>\n",
       "      <td>1738520</td>\n",
       "      <td>0</td>\n",
       "      <td>883727</td>\n",
       "      <td>object</td>\n",
       "      <td>False</td>\n",
       "      <td>-</td>\n",
       "      <td>-</td>\n",
       "      <td>-</td>\n",
       "      <td>-</td>\n",
       "      <td>-</td>\n",
       "      <td>-</td>\n",
       "      <td>-</td>\n",
       "      <td>-</td>\n",
       "      <td>-</td>\n",
       "    </tr>\n",
       "    <tr>\n",
       "      <th>ds</th>\n",
       "      <td>1738520</td>\n",
       "      <td>0</td>\n",
       "      <td>2</td>\n",
       "      <td>object</td>\n",
       "      <td>False</td>\n",
       "      <td>-</td>\n",
       "      <td>-</td>\n",
       "      <td>-</td>\n",
       "      <td>-</td>\n",
       "      <td>-</td>\n",
       "      <td>-</td>\n",
       "      <td>-</td>\n",
       "      <td>-</td>\n",
       "      <td>-</td>\n",
       "    </tr>\n",
       "    <tr>\n",
       "      <th>first_hit_ds</th>\n",
       "      <td>1738520</td>\n",
       "      <td>0</td>\n",
       "      <td>11</td>\n",
       "      <td>int64</td>\n",
       "      <td>True</td>\n",
       "      <td>-</td>\n",
       "      <td>-</td>\n",
       "      <td>-</td>\n",
       "      <td>-</td>\n",
       "      <td>-</td>\n",
       "      <td>-</td>\n",
       "      <td>-</td>\n",
       "      <td>-</td>\n",
       "      <td>-</td>\n",
       "    </tr>\n",
       "    <tr>\n",
       "      <th>groupid</th>\n",
       "      <td>1738520</td>\n",
       "      <td>0</td>\n",
       "      <td>2</td>\n",
       "      <td>int64</td>\n",
       "      <td>True</td>\n",
       "      <td>-</td>\n",
       "      <td>-</td>\n",
       "      <td>-</td>\n",
       "      <td>-</td>\n",
       "      <td>-</td>\n",
       "      <td>-</td>\n",
       "      <td>-</td>\n",
       "      <td>-</td>\n",
       "      <td>-</td>\n",
       "    </tr>\n",
       "    <tr>\n",
       "      <th>is_active_today</th>\n",
       "      <td>1738520</td>\n",
       "      <td>0</td>\n",
       "      <td>2</td>\n",
       "      <td>int64</td>\n",
       "      <td>True</td>\n",
       "      <td>-</td>\n",
       "      <td>-</td>\n",
       "      <td>-</td>\n",
       "      <td>-</td>\n",
       "      <td>-</td>\n",
       "      <td>-</td>\n",
       "      <td>-</td>\n",
       "      <td>-</td>\n",
       "      <td>-</td>\n",
       "    </tr>\n",
       "    <tr>\n",
       "      <th>in_experiment</th>\n",
       "      <td>1738520</td>\n",
       "      <td>0</td>\n",
       "      <td>1</td>\n",
       "      <td>int64</td>\n",
       "      <td>True</td>\n",
       "      <td>-</td>\n",
       "      <td>-</td>\n",
       "      <td>-</td>\n",
       "      <td>-</td>\n",
       "      <td>-</td>\n",
       "      <td>-</td>\n",
       "      <td>-</td>\n",
       "      <td>-</td>\n",
       "      <td>-</td>\n",
       "    </tr>\n",
       "    <tr>\n",
       "      <th>stay_cnt</th>\n",
       "      <td>1738520</td>\n",
       "      <td>0</td>\n",
       "      <td>1344</td>\n",
       "      <td>float64</td>\n",
       "      <td>True</td>\n",
       "      <td>12.139177</td>\n",
       "      <td>0.0</td>\n",
       "      <td>0.0</td>\n",
       "      <td>0.0</td>\n",
       "      <td>1.0</td>\n",
       "      <td>2000.0</td>\n",
       "      <td>54.965231</td>\n",
       "      <td>10.936878</td>\n",
       "      <td>195.522127</td>\n",
       "    </tr>\n",
       "    <tr>\n",
       "      <th>cold_start_stay_cnt</th>\n",
       "      <td>1738520</td>\n",
       "      <td>0</td>\n",
       "      <td>243</td>\n",
       "      <td>float64</td>\n",
       "      <td>True</td>\n",
       "      <td>0.306312</td>\n",
       "      <td>0.0</td>\n",
       "      <td>0.0</td>\n",
       "      <td>0.0</td>\n",
       "      <td>0.0</td>\n",
       "      <td>1047.0</td>\n",
       "      <td>3.767845</td>\n",
       "      <td>49.171612</td>\n",
       "      <td>6272.7796</td>\n",
       "    </tr>\n",
       "    <tr>\n",
       "      <th>like_svr_cnt</th>\n",
       "      <td>1738520</td>\n",
       "      <td>0</td>\n",
       "      <td>51</td>\n",
       "      <td>float64</td>\n",
       "      <td>True</td>\n",
       "      <td>0.150239</td>\n",
       "      <td>0.0</td>\n",
       "      <td>0.0</td>\n",
       "      <td>0.0</td>\n",
       "      <td>0.0</td>\n",
       "      <td>50.0</td>\n",
       "      <td>1.391008</td>\n",
       "      <td>21.102402</td>\n",
       "      <td>590.592785</td>\n",
       "    </tr>\n",
       "    <tr>\n",
       "      <th>follow_svr_cnt</th>\n",
       "      <td>1738520</td>\n",
       "      <td>0</td>\n",
       "      <td>49</td>\n",
       "      <td>float64</td>\n",
       "      <td>True</td>\n",
       "      <td>0.017671</td>\n",
       "      <td>0.0</td>\n",
       "      <td>0.0</td>\n",
       "      <td>0.0</td>\n",
       "      <td>0.0</td>\n",
       "      <td>50.0</td>\n",
       "      <td>0.350887</td>\n",
       "      <td>68.955584</td>\n",
       "      <td>7390.461302</td>\n",
       "    </tr>\n",
       "    <tr>\n",
       "      <th>forward_cnt</th>\n",
       "      <td>1738520</td>\n",
       "      <td>0</td>\n",
       "      <td>48</td>\n",
       "      <td>float64</td>\n",
       "      <td>True</td>\n",
       "      <td>0.033881</td>\n",
       "      <td>0.0</td>\n",
       "      <td>0.0</td>\n",
       "      <td>0.0</td>\n",
       "      <td>0.0</td>\n",
       "      <td>50.0</td>\n",
       "      <td>0.506422</td>\n",
       "      <td>44.398908</td>\n",
       "      <td>3107.257706</td>\n",
       "    </tr>\n",
       "  </tbody>\n",
       "</table>\n",
       "</div>"
      ],
      "text/plain": [
       "                       count Mising  Unique    Dtype Numeric       Mean  Min  \\\n",
       "anonymous            1738520      0  883727   object   False          -    -   \n",
       "ds                   1738520      0       2   object   False          -    -   \n",
       "first_hit_ds         1738520      0      11    int64    True          -    -   \n",
       "groupid              1738520      0       2    int64    True          -    -   \n",
       "is_active_today      1738520      0       2    int64    True          -    -   \n",
       "in_experiment        1738520      0       1    int64    True          -    -   \n",
       "stay_cnt             1738520      0    1344  float64    True  12.139177  0.0   \n",
       "cold_start_stay_cnt  1738520      0     243  float64    True   0.306312  0.0   \n",
       "like_svr_cnt         1738520      0      51  float64    True   0.150239  0.0   \n",
       "follow_svr_cnt       1738520      0      49  float64    True   0.017671  0.0   \n",
       "forward_cnt          1738520      0      48  float64    True   0.033881  0.0   \n",
       "\n",
       "                     25% Median  75%     Max        std       Skew  \\\n",
       "anonymous              -      -    -       -          -          -   \n",
       "ds                     -      -    -       -          -          -   \n",
       "first_hit_ds           -      -    -       -          -          -   \n",
       "groupid                -      -    -       -          -          -   \n",
       "is_active_today        -      -    -       -          -          -   \n",
       "in_experiment          -      -    -       -          -          -   \n",
       "stay_cnt             0.0    0.0  1.0  2000.0  54.965231  10.936878   \n",
       "cold_start_stay_cnt  0.0    0.0  0.0  1047.0   3.767845  49.171612   \n",
       "like_svr_cnt         0.0    0.0  0.0    50.0   1.391008  21.102402   \n",
       "follow_svr_cnt       0.0    0.0  0.0    50.0   0.350887  68.955584   \n",
       "forward_cnt          0.0    0.0  0.0    50.0   0.506422  44.398908   \n",
       "\n",
       "                            Kurt  \n",
       "anonymous                      -  \n",
       "ds                             -  \n",
       "first_hit_ds                   -  \n",
       "groupid                        -  \n",
       "is_active_today                -  \n",
       "in_experiment                  -  \n",
       "stay_cnt              195.522127  \n",
       "cold_start_stay_cnt    6272.7796  \n",
       "like_svr_cnt          590.592785  \n",
       "follow_svr_cnt       7390.461302  \n",
       "forward_cnt          3107.257706  "
      ]
     },
     "execution_count": 27,
     "metadata": {},
     "output_type": "execute_result"
    }
   ],
   "source": [
    "new_new_df_output"
   ]
  },
  {
   "cell_type": "markdown",
   "id": "eb3227ca",
   "metadata": {},
   "source": [
    "#### (1) numerical- numerical"
   ]
  },
  {
   "cell_type": "markdown",
   "id": "d98f5c33",
   "metadata": {},
   "source": [
    "##### correlation "
   ]
  },
  {
   "cell_type": "code",
   "execution_count": 173,
   "id": "c0814058",
   "metadata": {},
   "outputs": [
    {
     "data": {
      "text/html": [
       "<div>\n",
       "<style scoped>\n",
       "    .dataframe tbody tr th:only-of-type {\n",
       "        vertical-align: middle;\n",
       "    }\n",
       "\n",
       "    .dataframe tbody tr th {\n",
       "        vertical-align: top;\n",
       "    }\n",
       "\n",
       "    .dataframe thead th {\n",
       "        text-align: right;\n",
       "    }\n",
       "</style>\n",
       "<table border=\"1\" class=\"dataframe\">\n",
       "  <thead>\n",
       "    <tr style=\"text-align: right;\">\n",
       "      <th></th>\n",
       "      <th>r</th>\n",
       "      <th>p</th>\n",
       "    </tr>\n",
       "  </thead>\n",
       "  <tbody>\n",
       "    <tr>\n",
       "      <th>stay_cnt</th>\n",
       "      <td>1.000</td>\n",
       "      <td>0.0</td>\n",
       "    </tr>\n",
       "    <tr>\n",
       "      <th>cold_start_stay_cnt</th>\n",
       "      <td>0.674</td>\n",
       "      <td>0.0</td>\n",
       "    </tr>\n",
       "    <tr>\n",
       "      <th>like_svr_cnt</th>\n",
       "      <td>0.277</td>\n",
       "      <td>0.0</td>\n",
       "    </tr>\n",
       "    <tr>\n",
       "      <th>follow_svr_cnt</th>\n",
       "      <td>0.165</td>\n",
       "      <td>0.0</td>\n",
       "    </tr>\n",
       "    <tr>\n",
       "      <th>forward_cnt</th>\n",
       "      <td>0.200</td>\n",
       "      <td>0.0</td>\n",
       "    </tr>\n",
       "  </tbody>\n",
       "</table>\n",
       "</div>"
      ],
      "text/plain": [
       "                         r    p\n",
       "stay_cnt             1.000  0.0\n",
       "cold_start_stay_cnt  0.674  0.0\n",
       "like_svr_cnt         0.277  0.0\n",
       "follow_svr_cnt       0.165  0.0\n",
       "forward_cnt          0.200  0.0"
      ]
     },
     "execution_count": 173,
     "metadata": {},
     "output_type": "execute_result"
    }
   ],
   "source": [
    "# (1) correlation\n",
    "# # statistics--计算correlation的值\n",
    "corr_df= pd.DataFrame(columns=[\"r\",\"p\"])\n",
    "from scipy import stats\n",
    "for col in numerical_col:\n",
    "    r,p= stats.pearsonr(new_df[col],new_df[\"stay_cnt\"])\n",
    "    corr_df.loc[col]=[round(r,3),round(p,3)]\n",
    "corr_df"
   ]
  },
  {
   "cell_type": "code",
   "execution_count": 201,
   "id": "fd063fe9",
   "metadata": {},
   "outputs": [
    {
     "data": {
      "text/html": [
       "<div>\n",
       "<style scoped>\n",
       "    .dataframe tbody tr th:only-of-type {\n",
       "        vertical-align: middle;\n",
       "    }\n",
       "\n",
       "    .dataframe tbody tr th {\n",
       "        vertical-align: top;\n",
       "    }\n",
       "\n",
       "    .dataframe thead th {\n",
       "        text-align: right;\n",
       "    }\n",
       "</style>\n",
       "<table border=\"1\" class=\"dataframe\">\n",
       "  <thead>\n",
       "    <tr style=\"text-align: right;\">\n",
       "      <th></th>\n",
       "      <th>stay_cnt</th>\n",
       "      <th>cold_start_stay_cnt</th>\n",
       "      <th>like_svr_cnt</th>\n",
       "      <th>follow_svr_cnt</th>\n",
       "      <th>forward_cnt</th>\n",
       "    </tr>\n",
       "  </thead>\n",
       "  <tbody>\n",
       "    <tr>\n",
       "      <th>stay_cnt</th>\n",
       "      <td>1.000</td>\n",
       "      <td>0.677</td>\n",
       "      <td>0.276</td>\n",
       "      <td>0.165</td>\n",
       "      <td>0.200</td>\n",
       "    </tr>\n",
       "    <tr>\n",
       "      <th>cold_start_stay_cnt</th>\n",
       "      <td>0.677</td>\n",
       "      <td>1.000</td>\n",
       "      <td>0.150</td>\n",
       "      <td>0.083</td>\n",
       "      <td>0.099</td>\n",
       "    </tr>\n",
       "    <tr>\n",
       "      <th>like_svr_cnt</th>\n",
       "      <td>0.276</td>\n",
       "      <td>0.150</td>\n",
       "      <td>1.000</td>\n",
       "      <td>0.219</td>\n",
       "      <td>0.171</td>\n",
       "    </tr>\n",
       "    <tr>\n",
       "      <th>follow_svr_cnt</th>\n",
       "      <td>0.165</td>\n",
       "      <td>0.083</td>\n",
       "      <td>0.219</td>\n",
       "      <td>1.000</td>\n",
       "      <td>0.167</td>\n",
       "    </tr>\n",
       "    <tr>\n",
       "      <th>forward_cnt</th>\n",
       "      <td>0.200</td>\n",
       "      <td>0.099</td>\n",
       "      <td>0.171</td>\n",
       "      <td>0.167</td>\n",
       "      <td>1.000</td>\n",
       "    </tr>\n",
       "  </tbody>\n",
       "</table>\n",
       "</div>"
      ],
      "text/plain": [
       "                     stay_cnt  cold_start_stay_cnt  like_svr_cnt  \\\n",
       "stay_cnt                1.000                0.677         0.276   \n",
       "cold_start_stay_cnt     0.677                1.000         0.150   \n",
       "like_svr_cnt            0.276                0.150         1.000   \n",
       "follow_svr_cnt          0.165                0.083         0.219   \n",
       "forward_cnt             0.200                0.099         0.171   \n",
       "\n",
       "                     follow_svr_cnt  forward_cnt  \n",
       "stay_cnt                      0.165        0.200  \n",
       "cold_start_stay_cnt           0.083        0.099  \n",
       "like_svr_cnt                  0.219        0.171  \n",
       "follow_svr_cnt                1.000        0.167  \n",
       "forward_cnt                   0.167        1.000  "
      ]
     },
     "execution_count": 201,
     "metadata": {},
     "output_type": "execute_result"
    }
   ],
   "source": [
    "np.round(new_new_df[numerical_col].corr(),3)"
   ]
  },
  {
   "cell_type": "code",
   "execution_count": 202,
   "id": "1ddc72cb",
   "metadata": {},
   "outputs": [
    {
     "data": {
      "image/png": "[encoded data removed]",
      "text/plain": [
       "<Figure size 360x360 with 2 Axes>"
      ]
     },
     "metadata": {
      "needs_background": "light"
     },
     "output_type": "display_data"
    }
   ],
   "source": [
    "# 画correlation heat map图\n",
    "plt.figure(figsize=(5,5))\n",
    "sns.heatmap(np.round(new_new_df[numerical_col].corr(),3),annot=True)\n",
    "plt.show()"
   ]
  },
  {
   "cell_type": "markdown",
   "id": "84fbbcf0",
   "metadata": {},
   "source": [
    "##### visualization--scatterplot"
   ]
  },
  {
   "cell_type": "code",
   "execution_count": 205,
   "id": "59d274ff",
   "metadata": {},
   "outputs": [
    {
     "data": {
      "text/plain": [
       "<AxesSubplot:xlabel='stay_cnt', ylabel='cold_start_stay_cnt'>"
      ]
     },
     "execution_count": 205,
     "metadata": {},
     "output_type": "execute_result"
    },
    {
     "data": {
      "image/png": "[encoded data removed]",
      "text/plain": [
       "<Figure size 432x288 with 1 Axes>"
      ]
     },
     "metadata": {
      "needs_background": "light"
     },
     "output_type": "display_data"
    }
   ],
   "source": [
    "sns.regplot(new_new_df[numerical_col[0]],new_new_df[numerical_col[1]])"
   ]
  },
  {
   "cell_type": "code",
   "execution_count": 206,
   "id": "f9e7c731",
   "metadata": {},
   "outputs": [
    {
     "data": {
      "text/plain": [
       "<AxesSubplot:xlabel='stay_cnt', ylabel='like_svr_cnt'>"
      ]
     },
     "execution_count": 206,
     "metadata": {},
     "output_type": "execute_result"
    },
    {
     "data": {
      "image/png": "[encoded data removed]",
      "text/plain": [
       "<Figure size 432x288 with 1 Axes>"
      ]
     },
     "metadata": {
      "needs_background": "light"
     },
     "output_type": "display_data"
    }
   ],
   "source": [
    "sns.regplot(new_new_df[numerical_col[0]],new_new_df[numerical_col[2]])"
   ]
  },
  {
   "cell_type": "code",
   "execution_count": 207,
   "id": "5dfd210b",
   "metadata": {},
   "outputs": [
    {
     "data": {
      "text/plain": [
       "<AxesSubplot:xlabel='stay_cnt', ylabel='follow_svr_cnt'>"
      ]
     },
     "execution_count": 207,
     "metadata": {},
     "output_type": "execute_result"
    },
    {
     "data": {
      "image/png": "[encoded data removed]",
      "text/plain": [
       "<Figure size 432x288 with 1 Axes>"
      ]
     },
     "metadata": {
      "needs_background": "light"
     },
     "output_type": "display_data"
    }
   ],
   "source": [
    "sns.regplot(new_new_df[numerical_col[0]],new_new_df[numerical_col[3]])"
   ]
  },
  {
   "cell_type": "code",
   "execution_count": 208,
   "id": "5dc5c3f6",
   "metadata": {},
   "outputs": [
    {
     "data": {
      "text/plain": [
       "<AxesSubplot:xlabel='stay_cnt', ylabel='forward_cnt'>"
      ]
     },
     "execution_count": 208,
     "metadata": {},
     "output_type": "execute_result"
    },
    {
     "data": {
      "image/png": "[encoded data removed]",
      "text/plain": [
       "<Figure size 432x288 with 1 Axes>"
      ]
     },
     "metadata": {
      "needs_background": "light"
     },
     "output_type": "display_data"
    }
   ],
   "source": [
    "sns.regplot(new_new_df[numerical_col[0]],new_new_df[numerical_col[4]])"
   ]
  },
  {
   "cell_type": "code",
   "execution_count": 209,
   "id": "519a06ea",
   "metadata": {},
   "outputs": [
    {
     "data": {
      "text/plain": [
       "<AxesSubplot:xlabel='cold_start_stay_cnt', ylabel='like_svr_cnt'>"
      ]
     },
     "execution_count": 209,
     "metadata": {},
     "output_type": "execute_result"
    },
    {
     "data": {
      "image/png": "[encoded data removed]",
      "text/plain": [
       "<Figure size 432x288 with 1 Axes>"
      ]
     },
     "metadata": {
      "needs_background": "light"
     },
     "output_type": "display_data"
    }
   ],
   "source": [
    "sns.regplot(new_new_df[numerical_col[1]],new_new_df[numerical_col[2]])"
   ]
  },
  {
   "cell_type": "code",
   "execution_count": 210,
   "id": "b214edfa",
   "metadata": {},
   "outputs": [
    {
     "data": {
      "text/plain": [
       "<AxesSubplot:xlabel='cold_start_stay_cnt', ylabel='follow_svr_cnt'>"
      ]
     },
     "execution_count": 210,
     "metadata": {},
     "output_type": "execute_result"
    },
    {
     "data": {
      "image/png": "[encoded data removed]",
      "text/plain": [
       "<Figure size 432x288 with 1 Axes>"
      ]
     },
     "metadata": {
      "needs_background": "light"
     },
     "output_type": "display_data"
    }
   ],
   "source": [
    "sns.regplot(new_new_df[numerical_col[1]],new_new_df[numerical_col[3]])"
   ]
  },
  {
   "cell_type": "code",
   "execution_count": 211,
   "id": "c52d6e64",
   "metadata": {},
   "outputs": [
    {
     "data": {
      "text/plain": [
       "<AxesSubplot:xlabel='cold_start_stay_cnt', ylabel='forward_cnt'>"
      ]
     },
     "execution_count": 211,
     "metadata": {},
     "output_type": "execute_result"
    },
    {
     "data": {
      "image/png": "[encoded data removed]",
      "text/plain": [
       "<Figure size 432x288 with 1 Axes>"
      ]
     },
     "metadata": {
      "needs_background": "light"
     },
     "output_type": "display_data"
    }
   ],
   "source": [
    "sns.regplot(new_new_df[numerical_col[1]],new_new_df[numerical_col[4]])"
   ]
  },
  {
   "cell_type": "code",
   "execution_count": 212,
   "id": "9d8f0889",
   "metadata": {},
   "outputs": [
    {
     "data": {
      "text/plain": [
       "<AxesSubplot:xlabel='like_svr_cnt', ylabel='follow_svr_cnt'>"
      ]
     },
     "execution_count": 212,
     "metadata": {},
     "output_type": "execute_result"
    },
    {
     "data": {
      "image/png": "[encoded data removed]",
      "text/plain": [
       "<Figure size 432x288 with 1 Axes>"
      ]
     },
     "metadata": {
      "needs_background": "light"
     },
     "output_type": "display_data"
    }
   ],
   "source": [
    "sns.regplot(new_new_df[numerical_col[2]],new_new_df[numerical_col[3]])"
   ]
  },
  {
   "cell_type": "code",
   "execution_count": 213,
   "id": "a2f14e1b",
   "metadata": {},
   "outputs": [
    {
     "data": {
      "text/plain": [
       "<AxesSubplot:xlabel='like_svr_cnt', ylabel='forward_cnt'>"
      ]
     },
     "execution_count": 213,
     "metadata": {},
     "output_type": "execute_result"
    },
    {
     "data": {
      "image/png": "[encoded data removed]",
      "text/plain": [
       "<Figure size 432x288 with 1 Axes>"
      ]
     },
     "metadata": {
      "needs_background": "light"
     },
     "output_type": "display_data"
    }
   ],
   "source": [
    "sns.regplot(new_new_df[numerical_col[2]],new_new_df[numerical_col[4]])"
   ]
  },
  {
   "cell_type": "code",
   "execution_count": 214,
   "id": "9e6ad72d",
   "metadata": {},
   "outputs": [
    {
     "data": {
      "text/plain": [
       "<AxesSubplot:xlabel='follow_svr_cnt', ylabel='forward_cnt'>"
      ]
     },
     "execution_count": 214,
     "metadata": {},
     "output_type": "execute_result"
    },
    {
     "data": {
      "image/png": "[encoded data removed]",
      "text/plain": [
       "<Figure size 432x288 with 1 Axes>"
      ]
     },
     "metadata": {
      "needs_background": "light"
     },
     "output_type": "display_data"
    }
   ],
   "source": [
    "sns.regplot(new_new_df[numerical_col[3]],new_new_df[numerical_col[4]])"
   ]
  },
  {
   "cell_type": "code",
   "execution_count": 216,
   "id": "586b640d",
   "metadata": {},
   "outputs": [
    {
     "data": {
      "text/html": [
       "<div>\n",
       "<style scoped>\n",
       "    .dataframe tbody tr th:only-of-type {\n",
       "        vertical-align: middle;\n",
       "    }\n",
       "\n",
       "    .dataframe tbody tr th {\n",
       "        vertical-align: top;\n",
       "    }\n",
       "\n",
       "    .dataframe thead th {\n",
       "        text-align: right;\n",
       "    }\n",
       "</style>\n",
       "<table border=\"1\" class=\"dataframe\">\n",
       "  <thead>\n",
       "    <tr style=\"text-align: right;\">\n",
       "      <th></th>\n",
       "      <th>groupid</th>\n",
       "      <th>first_hit_ds</th>\n",
       "      <th>is_active_today</th>\n",
       "      <th>stay_cnt</th>\n",
       "      <th>like_svr_cnt</th>\n",
       "      <th>follow_svr_cnt</th>\n",
       "      <th>forward_cnt</th>\n",
       "      <th>cold_start_stay_cnt</th>\n",
       "      <th>in_experiment</th>\n",
       "    </tr>\n",
       "    <tr>\n",
       "      <th>ds</th>\n",
       "      <th></th>\n",
       "      <th></th>\n",
       "      <th></th>\n",
       "      <th></th>\n",
       "      <th></th>\n",
       "      <th></th>\n",
       "      <th></th>\n",
       "      <th></th>\n",
       "      <th></th>\n",
       "    </tr>\n",
       "  </thead>\n",
       "  <tbody>\n",
       "    <tr>\n",
       "      <th>20220717</th>\n",
       "      <td>309153.5</td>\n",
       "      <td>2.022071e+07</td>\n",
       "      <td>0.275</td>\n",
       "      <td>12.433</td>\n",
       "      <td>0.153</td>\n",
       "      <td>0.018</td>\n",
       "      <td>0.035</td>\n",
       "      <td>0.297</td>\n",
       "      <td>1.0</td>\n",
       "    </tr>\n",
       "    <tr>\n",
       "      <th>20220718</th>\n",
       "      <td>309153.5</td>\n",
       "      <td>2.022071e+07</td>\n",
       "      <td>0.272</td>\n",
       "      <td>11.855</td>\n",
       "      <td>0.147</td>\n",
       "      <td>0.017</td>\n",
       "      <td>0.033</td>\n",
       "      <td>0.315</td>\n",
       "      <td>1.0</td>\n",
       "    </tr>\n",
       "  </tbody>\n",
       "</table>\n",
       "</div>"
      ],
      "text/plain": [
       "           groupid  first_hit_ds  is_active_today  stay_cnt  like_svr_cnt  \\\n",
       "ds                                                                          \n",
       "20220717  309153.5  2.022071e+07            0.275    12.433         0.153   \n",
       "20220718  309153.5  2.022071e+07            0.272    11.855         0.147   \n",
       "\n",
       "          follow_svr_cnt  forward_cnt  cold_start_stay_cnt  in_experiment  \n",
       "ds                                                                         \n",
       "20220717           0.018        0.035                0.297            1.0  \n",
       "20220718           0.017        0.033                0.315            1.0  "
      ]
     },
     "execution_count": 216,
     "metadata": {},
     "output_type": "execute_result"
    }
   ],
   "source": [
    "# (2)Categorical/Numerical\n",
    "# categorical = 看下日期和分组，分别的对不同nmuerical的影响\n",
    "# # statistics--计算下ATE和p值\n",
    "# 按照日期(一共有三天)\n",
    "np.round(new_new_df.groupby(new_new_df[\"ds\"]).mean(),3)"
   ]
  },
  {
   "cell_type": "code",
   "execution_count": 219,
   "id": "1deb074b",
   "metadata": {},
   "outputs": [
    {
     "data": {
      "text/html": [
       "<div>\n",
       "<style scoped>\n",
       "    .dataframe tbody tr th:only-of-type {\n",
       "        vertical-align: middle;\n",
       "    }\n",
       "\n",
       "    .dataframe tbody tr th {\n",
       "        vertical-align: top;\n",
       "    }\n",
       "\n",
       "    .dataframe thead th {\n",
       "        text-align: right;\n",
       "    }\n",
       "</style>\n",
       "<table border=\"1\" class=\"dataframe\">\n",
       "  <thead>\n",
       "    <tr style=\"text-align: right;\">\n",
       "      <th></th>\n",
       "      <th>first_hit_ds</th>\n",
       "      <th>is_active_today</th>\n",
       "      <th>stay_cnt</th>\n",
       "      <th>like_svr_cnt</th>\n",
       "      <th>follow_svr_cnt</th>\n",
       "      <th>forward_cnt</th>\n",
       "      <th>cold_start_stay_cnt</th>\n",
       "      <th>in_experiment</th>\n",
       "    </tr>\n",
       "    <tr>\n",
       "      <th>groupid</th>\n",
       "      <th></th>\n",
       "      <th></th>\n",
       "      <th></th>\n",
       "      <th></th>\n",
       "      <th></th>\n",
       "      <th></th>\n",
       "      <th></th>\n",
       "      <th></th>\n",
       "    </tr>\n",
       "  </thead>\n",
       "  <tbody>\n",
       "    <tr>\n",
       "      <th>309153</th>\n",
       "      <td>2.022071e+07</td>\n",
       "      <td>0.274</td>\n",
       "      <td>12.072</td>\n",
       "      <td>0.149</td>\n",
       "      <td>0.018</td>\n",
       "      <td>0.034</td>\n",
       "      <td>0.305</td>\n",
       "      <td>1.0</td>\n",
       "    </tr>\n",
       "    <tr>\n",
       "      <th>309154</th>\n",
       "      <td>2.022071e+07</td>\n",
       "      <td>0.274</td>\n",
       "      <td>12.206</td>\n",
       "      <td>0.151</td>\n",
       "      <td>0.018</td>\n",
       "      <td>0.034</td>\n",
       "      <td>0.307</td>\n",
       "      <td>1.0</td>\n",
       "    </tr>\n",
       "  </tbody>\n",
       "</table>\n",
       "</div>"
      ],
      "text/plain": [
       "         first_hit_ds  is_active_today  stay_cnt  like_svr_cnt  \\\n",
       "groupid                                                          \n",
       "309153   2.022071e+07            0.274    12.072         0.149   \n",
       "309154   2.022071e+07            0.274    12.206         0.151   \n",
       "\n",
       "         follow_svr_cnt  forward_cnt  cold_start_stay_cnt  in_experiment  \n",
       "groupid                                                                   \n",
       "309153            0.018        0.034                0.305            1.0  \n",
       "309154            0.018        0.034                0.307            1.0  "
      ]
     },
     "execution_count": 219,
     "metadata": {},
     "output_type": "execute_result"
    }
   ],
   "source": [
    "# 按照分组\n",
    "np.round(new_new_df.groupby(new_new_df[\"groupid\"]).mean(),3)"
   ]
  },
  {
   "cell_type": "code",
   "execution_count": 222,
   "id": "b471a9a9",
   "metadata": {},
   "outputs": [
    {
     "data": {
      "text/html": [
       "<div>\n",
       "<style scoped>\n",
       "    .dataframe tbody tr th:only-of-type {\n",
       "        vertical-align: middle;\n",
       "    }\n",
       "\n",
       "    .dataframe tbody tr th {\n",
       "        vertical-align: top;\n",
       "    }\n",
       "\n",
       "    .dataframe thead th {\n",
       "        text-align: right;\n",
       "    }\n",
       "</style>\n",
       "<table border=\"1\" class=\"dataframe\">\n",
       "  <thead>\n",
       "    <tr style=\"text-align: right;\">\n",
       "      <th></th>\n",
       "      <th></th>\n",
       "      <th>first_hit_ds</th>\n",
       "      <th>is_active_today</th>\n",
       "      <th>stay_cnt</th>\n",
       "      <th>like_svr_cnt</th>\n",
       "      <th>follow_svr_cnt</th>\n",
       "      <th>forward_cnt</th>\n",
       "      <th>cold_start_stay_cnt</th>\n",
       "      <th>in_experiment</th>\n",
       "    </tr>\n",
       "    <tr>\n",
       "      <th>groupid</th>\n",
       "      <th>ds</th>\n",
       "      <th></th>\n",
       "      <th></th>\n",
       "      <th></th>\n",
       "      <th></th>\n",
       "      <th></th>\n",
       "      <th></th>\n",
       "      <th></th>\n",
       "      <th></th>\n",
       "    </tr>\n",
       "  </thead>\n",
       "  <tbody>\n",
       "    <tr>\n",
       "      <th rowspan=\"2\" valign=\"top\">309153</th>\n",
       "      <th>20220717</th>\n",
       "      <td>2.022071e+07</td>\n",
       "      <td>0.274444</td>\n",
       "      <td>12.401724</td>\n",
       "      <td>0.153522</td>\n",
       "      <td>0.018271</td>\n",
       "      <td>0.034627</td>\n",
       "      <td>0.298721</td>\n",
       "      <td>1.0</td>\n",
       "    </tr>\n",
       "    <tr>\n",
       "      <th>20220718</th>\n",
       "      <td>2.022071e+07</td>\n",
       "      <td>0.272725</td>\n",
       "      <td>11.753939</td>\n",
       "      <td>0.145408</td>\n",
       "      <td>0.017406</td>\n",
       "      <td>0.032494</td>\n",
       "      <td>0.311666</td>\n",
       "      <td>1.0</td>\n",
       "    </tr>\n",
       "    <tr>\n",
       "      <th rowspan=\"2\" valign=\"top\">309154</th>\n",
       "      <th>20220717</th>\n",
       "      <td>2.022071e+07</td>\n",
       "      <td>0.275532</td>\n",
       "      <td>12.464878</td>\n",
       "      <td>0.153002</td>\n",
       "      <td>0.017696</td>\n",
       "      <td>0.034403</td>\n",
       "      <td>0.296170</td>\n",
       "      <td>1.0</td>\n",
       "    </tr>\n",
       "    <tr>\n",
       "      <th>20220718</th>\n",
       "      <td>2.022071e+07</td>\n",
       "      <td>0.272003</td>\n",
       "      <td>11.955316</td>\n",
       "      <td>0.149220</td>\n",
       "      <td>0.017333</td>\n",
       "      <td>0.034040</td>\n",
       "      <td>0.318109</td>\n",
       "      <td>1.0</td>\n",
       "    </tr>\n",
       "  </tbody>\n",
       "</table>\n",
       "</div>"
      ],
      "text/plain": [
       "                  first_hit_ds  is_active_today   stay_cnt  like_svr_cnt  \\\n",
       "groupid ds                                                                 \n",
       "309153  20220717  2.022071e+07         0.274444  12.401724      0.153522   \n",
       "        20220718  2.022071e+07         0.272725  11.753939      0.145408   \n",
       "309154  20220717  2.022071e+07         0.275532  12.464878      0.153002   \n",
       "        20220718  2.022071e+07         0.272003  11.955316      0.149220   \n",
       "\n",
       "                  follow_svr_cnt  forward_cnt  cold_start_stay_cnt  \\\n",
       "groupid ds                                                           \n",
       "309153  20220717        0.018271     0.034627             0.298721   \n",
       "        20220718        0.017406     0.032494             0.311666   \n",
       "309154  20220717        0.017696     0.034403             0.296170   \n",
       "        20220718        0.017333     0.034040             0.318109   \n",
       "\n",
       "                  in_experiment  \n",
       "groupid ds                       \n",
       "309153  20220717            1.0  \n",
       "        20220718            1.0  \n",
       "309154  20220717            1.0  \n",
       "        20220718            1.0  "
      ]
     },
     "execution_count": 222,
     "metadata": {},
     "output_type": "execute_result"
    }
   ],
   "source": [
    "# 按照分组\n",
    "new_new_df.groupby([new_new_df[\"groupid\"],new_new_df[\"ds\"]]).mean()"
   ]
  },
  {
   "cell_type": "code",
   "execution_count": 230,
   "id": "68b75008",
   "metadata": {},
   "outputs": [],
   "source": [
    "# 按照分组\n",
    "treatment_effect= np.round(new_new_df.groupby([new_new_df[\"groupid\"],new_new_df[\"ds\"],new_new_df[\"is_active_today\"]]).mean(),3)\n",
    "treatment_effect.to_excel(\"treatment_effect.xls\")"
   ]
  },
  {
   "cell_type": "code",
   "execution_count": 231,
   "id": "dbe55be7",
   "metadata": {},
   "outputs": [
    {
     "data": {
      "text/html": [
       "<div>\n",
       "<style scoped>\n",
       "    .dataframe tbody tr th:only-of-type {\n",
       "        vertical-align: middle;\n",
       "    }\n",
       "\n",
       "    .dataframe tbody tr th {\n",
       "        vertical-align: top;\n",
       "    }\n",
       "\n",
       "    .dataframe thead th {\n",
       "        text-align: right;\n",
       "    }\n",
       "</style>\n",
       "<table border=\"1\" class=\"dataframe\">\n",
       "  <thead>\n",
       "    <tr style=\"text-align: right;\">\n",
       "      <th></th>\n",
       "      <th></th>\n",
       "      <th></th>\n",
       "      <th>first_hit_ds</th>\n",
       "      <th>stay_cnt</th>\n",
       "      <th>like_svr_cnt</th>\n",
       "      <th>follow_svr_cnt</th>\n",
       "      <th>forward_cnt</th>\n",
       "      <th>cold_start_stay_cnt</th>\n",
       "      <th>in_experiment</th>\n",
       "    </tr>\n",
       "    <tr>\n",
       "      <th>groupid</th>\n",
       "      <th>ds</th>\n",
       "      <th>is_active_today</th>\n",
       "      <th></th>\n",
       "      <th></th>\n",
       "      <th></th>\n",
       "      <th></th>\n",
       "      <th></th>\n",
       "      <th></th>\n",
       "      <th></th>\n",
       "    </tr>\n",
       "  </thead>\n",
       "  <tbody>\n",
       "    <tr>\n",
       "      <th rowspan=\"4\" valign=\"top\">309153</th>\n",
       "      <th rowspan=\"2\" valign=\"top\">20220717</th>\n",
       "      <th>0</th>\n",
       "      <td>2.022071e+07</td>\n",
       "      <td>0.111</td>\n",
       "      <td>0.003</td>\n",
       "      <td>0.000</td>\n",
       "      <td>0.001</td>\n",
       "      <td>0.002</td>\n",
       "      <td>1.0</td>\n",
       "    </tr>\n",
       "    <tr>\n",
       "      <th>1</th>\n",
       "      <td>2.022071e+07</td>\n",
       "      <td>44.894</td>\n",
       "      <td>0.551</td>\n",
       "      <td>0.066</td>\n",
       "      <td>0.125</td>\n",
       "      <td>1.084</td>\n",
       "      <td>1.0</td>\n",
       "    </tr>\n",
       "    <tr>\n",
       "      <th rowspan=\"2\" valign=\"top\">20220718</th>\n",
       "      <th>0</th>\n",
       "      <td>2.022071e+07</td>\n",
       "      <td>0.120</td>\n",
       "      <td>0.003</td>\n",
       "      <td>0.000</td>\n",
       "      <td>0.000</td>\n",
       "      <td>0.002</td>\n",
       "      <td>1.0</td>\n",
       "    </tr>\n",
       "    <tr>\n",
       "      <th>1</th>\n",
       "      <td>2.022071e+07</td>\n",
       "      <td>42.779</td>\n",
       "      <td>0.524</td>\n",
       "      <td>0.063</td>\n",
       "      <td>0.118</td>\n",
       "      <td>1.137</td>\n",
       "      <td>1.0</td>\n",
       "    </tr>\n",
       "    <tr>\n",
       "      <th rowspan=\"4\" valign=\"top\">309154</th>\n",
       "      <th rowspan=\"2\" valign=\"top\">20220717</th>\n",
       "      <th>0</th>\n",
       "      <td>2.022071e+07</td>\n",
       "      <td>0.115</td>\n",
       "      <td>0.003</td>\n",
       "      <td>0.000</td>\n",
       "      <td>0.000</td>\n",
       "      <td>0.002</td>\n",
       "      <td>1.0</td>\n",
       "    </tr>\n",
       "    <tr>\n",
       "      <th>1</th>\n",
       "      <td>2.022071e+07</td>\n",
       "      <td>44.938</td>\n",
       "      <td>0.547</td>\n",
       "      <td>0.064</td>\n",
       "      <td>0.124</td>\n",
       "      <td>1.070</td>\n",
       "      <td>1.0</td>\n",
       "    </tr>\n",
       "    <tr>\n",
       "      <th rowspan=\"2\" valign=\"top\">20220718</th>\n",
       "      <th>0</th>\n",
       "      <td>2.022071e+07</td>\n",
       "      <td>0.111</td>\n",
       "      <td>0.003</td>\n",
       "      <td>0.000</td>\n",
       "      <td>0.000</td>\n",
       "      <td>0.001</td>\n",
       "      <td>1.0</td>\n",
       "    </tr>\n",
       "    <tr>\n",
       "      <th>1</th>\n",
       "      <td>2.022071e+07</td>\n",
       "      <td>43.657</td>\n",
       "      <td>0.541</td>\n",
       "      <td>0.063</td>\n",
       "      <td>0.124</td>\n",
       "      <td>1.166</td>\n",
       "      <td>1.0</td>\n",
       "    </tr>\n",
       "  </tbody>\n",
       "</table>\n",
       "</div>"
      ],
      "text/plain": [
       "                                  first_hit_ds  stay_cnt  like_svr_cnt  \\\n",
       "groupid ds       is_active_today                                         \n",
       "309153  20220717 0                2.022071e+07     0.111         0.003   \n",
       "                 1                2.022071e+07    44.894         0.551   \n",
       "        20220718 0                2.022071e+07     0.120         0.003   \n",
       "                 1                2.022071e+07    42.779         0.524   \n",
       "309154  20220717 0                2.022071e+07     0.115         0.003   \n",
       "                 1                2.022071e+07    44.938         0.547   \n",
       "        20220718 0                2.022071e+07     0.111         0.003   \n",
       "                 1                2.022071e+07    43.657         0.541   \n",
       "\n",
       "                                  follow_svr_cnt  forward_cnt  \\\n",
       "groupid ds       is_active_today                                \n",
       "309153  20220717 0                         0.000        0.001   \n",
       "                 1                         0.066        0.125   \n",
       "        20220718 0                         0.000        0.000   \n",
       "                 1                         0.063        0.118   \n",
       "309154  20220717 0                         0.000        0.000   \n",
       "                 1                         0.064        0.124   \n",
       "        20220718 0                         0.000        0.000   \n",
       "                 1                         0.063        0.124   \n",
       "\n",
       "                                  cold_start_stay_cnt  in_experiment  \n",
       "groupid ds       is_active_today                                      \n",
       "309153  20220717 0                              0.002            1.0  \n",
       "                 1                              1.084            1.0  \n",
       "        20220718 0                              0.002            1.0  \n",
       "                 1                              1.137            1.0  \n",
       "309154  20220717 0                              0.002            1.0  \n",
       "                 1                              1.070            1.0  \n",
       "        20220718 0                              0.001            1.0  \n",
       "                 1                              1.166            1.0  "
      ]
     },
     "execution_count": 231,
     "metadata": {},
     "output_type": "execute_result"
    }
   ],
   "source": [
    "treatment_effect"
   ]
  },
  {
   "cell_type": "code",
   "execution_count": 235,
   "id": "9383353d",
   "metadata": {},
   "outputs": [
    {
     "name": "stdout",
     "output_type": "stream",
     "text": [
      "stay_cnt 0.10947462409300446\n",
      "cold_start_stay_cnt 0.7237862273125308\n",
      "like_svr_cnt 0.42533460468059703\n",
      "follow_svr_cnt 0.5482924716112074\n",
      "forward_cnt 0.3788221199967756\n"
     ]
    }
   ],
   "source": [
    "# 计算P值\n",
    "for col in numerical_col:\n",
    "    content_c=(new_new_df.where(new_new_df.groupid==309153)[col].dropna()).tolist()\n",
    "    count_c=[1 for _ in range(len(content_c))]\n",
    "    content_t2=(new_new_df.where(new_new_df.groupid==309154)[col].dropna()).tolist()\n",
    "    count_t2=[1 for _ in range(len(content_t2))]\n",
    "    M_c=Metric(content_c,count_c)\n",
    "    M_t=Metric(content_t2,count_t2)\n",
    "    p= Ttest(M_c,M_t).pvalue()\n",
    "    print(col,p)"
   ]
  },
  {
   "cell_type": "code",
   "execution_count": 238,
   "id": "35d50608",
   "metadata": {},
   "outputs": [],
   "source": [
    "# 计算ctr\n",
    "sum_value= new_new_df.groupby([new_new_df[\"groupid\"],new_new_df[\"ds\"],new_new_df[\"is_active_today\"]]).sum()\n",
    "sum_value.to_excel(\"sum_value.xls\")"
   ]
  },
  {
   "cell_type": "code",
   "execution_count": 239,
   "id": "bd3d534d",
   "metadata": {},
   "outputs": [
    {
     "data": {
      "text/html": [
       "<div>\n",
       "<style scoped>\n",
       "    .dataframe tbody tr th:only-of-type {\n",
       "        vertical-align: middle;\n",
       "    }\n",
       "\n",
       "    .dataframe tbody tr th {\n",
       "        vertical-align: top;\n",
       "    }\n",
       "\n",
       "    .dataframe thead th {\n",
       "        text-align: right;\n",
       "    }\n",
       "</style>\n",
       "<table border=\"1\" class=\"dataframe\">\n",
       "  <thead>\n",
       "    <tr style=\"text-align: right;\">\n",
       "      <th></th>\n",
       "      <th></th>\n",
       "      <th></th>\n",
       "      <th>first_hit_ds</th>\n",
       "      <th>stay_cnt</th>\n",
       "      <th>like_svr_cnt</th>\n",
       "      <th>follow_svr_cnt</th>\n",
       "      <th>forward_cnt</th>\n",
       "      <th>cold_start_stay_cnt</th>\n",
       "      <th>in_experiment</th>\n",
       "    </tr>\n",
       "    <tr>\n",
       "      <th>groupid</th>\n",
       "      <th>ds</th>\n",
       "      <th>is_active_today</th>\n",
       "      <th></th>\n",
       "      <th></th>\n",
       "      <th></th>\n",
       "      <th></th>\n",
       "      <th></th>\n",
       "      <th></th>\n",
       "      <th></th>\n",
       "    </tr>\n",
       "  </thead>\n",
       "  <tbody>\n",
       "    <tr>\n",
       "      <th rowspan=\"4\" valign=\"top\">309153</th>\n",
       "      <th rowspan=\"2\" valign=\"top\">20220717</th>\n",
       "      <th>0</th>\n",
       "      <td>6267328112726</td>\n",
       "      <td>34508.0</td>\n",
       "      <td>1001.0</td>\n",
       "      <td>81.0</td>\n",
       "      <td>155.0</td>\n",
       "      <td>490.0</td>\n",
       "      <td>309946</td>\n",
       "    </tr>\n",
       "    <tr>\n",
       "      <th>1</th>\n",
       "      <td>2370635428650</td>\n",
       "      <td>5263310.0</td>\n",
       "      <td>64581.0</td>\n",
       "      <td>7724.0</td>\n",
       "      <td>14637.0</td>\n",
       "      <td>127119.0</td>\n",
       "      <td>117238</td>\n",
       "    </tr>\n",
       "    <tr>\n",
       "      <th rowspan=\"2\" valign=\"top\">20220718</th>\n",
       "      <th>0</th>\n",
       "      <td>6495458252851</td>\n",
       "      <td>38473.0</td>\n",
       "      <td>1055.0</td>\n",
       "      <td>75.0</td>\n",
       "      <td>102.0</td>\n",
       "      <td>665.0</td>\n",
       "      <td>321228</td>\n",
       "    </tr>\n",
       "    <tr>\n",
       "      <th>1</th>\n",
       "      <td>2435766347176</td>\n",
       "      <td>5153089.0</td>\n",
       "      <td>63170.0</td>\n",
       "      <td>7613.0</td>\n",
       "      <td>14250.0</td>\n",
       "      <td>136994.0</td>\n",
       "      <td>120459</td>\n",
       "    </tr>\n",
       "    <tr>\n",
       "      <th rowspan=\"4\" valign=\"top\">309154</th>\n",
       "      <th rowspan=\"2\" valign=\"top\">20220717</th>\n",
       "      <th>0</th>\n",
       "      <td>6264153458536</td>\n",
       "      <td>35553.0</td>\n",
       "      <td>953.0</td>\n",
       "      <td>55.0</td>\n",
       "      <td>114.0</td>\n",
       "      <td>603.0</td>\n",
       "      <td>309789</td>\n",
       "    </tr>\n",
       "    <tr>\n",
       "      <th>1</th>\n",
       "      <td>2382403882631</td>\n",
       "      <td>5294541.0</td>\n",
       "      <td>64472.0</td>\n",
       "      <td>7512.0</td>\n",
       "      <td>14597.0</td>\n",
       "      <td>126042.0</td>\n",
       "      <td>117820</td>\n",
       "    </tr>\n",
       "    <tr>\n",
       "      <th rowspan=\"2\" valign=\"top\">20220718</th>\n",
       "      <th>0</th>\n",
       "      <td>6507105378938</td>\n",
       "      <td>35617.0</td>\n",
       "      <td>973.0</td>\n",
       "      <td>80.0</td>\n",
       "      <td>137.0</td>\n",
       "      <td>467.0</td>\n",
       "      <td>321804</td>\n",
       "    </tr>\n",
       "    <tr>\n",
       "      <th>1</th>\n",
       "      <td>2431257129256</td>\n",
       "      <td>5249111.0</td>\n",
       "      <td>64988.0</td>\n",
       "      <td>7582.0</td>\n",
       "      <td>14910.0</td>\n",
       "      <td>140150.0</td>\n",
       "      <td>120236</td>\n",
       "    </tr>\n",
       "  </tbody>\n",
       "</table>\n",
       "</div>"
      ],
      "text/plain": [
       "                                   first_hit_ds   stay_cnt  like_svr_cnt  \\\n",
       "groupid ds       is_active_today                                           \n",
       "309153  20220717 0                6267328112726    34508.0        1001.0   \n",
       "                 1                2370635428650  5263310.0       64581.0   \n",
       "        20220718 0                6495458252851    38473.0        1055.0   \n",
       "                 1                2435766347176  5153089.0       63170.0   \n",
       "309154  20220717 0                6264153458536    35553.0         953.0   \n",
       "                 1                2382403882631  5294541.0       64472.0   \n",
       "        20220718 0                6507105378938    35617.0         973.0   \n",
       "                 1                2431257129256  5249111.0       64988.0   \n",
       "\n",
       "                                  follow_svr_cnt  forward_cnt  \\\n",
       "groupid ds       is_active_today                                \n",
       "309153  20220717 0                          81.0        155.0   \n",
       "                 1                        7724.0      14637.0   \n",
       "        20220718 0                          75.0        102.0   \n",
       "                 1                        7613.0      14250.0   \n",
       "309154  20220717 0                          55.0        114.0   \n",
       "                 1                        7512.0      14597.0   \n",
       "        20220718 0                          80.0        137.0   \n",
       "                 1                        7582.0      14910.0   \n",
       "\n",
       "                                  cold_start_stay_cnt  in_experiment  \n",
       "groupid ds       is_active_today                                      \n",
       "309153  20220717 0                              490.0         309946  \n",
       "                 1                           127119.0         117238  \n",
       "        20220718 0                              665.0         321228  \n",
       "                 1                           136994.0         120459  \n",
       "309154  20220717 0                              603.0         309789  \n",
       "                 1                           126042.0         117820  \n",
       "        20220718 0                              467.0         321804  \n",
       "                 1                           140150.0         120236  "
      ]
     },
     "execution_count": 239,
     "metadata": {},
     "output_type": "execute_result"
    }
   ],
   "source": [
    "sum_value"
   ]
  },
  {
   "cell_type": "code",
   "execution_count": 237,
   "id": "e8710afe",
   "metadata": {},
   "outputs": [
    {
     "name": "stdout",
     "output_type": "stream",
     "text": [
      "ctr 0.9882919484746178\n"
     ]
    }
   ],
   "source": [
    "# 计算ctr的p值\n",
    "content_c=(new_new_df.where(new_new_df.groupid==309153)[\"like_svr_cnt\"].dropna()).tolist()\n",
    "count_c=(new_new_df.where(new_new_df.groupid==309153)[\"stay_cnt\"].dropna()).tolist()\n",
    "content_t2=(new_new_df.where(new_new_df.groupid==309154)[\"like_svr_cnt\"].dropna()).tolist()\n",
    "count_t2=(new_new_df.where(new_new_df.groupid==309154)[\"stay_cnt\"].dropna()).tolist()\n",
    "M_c=Metric(content_c,count_c)\n",
    "M_t=Metric(content_t2,count_t2)\n",
    "p= Ttest(M_c,M_t).pvalue()\n",
    "print(\"ctr\",p)"
   ]
  },
  {
   "cell_type": "markdown",
   "id": "01c04751",
   "metadata": {},
   "source": [
    "#### visualization"
   ]
  },
  {
   "cell_type": "code",
   "execution_count": null,
   "id": "914b15ec",
   "metadata": {},
   "outputs": [],
   "source": [
    "# groupid"
   ]
  },
  {
   "cell_type": "code",
   "execution_count": 229,
   "id": "0369bad5",
   "metadata": {},
   "outputs": [
    {
     "data": {
      "text/plain": [
       "<AxesSubplot:xlabel='stay_cnt', ylabel='like_svr_cnt'>"
      ]
     },
     "execution_count": 229,
     "metadata": {},
     "output_type": "execute_result"
    },
    {
     "data": {
      "image/png": "[encoded data removed]",
      "text/plain": [
       "<Figure size 432x288 with 1 Axes>"
      ]
     },
     "metadata": {
      "needs_background": "light"
     },
     "output_type": "display_data"
    }
   ],
   "source": [
    "sns.regplot(new_new_df.loc[new_new_df[\"groupid\"]==309153][\"stay_cnt\"],new_new_df.loc[new_new_df[\"groupid\"]==309153][\"like_svr_cnt\"])\n"
   ]
  },
  {
   "cell_type": "code",
   "execution_count": 232,
   "id": "fd6f00d7",
   "metadata": {},
   "outputs": [
    {
     "data": {
      "text/plain": [
       "<AxesSubplot:xlabel='stay_cnt', ylabel='like_svr_cnt'>"
      ]
     },
     "execution_count": 232,
     "metadata": {},
     "output_type": "execute_result"
    },
    {
     "data": {
      "image/png": "[encoded data removed]",
      "text/plain": [
       "<Figure size 432x288 with 1 Axes>"
      ]
     },
     "metadata": {
      "needs_background": "light"
     },
     "output_type": "display_data"
    }
   ],
   "source": [
    "sns.regplot(new_new_df.loc[new_new_df[\"groupid\"]==309154][\"stay_cnt\"],new_new_df.loc[new_new_df[\"groupid\"]==309154][\"like_svr_cnt\"])"
   ]
  },
  {
   "cell_type": "code",
   "execution_count": null,
   "id": "c4180ea0",
   "metadata": {},
   "outputs": [],
   "source": [
    "# is_active_today"
   ]
  },
  {
   "cell_type": "code",
   "execution_count": 234,
   "id": "fdda1cf8",
   "metadata": {},
   "outputs": [
    {
     "data": {
      "text/plain": [
       "<AxesSubplot:xlabel='stay_cnt', ylabel='like_svr_cnt'>"
      ]
     },
     "execution_count": 234,
     "metadata": {},
     "output_type": "execute_result"
    },
    {
     "data": {
      "image/png": "[encoded data removed]",
      "text/plain": [
       "<Figure size 432x288 with 1 Axes>"
      ]
     },
     "metadata": {
      "needs_background": "light"
     },
     "output_type": "display_data"
    }
   ],
   "source": [
    "sns.regplot(new_new_df.loc[new_new_df[\"is_active_today\"]==1][\"stay_cnt\"],new_new_df.loc[new_new_df[\"is_active_today\"]==1][\"like_svr_cnt\"])"
   ]
  },
  {
   "cell_type": "code",
   "execution_count": 233,
   "id": "4bd4a951",
   "metadata": {},
   "outputs": [
    {
     "data": {
      "text/plain": [
       "<AxesSubplot:xlabel='stay_cnt', ylabel='like_svr_cnt'>"
      ]
     },
     "execution_count": 233,
     "metadata": {},
     "output_type": "execute_result"
    },
    {
     "data": {
      "image/png": "[encoded data removed]",
      "text/plain": [
       "<Figure size 432x288 with 1 Axes>"
      ]
     },
     "metadata": {
      "needs_background": "light"
     },
     "output_type": "display_data"
    }
   ],
   "source": [
    "sns.regplot(new_new_df.loc[new_new_df[\"is_active_today\"]==0][\"stay_cnt\"],new_new_df.loc[new_new_df[\"is_active_today\"]==0][\"like_svr_cnt\"])"
   ]
  },
  {
   "cell_type": "code",
   "execution_count": 240,
   "id": "93050f62",
   "metadata": {},
   "outputs": [
    {
     "data": {
      "text/plain": [
       "<AxesSubplot:xlabel='stay_cnt', ylabel='cold_start_stay_cnt'>"
      ]
     },
     "execution_count": 240,
     "metadata": {},
     "output_type": "execute_result"
    },
    {
     "data": {
      "image/png": "[encoded data removed]",
      "text/plain": [
       "<Figure size 432x288 with 1 Axes>"
      ]
     },
     "metadata": {
      "needs_background": "light"
     },
     "output_type": "display_data"
    }
   ],
   "source": [
    "sns.regplot(new_new_df.loc[new_new_df[\"groupid\"]==309153][\"stay_cnt\"],new_new_df.loc[new_new_df[\"groupid\"]==309153][\"cold_start_stay_cnt\"])"
   ]
  },
  {
   "cell_type": "code",
   "execution_count": 241,
   "id": "8449a7ec",
   "metadata": {},
   "outputs": [
    {
     "data": {
      "text/plain": [
       "<AxesSubplot:xlabel='stay_cnt', ylabel='cold_start_stay_cnt'>"
      ]
     },
     "execution_count": 241,
     "metadata": {},
     "output_type": "execute_result"
    },
    {
     "data": {
      "image/png": "[encoded data removed]",
      "text/plain": [
       "<Figure size 432x288 with 1 Axes>"
      ]
     },
     "metadata": {
      "needs_background": "light"
     },
     "output_type": "display_data"
    }
   ],
   "source": [
    "sns.regplot(new_new_df.loc[new_new_df[\"groupid\"]==309154][\"stay_cnt\"],new_new_df.loc[new_new_df[\"groupid\"]==309154][\"cold_start_stay_cnt\"])"
   ]
  },
  {
   "cell_type": "code",
   "execution_count": 242,
   "id": "56a81bc6",
   "metadata": {},
   "outputs": [
    {
     "data": {
      "text/plain": [
       "<AxesSubplot:xlabel='stay_cnt', ylabel='cold_start_stay_cnt'>"
      ]
     },
     "execution_count": 242,
     "metadata": {},
     "output_type": "execute_result"
    },
    {
     "data": {
      "image/png": "[encoded data removed]",
      "text/plain": [
       "<Figure size 432x288 with 1 Axes>"
      ]
     },
     "metadata": {
      "needs_background": "light"
     },
     "output_type": "display_data"
    }
   ],
   "source": [
    "sns.regplot(new_new_df.loc[new_new_df[\"is_active_today\"]==1][\"stay_cnt\"],new_new_df.loc[new_new_df[\"is_active_today\"]==1][\"cold_start_stay_cnt\"])"
   ]
  },
  {
   "cell_type": "code",
   "execution_count": 243,
   "id": "1203fe69",
   "metadata": {},
   "outputs": [
    {
     "data": {
      "text/plain": [
       "<AxesSubplot:xlabel='stay_cnt', ylabel='cold_start_stay_cnt'>"
      ]
     },
     "execution_count": 243,
     "metadata": {},
     "output_type": "execute_result"
    },
    {
     "data": {
      "image/png": "[encoded data removed]",
      "text/plain": [
       "<Figure size 432x288 with 1 Axes>"
      ]
     },
     "metadata": {
      "needs_background": "light"
     },
     "output_type": "display_data"
    }
   ],
   "source": [
    "sns.regplot(new_new_df.loc[new_new_df[\"is_active_today\"]==0][\"stay_cnt\"],new_new_df.loc[new_new_df[\"is_active_today\"]==0][\"cold_start_stay_cnt\"])"
   ]
  },
  {
   "cell_type": "code",
   "execution_count": 30,
   "id": "08087ac9",
   "metadata": {},
   "outputs": [
    {
     "data": {
      "text/plain": [
       "<AxesSubplot:xlabel='groupid', ylabel='stay_cnt'>"
      ]
     },
     "execution_count": 30,
     "metadata": {},
     "output_type": "execute_result"
    },
    {
     "data": {
      "image/png": "[encoded data removed]",
      "text/plain": [
       "<Figure size 432x288 with 1 Axes>"
      ]
     },
     "metadata": {
      "needs_background": "light"
     },
     "output_type": "display_data"
    }
   ],
   "source": [
    "# # Visualization --箱线图\n",
    "sns.boxplot(x=new_new_df[\"groupid\"],y=new_new_df[\"stay_cnt\"])"
   ]
  },
  {
   "cell_type": "code",
   "execution_count": 31,
   "id": "3fd2338e",
   "metadata": {},
   "outputs": [
    {
     "data": {
      "text/plain": [
       "<AxesSubplot:xlabel='is_active_today', ylabel='stay_cnt'>"
      ]
     },
     "execution_count": 31,
     "metadata": {},
     "output_type": "execute_result"
    },
    {
     "data": {
      "image/png": "[encoded data removed]",
      "text/plain": [
       "<Figure size 432x288 with 1 Axes>"
      ]
     },
     "metadata": {
      "needs_background": "light"
     },
     "output_type": "display_data"
    }
   ],
   "source": [
    "sns.boxplot(x=new_new_df[\"is_active_today\"],y=new_new_df[\"stay_cnt\"])"
   ]
  },
  {
   "cell_type": "code",
   "execution_count": null,
   "id": "7bc2fae2",
   "metadata": {},
   "outputs": [],
   "source": []
  }
 ],
 "metadata": {
  "kernelspec": {
   "display_name": "Python 3.7",
   "language": "python",
   "name": "python3"
  },
  "language_info": {
   "codemirror_mode": {
    "name": "ipython",
    "version": 3
   },
   "file_extension": ".py",
   "mimetype": "text/x-python",
   "name": "python",
   "nbconvert_exporter": "python",
   "pygments_lexer": "ipython3",
   "version": "3.7.3"
  }
 },
 "nbformat": 4,
 "nbformat_minor": 5
}
