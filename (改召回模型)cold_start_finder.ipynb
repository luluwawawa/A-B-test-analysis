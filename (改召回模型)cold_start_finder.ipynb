{
 "cells": [
  {
   "cell_type": "code",
   "execution_count": 1,
   "id": "02aaf278",
   "metadata": {},
   "outputs": [],
   "source": [
    "# 从数据库中读取数据包\n",
    "from pyspark.sql import SparkSession\n",
    "import os\n",
    "from pytoolkit import TDWSQLProvider\n",
    "import pandas"
   ]
  },
  {
   "cell_type": "code",
   "execution_count": 2,
   "id": "53fc2af3",
   "metadata": {},
   "outputs": [
    {
     "name": "stdout",
     "output_type": "stream",
     "text": [
      "Driver Log: af85dd1a-3cb9-437a-8ef4-af82279f674c.log\n",
      "Tracking URL: http://application.tdw.oa.com:8080/proxy/application_1664996746409_2423621\n"
     ]
    }
   ],
   "source": [
    "# 从数据库中读取作者侧数据\n",
    "os.environ['GROUP_ID'] = 'g_wxg_wxt_product_analytics_intern'\n",
    "os.environ['GAIA_ID'] = '5729'\n",
    "session = SparkSession.builder.config('spark.driver.maxResultSize','14g').config('spark.driver.memory', '14g').config('spark.executor.cores', 4).config('spark.executor.memory', '14g').config('spark.yarn.archive','hdfs://qy-ieg-4-v2/data/SPARK/cachefile/3_12_2.4.6_hadoop3/spark-jars_old_notauth.zip').getOrCreate()\n",
    "tdw = TDWSQLProvider(session, group='tl', db='wxg_weixin_analytics_intern')\n",
    "df=tdw.table('tmp_dws_app_bilateral_expt_13697038_finder_intern_uin_i').toPandas()\n",
    "# tbl=tdw.table('tmp_dws_app_bilateral_expt13172784_finder_intern_uin_i')\n",
    "# tbl.creatOrReplaceTempView('tbl')\n",
    "# sql='''select * from tbl where ds='20220620' '''\n",
    "# tbl1=session.sql(sql)"
   ]
  },
  {
   "cell_type": "code",
   "execution_count": 3,
   "id": "8be1d600",
   "metadata": {},
   "outputs": [],
   "source": [
    "#数据分析包\n",
    "import warnings\n",
    "warnings.filterwarnings(\"ignore\")\n",
    "\n",
    "import pandas as pd\n",
    "import numpy as np\n",
    "from scipy import stats\n",
    "import seaborn as sns\n",
    "import matplotlib.pyplot as plt\n",
    "# \n",
    "from metric_funcs import Ttest, Metric\n",
    "from frt_pvalue import sharp_null_hypothesis_pvalue"
   ]
  },
  {
   "cell_type": "code",
   "execution_count": 4,
   "id": "5347fa0c",
   "metadata": {},
   "outputs": [
    {
     "data": {
      "text/html": [
       "<div>\n",
       "<style scoped>\n",
       "    .dataframe tbody tr th:only-of-type {\n",
       "        vertical-align: middle;\n",
       "    }\n",
       "\n",
       "    .dataframe tbody tr th {\n",
       "        vertical-align: top;\n",
       "    }\n",
       "\n",
       "    .dataframe thead th {\n",
       "        text-align: right;\n",
       "    }\n",
       "</style>\n",
       "<table border=\"1\" class=\"dataframe\">\n",
       "  <thead>\n",
       "    <tr style=\"text-align: right;\">\n",
       "      <th></th>\n",
       "      <th>ds</th>\n",
       "      <th>groupid</th>\n",
       "      <th>first_hit_ds</th>\n",
       "      <th>feed_cnt_hot_100</th>\n",
       "      <th>feed_cnt_hot_5k</th>\n",
       "      <th>feed_cnt</th>\n",
       "      <th>post_cnt</th>\n",
       "      <th>anonymous</th>\n",
       "    </tr>\n",
       "  </thead>\n",
       "  <tbody>\n",
       "    <tr>\n",
       "      <th>0</th>\n",
       "      <td>20220718</td>\n",
       "      <td>308998</td>\n",
       "      <td>20220717</td>\n",
       "      <td>0.538749</td>\n",
       "      <td>5.238956</td>\n",
       "      <td>5.217426</td>\n",
       "      <td>8.012839</td>\n",
       "      <td>847ffe517a5423bc11172e7a4d8d638c</td>\n",
       "    </tr>\n",
       "    <tr>\n",
       "      <th>1</th>\n",
       "      <td>20220718</td>\n",
       "      <td>308998</td>\n",
       "      <td>20220707</td>\n",
       "      <td>0.538749</td>\n",
       "      <td>5.238956</td>\n",
       "      <td>5.217426</td>\n",
       "      <td>8.012839</td>\n",
       "      <td>9e41de3bfa644d45005dc91a8a1846a0</td>\n",
       "    </tr>\n",
       "    <tr>\n",
       "      <th>2</th>\n",
       "      <td>20220718</td>\n",
       "      <td>308998</td>\n",
       "      <td>20220709</td>\n",
       "      <td>0.538749</td>\n",
       "      <td>5.238956</td>\n",
       "      <td>5.217426</td>\n",
       "      <td>8.012839</td>\n",
       "      <td>0e4e12324c5a901aa3294ddbc36285ca</td>\n",
       "    </tr>\n",
       "    <tr>\n",
       "      <th>3</th>\n",
       "      <td>20220718</td>\n",
       "      <td>308999</td>\n",
       "      <td>20220707</td>\n",
       "      <td>0.538749</td>\n",
       "      <td>5.238956</td>\n",
       "      <td>5.217426</td>\n",
       "      <td>8.012839</td>\n",
       "      <td>0d4aa2b3910dbda7e96a807c79e4285e</td>\n",
       "    </tr>\n",
       "    <tr>\n",
       "      <th>4</th>\n",
       "      <td>20220718</td>\n",
       "      <td>308998</td>\n",
       "      <td>20220717</td>\n",
       "      <td>0.538749</td>\n",
       "      <td>5.238956</td>\n",
       "      <td>5.217426</td>\n",
       "      <td>8.012839</td>\n",
       "      <td>7e4042e6e46bf15555668bc8d4085cf1</td>\n",
       "    </tr>\n",
       "  </tbody>\n",
       "</table>\n",
       "</div>"
      ],
      "text/plain": [
       "         ds  groupid  first_hit_ds  feed_cnt_hot_100  feed_cnt_hot_5k  \\\n",
       "0  20220718   308998      20220717          0.538749         5.238956   \n",
       "1  20220718   308998      20220707          0.538749         5.238956   \n",
       "2  20220718   308998      20220709          0.538749         5.238956   \n",
       "3  20220718   308999      20220707          0.538749         5.238956   \n",
       "4  20220718   308998      20220717          0.538749         5.238956   \n",
       "\n",
       "   feed_cnt  post_cnt                         anonymous  \n",
       "0  5.217426  8.012839  847ffe517a5423bc11172e7a4d8d638c  \n",
       "1  5.217426  8.012839  9e41de3bfa644d45005dc91a8a1846a0  \n",
       "2  5.217426  8.012839  0e4e12324c5a901aa3294ddbc36285ca  \n",
       "3  5.217426  8.012839  0d4aa2b3910dbda7e96a807c79e4285e  \n",
       "4  5.217426  8.012839  7e4042e6e46bf15555668bc8d4085cf1  "
      ]
     },
     "execution_count": 4,
     "metadata": {},
     "output_type": "execute_result"
    }
   ],
   "source": [
    "df.head(5)"
   ]
  },
  {
   "cell_type": "markdown",
   "id": "0d581db6",
   "metadata": {},
   "source": [
    "# 数据分析"
   ]
  },
  {
   "cell_type": "markdown",
   "id": "a6166c41",
   "metadata": {},
   "source": [
    "## 1. initial data exploration"
   ]
  },
  {
   "cell_type": "code",
   "execution_count": 5,
   "id": "fa3b8cbf",
   "metadata": {},
   "outputs": [
    {
     "data": {
      "text/html": [
       "<div>\n",
       "<style scoped>\n",
       "    .dataframe tbody tr th:only-of-type {\n",
       "        vertical-align: middle;\n",
       "    }\n",
       "\n",
       "    .dataframe tbody tr th {\n",
       "        vertical-align: top;\n",
       "    }\n",
       "\n",
       "    .dataframe thead th {\n",
       "        text-align: right;\n",
       "    }\n",
       "</style>\n",
       "<table border=\"1\" class=\"dataframe\">\n",
       "  <thead>\n",
       "    <tr style=\"text-align: right;\">\n",
       "      <th></th>\n",
       "      <th>ds</th>\n",
       "      <th>groupid</th>\n",
       "      <th>first_hit_ds</th>\n",
       "      <th>feed_cnt_hot_100</th>\n",
       "      <th>feed_cnt_hot_5k</th>\n",
       "      <th>feed_cnt</th>\n",
       "      <th>post_cnt</th>\n",
       "      <th>anonymous</th>\n",
       "    </tr>\n",
       "  </thead>\n",
       "  <tbody>\n",
       "    <tr>\n",
       "      <th>0</th>\n",
       "      <td>20220718</td>\n",
       "      <td>308998</td>\n",
       "      <td>20220717</td>\n",
       "      <td>0.538749</td>\n",
       "      <td>5.238956</td>\n",
       "      <td>5.217426</td>\n",
       "      <td>8.012839</td>\n",
       "      <td>847ffe517a5423bc11172e7a4d8d638c</td>\n",
       "    </tr>\n",
       "    <tr>\n",
       "      <th>1</th>\n",
       "      <td>20220718</td>\n",
       "      <td>308998</td>\n",
       "      <td>20220707</td>\n",
       "      <td>0.538749</td>\n",
       "      <td>5.238956</td>\n",
       "      <td>5.217426</td>\n",
       "      <td>8.012839</td>\n",
       "      <td>9e41de3bfa644d45005dc91a8a1846a0</td>\n",
       "    </tr>\n",
       "    <tr>\n",
       "      <th>2</th>\n",
       "      <td>20220718</td>\n",
       "      <td>308998</td>\n",
       "      <td>20220709</td>\n",
       "      <td>0.538749</td>\n",
       "      <td>5.238956</td>\n",
       "      <td>5.217426</td>\n",
       "      <td>8.012839</td>\n",
       "      <td>0e4e12324c5a901aa3294ddbc36285ca</td>\n",
       "    </tr>\n",
       "    <tr>\n",
       "      <th>3</th>\n",
       "      <td>20220718</td>\n",
       "      <td>308999</td>\n",
       "      <td>20220707</td>\n",
       "      <td>0.538749</td>\n",
       "      <td>5.238956</td>\n",
       "      <td>5.217426</td>\n",
       "      <td>8.012839</td>\n",
       "      <td>0d4aa2b3910dbda7e96a807c79e4285e</td>\n",
       "    </tr>\n",
       "    <tr>\n",
       "      <th>4</th>\n",
       "      <td>20220718</td>\n",
       "      <td>308998</td>\n",
       "      <td>20220717</td>\n",
       "      <td>0.538749</td>\n",
       "      <td>5.238956</td>\n",
       "      <td>5.217426</td>\n",
       "      <td>8.012839</td>\n",
       "      <td>7e4042e6e46bf15555668bc8d4085cf1</td>\n",
       "    </tr>\n",
       "  </tbody>\n",
       "</table>\n",
       "</div>"
      ],
      "text/plain": [
       "         ds  groupid  first_hit_ds  feed_cnt_hot_100  feed_cnt_hot_5k  \\\n",
       "0  20220718   308998      20220717          0.538749         5.238956   \n",
       "1  20220718   308998      20220707          0.538749         5.238956   \n",
       "2  20220718   308998      20220709          0.538749         5.238956   \n",
       "3  20220718   308999      20220707          0.538749         5.238956   \n",
       "4  20220718   308998      20220717          0.538749         5.238956   \n",
       "\n",
       "   feed_cnt  post_cnt                         anonymous  \n",
       "0  5.217426  8.012839  847ffe517a5423bc11172e7a4d8d638c  \n",
       "1  5.217426  8.012839  9e41de3bfa644d45005dc91a8a1846a0  \n",
       "2  5.217426  8.012839  0e4e12324c5a901aa3294ddbc36285ca  \n",
       "3  5.217426  8.012839  0d4aa2b3910dbda7e96a807c79e4285e  \n",
       "4  5.217426  8.012839  7e4042e6e46bf15555668bc8d4085cf1  "
      ]
     },
     "execution_count": 5,
     "metadata": {},
     "output_type": "execute_result"
    }
   ],
   "source": [
    "df.head(5)"
   ]
  },
  {
   "cell_type": "code",
   "execution_count": 6,
   "id": "30d9d69a",
   "metadata": {},
   "outputs": [
    {
     "data": {
      "text/plain": [
       "ds                   object\n",
       "groupid               int64\n",
       "first_hit_ds          int64\n",
       "feed_cnt_hot_100    float64\n",
       "feed_cnt_hot_5k     float64\n",
       "feed_cnt            float64\n",
       "post_cnt            float64\n",
       "anonymous            object\n",
       "dtype: object"
      ]
     },
     "execution_count": 6,
     "metadata": {},
     "output_type": "execute_result"
    }
   ],
   "source": [
    "df.dtypes"
   ]
  },
  {
   "cell_type": "markdown",
   "id": "24a1430b",
   "metadata": {},
   "source": [
    "numerical variable：\n",
    "feed_cnt_hot_100: 24小时内曝光达到100的feed\n",
    "feed_cnt_hot_5k: 24小时内曝光达到5000的feed\n",
    "feed_cnt: 当天冷启的feed数\n",
    "post_cnt: 当天发表的全部视频数\n",
    "    \n",
    "catgorical variable:\n",
    "anonymous: user nuique id\n",
    "ds: date\n",
    "first_hit_ds: 首次命中的日期\n",
    "group_id: 是哪个实验组"
   ]
  },
  {
   "cell_type": "code",
   "execution_count": 7,
   "id": "72220d3e",
   "metadata": {},
   "outputs": [],
   "source": [
    "numerical_col=[\"feed_cnt_hot_100\",\"feed_cnt_hot_5k\",\"feed_cnt\",\"post_cnt\"]\n",
    "categorical_col=[\"anonymous\",\"ds\",\"first_hit_ds\",\"groupid\"]"
   ]
  },
  {
   "cell_type": "markdown",
   "id": "f11c4dbd",
   "metadata": {},
   "source": [
    "## 2.Univariate Analysis"
   ]
  },
  {
   "cell_type": "markdown",
   "id": "bdf45b2e",
   "metadata": {},
   "source": [
    "### 2.1 orginal data"
   ]
  },
  {
   "cell_type": "code",
   "execution_count": 8,
   "id": "c070ab2e",
   "metadata": {},
   "outputs": [],
   "source": [
    "# Univariate statistics\n",
    "def unistats(df):\n",
    "    output_df=pd.DataFrame(columns=[\"count\",\"Mising\",\"Unique\",\"Dtype\",\"Numeric\",\"Mean\",\"Min\",\"25%\",\"Median\",\"75%\",\"Max\",\"std\",\"Skew\",\"Kurt\"])\n",
    "    for col in categorical_col:\n",
    "            output_df.loc[col]=[df[col].count(),df[col].isnull().sum(),len(df[col].unique()),df[col].dtype,pd.api.types.is_numeric_dtype(df[col]),\n",
    "                                '-','-','-','-','-','-','-','-','-']\n",
    "    for col in numerical_col:\n",
    "        output_df.loc[col]=[df[col].count(),df[col].isnull().sum(),len(df[col].unique()),df[col].dtype,pd.api.types.is_numeric_dtype(df[col]),\n",
    "                               df[col].mean(),df[col].min(),df[col].quantile(0.25),df[col].median(),df[col].quantile(0.75),df[col].max(),df[col].std(),df[col].skew(),df[col].kurt()]\n",
    "    return output_df\n",
    "\n",
    "output=unistats(df)\n",
    "output.to_excel(\"f_univariate_statistics.xls\")"
   ]
  },
  {
   "cell_type": "code",
   "execution_count": 9,
   "id": "aa592fd7",
   "metadata": {},
   "outputs": [
    {
     "data": {
      "text/html": [
       "<div>\n",
       "<style scoped>\n",
       "    .dataframe tbody tr th:only-of-type {\n",
       "        vertical-align: middle;\n",
       "    }\n",
       "\n",
       "    .dataframe tbody tr th {\n",
       "        vertical-align: top;\n",
       "    }\n",
       "\n",
       "    .dataframe thead th {\n",
       "        text-align: right;\n",
       "    }\n",
       "</style>\n",
       "<table border=\"1\" class=\"dataframe\">\n",
       "  <thead>\n",
       "    <tr style=\"text-align: right;\">\n",
       "      <th></th>\n",
       "      <th>count</th>\n",
       "      <th>Mising</th>\n",
       "      <th>Unique</th>\n",
       "      <th>Dtype</th>\n",
       "      <th>Numeric</th>\n",
       "      <th>Mean</th>\n",
       "      <th>Min</th>\n",
       "      <th>25%</th>\n",
       "      <th>Median</th>\n",
       "      <th>75%</th>\n",
       "      <th>Max</th>\n",
       "      <th>std</th>\n",
       "      <th>Skew</th>\n",
       "      <th>Kurt</th>\n",
       "    </tr>\n",
       "  </thead>\n",
       "  <tbody>\n",
       "    <tr>\n",
       "      <th>anonymous</th>\n",
       "      <td>795958</td>\n",
       "      <td>0</td>\n",
       "      <td>397979</td>\n",
       "      <td>object</td>\n",
       "      <td>False</td>\n",
       "      <td>-</td>\n",
       "      <td>-</td>\n",
       "      <td>-</td>\n",
       "      <td>-</td>\n",
       "      <td>-</td>\n",
       "      <td>-</td>\n",
       "      <td>-</td>\n",
       "      <td>-</td>\n",
       "      <td>-</td>\n",
       "    </tr>\n",
       "    <tr>\n",
       "      <th>ds</th>\n",
       "      <td>795958</td>\n",
       "      <td>0</td>\n",
       "      <td>2</td>\n",
       "      <td>object</td>\n",
       "      <td>False</td>\n",
       "      <td>-</td>\n",
       "      <td>-</td>\n",
       "      <td>-</td>\n",
       "      <td>-</td>\n",
       "      <td>-</td>\n",
       "      <td>-</td>\n",
       "      <td>-</td>\n",
       "      <td>-</td>\n",
       "      <td>-</td>\n",
       "    </tr>\n",
       "    <tr>\n",
       "      <th>first_hit_ds</th>\n",
       "      <td>795958</td>\n",
       "      <td>0</td>\n",
       "      <td>12</td>\n",
       "      <td>int64</td>\n",
       "      <td>True</td>\n",
       "      <td>-</td>\n",
       "      <td>-</td>\n",
       "      <td>-</td>\n",
       "      <td>-</td>\n",
       "      <td>-</td>\n",
       "      <td>-</td>\n",
       "      <td>-</td>\n",
       "      <td>-</td>\n",
       "      <td>-</td>\n",
       "    </tr>\n",
       "    <tr>\n",
       "      <th>groupid</th>\n",
       "      <td>795958</td>\n",
       "      <td>0</td>\n",
       "      <td>2</td>\n",
       "      <td>int64</td>\n",
       "      <td>True</td>\n",
       "      <td>-</td>\n",
       "      <td>-</td>\n",
       "      <td>-</td>\n",
       "      <td>-</td>\n",
       "      <td>-</td>\n",
       "      <td>-</td>\n",
       "      <td>-</td>\n",
       "      <td>-</td>\n",
       "      <td>-</td>\n",
       "    </tr>\n",
       "    <tr>\n",
       "      <th>feed_cnt_hot_100</th>\n",
       "      <td>795958</td>\n",
       "      <td>0</td>\n",
       "      <td>24</td>\n",
       "      <td>float64</td>\n",
       "      <td>True</td>\n",
       "      <td>1.291365</td>\n",
       "      <td>0.538749</td>\n",
       "      <td>0.538749</td>\n",
       "      <td>0.538749</td>\n",
       "      <td>0.538749</td>\n",
       "      <td>394.506313</td>\n",
       "      <td>3.034792</td>\n",
       "      <td>12.203146</td>\n",
       "      <td>677.556309</td>\n",
       "    </tr>\n",
       "    <tr>\n",
       "      <th>feed_cnt_hot_5k</th>\n",
       "      <td>795958</td>\n",
       "      <td>0</td>\n",
       "      <td>17</td>\n",
       "      <td>float64</td>\n",
       "      <td>True</td>\n",
       "      <td>5.246885</td>\n",
       "      <td>5.238956</td>\n",
       "      <td>5.238956</td>\n",
       "      <td>5.238956</td>\n",
       "      <td>5.238956</td>\n",
       "      <td>59.726153</td>\n",
       "      <td>0.255151</td>\n",
       "      <td>79.853839</td>\n",
       "      <td>10417.012387</td>\n",
       "    </tr>\n",
       "    <tr>\n",
       "      <th>feed_cnt</th>\n",
       "      <td>795958</td>\n",
       "      <td>0</td>\n",
       "      <td>47</td>\n",
       "      <td>float64</td>\n",
       "      <td>True</td>\n",
       "      <td>6.384703</td>\n",
       "      <td>5.217426</td>\n",
       "      <td>5.217426</td>\n",
       "      <td>5.217426</td>\n",
       "      <td>5.217426</td>\n",
       "      <td>805.030707</td>\n",
       "      <td>4.284567</td>\n",
       "      <td>26.812339</td>\n",
       "      <td>2744.103868</td>\n",
       "    </tr>\n",
       "    <tr>\n",
       "      <th>post_cnt</th>\n",
       "      <td>795958</td>\n",
       "      <td>0</td>\n",
       "      <td>55</td>\n",
       "      <td>float64</td>\n",
       "      <td>True</td>\n",
       "      <td>9.568752</td>\n",
       "      <td>8.012839</td>\n",
       "      <td>8.012839</td>\n",
       "      <td>8.012839</td>\n",
       "      <td>8.012839</td>\n",
       "      <td>5800.331618</td>\n",
       "      <td>11.069911</td>\n",
       "      <td>358.773013</td>\n",
       "      <td>179555.656652</td>\n",
       "    </tr>\n",
       "  </tbody>\n",
       "</table>\n",
       "</div>"
      ],
      "text/plain": [
       "                   count Mising  Unique    Dtype Numeric      Mean       Min  \\\n",
       "anonymous         795958      0  397979   object   False         -         -   \n",
       "ds                795958      0       2   object   False         -         -   \n",
       "first_hit_ds      795958      0      12    int64    True         -         -   \n",
       "groupid           795958      0       2    int64    True         -         -   \n",
       "feed_cnt_hot_100  795958      0      24  float64    True  1.291365  0.538749   \n",
       "feed_cnt_hot_5k   795958      0      17  float64    True  5.246885  5.238956   \n",
       "feed_cnt          795958      0      47  float64    True  6.384703  5.217426   \n",
       "post_cnt          795958      0      55  float64    True  9.568752  8.012839   \n",
       "\n",
       "                       25%    Median       75%          Max        std  \\\n",
       "anonymous                -         -         -            -          -   \n",
       "ds                       -         -         -            -          -   \n",
       "first_hit_ds             -         -         -            -          -   \n",
       "groupid                  -         -         -            -          -   \n",
       "feed_cnt_hot_100  0.538749  0.538749  0.538749   394.506313   3.034792   \n",
       "feed_cnt_hot_5k   5.238956  5.238956  5.238956    59.726153   0.255151   \n",
       "feed_cnt          5.217426  5.217426  5.217426   805.030707   4.284567   \n",
       "post_cnt          8.012839  8.012839  8.012839  5800.331618  11.069911   \n",
       "\n",
       "                        Skew           Kurt  \n",
       "anonymous                  -              -  \n",
       "ds                         -              -  \n",
       "first_hit_ds               -              -  \n",
       "groupid                    -              -  \n",
       "feed_cnt_hot_100   12.203146     677.556309  \n",
       "feed_cnt_hot_5k    79.853839   10417.012387  \n",
       "feed_cnt           26.812339    2744.103868  \n",
       "post_cnt          358.773013  179555.656652  "
      ]
     },
     "execution_count": 9,
     "metadata": {},
     "output_type": "execute_result"
    }
   ],
   "source": [
    "output"
   ]
  },
  {
   "cell_type": "markdown",
   "id": "43def0c1",
   "metadata": {},
   "source": [
    "### 2.2 restore real data"
   ]
  },
  {
   "cell_type": "markdown",
   "id": "2bd496db",
   "metadata": {},
   "source": [
    "#### restore numerical data"
   ]
  },
  {
   "cell_type": "code",
   "execution_count": 10,
   "id": "e3263863",
   "metadata": {},
   "outputs": [],
   "source": [
    "# copy data\n",
    "new_df=df"
   ]
  },
  {
   "cell_type": "code",
   "execution_count": 11,
   "id": "375ba1a1",
   "metadata": {},
   "outputs": [
    {
     "name": "stdout",
     "output_type": "stream",
     "text": [
      "feed_cnt_hot_100 [0.53874948 8.11504877]\n",
      "feed_cnt_hot_5k [5.23895551 8.10670273]\n",
      "feed_cnt [ 5.21742611 11.88253678]\n",
      "post_cnt [ 8.01283917 16.45645255]\n"
     ]
    }
   ],
   "source": [
    "# (1) -min (suppose min= 0)\n",
    "for col in numerical_col:\n",
    "    print(col,np.sort(df[col].unique())[0:2])"
   ]
  },
  {
   "cell_type": "code",
   "execution_count": 12,
   "id": "f06af7d6",
   "metadata": {},
   "outputs": [
    {
     "name": "stdout",
     "output_type": "stream",
     "text": [
      "feed_cnt_hot_100 0.5387494795548708 7.576299292959432\n",
      "feed_cnt_hot_100 [0. 1.]\n",
      "feed_cnt_hot_5k 5.238955514683797 2.867747218983295\n",
      "feed_cnt_hot_5k [0. 1.]\n",
      "feed_cnt 5.217426109601401 6.665110675123083\n",
      "feed_cnt [0. 1.]\n",
      "post_cnt 8.012839167331943 8.44361338086581\n",
      "post_cnt [0. 1.]\n"
     ]
    }
   ],
   "source": [
    "for col in numerical_col:\n",
    "    B= np.sort(df[col].unique())[0]\n",
    "    A= np.sort(df[col].unique())[1]-np.sort(df[col].unique())[0]\n",
    "    print(col,B,A)\n",
    "    new_df[col]=(df[col]-B)/A\n",
    "    print(col,np.sort(new_df[col].unique())[0:2])"
   ]
  },
  {
   "cell_type": "code",
   "execution_count": 13,
   "id": "87d027a0",
   "metadata": {},
   "outputs": [
    {
     "data": {
      "text/html": [
       "<div>\n",
       "<style scoped>\n",
       "    .dataframe tbody tr th:only-of-type {\n",
       "        vertical-align: middle;\n",
       "    }\n",
       "\n",
       "    .dataframe tbody tr th {\n",
       "        vertical-align: top;\n",
       "    }\n",
       "\n",
       "    .dataframe thead th {\n",
       "        text-align: right;\n",
       "    }\n",
       "</style>\n",
       "<table border=\"1\" class=\"dataframe\">\n",
       "  <thead>\n",
       "    <tr style=\"text-align: right;\">\n",
       "      <th></th>\n",
       "      <th>groupid</th>\n",
       "      <th>first_hit_ds</th>\n",
       "      <th>feed_cnt_hot_100</th>\n",
       "      <th>feed_cnt_hot_5k</th>\n",
       "      <th>feed_cnt</th>\n",
       "      <th>post_cnt</th>\n",
       "    </tr>\n",
       "  </thead>\n",
       "  <tbody>\n",
       "    <tr>\n",
       "      <th>count</th>\n",
       "      <td>795958.0</td>\n",
       "      <td>7.959580e+05</td>\n",
       "      <td>795958.000</td>\n",
       "      <td>795958.000</td>\n",
       "      <td>795958.000</td>\n",
       "      <td>795958.000</td>\n",
       "    </tr>\n",
       "    <tr>\n",
       "      <th>mean</th>\n",
       "      <td>308998.5</td>\n",
       "      <td>2.022071e+07</td>\n",
       "      <td>0.099</td>\n",
       "      <td>0.003</td>\n",
       "      <td>0.175</td>\n",
       "      <td>0.184</td>\n",
       "    </tr>\n",
       "    <tr>\n",
       "      <th>std</th>\n",
       "      <td>0.5</td>\n",
       "      <td>3.477000e+00</td>\n",
       "      <td>0.401</td>\n",
       "      <td>0.089</td>\n",
       "      <td>0.643</td>\n",
       "      <td>1.311</td>\n",
       "    </tr>\n",
       "    <tr>\n",
       "      <th>min</th>\n",
       "      <td>308998.0</td>\n",
       "      <td>2.022071e+07</td>\n",
       "      <td>0.000</td>\n",
       "      <td>0.000</td>\n",
       "      <td>0.000</td>\n",
       "      <td>0.000</td>\n",
       "    </tr>\n",
       "    <tr>\n",
       "      <th>25%</th>\n",
       "      <td>308998.0</td>\n",
       "      <td>2.022071e+07</td>\n",
       "      <td>0.000</td>\n",
       "      <td>0.000</td>\n",
       "      <td>0.000</td>\n",
       "      <td>0.000</td>\n",
       "    </tr>\n",
       "    <tr>\n",
       "      <th>50%</th>\n",
       "      <td>308998.0</td>\n",
       "      <td>2.022071e+07</td>\n",
       "      <td>0.000</td>\n",
       "      <td>0.000</td>\n",
       "      <td>0.000</td>\n",
       "      <td>0.000</td>\n",
       "    </tr>\n",
       "    <tr>\n",
       "      <th>75%</th>\n",
       "      <td>308999.0</td>\n",
       "      <td>2.022072e+07</td>\n",
       "      <td>0.000</td>\n",
       "      <td>0.000</td>\n",
       "      <td>0.000</td>\n",
       "      <td>0.000</td>\n",
       "    </tr>\n",
       "    <tr>\n",
       "      <th>max</th>\n",
       "      <td>308999.0</td>\n",
       "      <td>2.022072e+07</td>\n",
       "      <td>52.000</td>\n",
       "      <td>19.000</td>\n",
       "      <td>120.000</td>\n",
       "      <td>686.000</td>\n",
       "    </tr>\n",
       "  </tbody>\n",
       "</table>\n",
       "</div>"
      ],
      "text/plain": [
       "        groupid  first_hit_ds  feed_cnt_hot_100  feed_cnt_hot_5k    feed_cnt  \\\n",
       "count  795958.0  7.959580e+05        795958.000       795958.000  795958.000   \n",
       "mean   308998.5  2.022071e+07             0.099            0.003       0.175   \n",
       "std         0.5  3.477000e+00             0.401            0.089       0.643   \n",
       "min    308998.0  2.022071e+07             0.000            0.000       0.000   \n",
       "25%    308998.0  2.022071e+07             0.000            0.000       0.000   \n",
       "50%    308998.0  2.022071e+07             0.000            0.000       0.000   \n",
       "75%    308999.0  2.022072e+07             0.000            0.000       0.000   \n",
       "max    308999.0  2.022072e+07            52.000           19.000     120.000   \n",
       "\n",
       "         post_cnt  \n",
       "count  795958.000  \n",
       "mean        0.184  \n",
       "std         1.311  \n",
       "min         0.000  \n",
       "25%         0.000  \n",
       "50%         0.000  \n",
       "75%         0.000  \n",
       "max       686.000  "
      ]
     },
     "execution_count": 13,
     "metadata": {},
     "output_type": "execute_result"
    }
   ],
   "source": [
    "np.round(new_df.describe(),3)"
   ]
  },
  {
   "cell_type": "code",
   "execution_count": 14,
   "id": "80ee1638",
   "metadata": {},
   "outputs": [
    {
     "name": "stdout",
     "output_type": "stream",
     "text": [
      "[ 0.  1.  2.  3.  4.  5.  6.  7.  8.  9. 10. 11. 12. 13. 14.]\n",
      "[ 0.  1.  2.  3.  4.  5.  6.  7.  8.  9. 10. 11. 12. 13. 14.]\n",
      "[ 0.  1.  2.  3.  4.  5.  6.  7.  8.  9. 10. 11. 12. 13. 14.]\n",
      "[ 0.  1.  2.  3.  4.  5.  6.  7.  8.  9. 10. 11. 12. 13. 14.]\n"
     ]
    }
   ],
   "source": [
    "# check new data\n",
    "for col in numerical_col:\n",
    "    print(np.sort(new_df[col].unique())[0:15])"
   ]
  },
  {
   "cell_type": "markdown",
   "id": "71fd9762",
   "metadata": {},
   "source": [
    "#### restore categorical data"
   ]
  },
  {
   "cell_type": "markdown",
   "id": "a3d1570c",
   "metadata": {},
   "source": [
    "### 2.3 cleaning data"
   ]
  },
  {
   "cell_type": "code",
   "execution_count": 15,
   "id": "52b6d95b",
   "metadata": {},
   "outputs": [],
   "source": [
    "# check first_hit_ds\n",
    "new_df[\"in_experiment\"]=np.where(pd.to_numeric(new_df[\"ds\"])>new_df[\"first_hit_ds\"],1,0)"
   ]
  },
  {
   "cell_type": "code",
   "execution_count": 16,
   "id": "8319098c",
   "metadata": {},
   "outputs": [
    {
     "data": {
      "text/plain": [
       "1    723611\n",
       "0     72347\n",
       "Name: in_experiment, dtype: int64"
      ]
     },
     "execution_count": 16,
     "metadata": {},
     "output_type": "execute_result"
    }
   ],
   "source": [
    "new_df[\"in_experiment\"].value_counts()"
   ]
  },
  {
   "cell_type": "code",
   "execution_count": 17,
   "id": "11821d6d",
   "metadata": {},
   "outputs": [],
   "source": [
    "numerical_col=[\"feed_cnt_hot_100\",\"feed_cnt_hot_5k\",\"feed_cnt\",\"post_cnt\"]\n",
    "categorical_col=[\"anonymous\",\"ds\",\"first_hit_ds\",\"groupid\",\"in_experiment\"]"
   ]
  },
  {
   "cell_type": "markdown",
   "id": "bbff00fc",
   "metadata": {},
   "source": [
    "### 2.4 univariate analysis"
   ]
  },
  {
   "cell_type": "markdown",
   "id": "6c524963",
   "metadata": {},
   "source": [
    "#### statistics analysis"
   ]
  },
  {
   "cell_type": "code",
   "execution_count": 18,
   "id": "dbdf3a24",
   "metadata": {},
   "outputs": [],
   "source": [
    "# statistics\n",
    "def unistats(df):\n",
    "    output_df=pd.DataFrame(columns=[\"count\",\"Mising\",\"Unique\",\"Dtype\",\"Numeric\",\"Mean\",\"Min\",\"25%\",\"Median\",\"75%\",\"Max\",\"std\",\"Skew\",\"Kurt\"])\n",
    "    for col in categorical_col:\n",
    "            output_df.loc[col]=[df[col].count(),df[col].isnull().sum(),len(df[col].unique()),df[col].dtype,pd.api.types.is_numeric_dtype(df[col]),\n",
    "                                '-','-','-','-','-','-','-','-','-']\n",
    "    for col in numerical_col:\n",
    "        output_df.loc[col]=[df[col].count(),df[col].isnull().sum(),len(df[col].unique()),df[col].dtype,pd.api.types.is_numeric_dtype(df[col]),\n",
    "                               df[col].mean(),df[col].min(),df[col].quantile(0.25),df[col].median(),df[col].quantile(0.75),df[col].max(),df[col].std(),df[col].skew(),df[col].kurt()]\n",
    "    return output_df\n",
    "\n",
    "new_df_output=unistats(new_df)\n",
    "new_df_output.to_excel(\"f_new_univariate_statistics.xls\")"
   ]
  },
  {
   "cell_type": "code",
   "execution_count": 19,
   "id": "a90656db",
   "metadata": {},
   "outputs": [
    {
     "data": {
      "text/html": [
       "<div>\n",
       "<style scoped>\n",
       "    .dataframe tbody tr th:only-of-type {\n",
       "        vertical-align: middle;\n",
       "    }\n",
       "\n",
       "    .dataframe tbody tr th {\n",
       "        vertical-align: top;\n",
       "    }\n",
       "\n",
       "    .dataframe thead th {\n",
       "        text-align: right;\n",
       "    }\n",
       "</style>\n",
       "<table border=\"1\" class=\"dataframe\">\n",
       "  <thead>\n",
       "    <tr style=\"text-align: right;\">\n",
       "      <th></th>\n",
       "      <th>count</th>\n",
       "      <th>Mising</th>\n",
       "      <th>Unique</th>\n",
       "      <th>Dtype</th>\n",
       "      <th>Numeric</th>\n",
       "      <th>Mean</th>\n",
       "      <th>Min</th>\n",
       "      <th>25%</th>\n",
       "      <th>Median</th>\n",
       "      <th>75%</th>\n",
       "      <th>Max</th>\n",
       "      <th>std</th>\n",
       "      <th>Skew</th>\n",
       "      <th>Kurt</th>\n",
       "    </tr>\n",
       "  </thead>\n",
       "  <tbody>\n",
       "    <tr>\n",
       "      <th>anonymous</th>\n",
       "      <td>795958</td>\n",
       "      <td>0</td>\n",
       "      <td>397979</td>\n",
       "      <td>object</td>\n",
       "      <td>False</td>\n",
       "      <td>-</td>\n",
       "      <td>-</td>\n",
       "      <td>-</td>\n",
       "      <td>-</td>\n",
       "      <td>-</td>\n",
       "      <td>-</td>\n",
       "      <td>-</td>\n",
       "      <td>-</td>\n",
       "      <td>-</td>\n",
       "    </tr>\n",
       "    <tr>\n",
       "      <th>ds</th>\n",
       "      <td>795958</td>\n",
       "      <td>0</td>\n",
       "      <td>2</td>\n",
       "      <td>object</td>\n",
       "      <td>False</td>\n",
       "      <td>-</td>\n",
       "      <td>-</td>\n",
       "      <td>-</td>\n",
       "      <td>-</td>\n",
       "      <td>-</td>\n",
       "      <td>-</td>\n",
       "      <td>-</td>\n",
       "      <td>-</td>\n",
       "      <td>-</td>\n",
       "    </tr>\n",
       "    <tr>\n",
       "      <th>first_hit_ds</th>\n",
       "      <td>795958</td>\n",
       "      <td>0</td>\n",
       "      <td>12</td>\n",
       "      <td>int64</td>\n",
       "      <td>True</td>\n",
       "      <td>-</td>\n",
       "      <td>-</td>\n",
       "      <td>-</td>\n",
       "      <td>-</td>\n",
       "      <td>-</td>\n",
       "      <td>-</td>\n",
       "      <td>-</td>\n",
       "      <td>-</td>\n",
       "      <td>-</td>\n",
       "    </tr>\n",
       "    <tr>\n",
       "      <th>groupid</th>\n",
       "      <td>795958</td>\n",
       "      <td>0</td>\n",
       "      <td>2</td>\n",
       "      <td>int64</td>\n",
       "      <td>True</td>\n",
       "      <td>-</td>\n",
       "      <td>-</td>\n",
       "      <td>-</td>\n",
       "      <td>-</td>\n",
       "      <td>-</td>\n",
       "      <td>-</td>\n",
       "      <td>-</td>\n",
       "      <td>-</td>\n",
       "      <td>-</td>\n",
       "    </tr>\n",
       "    <tr>\n",
       "      <th>in_experiment</th>\n",
       "      <td>795958</td>\n",
       "      <td>0</td>\n",
       "      <td>2</td>\n",
       "      <td>int64</td>\n",
       "      <td>True</td>\n",
       "      <td>-</td>\n",
       "      <td>-</td>\n",
       "      <td>-</td>\n",
       "      <td>-</td>\n",
       "      <td>-</td>\n",
       "      <td>-</td>\n",
       "      <td>-</td>\n",
       "      <td>-</td>\n",
       "      <td>-</td>\n",
       "    </tr>\n",
       "    <tr>\n",
       "      <th>feed_cnt_hot_100</th>\n",
       "      <td>795958</td>\n",
       "      <td>0</td>\n",
       "      <td>24</td>\n",
       "      <td>float64</td>\n",
       "      <td>True</td>\n",
       "      <td>0.099338</td>\n",
       "      <td>0.0</td>\n",
       "      <td>0.0</td>\n",
       "      <td>0.0</td>\n",
       "      <td>0.0</td>\n",
       "      <td>52.0</td>\n",
       "      <td>0.400564</td>\n",
       "      <td>12.203146</td>\n",
       "      <td>677.556309</td>\n",
       "    </tr>\n",
       "    <tr>\n",
       "      <th>feed_cnt_hot_5k</th>\n",
       "      <td>795958</td>\n",
       "      <td>0</td>\n",
       "      <td>17</td>\n",
       "      <td>float64</td>\n",
       "      <td>True</td>\n",
       "      <td>0.002765</td>\n",
       "      <td>0.0</td>\n",
       "      <td>0.0</td>\n",
       "      <td>0.0</td>\n",
       "      <td>0.0</td>\n",
       "      <td>19.0</td>\n",
       "      <td>0.088973</td>\n",
       "      <td>79.853839</td>\n",
       "      <td>10417.012387</td>\n",
       "    </tr>\n",
       "    <tr>\n",
       "      <th>feed_cnt</th>\n",
       "      <td>795958</td>\n",
       "      <td>0</td>\n",
       "      <td>47</td>\n",
       "      <td>float64</td>\n",
       "      <td>True</td>\n",
       "      <td>0.175132</td>\n",
       "      <td>0.0</td>\n",
       "      <td>0.0</td>\n",
       "      <td>0.0</td>\n",
       "      <td>0.0</td>\n",
       "      <td>120.0</td>\n",
       "      <td>0.642835</td>\n",
       "      <td>26.812339</td>\n",
       "      <td>2744.103868</td>\n",
       "    </tr>\n",
       "    <tr>\n",
       "      <th>post_cnt</th>\n",
       "      <td>795958</td>\n",
       "      <td>0</td>\n",
       "      <td>55</td>\n",
       "      <td>float64</td>\n",
       "      <td>True</td>\n",
       "      <td>0.184271</td>\n",
       "      <td>0.0</td>\n",
       "      <td>0.0</td>\n",
       "      <td>0.0</td>\n",
       "      <td>0.0</td>\n",
       "      <td>686.0</td>\n",
       "      <td>1.31104</td>\n",
       "      <td>358.773013</td>\n",
       "      <td>179555.656652</td>\n",
       "    </tr>\n",
       "  </tbody>\n",
       "</table>\n",
       "</div>"
      ],
      "text/plain": [
       "                   count Mising  Unique    Dtype Numeric      Mean  Min  25%  \\\n",
       "anonymous         795958      0  397979   object   False         -    -    -   \n",
       "ds                795958      0       2   object   False         -    -    -   \n",
       "first_hit_ds      795958      0      12    int64    True         -    -    -   \n",
       "groupid           795958      0       2    int64    True         -    -    -   \n",
       "in_experiment     795958      0       2    int64    True         -    -    -   \n",
       "feed_cnt_hot_100  795958      0      24  float64    True  0.099338  0.0  0.0   \n",
       "feed_cnt_hot_5k   795958      0      17  float64    True  0.002765  0.0  0.0   \n",
       "feed_cnt          795958      0      47  float64    True  0.175132  0.0  0.0   \n",
       "post_cnt          795958      0      55  float64    True  0.184271  0.0  0.0   \n",
       "\n",
       "                 Median  75%    Max       std        Skew           Kurt  \n",
       "anonymous             -    -      -         -           -              -  \n",
       "ds                    -    -      -         -           -              -  \n",
       "first_hit_ds          -    -      -         -           -              -  \n",
       "groupid               -    -      -         -           -              -  \n",
       "in_experiment         -    -      -         -           -              -  \n",
       "feed_cnt_hot_100    0.0  0.0   52.0  0.400564   12.203146     677.556309  \n",
       "feed_cnt_hot_5k     0.0  0.0   19.0  0.088973   79.853839   10417.012387  \n",
       "feed_cnt            0.0  0.0  120.0  0.642835   26.812339    2744.103868  \n",
       "post_cnt            0.0  0.0  686.0   1.31104  358.773013  179555.656652  "
      ]
     },
     "execution_count": 19,
     "metadata": {},
     "output_type": "execute_result"
    }
   ],
   "source": [
    "new_df_output"
   ]
  },
  {
   "cell_type": "code",
   "execution_count": 20,
   "id": "674479e4",
   "metadata": {},
   "outputs": [
    {
     "name": "stdout",
     "output_type": "stream",
     "text": [
      "20220718    397979\n",
      "20220717    397979\n",
      "Name: ds, dtype: int64\n",
      "20220707    101546\n",
      "20220708     86664\n",
      "20220709     83674\n",
      "20220710     80052\n",
      "20220711     64838\n",
      "20220713     57822\n",
      "20220714     56990\n",
      "20220712     56082\n",
      "20220715     54446\n",
      "20220716     54396\n",
      "20220717     54202\n",
      "20220718     45246\n",
      "Name: first_hit_ds, dtype: int64\n",
      "308998    398182\n",
      "308999    397776\n",
      "Name: groupid, dtype: int64\n",
      "1    723611\n",
      "0     72347\n",
      "Name: in_experiment, dtype: int64\n"
     ]
    }
   ],
   "source": [
    "# categorical--statistics\n",
    "for col in categorical_col[1:len(categorical_col)]:\n",
    "    print(new_df[col].value_counts())"
   ]
  },
  {
   "cell_type": "markdown",
   "id": "925ea2d7",
   "metadata": {},
   "source": [
    "#### visualization analysis"
   ]
  },
  {
   "cell_type": "code",
   "execution_count": 39,
   "id": "b61a5c0e",
   "metadata": {},
   "outputs": [
    {
     "data": {
      "text/plain": [
       "array([[<AxesSubplot:title={'center':'groupid'}>,\n",
       "        <AxesSubplot:title={'center':'first_hit_ds'}>,\n",
       "        <AxesSubplot:title={'center':'feed_cnt_hot_100'}>],\n",
       "       [<AxesSubplot:title={'center':'feed_cnt_hot_5k'}>,\n",
       "        <AxesSubplot:title={'center':'feed_cnt'}>,\n",
       "        <AxesSubplot:title={'center':'post_cnt'}>],\n",
       "       [<AxesSubplot:title={'center':'in_experiment'}>, <AxesSubplot:>,\n",
       "        <AxesSubplot:>]], dtype=object)"
      ]
     },
     "execution_count": 39,
     "metadata": {},
     "output_type": "execute_result"
    },
    {
     "data": {
      "image/png": "[encoded data removed]",
      "text/plain": [
       "<Figure size 720x720 with 9 Axes>"
      ]
     },
     "metadata": {
      "needs_background": "light"
     },
     "output_type": "display_data"
    }
   ],
   "source": [
    "# # Univariate visualization(numerical variable)--histgram\n",
    "new_df.hist(figsize=(10,10))"
   ]
  },
  {
   "cell_type": "code",
   "execution_count": 40,
   "id": "f13d3ccc",
   "metadata": {},
   "outputs": [
    {
     "data": {
      "image/png": "[encoded data removed]",
      "text/plain": [
       "<Figure size 432x288 with 1 Axes>"
      ]
     },
     "metadata": {
      "needs_background": "light"
     },
     "output_type": "display_data"
    },
    {
     "data": {
      "image/png": "[encoded data removed]",
      "text/plain": [
       "<Figure size 432x288 with 1 Axes>"
      ]
     },
     "metadata": {
      "needs_background": "light"
     },
     "output_type": "display_data"
    },
    {
     "data": {
      "image/png": "[encoded data removed]",
      "text/plain": [
       "<Figure size 432x288 with 1 Axes>"
      ]
     },
     "metadata": {
      "needs_background": "light"
     },
     "output_type": "display_data"
    },
    {
     "data": {
      "image/png": "[encoded data removed]",
      "text/plain": [
       "<Figure size 432x288 with 1 Axes>"
      ]
     },
     "metadata": {
      "needs_background": "light"
     },
     "output_type": "display_data"
    }
   ],
   "source": [
    "# # Univariate visualization(categorical variable)--brachart\n",
    "for col in numerical_col:\n",
    "    sns.distplot(new_df[col])\n",
    "    plt.show()"
   ]
  },
  {
   "cell_type": "code",
   "execution_count": 41,
   "id": "db72603f",
   "metadata": {},
   "outputs": [
    {
     "data": {
      "image/png": "[encoded data removed]",
      "text/plain": [
       "<Figure size 432x288 with 1 Axes>"
      ]
     },
     "metadata": {
      "needs_background": "light"
     },
     "output_type": "display_data"
    },
    {
     "data": {
      "image/png": "[encoded data removed]",
      "text/plain": [
       "<Figure size 432x288 with 1 Axes>"
      ]
     },
     "metadata": {
      "needs_background": "light"
     },
     "output_type": "display_data"
    },
    {
     "data": {
      "image/png": "[encoded data removed]",
      "text/plain": [
       "<Figure size 432x288 with 1 Axes>"
      ]
     },
     "metadata": {
      "needs_background": "light"
     },
     "output_type": "display_data"
    },
    {
     "data": {
      "image/png": "[encoded data removed]",
      "text/plain": [
       "<Figure size 432x288 with 1 Axes>"
      ]
     },
     "metadata": {
      "needs_background": "light"
     },
     "output_type": "display_data"
    }
   ],
   "source": [
    "# # Univariate visualization(categorical variable)--brachart\n",
    "for col in categorical_col[1:len(categorical_col)]:\n",
    "    sns.countplot(new_df[col])\n",
    "    plt.show()"
   ]
  },
  {
   "cell_type": "markdown",
   "id": "7395091a",
   "metadata": {},
   "source": [
    "conlusion:\n",
    "1. panel data: individul: 397979, 2 period(0717-0718) , total data: 795958\n",
    "2. first_hit_sd: 12 different joining days,(0707--0718)-- filter out (72347)\n",
    "3. groupid: 308998 is control，308999 is treatment\n",
    "4. for numerical variable: they all highly right skew, a lot of zeros."
   ]
  },
  {
   "cell_type": "markdown",
   "id": "4021938b",
   "metadata": {},
   "source": [
    "## 3.Bivarite Analysis"
   ]
  },
  {
   "cell_type": "code",
   "execution_count": 21,
   "id": "4c1c94cd",
   "metadata": {},
   "outputs": [],
   "source": [
    "# filter out 没参与实验的user\n",
    "new_new_df= new_df"
   ]
  },
  {
   "cell_type": "code",
   "execution_count": 22,
   "id": "aa5f4d9c",
   "metadata": {},
   "outputs": [],
   "source": [
    "new_new_df.drop(new_new_df[new_new_df[\"in_experiment\"]==0].index,inplace=True)"
   ]
  },
  {
   "cell_type": "code",
   "execution_count": 23,
   "id": "67c7b845",
   "metadata": {},
   "outputs": [],
   "source": [
    "# statistics\n",
    "def unistats(df):\n",
    "    output_df=pd.DataFrame(columns=[\"count\",\"Mising\",\"Unique\",\"Dtype\",\"Numeric\",\"Mean\",\"Min\",\"25%\",\"Median\",\"75%\",\"Max\",\"std\",\"Skew\",\"Kurt\"])\n",
    "    for col in categorical_col:\n",
    "            output_df.loc[col]=[df[col].count(),df[col].isnull().sum(),len(df[col].unique()),df[col].dtype,pd.api.types.is_numeric_dtype(df[col]),\n",
    "                                '-','-','-','-','-','-','-','-','-']\n",
    "    for col in numerical_col:\n",
    "        output_df.loc[col]=[df[col].count(),df[col].isnull().sum(),len(df[col].unique()),df[col].dtype,pd.api.types.is_numeric_dtype(df[col]),\n",
    "                               df[col].mean(),df[col].min(),df[col].quantile(0.25),df[col].median(),df[col].quantile(0.75),df[col].max(),df[col].std(),df[col].skew(),df[col].kurt()]\n",
    "    return output_df\n",
    "\n",
    "new_new_df_output=unistats(new_new_df)\n",
    "new_new_df_output.to_excel(\"f_new_new_univariate_statistics.xls\")"
   ]
  },
  {
   "cell_type": "code",
   "execution_count": 24,
   "id": "149684a8",
   "metadata": {},
   "outputs": [
    {
     "data": {
      "text/html": [
       "<div>\n",
       "<style scoped>\n",
       "    .dataframe tbody tr th:only-of-type {\n",
       "        vertical-align: middle;\n",
       "    }\n",
       "\n",
       "    .dataframe tbody tr th {\n",
       "        vertical-align: top;\n",
       "    }\n",
       "\n",
       "    .dataframe thead th {\n",
       "        text-align: right;\n",
       "    }\n",
       "</style>\n",
       "<table border=\"1\" class=\"dataframe\">\n",
       "  <thead>\n",
       "    <tr style=\"text-align: right;\">\n",
       "      <th></th>\n",
       "      <th>count</th>\n",
       "      <th>Mising</th>\n",
       "      <th>Unique</th>\n",
       "      <th>Dtype</th>\n",
       "      <th>Numeric</th>\n",
       "      <th>Mean</th>\n",
       "      <th>Min</th>\n",
       "      <th>25%</th>\n",
       "      <th>Median</th>\n",
       "      <th>75%</th>\n",
       "      <th>Max</th>\n",
       "      <th>std</th>\n",
       "      <th>Skew</th>\n",
       "      <th>Kurt</th>\n",
       "    </tr>\n",
       "  </thead>\n",
       "  <tbody>\n",
       "    <tr>\n",
       "      <th>anonymous</th>\n",
       "      <td>723611</td>\n",
       "      <td>0</td>\n",
       "      <td>375356</td>\n",
       "      <td>object</td>\n",
       "      <td>False</td>\n",
       "      <td>-</td>\n",
       "      <td>-</td>\n",
       "      <td>-</td>\n",
       "      <td>-</td>\n",
       "      <td>-</td>\n",
       "      <td>-</td>\n",
       "      <td>-</td>\n",
       "      <td>-</td>\n",
       "      <td>-</td>\n",
       "    </tr>\n",
       "    <tr>\n",
       "      <th>ds</th>\n",
       "      <td>723611</td>\n",
       "      <td>0</td>\n",
       "      <td>2</td>\n",
       "      <td>object</td>\n",
       "      <td>False</td>\n",
       "      <td>-</td>\n",
       "      <td>-</td>\n",
       "      <td>-</td>\n",
       "      <td>-</td>\n",
       "      <td>-</td>\n",
       "      <td>-</td>\n",
       "      <td>-</td>\n",
       "      <td>-</td>\n",
       "      <td>-</td>\n",
       "    </tr>\n",
       "    <tr>\n",
       "      <th>first_hit_ds</th>\n",
       "      <td>723611</td>\n",
       "      <td>0</td>\n",
       "      <td>11</td>\n",
       "      <td>int64</td>\n",
       "      <td>True</td>\n",
       "      <td>-</td>\n",
       "      <td>-</td>\n",
       "      <td>-</td>\n",
       "      <td>-</td>\n",
       "      <td>-</td>\n",
       "      <td>-</td>\n",
       "      <td>-</td>\n",
       "      <td>-</td>\n",
       "      <td>-</td>\n",
       "    </tr>\n",
       "    <tr>\n",
       "      <th>groupid</th>\n",
       "      <td>723611</td>\n",
       "      <td>0</td>\n",
       "      <td>2</td>\n",
       "      <td>int64</td>\n",
       "      <td>True</td>\n",
       "      <td>-</td>\n",
       "      <td>-</td>\n",
       "      <td>-</td>\n",
       "      <td>-</td>\n",
       "      <td>-</td>\n",
       "      <td>-</td>\n",
       "      <td>-</td>\n",
       "      <td>-</td>\n",
       "      <td>-</td>\n",
       "    </tr>\n",
       "    <tr>\n",
       "      <th>in_experiment</th>\n",
       "      <td>723611</td>\n",
       "      <td>0</td>\n",
       "      <td>1</td>\n",
       "      <td>int64</td>\n",
       "      <td>True</td>\n",
       "      <td>-</td>\n",
       "      <td>-</td>\n",
       "      <td>-</td>\n",
       "      <td>-</td>\n",
       "      <td>-</td>\n",
       "      <td>-</td>\n",
       "      <td>-</td>\n",
       "      <td>-</td>\n",
       "      <td>-</td>\n",
       "    </tr>\n",
       "    <tr>\n",
       "      <th>feed_cnt_hot_100</th>\n",
       "      <td>723611</td>\n",
       "      <td>0</td>\n",
       "      <td>22</td>\n",
       "      <td>float64</td>\n",
       "      <td>True</td>\n",
       "      <td>0.06544</td>\n",
       "      <td>0.0</td>\n",
       "      <td>0.0</td>\n",
       "      <td>0.0</td>\n",
       "      <td>0.0</td>\n",
       "      <td>52.0</td>\n",
       "      <td>0.349467</td>\n",
       "      <td>17.310822</td>\n",
       "      <td>1237.870702</td>\n",
       "    </tr>\n",
       "    <tr>\n",
       "      <th>feed_cnt_hot_5k</th>\n",
       "      <td>723611</td>\n",
       "      <td>0</td>\n",
       "      <td>17</td>\n",
       "      <td>float64</td>\n",
       "      <td>True</td>\n",
       "      <td>0.002492</td>\n",
       "      <td>0.0</td>\n",
       "      <td>0.0</td>\n",
       "      <td>0.0</td>\n",
       "      <td>0.0</td>\n",
       "      <td>19.0</td>\n",
       "      <td>0.085263</td>\n",
       "      <td>83.071294</td>\n",
       "      <td>11399.303458</td>\n",
       "    </tr>\n",
       "    <tr>\n",
       "      <th>feed_cnt</th>\n",
       "      <td>723611</td>\n",
       "      <td>0</td>\n",
       "      <td>43</td>\n",
       "      <td>float64</td>\n",
       "      <td>True</td>\n",
       "      <td>0.113231</td>\n",
       "      <td>0.0</td>\n",
       "      <td>0.0</td>\n",
       "      <td>0.0</td>\n",
       "      <td>0.0</td>\n",
       "      <td>120.0</td>\n",
       "      <td>0.564267</td>\n",
       "      <td>33.169093</td>\n",
       "      <td>4017.023397</td>\n",
       "    </tr>\n",
       "    <tr>\n",
       "      <th>post_cnt</th>\n",
       "      <td>723611</td>\n",
       "      <td>0</td>\n",
       "      <td>49</td>\n",
       "      <td>float64</td>\n",
       "      <td>True</td>\n",
       "      <td>0.119094</td>\n",
       "      <td>0.0</td>\n",
       "      <td>0.0</td>\n",
       "      <td>0.0</td>\n",
       "      <td>0.0</td>\n",
       "      <td>686.0</td>\n",
       "      <td>1.3162</td>\n",
       "      <td>388.990452</td>\n",
       "      <td>194457.355665</td>\n",
       "    </tr>\n",
       "  </tbody>\n",
       "</table>\n",
       "</div>"
      ],
      "text/plain": [
       "                   count Mising  Unique    Dtype Numeric      Mean  Min  25%  \\\n",
       "anonymous         723611      0  375356   object   False         -    -    -   \n",
       "ds                723611      0       2   object   False         -    -    -   \n",
       "first_hit_ds      723611      0      11    int64    True         -    -    -   \n",
       "groupid           723611      0       2    int64    True         -    -    -   \n",
       "in_experiment     723611      0       1    int64    True         -    -    -   \n",
       "feed_cnt_hot_100  723611      0      22  float64    True   0.06544  0.0  0.0   \n",
       "feed_cnt_hot_5k   723611      0      17  float64    True  0.002492  0.0  0.0   \n",
       "feed_cnt          723611      0      43  float64    True  0.113231  0.0  0.0   \n",
       "post_cnt          723611      0      49  float64    True  0.119094  0.0  0.0   \n",
       "\n",
       "                 Median  75%    Max       std        Skew           Kurt  \n",
       "anonymous             -    -      -         -           -              -  \n",
       "ds                    -    -      -         -           -              -  \n",
       "first_hit_ds          -    -      -         -           -              -  \n",
       "groupid               -    -      -         -           -              -  \n",
       "in_experiment         -    -      -         -           -              -  \n",
       "feed_cnt_hot_100    0.0  0.0   52.0  0.349467   17.310822    1237.870702  \n",
       "feed_cnt_hot_5k     0.0  0.0   19.0  0.085263   83.071294   11399.303458  \n",
       "feed_cnt            0.0  0.0  120.0  0.564267   33.169093    4017.023397  \n",
       "post_cnt            0.0  0.0  686.0    1.3162  388.990452  194457.355665  "
      ]
     },
     "execution_count": 24,
     "metadata": {},
     "output_type": "execute_result"
    }
   ],
   "source": [
    "new_new_df_output"
   ]
  },
  {
   "cell_type": "markdown",
   "id": "de93920a",
   "metadata": {},
   "source": [
    "#### (1) numerical- numerical"
   ]
  },
  {
   "cell_type": "markdown",
   "id": "502a4d73",
   "metadata": {},
   "source": [
    "##### correlation "
   ]
  },
  {
   "cell_type": "code",
   "execution_count": 25,
   "id": "d76182c0",
   "metadata": {},
   "outputs": [
    {
     "data": {
      "text/html": [
       "<div>\n",
       "<style scoped>\n",
       "    .dataframe tbody tr th:only-of-type {\n",
       "        vertical-align: middle;\n",
       "    }\n",
       "\n",
       "    .dataframe tbody tr th {\n",
       "        vertical-align: top;\n",
       "    }\n",
       "\n",
       "    .dataframe thead th {\n",
       "        text-align: right;\n",
       "    }\n",
       "</style>\n",
       "<table border=\"1\" class=\"dataframe\">\n",
       "  <thead>\n",
       "    <tr style=\"text-align: right;\">\n",
       "      <th></th>\n",
       "      <th>feed_cnt_hot_100</th>\n",
       "      <th>feed_cnt_hot_5k</th>\n",
       "      <th>feed_cnt</th>\n",
       "      <th>post_cnt</th>\n",
       "    </tr>\n",
       "  </thead>\n",
       "  <tbody>\n",
       "    <tr>\n",
       "      <th>feed_cnt_hot_100</th>\n",
       "      <td>1.000</td>\n",
       "      <td>0.376</td>\n",
       "      <td>0.735</td>\n",
       "      <td>0.314</td>\n",
       "    </tr>\n",
       "    <tr>\n",
       "      <th>feed_cnt_hot_5k</th>\n",
       "      <td>0.376</td>\n",
       "      <td>1.000</td>\n",
       "      <td>0.254</td>\n",
       "      <td>0.098</td>\n",
       "    </tr>\n",
       "    <tr>\n",
       "      <th>feed_cnt</th>\n",
       "      <td>0.735</td>\n",
       "      <td>0.254</td>\n",
       "      <td>1.000</td>\n",
       "      <td>0.581</td>\n",
       "    </tr>\n",
       "    <tr>\n",
       "      <th>post_cnt</th>\n",
       "      <td>0.314</td>\n",
       "      <td>0.098</td>\n",
       "      <td>0.581</td>\n",
       "      <td>1.000</td>\n",
       "    </tr>\n",
       "  </tbody>\n",
       "</table>\n",
       "</div>"
      ],
      "text/plain": [
       "                  feed_cnt_hot_100  feed_cnt_hot_5k  feed_cnt  post_cnt\n",
       "feed_cnt_hot_100             1.000            0.376     0.735     0.314\n",
       "feed_cnt_hot_5k              0.376            1.000     0.254     0.098\n",
       "feed_cnt                     0.735            0.254     1.000     0.581\n",
       "post_cnt                     0.314            0.098     0.581     1.000"
      ]
     },
     "execution_count": 25,
     "metadata": {},
     "output_type": "execute_result"
    }
   ],
   "source": [
    "# (1) Numerical/Numerical\n",
    "# numercial=4个\n",
    "np.round(new_new_df[numerical_col].corr(),3)"
   ]
  },
  {
   "cell_type": "code",
   "execution_count": 26,
   "id": "6494cd9b",
   "metadata": {},
   "outputs": [
    {
     "data": {
      "image/png": "[encoded data removed]",
      "text/plain": [
       "<Figure size 360x360 with 2 Axes>"
      ]
     },
     "metadata": {
      "needs_background": "light"
     },
     "output_type": "display_data"
    }
   ],
   "source": [
    "# 画correlation heat map图\n",
    "plt.figure(figsize=(5,5))\n",
    "sns.heatmap(np.round(new_new_df[numerical_col].corr(),3),annot=True)\n",
    "plt.show()"
   ]
  },
  {
   "cell_type": "markdown",
   "id": "1ac28e9e",
   "metadata": {},
   "source": [
    "##### visualization--scatterplot"
   ]
  },
  {
   "cell_type": "code",
   "execution_count": 27,
   "id": "ce552552",
   "metadata": {},
   "outputs": [
    {
     "data": {
      "text/plain": [
       "<AxesSubplot:xlabel='post_cnt', ylabel='feed_cnt'>"
      ]
     },
     "execution_count": 27,
     "metadata": {},
     "output_type": "execute_result"
    },
    {
     "data": {
      "image/png": "[encoded data removed]",
      "text/plain": [
       "<Figure size 432x288 with 1 Axes>"
      ]
     },
     "metadata": {
      "needs_background": "light"
     },
     "output_type": "display_data"
    }
   ],
   "source": [
    "sns.regplot(new_new_df[\"post_cnt\"],new_new_df[\"feed_cnt\"])"
   ]
  },
  {
   "cell_type": "code",
   "execution_count": 28,
   "id": "77f99b12",
   "metadata": {},
   "outputs": [
    {
     "data": {
      "text/plain": [
       "<AxesSubplot:xlabel='post_cnt', ylabel='feed_cnt_hot_100'>"
      ]
     },
     "execution_count": 28,
     "metadata": {},
     "output_type": "execute_result"
    },
    {
     "data": {
      "image/png": "[encoded data removed]",
      "text/plain": [
       "<Figure size 432x288 with 1 Axes>"
      ]
     },
     "metadata": {
      "needs_background": "light"
     },
     "output_type": "display_data"
    }
   ],
   "source": [
    "sns.regplot(new_new_df[\"post_cnt\"],new_new_df[\"feed_cnt_hot_100\"])"
   ]
  },
  {
   "cell_type": "code",
   "execution_count": 29,
   "id": "46a69985",
   "metadata": {},
   "outputs": [
    {
     "data": {
      "text/plain": [
       "<AxesSubplot:xlabel='post_cnt', ylabel='feed_cnt_hot_5k'>"
      ]
     },
     "execution_count": 29,
     "metadata": {},
     "output_type": "execute_result"
    },
    {
     "data": {
      "image/png": "[encoded data removed]",
      "text/plain": [
       "<Figure size 432x288 with 1 Axes>"
      ]
     },
     "metadata": {
      "needs_background": "light"
     },
     "output_type": "display_data"
    }
   ],
   "source": [
    "sns.regplot(new_new_df[\"post_cnt\"],new_new_df[\"feed_cnt_hot_5k\"])"
   ]
  },
  {
   "cell_type": "code",
   "execution_count": 30,
   "id": "cd062e95",
   "metadata": {},
   "outputs": [
    {
     "data": {
      "text/plain": [
       "<AxesSubplot:xlabel='feed_cnt', ylabel='feed_cnt_hot_100'>"
      ]
     },
     "execution_count": 30,
     "metadata": {},
     "output_type": "execute_result"
    },
    {
     "data": {
      "image/png": "[encoded data removed]",
      "text/plain": [
       "<Figure size 432x288 with 1 Axes>"
      ]
     },
     "metadata": {
      "needs_background": "light"
     },
     "output_type": "display_data"
    }
   ],
   "source": [
    "sns.regplot(new_new_df[\"feed_cnt\"],new_new_df[\"feed_cnt_hot_100\"])"
   ]
  },
  {
   "cell_type": "code",
   "execution_count": 31,
   "id": "1a789632",
   "metadata": {},
   "outputs": [
    {
     "data": {
      "text/plain": [
       "<AxesSubplot:xlabel='feed_cnt', ylabel='feed_cnt_hot_5k'>"
      ]
     },
     "execution_count": 31,
     "metadata": {},
     "output_type": "execute_result"
    },
    {
     "data": {
      "image/png": "[encoded data removed]",
      "text/plain": [
       "<Figure size 432x288 with 1 Axes>"
      ]
     },
     "metadata": {
      "needs_background": "light"
     },
     "output_type": "display_data"
    }
   ],
   "source": [
    "sns.regplot(new_new_df[\"feed_cnt\"],new_new_df[\"feed_cnt_hot_5k\"])"
   ]
  },
  {
   "cell_type": "code",
   "execution_count": 32,
   "id": "a76adf97",
   "metadata": {},
   "outputs": [
    {
     "data": {
      "text/plain": [
       "<AxesSubplot:xlabel='feed_cnt_hot_100', ylabel='feed_cnt_hot_5k'>"
      ]
     },
     "execution_count": 32,
     "metadata": {},
     "output_type": "execute_result"
    },
    {
     "data": {
      "image/png": "[encoded data removed]",
      "text/plain": [
       "<Figure size 432x288 with 1 Axes>"
      ]
     },
     "metadata": {
      "needs_background": "light"
     },
     "output_type": "display_data"
    }
   ],
   "source": [
    "sns.regplot(new_new_df[\"feed_cnt_hot_100\"],new_new_df[\"feed_cnt_hot_5k\"])"
   ]
  },
  {
   "cell_type": "code",
   "execution_count": 34,
   "id": "1274acd2",
   "metadata": {},
   "outputs": [
    {
     "data": {
      "text/html": [
       "<div>\n",
       "<style scoped>\n",
       "    .dataframe tbody tr th:only-of-type {\n",
       "        vertical-align: middle;\n",
       "    }\n",
       "\n",
       "    .dataframe tbody tr th {\n",
       "        vertical-align: top;\n",
       "    }\n",
       "\n",
       "    .dataframe thead th {\n",
       "        text-align: right;\n",
       "    }\n",
       "</style>\n",
       "<table border=\"1\" class=\"dataframe\">\n",
       "  <thead>\n",
       "    <tr style=\"text-align: right;\">\n",
       "      <th></th>\n",
       "      <th>groupid</th>\n",
       "      <th>first_hit_ds</th>\n",
       "      <th>feed_cnt_hot_100</th>\n",
       "      <th>feed_cnt_hot_5k</th>\n",
       "      <th>feed_cnt</th>\n",
       "      <th>post_cnt</th>\n",
       "      <th>in_experiment</th>\n",
       "    </tr>\n",
       "    <tr>\n",
       "      <th>ds</th>\n",
       "      <th></th>\n",
       "      <th></th>\n",
       "      <th></th>\n",
       "      <th></th>\n",
       "      <th></th>\n",
       "      <th></th>\n",
       "      <th></th>\n",
       "    </tr>\n",
       "  </thead>\n",
       "  <tbody>\n",
       "    <tr>\n",
       "      <th>20220717</th>\n",
       "      <td>308998.5</td>\n",
       "      <td>2.022071e+07</td>\n",
       "      <td>0.067</td>\n",
       "      <td>0.003</td>\n",
       "      <td>0.117</td>\n",
       "      <td>0.123</td>\n",
       "      <td>1.0</td>\n",
       "    </tr>\n",
       "    <tr>\n",
       "      <th>20220718</th>\n",
       "      <td>308998.5</td>\n",
       "      <td>2.022071e+07</td>\n",
       "      <td>0.064</td>\n",
       "      <td>0.002</td>\n",
       "      <td>0.110</td>\n",
       "      <td>0.115</td>\n",
       "      <td>1.0</td>\n",
       "    </tr>\n",
       "  </tbody>\n",
       "</table>\n",
       "</div>"
      ],
      "text/plain": [
       "           groupid  first_hit_ds  feed_cnt_hot_100  feed_cnt_hot_5k  feed_cnt  \\\n",
       "ds                                                                              \n",
       "20220717  308998.5  2.022071e+07             0.067            0.003     0.117   \n",
       "20220718  308998.5  2.022071e+07             0.064            0.002     0.110   \n",
       "\n",
       "          post_cnt  in_experiment  \n",
       "ds                                 \n",
       "20220717     0.123            1.0  \n",
       "20220718     0.115            1.0  "
      ]
     },
     "execution_count": 34,
     "metadata": {},
     "output_type": "execute_result"
    }
   ],
   "source": [
    "# (2)Categorical/Numerical\n",
    "# categorical = 看下日期和分组，分别的对不同nmuerical的影响\n",
    "# # statistics--计算下ATE和p值\n",
    "# 按照日期(一共有三天)\n",
    "np.round(new_new_df.groupby(new_new_df[\"ds\"]).mean(),3)"
   ]
  },
  {
   "cell_type": "code",
   "execution_count": 35,
   "id": "538316d7",
   "metadata": {},
   "outputs": [
    {
     "data": {
      "text/html": [
       "<div>\n",
       "<style scoped>\n",
       "    .dataframe tbody tr th:only-of-type {\n",
       "        vertical-align: middle;\n",
       "    }\n",
       "\n",
       "    .dataframe tbody tr th {\n",
       "        vertical-align: top;\n",
       "    }\n",
       "\n",
       "    .dataframe thead th {\n",
       "        text-align: right;\n",
       "    }\n",
       "</style>\n",
       "<table border=\"1\" class=\"dataframe\">\n",
       "  <thead>\n",
       "    <tr style=\"text-align: right;\">\n",
       "      <th></th>\n",
       "      <th>first_hit_ds</th>\n",
       "      <th>feed_cnt_hot_100</th>\n",
       "      <th>feed_cnt_hot_5k</th>\n",
       "      <th>feed_cnt</th>\n",
       "      <th>post_cnt</th>\n",
       "      <th>in_experiment</th>\n",
       "    </tr>\n",
       "    <tr>\n",
       "      <th>groupid</th>\n",
       "      <th></th>\n",
       "      <th></th>\n",
       "      <th></th>\n",
       "      <th></th>\n",
       "      <th></th>\n",
       "      <th></th>\n",
       "    </tr>\n",
       "  </thead>\n",
       "  <tbody>\n",
       "    <tr>\n",
       "      <th>308998</th>\n",
       "      <td>2.022071e+07</td>\n",
       "      <td>0.064</td>\n",
       "      <td>0.003</td>\n",
       "      <td>0.113</td>\n",
       "      <td>0.120</td>\n",
       "      <td>1.0</td>\n",
       "    </tr>\n",
       "    <tr>\n",
       "      <th>308999</th>\n",
       "      <td>2.022071e+07</td>\n",
       "      <td>0.067</td>\n",
       "      <td>0.002</td>\n",
       "      <td>0.113</td>\n",
       "      <td>0.118</td>\n",
       "      <td>1.0</td>\n",
       "    </tr>\n",
       "  </tbody>\n",
       "</table>\n",
       "</div>"
      ],
      "text/plain": [
       "         first_hit_ds  feed_cnt_hot_100  feed_cnt_hot_5k  feed_cnt  post_cnt  \\\n",
       "groupid                                                                        \n",
       "308998   2.022071e+07             0.064            0.003     0.113     0.120   \n",
       "308999   2.022071e+07             0.067            0.002     0.113     0.118   \n",
       "\n",
       "         in_experiment  \n",
       "groupid                 \n",
       "308998             1.0  \n",
       "308999             1.0  "
      ]
     },
     "execution_count": 35,
     "metadata": {},
     "output_type": "execute_result"
    }
   ],
   "source": [
    "# 按照分组\n",
    "np.round(new_new_df.groupby(new_new_df[\"groupid\"]).mean(),3)"
   ]
  },
  {
   "cell_type": "code",
   "execution_count": 36,
   "id": "7c4a3d74",
   "metadata": {},
   "outputs": [
    {
     "data": {
      "text/html": [
       "<div>\n",
       "<style scoped>\n",
       "    .dataframe tbody tr th:only-of-type {\n",
       "        vertical-align: middle;\n",
       "    }\n",
       "\n",
       "    .dataframe tbody tr th {\n",
       "        vertical-align: top;\n",
       "    }\n",
       "\n",
       "    .dataframe thead th {\n",
       "        text-align: right;\n",
       "    }\n",
       "</style>\n",
       "<table border=\"1\" class=\"dataframe\">\n",
       "  <thead>\n",
       "    <tr style=\"text-align: right;\">\n",
       "      <th></th>\n",
       "      <th></th>\n",
       "      <th>first_hit_ds</th>\n",
       "      <th>feed_cnt_hot_100</th>\n",
       "      <th>feed_cnt_hot_5k</th>\n",
       "      <th>feed_cnt</th>\n",
       "      <th>post_cnt</th>\n",
       "      <th>in_experiment</th>\n",
       "    </tr>\n",
       "    <tr>\n",
       "      <th>groupid</th>\n",
       "      <th>ds</th>\n",
       "      <th></th>\n",
       "      <th></th>\n",
       "      <th></th>\n",
       "      <th></th>\n",
       "      <th></th>\n",
       "      <th></th>\n",
       "    </tr>\n",
       "  </thead>\n",
       "  <tbody>\n",
       "    <tr>\n",
       "      <th rowspan=\"2\" valign=\"top\">308998</th>\n",
       "      <th>20220717</th>\n",
       "      <td>2.022071e+07</td>\n",
       "      <td>0.065350</td>\n",
       "      <td>0.002720</td>\n",
       "      <td>0.115875</td>\n",
       "      <td>0.121641</td>\n",
       "      <td>1.0</td>\n",
       "    </tr>\n",
       "    <tr>\n",
       "      <th>20220718</th>\n",
       "      <td>2.022071e+07</td>\n",
       "      <td>0.063271</td>\n",
       "      <td>0.002699</td>\n",
       "      <td>0.110596</td>\n",
       "      <td>0.118284</td>\n",
       "      <td>1.0</td>\n",
       "    </tr>\n",
       "    <tr>\n",
       "      <th rowspan=\"2\" valign=\"top\">308999</th>\n",
       "      <th>20220717</th>\n",
       "      <td>2.022071e+07</td>\n",
       "      <td>0.067687</td>\n",
       "      <td>0.002345</td>\n",
       "      <td>0.118163</td>\n",
       "      <td>0.125159</td>\n",
       "      <td>1.0</td>\n",
       "    </tr>\n",
       "    <tr>\n",
       "      <th>20220718</th>\n",
       "      <td>2.022071e+07</td>\n",
       "      <td>0.065611</td>\n",
       "      <td>0.002208</td>\n",
       "      <td>0.108836</td>\n",
       "      <td>0.111913</td>\n",
       "      <td>1.0</td>\n",
       "    </tr>\n",
       "  </tbody>\n",
       "</table>\n",
       "</div>"
      ],
      "text/plain": [
       "                  first_hit_ds  feed_cnt_hot_100  feed_cnt_hot_5k  feed_cnt  \\\n",
       "groupid ds                                                                    \n",
       "308998  20220717  2.022071e+07          0.065350         0.002720  0.115875   \n",
       "        20220718  2.022071e+07          0.063271         0.002699  0.110596   \n",
       "308999  20220717  2.022071e+07          0.067687         0.002345  0.118163   \n",
       "        20220718  2.022071e+07          0.065611         0.002208  0.108836   \n",
       "\n",
       "                  post_cnt  in_experiment  \n",
       "groupid ds                                 \n",
       "308998  20220717  0.121641            1.0  \n",
       "        20220718  0.118284            1.0  \n",
       "308999  20220717  0.125159            1.0  \n",
       "        20220718  0.111913            1.0  "
      ]
     },
     "execution_count": 36,
     "metadata": {},
     "output_type": "execute_result"
    }
   ],
   "source": [
    "# 按照分组\n",
    "new_new_df.groupby([new_new_df[\"groupid\"],new_new_df[\"ds\"]]).mean()"
   ]
  },
  {
   "cell_type": "code",
   "execution_count": 38,
   "id": "1d0c24ce",
   "metadata": {},
   "outputs": [],
   "source": [
    "# 按照分组\n",
    "treatment_effect= np.round(new_new_df.groupby([new_new_df[\"groupid\"],new_new_df[\"ds\"]]).mean(),3)\n",
    "treatment_effect.to_excel(\"f_treatment_effect.xls\")"
   ]
  },
  {
   "cell_type": "code",
   "execution_count": 39,
   "id": "7c70430d",
   "metadata": {},
   "outputs": [
    {
     "data": {
      "text/html": [
       "<div>\n",
       "<style scoped>\n",
       "    .dataframe tbody tr th:only-of-type {\n",
       "        vertical-align: middle;\n",
       "    }\n",
       "\n",
       "    .dataframe tbody tr th {\n",
       "        vertical-align: top;\n",
       "    }\n",
       "\n",
       "    .dataframe thead th {\n",
       "        text-align: right;\n",
       "    }\n",
       "</style>\n",
       "<table border=\"1\" class=\"dataframe\">\n",
       "  <thead>\n",
       "    <tr style=\"text-align: right;\">\n",
       "      <th></th>\n",
       "      <th></th>\n",
       "      <th>first_hit_ds</th>\n",
       "      <th>feed_cnt_hot_100</th>\n",
       "      <th>feed_cnt_hot_5k</th>\n",
       "      <th>feed_cnt</th>\n",
       "      <th>post_cnt</th>\n",
       "      <th>in_experiment</th>\n",
       "    </tr>\n",
       "    <tr>\n",
       "      <th>groupid</th>\n",
       "      <th>ds</th>\n",
       "      <th></th>\n",
       "      <th></th>\n",
       "      <th></th>\n",
       "      <th></th>\n",
       "      <th></th>\n",
       "      <th></th>\n",
       "    </tr>\n",
       "  </thead>\n",
       "  <tbody>\n",
       "    <tr>\n",
       "      <th rowspan=\"2\" valign=\"top\">308998</th>\n",
       "      <th>20220717</th>\n",
       "      <td>2.022071e+07</td>\n",
       "      <td>0.065</td>\n",
       "      <td>0.003</td>\n",
       "      <td>0.116</td>\n",
       "      <td>0.122</td>\n",
       "      <td>1.0</td>\n",
       "    </tr>\n",
       "    <tr>\n",
       "      <th>20220718</th>\n",
       "      <td>2.022071e+07</td>\n",
       "      <td>0.063</td>\n",
       "      <td>0.003</td>\n",
       "      <td>0.111</td>\n",
       "      <td>0.118</td>\n",
       "      <td>1.0</td>\n",
       "    </tr>\n",
       "    <tr>\n",
       "      <th rowspan=\"2\" valign=\"top\">308999</th>\n",
       "      <th>20220717</th>\n",
       "      <td>2.022071e+07</td>\n",
       "      <td>0.068</td>\n",
       "      <td>0.002</td>\n",
       "      <td>0.118</td>\n",
       "      <td>0.125</td>\n",
       "      <td>1.0</td>\n",
       "    </tr>\n",
       "    <tr>\n",
       "      <th>20220718</th>\n",
       "      <td>2.022071e+07</td>\n",
       "      <td>0.066</td>\n",
       "      <td>0.002</td>\n",
       "      <td>0.109</td>\n",
       "      <td>0.112</td>\n",
       "      <td>1.0</td>\n",
       "    </tr>\n",
       "  </tbody>\n",
       "</table>\n",
       "</div>"
      ],
      "text/plain": [
       "                  first_hit_ds  feed_cnt_hot_100  feed_cnt_hot_5k  feed_cnt  \\\n",
       "groupid ds                                                                    \n",
       "308998  20220717  2.022071e+07             0.065            0.003     0.116   \n",
       "        20220718  2.022071e+07             0.063            0.003     0.111   \n",
       "308999  20220717  2.022071e+07             0.068            0.002     0.118   \n",
       "        20220718  2.022071e+07             0.066            0.002     0.109   \n",
       "\n",
       "                  post_cnt  in_experiment  \n",
       "groupid ds                                 \n",
       "308998  20220717     0.122            1.0  \n",
       "        20220718     0.118            1.0  \n",
       "308999  20220717     0.125            1.0  \n",
       "        20220718     0.112            1.0  "
      ]
     },
     "execution_count": 39,
     "metadata": {},
     "output_type": "execute_result"
    }
   ],
   "source": [
    "treatment_effect"
   ]
  },
  {
   "cell_type": "code",
   "execution_count": 40,
   "id": "2ea575d2",
   "metadata": {},
   "outputs": [
    {
     "name": "stdout",
     "output_type": "stream",
     "text": [
      "feed_cnt_hot_100 0.004426542598258365\n",
      "feed_cnt_hot_5k 0.029931200989982587\n",
      "feed_cnt 0.8873502540608968\n",
      "post_cnt 0.6023431254228278\n"
     ]
    }
   ],
   "source": [
    "# 计算P值\n",
    "for col in numerical_col:\n",
    "    content_c=(new_new_df.where(new_new_df.groupid==308998)[col].dropna()).tolist()\n",
    "    count_c=[1 for _ in range(len(content_c))]\n",
    "    content_t2=(new_new_df.where(new_new_df.groupid==308999)[col].dropna()).tolist()\n",
    "    count_t2=[1 for _ in range(len(content_t2))]\n",
    "    M_c=Metric(content_c,count_c)\n",
    "    M_t=Metric(content_t2,count_t2)\n",
    "    p= Ttest(M_c,M_t).pvalue()\n",
    "    print(col,p)"
   ]
  },
  {
   "cell_type": "code",
   "execution_count": 51,
   "id": "b88d11bb",
   "metadata": {},
   "outputs": [
    {
     "data": {
      "text/plain": [
       "<AxesSubplot:xlabel='groupid', ylabel='feed_cnt'>"
      ]
     },
     "execution_count": 51,
     "metadata": {},
     "output_type": "execute_result"
    },
    {
     "data": {
      "image/png": "[encoded data removed]",
      "text/plain": [
       "<Figure size 432x288 with 1 Axes>"
      ]
     },
     "metadata": {
      "needs_background": "light"
     },
     "output_type": "display_data"
    }
   ],
   "source": [
    "# # Visualization --箱线图\n",
    "sns.boxplot(x=new_new_df[\"groupid\"],y=new_new_df[\"feed_cnt\"])"
   ]
  },
  {
   "cell_type": "code",
   "execution_count": 52,
   "id": "e4b03d38",
   "metadata": {},
   "outputs": [
    {
     "data": {
      "text/plain": [
       "<AxesSubplot:xlabel='groupid', ylabel='post_cnt'>"
      ]
     },
     "execution_count": 52,
     "metadata": {},
     "output_type": "execute_result"
    },
    {
     "data": {
      "image/png": "[encoded data removed]",
      "text/plain": [
       "<Figure size 432x288 with 1 Axes>"
      ]
     },
     "metadata": {
      "needs_background": "light"
     },
     "output_type": "display_data"
    }
   ],
   "source": [
    "sns.boxplot(x=new_new_df[\"groupid\"],y=new_new_df[\"post_cnt\"])"
   ]
  },
  {
   "cell_type": "code",
   "execution_count": 55,
   "id": "f00d2957",
   "metadata": {},
   "outputs": [
    {
     "data": {
      "text/plain": [
       "<AxesSubplot:xlabel='groupid', ylabel='feed_cnt_hot_100'>"
      ]
     },
     "execution_count": 55,
     "metadata": {},
     "output_type": "execute_result"
    },
    {
     "data": {
      "image/png": "[encoded data removed]",
      "text/plain": [
       "<Figure size 432x288 with 1 Axes>"
      ]
     },
     "metadata": {
      "needs_background": "light"
     },
     "output_type": "display_data"
    }
   ],
   "source": [
    "sns.boxplot(x=new_new_df[\"groupid\"],y=new_new_df[\"feed_cnt_hot_100\"])"
   ]
  },
  {
   "cell_type": "code",
   "execution_count": 56,
   "id": "58aa0ff9",
   "metadata": {},
   "outputs": [
    {
     "data": {
      "text/plain": [
       "<AxesSubplot:xlabel='groupid', ylabel='feed_cnt_hot_5k'>"
      ]
     },
     "execution_count": 56,
     "metadata": {},
     "output_type": "execute_result"
    },
    {
     "data": {
      "image/png": "[encoded data removed]",
      "text/plain": [
       "<Figure size 432x288 with 1 Axes>"
      ]
     },
     "metadata": {
      "needs_background": "light"
     },
     "output_type": "display_data"
    }
   ],
   "source": [
    "sns.boxplot(x=new_new_df[\"groupid\"],y=new_new_df[\"feed_cnt_hot_5k\"])"
   ]
  },
  {
   "cell_type": "code",
   "execution_count": null,
   "id": "84cb933e",
   "metadata": {},
   "outputs": [],
   "source": []
  },
  {
   "cell_type": "code",
   "execution_count": null,
   "id": "2395a2d4",
   "metadata": {},
   "outputs": [],
   "source": []
  }
 ],
 "metadata": {
  "kernelspec": {
   "display_name": "Python 3.7",
   "language": "python",
   "name": "python3"
  },
  "language_info": {
   "codemirror_mode": {
    "name": "ipython",
    "version": 3
   },
   "file_extension": ".py",
   "mimetype": "text/x-python",
   "name": "python",
   "nbconvert_exporter": "python",
   "pygments_lexer": "ipython3",
   "version": "3.7.3"
  }
 },
 "nbformat": 4,
 "nbformat_minor": 5
}
