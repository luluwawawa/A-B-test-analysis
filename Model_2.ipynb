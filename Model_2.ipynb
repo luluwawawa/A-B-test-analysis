{
 "cells": [
  {
   "cell_type": "code",
   "execution_count": 1,
   "id": "8f8bf3a3",
   "metadata": {},
   "outputs": [],
   "source": [
    "# 表格：wxg_weixin_analytics_intern::tmp_dws_app_weixin_pridict_feature_fanslevel_uin_distribute_with_strategy_20230324_intern"
   ]
  },
  {
   "cell_type": "code",
   "execution_count": 2,
   "id": "357e5acc",
   "metadata": {},
   "outputs": [],
   "source": [
    "# 从数据库中读取数据包\n",
    "from pyspark.sql import SparkSession\n",
    "import os\n",
    "from pytoolkit import TDWSQLProvider\n",
    "import pandas"
   ]
  },
  {
   "cell_type": "code",
   "execution_count": 3,
   "id": "d497dcee",
   "metadata": {},
   "outputs": [
    {
     "name": "stdout",
     "output_type": "stream",
     "text": [
      "Driver Log: c11f640b-145d-40ba-b732-9ad569ea3736.log\n",
      "Tracking URL: http://application.tdw.oa.com:8080/proxy/application_1679993652845_1167358\n"
     ]
    }
   ],
   "source": [
    "# 从数据库中读取数据\n",
    "os.environ['GROUP_ID'] = 'g_wxg_wxt_product_analytics_intern'\n",
    "os.environ['GAIA_ID'] = '5729'\n",
    "session = SparkSession.builder.config('spark.driver.maxResultSize','14g').config('spark.driver.memory', '14g').config('spark.executor.cores', 4).config('spark.executor.memory', '14g').config('spark.yarn.archive','hdfs://qy-ieg-4-v2/data/SPARK/cachefile/3_12_2.4.6_hadoop3/spark-jars_old_notauth.zip').getOrCreate()"
   ]
  },
  {
   "cell_type": "code",
   "execution_count": null,
   "id": "c00c56cf",
   "metadata": {},
   "outputs": [],
   "source": [
    "# 数据量可以一次读取\n",
    "from pytoolkit import TDWSQLProvider\n",
    "provider = TDWSQLProvider(session, group='tl', db='wxg_weixin_analytics_intern')\n",
    "df=provider.table('tmp_dws_app_weixin_pridict_feature_fanslevel_uin_distribute_with_strategy_20230324_intern').toPandas()"
   ]
  },
  {
   "cell_type": "code",
   "execution_count": 4,
   "id": "b1788ca3",
   "metadata": {},
   "outputs": [],
   "source": [
    "# 数据量太大，只能不同的SQL分开读取\n",
    "from pytoolkit import TDWSQLProvider\n",
    "provider = TDWSQLProvider(session, group='tl', db='wxg_weixin_analytics_intern')\n",
    "tbl=provider.table('tmp_dws_app_weixin_pridict_feature_fanslevel_uin_distribute_with_strategy_20230324_intern')\n",
    "tbl.createOrReplaceTempView('tbl')\n",
    "df1=session.sql('select * from tbl limit 100').toPandas()"
   ]
  },
  {
   "cell_type": "code",
   "execution_count": 5,
   "id": "aeac77a5",
   "metadata": {},
   "outputs": [
    {
     "data": {
      "text/html": [
       "<div>\n",
       "<style scoped>\n",
       "    .dataframe tbody tr th:only-of-type {\n",
       "        vertical-align: middle;\n",
       "    }\n",
       "\n",
       "    .dataframe tbody tr th {\n",
       "        vertical-align: top;\n",
       "    }\n",
       "\n",
       "    .dataframe thead th {\n",
       "        text-align: right;\n",
       "    }\n",
       "</style>\n",
       "<table border=\"1\" class=\"dataframe\">\n",
       "  <thead>\n",
       "    <tr style=\"text-align: right;\">\n",
       "      <th></th>\n",
       "      <th>session_time</th>\n",
       "      <th>stay_time_s</th>\n",
       "      <th>rate</th>\n",
       "      <th>feedcnt_f1c1</th>\n",
       "      <th>feedcnt_f2c1</th>\n",
       "      <th>feedcnt_f3c1</th>\n",
       "      <th>feedcnt_f4c1</th>\n",
       "      <th>feedcnt_f5c1</th>\n",
       "      <th>feedcnt_f6c1</th>\n",
       "      <th>feedcnt_f1c2</th>\n",
       "      <th>...</th>\n",
       "      <th>feedcnt_f5c3</th>\n",
       "      <th>feedcnt_f6c3</th>\n",
       "      <th>feedcnt_f1c4</th>\n",
       "      <th>feedcnt_f2c4</th>\n",
       "      <th>feedcnt_f3c4</th>\n",
       "      <th>feedcnt_f4c4</th>\n",
       "      <th>feedcnt_f5c4</th>\n",
       "      <th>feedcnt_f6c4</th>\n",
       "      <th>groupid</th>\n",
       "      <th>exptid</th>\n",
       "    </tr>\n",
       "  </thead>\n",
       "  <tbody>\n",
       "    <tr>\n",
       "      <th>0</th>\n",
       "      <td>-4573.546973</td>\n",
       "      <td>129207.078550</td>\n",
       "      <td>6.520736</td>\n",
       "      <td>0.00002</td>\n",
       "      <td>0.000457</td>\n",
       "      <td>0.007796</td>\n",
       "      <td>0.018922</td>\n",
       "      <td>0.002906</td>\n",
       "      <td>0.0</td>\n",
       "      <td>0.000094</td>\n",
       "      <td>...</td>\n",
       "      <td>0.026744</td>\n",
       "      <td>0.000811</td>\n",
       "      <td>0.007202</td>\n",
       "      <td>0.033361</td>\n",
       "      <td>0.158199</td>\n",
       "      <td>0.441873</td>\n",
       "      <td>0.135427</td>\n",
       "      <td>0.003331</td>\n",
       "      <td>10047362</td>\n",
       "      <td>9916162</td>\n",
       "    </tr>\n",
       "    <tr>\n",
       "      <th>1</th>\n",
       "      <td>2212.741011</td>\n",
       "      <td>27221.674663</td>\n",
       "      <td>6.520736</td>\n",
       "      <td>0.00002</td>\n",
       "      <td>0.000457</td>\n",
       "      <td>0.007796</td>\n",
       "      <td>0.018922</td>\n",
       "      <td>0.002906</td>\n",
       "      <td>0.0</td>\n",
       "      <td>0.000094</td>\n",
       "      <td>...</td>\n",
       "      <td>0.026744</td>\n",
       "      <td>0.000811</td>\n",
       "      <td>0.007202</td>\n",
       "      <td>0.033361</td>\n",
       "      <td>0.158199</td>\n",
       "      <td>0.441873</td>\n",
       "      <td>0.135427</td>\n",
       "      <td>0.003331</td>\n",
       "      <td>10047362</td>\n",
       "      <td>9916162</td>\n",
       "    </tr>\n",
       "    <tr>\n",
       "      <th>2</th>\n",
       "      <td>2212.741011</td>\n",
       "      <td>1.663547</td>\n",
       "      <td>6.520736</td>\n",
       "      <td>0.00002</td>\n",
       "      <td>0.000457</td>\n",
       "      <td>0.007796</td>\n",
       "      <td>0.018922</td>\n",
       "      <td>0.002906</td>\n",
       "      <td>0.0</td>\n",
       "      <td>0.000094</td>\n",
       "      <td>...</td>\n",
       "      <td>0.026744</td>\n",
       "      <td>0.000811</td>\n",
       "      <td>0.007202</td>\n",
       "      <td>0.033361</td>\n",
       "      <td>0.158199</td>\n",
       "      <td>0.441873</td>\n",
       "      <td>0.135427</td>\n",
       "      <td>0.003331</td>\n",
       "      <td>10047362</td>\n",
       "      <td>9916162</td>\n",
       "    </tr>\n",
       "    <tr>\n",
       "      <th>3</th>\n",
       "      <td>2212.741011</td>\n",
       "      <td>1.663547</td>\n",
       "      <td>6.520736</td>\n",
       "      <td>0.00002</td>\n",
       "      <td>0.000457</td>\n",
       "      <td>0.007796</td>\n",
       "      <td>0.018922</td>\n",
       "      <td>0.002906</td>\n",
       "      <td>0.0</td>\n",
       "      <td>0.000094</td>\n",
       "      <td>...</td>\n",
       "      <td>0.026744</td>\n",
       "      <td>0.000811</td>\n",
       "      <td>0.007202</td>\n",
       "      <td>0.033361</td>\n",
       "      <td>0.158199</td>\n",
       "      <td>0.441873</td>\n",
       "      <td>0.135427</td>\n",
       "      <td>0.003331</td>\n",
       "      <td>10047362</td>\n",
       "      <td>9916162</td>\n",
       "    </tr>\n",
       "    <tr>\n",
       "      <th>4</th>\n",
       "      <td>2576.964084</td>\n",
       "      <td>9249.296302</td>\n",
       "      <td>6.520736</td>\n",
       "      <td>0.00002</td>\n",
       "      <td>0.000457</td>\n",
       "      <td>0.007796</td>\n",
       "      <td>0.018922</td>\n",
       "      <td>0.002906</td>\n",
       "      <td>0.0</td>\n",
       "      <td>0.000094</td>\n",
       "      <td>...</td>\n",
       "      <td>0.026744</td>\n",
       "      <td>0.000811</td>\n",
       "      <td>0.007202</td>\n",
       "      <td>0.033361</td>\n",
       "      <td>0.158199</td>\n",
       "      <td>0.441873</td>\n",
       "      <td>0.135427</td>\n",
       "      <td>0.003331</td>\n",
       "      <td>10047362</td>\n",
       "      <td>9916162</td>\n",
       "    </tr>\n",
       "  </tbody>\n",
       "</table>\n",
       "<p>5 rows × 29 columns</p>\n",
       "</div>"
      ],
      "text/plain": [
       "   session_time    stay_time_s      rate  feedcnt_f1c1  feedcnt_f2c1  \\\n",
       "0  -4573.546973  129207.078550  6.520736       0.00002      0.000457   \n",
       "1   2212.741011   27221.674663  6.520736       0.00002      0.000457   \n",
       "2   2212.741011       1.663547  6.520736       0.00002      0.000457   \n",
       "3   2212.741011       1.663547  6.520736       0.00002      0.000457   \n",
       "4   2576.964084    9249.296302  6.520736       0.00002      0.000457   \n",
       "\n",
       "   feedcnt_f3c1  feedcnt_f4c1  feedcnt_f5c1  feedcnt_f6c1  feedcnt_f1c2  ...  \\\n",
       "0      0.007796      0.018922      0.002906           0.0      0.000094  ...   \n",
       "1      0.007796      0.018922      0.002906           0.0      0.000094  ...   \n",
       "2      0.007796      0.018922      0.002906           0.0      0.000094  ...   \n",
       "3      0.007796      0.018922      0.002906           0.0      0.000094  ...   \n",
       "4      0.007796      0.018922      0.002906           0.0      0.000094  ...   \n",
       "\n",
       "   feedcnt_f5c3  feedcnt_f6c3  feedcnt_f1c4  feedcnt_f2c4  feedcnt_f3c4  \\\n",
       "0      0.026744      0.000811      0.007202      0.033361      0.158199   \n",
       "1      0.026744      0.000811      0.007202      0.033361      0.158199   \n",
       "2      0.026744      0.000811      0.007202      0.033361      0.158199   \n",
       "3      0.026744      0.000811      0.007202      0.033361      0.158199   \n",
       "4      0.026744      0.000811      0.007202      0.033361      0.158199   \n",
       "\n",
       "   feedcnt_f4c4  feedcnt_f5c4  feedcnt_f6c4   groupid   exptid  \n",
       "0      0.441873      0.135427      0.003331  10047362  9916162  \n",
       "1      0.441873      0.135427      0.003331  10047362  9916162  \n",
       "2      0.441873      0.135427      0.003331  10047362  9916162  \n",
       "3      0.441873      0.135427      0.003331  10047362  9916162  \n",
       "4      0.441873      0.135427      0.003331  10047362  9916162  \n",
       "\n",
       "[5 rows x 29 columns]"
      ]
     },
     "execution_count": 5,
     "metadata": {},
     "output_type": "execute_result"
    }
   ],
   "source": [
    "df1.head(5)"
   ]
  },
  {
   "cell_type": "code",
   "execution_count": 6,
   "id": "217d92d9",
   "metadata": {},
   "outputs": [],
   "source": [
    "#数据分析包\n",
    "import warnings\n",
    "warnings.filterwarnings('ignore')\n",
    "\n",
    "import pandas as pd\n",
    "import numpy as np\n",
    "from scipy import stats\n",
    "from matplotlib import style\n",
    "import seaborn as sns\n",
    "from matplotlib import pyplot as plt\n",
    "\n",
    "# sklearn 计算mse,r2,mape(y_true,y_predict)\n",
    "from sklearn.metrics import r2_score\n",
    "\n",
    "# linear regression\n",
    "# from sklearn.linear_model import LinearRegression\n",
    "import statsmodels.formula.api as smf\n",
    "\n",
    "# sklearn--lasso\n",
    "from sklearn.model_selection import train_test_split\n",
    "from sklearn.preprocessing import StandardScaler  # standardize the predictors\n",
    "from sklearn.linear_model import Lasso"
   ]
  },
  {
   "cell_type": "markdown",
   "id": "75cbdf70",
   "metadata": {},
   "source": [
    "# 1. EDA"
   ]
  },
  {
   "cell_type": "markdown",
   "id": "3e2efd38",
   "metadata": {},
   "source": [
    "1. 查看3个实验，每个实验组的人数"
   ]
  },
  {
   "cell_type": "code",
   "execution_count": 7,
   "id": "fa44f966",
   "metadata": {},
   "outputs": [],
   "source": [
    "group_df=session.sql('select groupid,exptid from tbl').toPandas()"
   ]
  },
  {
   "cell_type": "code",
   "execution_count": 8,
   "id": "4a461ce7",
   "metadata": {},
   "outputs": [
    {
     "name": "stdout",
     "output_type": "stream",
     "text": [
      "不同实验： [9916162 9457529 8998768 8540098]\n",
      "每个实验对应的group: exptid\n",
      "8540098    20\n",
      "8998768    17\n",
      "9457529    16\n",
      "9916162     5\n",
      "dtype: int64\n"
     ]
    }
   ],
   "source": [
    "# 查看各组数量\n",
    "print(\"不同实验：\",group_df[\"exptid\"].unique())\n",
    "print(\"每个实验对应的group:\",group_df[[\"exptid\",\"groupid\"]].value_counts().groupby(\"exptid\").count())"
   ]
  },
  {
   "cell_type": "code",
   "execution_count": 9,
   "id": "922c605d",
   "metadata": {},
   "outputs": [
    {
     "name": "stdout",
     "output_type": "stream",
     "text": [
      "粉丝砍量实验： [8540118 8540112 8540121 8540123 8540122 8540127 8540119 8540114 8540125\n",
      " 8540120 8540115 8540126 8540129 8540117 8540130 8540113 8540116 8540124\n",
      " 8540128 8540131]\n",
      "垂类砍量实验1： [9064441 9064434 9064432 9064440 9064439 9064437 9064433 9064436 9064444\n",
      " 9064438 9064447 9064442 9064445 9064435 9064443 9064446 9064431]\n",
      "垂类砍量实验2： [9457548 9457556 9457549 9457546 9457553 9457545 9457557 9457555 9457558\n",
      " 9457554 9457559 9457550 9457544 9457552 9457547 9457551]\n",
      "拉新渠道实验： [10047362 10047359 10047363 10047361 10047360]\n"
     ]
    }
   ],
   "source": [
    "# 查看每个实验对应的实验组\n",
    "print(\"粉丝砍量实验：\",group_df[group_df[\"exptid\"]==8540098][\"groupid\"].unique())\n",
    "print(\"垂类砍量实验1：\",group_df[group_df[\"exptid\"]==8998768][\"groupid\"].unique())\n",
    "print(\"垂类砍量实验2：\",group_df[group_df[\"exptid\"]==9457529][\"groupid\"].unique())\n",
    "print(\"拉新渠道实验：\",group_df[group_df[\"exptid\"]==9916162][\"groupid\"].unique())"
   ]
  },
  {
   "cell_type": "markdown",
   "id": "99ee300b",
   "metadata": {},
   "source": [
    "2. 查看数据量"
   ]
  },
  {
   "cell_type": "code",
   "execution_count": 10,
   "id": "fc4d90ee",
   "metadata": {},
   "outputs": [
    {
     "name": "stdout",
     "output_type": "stream",
     "text": [
      "训练集数据量（垂泪+粉丝等级）： 9790989\n",
      "验证集数据量： 1114053\n"
     ]
    }
   ],
   "source": [
    "print(\"训练集数据量（垂泪+粉丝等级）：\",len(group_df[group_df[\"exptid\"]==8540098])+len(group_df[group_df[\"exptid\"]==8998768])+ len(group_df[group_df[\"exptid\"]==9457529]))\n",
    "print(\"验证集数据量：\",len(group_df[group_df[\"exptid\"]==9916162]))"
   ]
  },
  {
   "cell_type": "code",
   "execution_count": 11,
   "id": "86c1e8e6",
   "metadata": {},
   "outputs": [],
   "source": [
    "group_id_df1=pd.DataFrame(group_df[group_df[\"exptid\"]==8540098][\"groupid\"].value_counts())\n",
    "# print(\"粉丝砍量实验：\",group_id_df1)\n",
    "group_id_df2=pd.DataFrame(group_df[group_df[\"exptid\"]==8998768][\"groupid\"].value_counts())\n",
    "# print(\"垂类砍量实验1：\",group_id_df2)\n",
    "group_id_df3=pd.DataFrame(group_df[group_df[\"exptid\"]==9457529][\"groupid\"].value_counts())\n",
    "# print(\"垂类砍量实验2：\",group_id_df3)\n",
    "group_id_df4=pd.DataFrame(group_df[group_df[\"exptid\"]==9916162][\"groupid\"].value_counts())\n",
    "# print(\"拉新渠道实验：\",group_id_df4)"
   ]
  },
  {
   "cell_type": "code",
   "execution_count": 12,
   "id": "63b52f7d",
   "metadata": {},
   "outputs": [],
   "source": [
    "# 将各组的group_id 和对应的数据量存储为df\n",
    "group_id_df=pd.concat([group_id_df1, group_id_df2])\n",
    "group_id_df=pd.concat([group_id_df, group_id_df3])\n",
    "group_id_df=pd.concat([group_id_df, group_id_df4])\n",
    "group_id_df= group_id_df.reset_index().rename(columns={\"index\":\"group_id\",\"groupid\":\"number\"})"
   ]
  },
  {
   "cell_type": "code",
   "execution_count": 13,
   "id": "6683e5c4",
   "metadata": {},
   "outputs": [
    {
     "name": "stdout",
     "output_type": "stream",
     "text": [
      "原来数据总量： number    10905042\n",
      "dtype: int64\n",
      "downsample后的数据总量： downsample_number    3634993\n",
      "dtype: int64\n"
     ]
    },
    {
     "data": {
      "text/html": [
       "<div>\n",
       "<style scoped>\n",
       "    .dataframe tbody tr th:only-of-type {\n",
       "        vertical-align: middle;\n",
       "    }\n",
       "\n",
       "    .dataframe tbody tr th {\n",
       "        vertical-align: top;\n",
       "    }\n",
       "\n",
       "    .dataframe thead th {\n",
       "        text-align: right;\n",
       "    }\n",
       "</style>\n",
       "<table border=\"1\" class=\"dataframe\">\n",
       "  <thead>\n",
       "    <tr style=\"text-align: right;\">\n",
       "      <th></th>\n",
       "      <th>group_id</th>\n",
       "      <th>number</th>\n",
       "      <th>downsample_number</th>\n",
       "    </tr>\n",
       "  </thead>\n",
       "  <tbody>\n",
       "    <tr>\n",
       "      <th>0</th>\n",
       "      <td>8540126</td>\n",
       "      <td>269482</td>\n",
       "      <td>89827</td>\n",
       "    </tr>\n",
       "    <tr>\n",
       "      <th>1</th>\n",
       "      <td>8540114</td>\n",
       "      <td>268333</td>\n",
       "      <td>89444</td>\n",
       "    </tr>\n",
       "    <tr>\n",
       "      <th>2</th>\n",
       "      <td>8540123</td>\n",
       "      <td>268248</td>\n",
       "      <td>89416</td>\n",
       "    </tr>\n",
       "    <tr>\n",
       "      <th>3</th>\n",
       "      <td>8540129</td>\n",
       "      <td>268084</td>\n",
       "      <td>89361</td>\n",
       "    </tr>\n",
       "    <tr>\n",
       "      <th>4</th>\n",
       "      <td>8540115</td>\n",
       "      <td>268046</td>\n",
       "      <td>89348</td>\n",
       "    </tr>\n",
       "  </tbody>\n",
       "</table>\n",
       "</div>"
      ],
      "text/plain": [
       "   group_id  number  downsample_number\n",
       "0   8540126  269482              89827\n",
       "1   8540114  268333              89444\n",
       "2   8540123  268248              89416\n",
       "3   8540129  268084              89361\n",
       "4   8540115  268046              89348"
      ]
     },
     "execution_count": 13,
     "metadata": {},
     "output_type": "execute_result"
    }
   ],
   "source": [
    "# 确定down sample的数量\n",
    "group_id_df[\"downsample_number\"]=(group_id_df[\"number\"]/(2.5)).apply(lambda x: int(x) if not pd.isnull(x) else x)\n",
    "print(\"原来数据总量：\",group_id_df[[\"number\"]].sum())\n",
    "print(\"downsample后的数据总量：\",group_id_df[[\"downsample_number\"]].sum())\n",
    "group_id_df.head(5)"
   ]
  },
  {
   "cell_type": "markdown",
   "id": "e504bc0e",
   "metadata": {},
   "source": [
    "# 2. Down sampling"
   ]
  },
  {
   "cell_type": "code",
   "execution_count": 24,
   "id": "3f886705",
   "metadata": {},
   "outputs": [
    {
     "ename": "ValueError",
     "evalue": "Bin edges must be unique: array([1.66354683e+00, 1.66354683e+00, 1.33876069e+03, 8.78178679e+06]).\nYou can drop duplicate edges by setting the 'duplicates' kwarg",
     "output_type": "error",
     "traceback": [
      "\u001b[0;31m---------------------------------------------------------------------------\u001b[0m",
      "\u001b[0;31mValueError\u001b[0m                                Traceback (most recent call last)",
      "\u001b[0;32m/tmp/ipykernel_3325/3767253798.py\u001b[0m in \u001b[0;36m<module>\u001b[0;34m\u001b[0m\n\u001b[1;32m     10\u001b[0m     \u001b[0mtemp_data\u001b[0m\u001b[0;34m=\u001b[0m \u001b[0msession\u001b[0m\u001b[0;34m.\u001b[0m\u001b[0msql\u001b[0m\u001b[0;34m(\u001b[0m\u001b[0;34mf'select * from tbl where groupid=={temp_groupid}'\u001b[0m\u001b[0;34m)\u001b[0m\u001b[0;34m.\u001b[0m\u001b[0mtoPandas\u001b[0m\u001b[0;34m(\u001b[0m\u001b[0;34m)\u001b[0m\u001b[0;34m\u001b[0m\u001b[0;34m\u001b[0m\u001b[0m\n\u001b[1;32m     11\u001b[0m     \u001b[0;31m# 将列 'stay_time_s' 等分为 3 个分组，每个分组抽取 2 个样本\u001b[0m\u001b[0;34m\u001b[0m\u001b[0;34m\u001b[0m\u001b[0;34m\u001b[0m\u001b[0m\n\u001b[0;32m---> 12\u001b[0;31m     \u001b[0mbins\u001b[0m \u001b[0;34m=\u001b[0m \u001b[0mpd\u001b[0m\u001b[0;34m.\u001b[0m\u001b[0mqcut\u001b[0m\u001b[0;34m(\u001b[0m\u001b[0mtemp_data\u001b[0m\u001b[0;34m[\u001b[0m\u001b[0;34m'stay_time_s'\u001b[0m\u001b[0;34m]\u001b[0m\u001b[0;34m,\u001b[0m \u001b[0mq\u001b[0m\u001b[0;34m=\u001b[0m\u001b[0;36m3\u001b[0m\u001b[0;34m)\u001b[0m\u001b[0;34m\u001b[0m\u001b[0;34m\u001b[0m\u001b[0m\n\u001b[0m\u001b[1;32m     13\u001b[0m     \u001b[0mn\u001b[0m\u001b[0;34m=\u001b[0m\u001b[0mround\u001b[0m\u001b[0;34m(\u001b[0m\u001b[0mtemp_downsample_number\u001b[0m\u001b[0;34m/\u001b[0m\u001b[0;36m3\u001b[0m\u001b[0;34m)\u001b[0m\u001b[0;34m\u001b[0m\u001b[0;34m\u001b[0m\u001b[0m\n\u001b[1;32m     14\u001b[0m     \u001b[0mtemp_sampled_data\u001b[0m \u001b[0;34m=\u001b[0m \u001b[0mpd\u001b[0m\u001b[0;34m.\u001b[0m\u001b[0mconcat\u001b[0m\u001b[0;34m(\u001b[0m\u001b[0;34m[\u001b[0m\u001b[0mgroup\u001b[0m\u001b[0;34m.\u001b[0m\u001b[0msample\u001b[0m\u001b[0;34m(\u001b[0m\u001b[0mn\u001b[0m\u001b[0;34m)\u001b[0m \u001b[0;32mfor\u001b[0m \u001b[0m_\u001b[0m\u001b[0;34m,\u001b[0m \u001b[0mgroup\u001b[0m \u001b[0;32min\u001b[0m \u001b[0mtemp_data\u001b[0m\u001b[0;34m.\u001b[0m\u001b[0mgroupby\u001b[0m\u001b[0;34m(\u001b[0m\u001b[0mbins\u001b[0m\u001b[0;34m)\u001b[0m\u001b[0;34m]\u001b[0m\u001b[0;34m)\u001b[0m\u001b[0;34m\u001b[0m\u001b[0;34m\u001b[0m\u001b[0m\n",
      "\u001b[0;32m/usr/local/lib/python3.7/site-packages/pandas/core/reshape/tile.py\u001b[0m in \u001b[0;36mqcut\u001b[0;34m(x, q, labels, retbins, precision, duplicates)\u001b[0m\n\u001b[1;32m    363\u001b[0m         \u001b[0minclude_lowest\u001b[0m\u001b[0;34m=\u001b[0m\u001b[0;32mTrue\u001b[0m\u001b[0;34m,\u001b[0m\u001b[0;34m\u001b[0m\u001b[0;34m\u001b[0m\u001b[0m\n\u001b[1;32m    364\u001b[0m         \u001b[0mdtype\u001b[0m\u001b[0;34m=\u001b[0m\u001b[0mdtype\u001b[0m\u001b[0;34m,\u001b[0m\u001b[0;34m\u001b[0m\u001b[0;34m\u001b[0m\u001b[0m\n\u001b[0;32m--> 365\u001b[0;31m         \u001b[0mduplicates\u001b[0m\u001b[0;34m=\u001b[0m\u001b[0mduplicates\u001b[0m\u001b[0;34m,\u001b[0m\u001b[0;34m\u001b[0m\u001b[0;34m\u001b[0m\u001b[0m\n\u001b[0m\u001b[1;32m    366\u001b[0m     )\n\u001b[1;32m    367\u001b[0m \u001b[0;34m\u001b[0m\u001b[0m\n",
      "\u001b[0;32m/usr/local/lib/python3.7/site-packages/pandas/core/reshape/tile.py\u001b[0m in \u001b[0;36m_bins_to_cuts\u001b[0;34m(x, bins, right, labels, precision, include_lowest, dtype, duplicates, ordered)\u001b[0m\n\u001b[1;32m    398\u001b[0m         \u001b[0;32mif\u001b[0m \u001b[0mduplicates\u001b[0m \u001b[0;34m==\u001b[0m \u001b[0;34m\"raise\"\u001b[0m\u001b[0;34m:\u001b[0m\u001b[0;34m\u001b[0m\u001b[0;34m\u001b[0m\u001b[0m\n\u001b[1;32m    399\u001b[0m             raise ValueError(\n\u001b[0;32m--> 400\u001b[0;31m                 \u001b[0;34mf\"Bin edges must be unique: {repr(bins)}.\\n\"\u001b[0m\u001b[0;34m\u001b[0m\u001b[0;34m\u001b[0m\u001b[0m\n\u001b[0m\u001b[1;32m    401\u001b[0m                 \u001b[0;34mf\"You can drop duplicate edges by setting the 'duplicates' kwarg\"\u001b[0m\u001b[0;34m\u001b[0m\u001b[0;34m\u001b[0m\u001b[0m\n\u001b[1;32m    402\u001b[0m             )\n",
      "\u001b[0;31mValueError\u001b[0m: Bin edges must be unique: array([1.66354683e+00, 1.66354683e+00, 1.33876069e+03, 8.78178679e+06]).\nYou can drop duplicate edges by setting the 'duplicates' kwarg"
     ]
    }
   ],
   "source": [
    "import random\n",
    "# 创建一个空的 DataFrame，用于存储抽样后的数据\n",
    "sampled_df = pd.DataFrame()\n",
    "\n",
    "for i in range(0,len(group_id_df)):\n",
    "    temp_groupid= group_id_df.loc[i,\"group_id\"]\n",
    "    print(temp_groupid)\n",
    "    # print(temp_groupid)\n",
    "    temp_downsample_number= group_id_df.loc[i,\"downsample_number\"]\n",
    "    # print(temp_downsample_number)\n",
    "    temp_data= session.sql(f'select * from tbl where groupid=={temp_groupid}').toPandas()\n",
    "    # 将列 'stay_time_s' 等分为 3 个分组，每个分组抽取 2 个样本\n",
    "    bins = pd.qcut(temp_data['stay_time_s'], q=3)\n",
    "    n=round(temp_downsample_number/3)\n",
    "    temp_sampled_data = pd.concat([group.sample(n) for _, group in temp_data.groupby(bins)])\n",
    "    sampled_df = pd.concat([sampled_df, temp_sampled_data])\n",
    "# 输出抽样后的样本数量\n",
    "sampled_df=sampled_df.reset_index()\n",
    "print(f'Total: {len(sampled_df)}')"
   ]
  },
  {
   "cell_type": "code",
   "execution_count": 29,
   "id": "261c0f66",
   "metadata": {},
   "outputs": [
    {
     "name": "stdout",
     "output_type": "stream",
     "text": [
      "8540126\n",
      "原始分组 [1.66354683e+00 1.66354683e+00 1.33876069e+03 8.78178679e+06]\n",
      "Warning: bin edges are not unique\n",
      "最后分组 [1.66354683e+00 3.90126290e+01 8.78178679e+06]\n",
      "8540114\n",
      "原始分组 [1.66354683e+00 1.66354683e+00 1.33876069e+03 7.21840649e+06]\n",
      "Warning: bin edges are not unique\n",
      "最后分组 [1.66354683e+00 3.90126290e+01 7.21840649e+06]\n",
      "8540123\n",
      "原始分组 [1.66354683e+00 1.66354683e+00 1.30141161e+03 1.07778114e+07]\n",
      "Warning: bin edges are not unique\n",
      "最后分组 [1.66354683e+00 3.90126290e+01 1.07778114e+07]\n",
      "8540129\n",
      "原始分组 [1.66354683e+00 1.66354683e+00 1.33129087e+03 9.18189256e+06]\n",
      "Warning: bin edges are not unique\n",
      "最后分组 [1.66354683e+00 3.90126290e+01 9.18189256e+06]\n",
      "8540115\n",
      "原始分组 [1.66354683e+00 1.66354683e+00 1.30141161e+03 7.79863196e+06]\n",
      "Warning: bin edges are not unique\n",
      "最后分组 [1.66354683e+00 3.90126290e+01 7.79863196e+06]\n",
      "8540120\n",
      "原始分组 [1.66354683e+00 1.66354683e+00 1.34623051e+03 7.72726533e+06]\n",
      "Warning: bin edges are not unique\n",
      "最后分组 [1.66354683e+00 3.90126290e+01 7.72726533e+06]\n",
      "8540117\n",
      "原始分组 [1.66354683e+00 1.66354683e+00 1.35370032e+03 7.51535411e+06]\n",
      "Warning: bin edges are not unique\n",
      "最后分组 [1.66354683e+00 3.90126290e+01 7.51535411e+06]\n",
      "8540121\n",
      "原始分组 [1.66354683e+00 1.66354683e+00 1.33876069e+03 6.64872094e+06]\n",
      "Warning: bin edges are not unique\n",
      "最后分组 [1.66354683e+00 3.90126290e+01 6.64872094e+06]\n",
      "8540124\n",
      "原始分组 [1.66354683e+00 1.66354683e+00 1.31635124e+03 8.19250791e+06]\n",
      "Warning: bin edges are not unique\n",
      "最后分组 [1.66354683e+00 3.90126290e+01 8.19250791e+06]\n",
      "8540127\n",
      "原始分组 [1.66354683e+00 1.66354683e+00 1.33876069e+03 7.60691912e+06]\n",
      "Warning: bin edges are not unique\n",
      "最后分组 [1.66354683e+00 3.90126290e+01 7.60691912e+06]\n",
      "8540119\n",
      "原始分组 [1.66354683e+00 1.66354683e+00 1.33876069e+03 7.20706731e+06]\n",
      "Warning: bin edges are not unique\n",
      "最后分组 [1.66354683e+00 3.90126290e+01 7.20706731e+06]\n",
      "8540116\n",
      "原始分组 [1.66354683e+00 1.66354683e+00 1.39851922e+03 7.30182940e+06]\n",
      "Warning: bin edges are not unique\n",
      "最后分组 [1.66354683e+00 3.90126290e+01 7.30182940e+06]\n",
      "8540118\n",
      "原始分组 [1.66354683e+00 1.66354683e+00 1.33876069e+03 6.27752335e+06]\n",
      "Warning: bin edges are not unique\n",
      "最后分组 [1.66354683e+00 3.90126290e+01 6.27752335e+06]\n",
      "8540112\n",
      "原始分组 [1.66354683e+00 1.66354683e+00 1.38357959e+03 8.04803419e+06]\n",
      "Warning: bin edges are not unique\n",
      "最后分组 [1.66354683e+00 4.64824455e+01 8.04803419e+06]\n",
      "8540113\n",
      "原始分组 [1.66354683e+00 1.66354683e+00 1.40598904e+03 7.65240283e+06]\n",
      "Warning: bin edges are not unique\n",
      "最后分组 [1.66354683e+00 3.90126290e+01 7.65240283e+06]\n",
      "8540130\n",
      "原始分组 [1.66354683e+00 1.66354683e+00 1.33129087e+03 6.09043433e+06]\n",
      "Warning: bin edges are not unique\n",
      "最后分组 [1.66354683e+00 3.90126290e+01 6.09043433e+06]\n",
      "8540131\n",
      "原始分组 [1.66354683e+00 1.66354683e+00 1.34623051e+03 5.39071422e+06]\n",
      "Warning: bin edges are not unique\n",
      "最后分组 [1.66354683e+00 3.90126290e+01 5.39071422e+06]\n",
      "8540125\n",
      "原始分组 [1.66354683e+00 1.66354683e+00 1.30888142e+03 7.00431408e+06]\n",
      "Warning: bin edges are not unique\n",
      "最后分组 [1.66354683e+00 3.90126290e+01 7.00431408e+06]\n",
      "8540128\n",
      "原始分组 [1.66354683e+00 1.66354683e+00 1.30141161e+03 6.40423385e+06]\n",
      "Warning: bin edges are not unique\n",
      "最后分组 [1.66354683e+00 3.90126290e+01 6.40423385e+06]\n",
      "8540122\n",
      "原始分组 [1.66354683e+00 1.66354683e+00 1.21177381e+03 5.61504027e+06]\n",
      "Warning: bin edges are not unique\n",
      "最后分组 [1.66354683e+00 3.90126290e+01 5.61504027e+06]\n",
      "9064447\n",
      "原始分组 [1.66354683e+00 1.66354683e+00 1.35370032e+03 6.71382786e+06]\n",
      "Warning: bin edges are not unique\n",
      "最后分组 [1.66354683e+00 3.90126290e+01 6.71382786e+06]\n",
      "9064444\n",
      "原始分组 [1.66354683e+00 1.66354683e+00 1.39104941e+03 6.07046004e+06]\n",
      "Warning: bin edges are not unique\n",
      "最后分组 [1.66354683e+00 4.64824455e+01 6.07046004e+06]\n",
      "9064442\n",
      "原始分组 [1.66354683e+00 1.66354683e+00 1.35370032e+03 9.02763339e+06]\n",
      "Warning: bin edges are not unique\n",
      "最后分组 [1.66354683e+00 3.90126290e+01 9.02763339e+06]\n",
      "9064445\n",
      "原始分组 [1.66354683e+00 1.66354683e+00 1.36117014e+03 8.00352902e+06]\n",
      "Warning: bin edges are not unique\n",
      "最后分组 [1.66354683e+00 3.90126290e+01 8.00352902e+06]\n",
      "9064446\n",
      "原始分组 [1.66354683e+00 1.66354683e+00 1.37610977e+03 8.03159312e+06]\n",
      "Warning: bin edges are not unique\n",
      "最后分组 [1.66354683e+00 4.64824455e+01 8.03159312e+06]\n",
      "9064441\n",
      "原始分组 [1.66354683e+00 1.66354683e+00 1.35370032e+03 7.76282913e+06]\n",
      "Warning: bin edges are not unique\n",
      "最后分组 [1.66354683e+00 3.90126290e+01 7.76282913e+06]\n",
      "9064443\n",
      "原始分组 [1.66354683e+00 1.66354683e+00 1.39851922e+03 7.91886612e+06]\n",
      "Warning: bin edges are not unique\n",
      "最后分组 [1.66354683e+00 3.90126290e+01 7.91886612e+06]\n",
      "9064440\n",
      "原始分组 [1.66354683e+00 1.66354683e+00 1.39104941e+03 7.13349709e+06]\n",
      "Warning: bin edges are not unique\n",
      "最后分组 [1.66354683e+00 3.90126290e+01 7.13349709e+06]\n",
      "9064439\n",
      "原始分组 [1.66354683e+00 1.66354683e+00 1.36117014e+03 6.07315665e+06]\n",
      "Warning: bin edges are not unique\n",
      "最后分组 [1.66354683e+00 3.90126290e+01 6.07315665e+06]\n",
      "9064437\n",
      "原始分组 [1.66354683e+00 1.66354683e+00 1.36863996e+03 6.64615133e+06]\n",
      "Warning: bin edges are not unique\n",
      "最后分组 [1.66354683e+00 4.64824455e+01 6.64615133e+06]\n",
      "9064431\n",
      "原始分组 [1.66354683e+00 1.66354683e+00 1.39104941e+03 5.73835200e+06]\n",
      "Warning: bin edges are not unique\n",
      "最后分组 [1.66354683e+00 4.64824455e+01 5.73835200e+06]\n",
      "9064434\n",
      "原始分组 [1.66354683e+00 1.66354683e+00 1.37610977e+03 6.40444301e+06]\n",
      "Warning: bin edges are not unique\n",
      "最后分组 [1.66354683e+00 3.90126290e+01 6.40444301e+06]\n",
      "9064432\n",
      "原始分组 [1.66354683e+00 1.66354683e+00 1.36117014e+03 7.11399340e+06]\n",
      "Warning: bin edges are not unique\n",
      "最后分组 [1.66354683e+00 4.64824455e+01 7.11399340e+06]\n",
      "9064436\n",
      "原始分组 [1.66354683e+00 1.66354683e+00 1.35370032e+03 7.20841935e+06]\n",
      "Warning: bin edges are not unique\n",
      "最后分组 [1.66354683e+00 3.90126290e+01 7.20841935e+06]\n",
      "9064435\n",
      "原始分组 [1.66354683e+00 1.66354683e+00 1.33876069e+03 5.74373774e+06]\n",
      "Warning: bin edges are not unique\n",
      "最后分组 [1.66354683e+00 3.90126290e+01 5.74373774e+06]\n",
      "9064438\n",
      "原始分组 [1.66354683e+00 1.66354683e+00 1.39104941e+03 5.79242600e+06]\n",
      "Warning: bin edges are not unique\n",
      "最后分组 [1.66354683e+00 4.64824455e+01 5.79242600e+06]\n",
      "9064433\n",
      "原始分组 [1.66354683e+00 1.66354683e+00 1.30888142e+03 5.72055890e+06]\n",
      "Warning: bin edges are not unique\n",
      "最后分组 [1.66354683e+00 3.90126290e+01 5.72055890e+06]\n",
      "9457552\n",
      "原始分组 [1.66354683e+00 1.66354683e+00 1.30888142e+03 6.94476471e+06]\n",
      "Warning: bin edges are not unique\n",
      "最后分组 [1.66354683e+00 3.90126290e+01 6.94476471e+06]\n",
      "9457555\n",
      "原始分组 [1.66354683e+00 1.66354683e+00 1.26406253e+03 6.98306246e+06]\n",
      "Warning: bin edges are not unique\n",
      "最后分组 [1.66354683e+00 3.90126290e+01 6.98306246e+06]\n",
      "9457554\n",
      "原始分组 [1.66354683e+00 1.66354683e+00 1.28647197e+03 6.56934667e+06]\n",
      "Warning: bin edges are not unique\n",
      "最后分组 [1.66354683e+00 3.90126290e+01 6.56934667e+06]\n",
      "9457559\n",
      "原始分组 [1.66354683e+00 1.66354683e+00 1.27900216e+03 6.69005891e+06]\n",
      "Warning: bin edges are not unique\n",
      "最后分组 [1.66354683e+00 3.15428126e+01 6.69005891e+06]\n",
      "9457557\n",
      "原始分组 [1.66354683e+00 1.66354683e+00 1.24912289e+03 7.86308153e+06]\n",
      "Warning: bin edges are not unique\n",
      "最后分组 [1.66354683e+00 3.90126290e+01 7.86308153e+06]\n",
      "9457556\n",
      "原始分组 [1.66354683e+00 1.66354683e+00 1.24912289e+03 9.74455649e+06]\n",
      "Warning: bin edges are not unique\n",
      "最后分组 [1.66354683e+00 3.15428126e+01 9.74455649e+06]\n",
      "9457558\n",
      "原始分组 [1.66354683e+00 1.66354683e+00 1.30888142e+03 7.50833995e+06]\n",
      "Warning: bin edges are not unique\n",
      "最后分组 [1.66354683e+00 3.90126290e+01 7.50833995e+06]\n",
      "9457553\n",
      "原始分组 [1.66354683e+00 1.66354683e+00 1.25659271e+03 6.10872044e+06]\n",
      "Warning: bin edges are not unique\n",
      "最后分组 [1.66354683e+00 3.15428126e+01 6.10872044e+06]\n",
      "9457549\n",
      "原始分组 [1.66354683e+00 1.66354683e+00 1.26406253e+03 5.68182043e+06]\n",
      "Warning: bin edges are not unique\n",
      "最后分组 [1.66354683e+00 3.15428126e+01 5.68182043e+06]\n",
      "9457547\n",
      "原始分组 [1.66354683e+00 1.66354683e+00 1.26406253e+03 6.11363558e+06]\n",
      "Warning: bin edges are not unique\n",
      "最后分组 [1.66354683e+00 3.90126290e+01 6.11363558e+06]\n",
      "9457544\n",
      "原始分组 [1.66354683e+00 1.66354683e+00 1.29394179e+03 7.24498410e+06]\n",
      "Warning: bin edges are not unique\n",
      "最后分组 [1.66354683e+00 3.90126290e+01 7.24498410e+06]\n",
      "9457551\n",
      "原始分组 [1.66354683e+00 1.66354683e+00 1.27153234e+03 7.09190515e+06]\n",
      "Warning: bin edges are not unique\n",
      "最后分组 [1.66354683e+00 3.90126290e+01 7.09190515e+06]\n",
      "9457545\n",
      "原始分组 [1.66354683e+00 1.66354683e+00 1.24912289e+03 7.28951915e+06]\n",
      "Warning: bin edges are not unique\n",
      "最后分组 [1.66354683e+00 3.15428126e+01 7.28951915e+06]\n",
      "9457550\n",
      "原始分组 [1.66354683e+00 1.66354683e+00 1.23418326e+03 6.57790708e+06]\n",
      "Warning: bin edges are not unique\n",
      "最后分组 [1.66354683e+00 3.15428126e+01 6.57790708e+06]\n",
      "9457548\n",
      "原始分组 [1.66354683e+00 1.66354683e+00 1.23418326e+03 6.09665669e+06]\n",
      "Warning: bin edges are not unique\n",
      "最后分组 [1.66354683e+00 3.15428126e+01 6.09665669e+06]\n",
      "9457546\n",
      "原始分组 [1.66354683e+00 1.66354683e+00 1.30141161e+03 5.44605809e+06]\n",
      "Warning: bin edges are not unique\n",
      "最后分组 [1.66354683e+00 3.15428126e+01 5.44605809e+06]\n",
      "10047363\n",
      "原始分组 [1.66354683e+00 1.66354683e+00 1.20430399e+03 7.98900770e+06]\n",
      "Warning: bin edges are not unique\n",
      "最后分组 [1.66354683e+00 3.15428126e+01 7.98900770e+06]\n",
      "10047361\n",
      "原始分组 [1.66354683e+00 1.66354683e+00 1.26406253e+03 6.67217617e+06]\n",
      "Warning: bin edges are not unique\n",
      "最后分组 [1.66354683e+00 3.15428126e+01 6.67217617e+06]\n",
      "10047360\n",
      "原始分组 [1.66354683e+00 1.66354683e+00 1.18189454e+03 7.03429046e+06]\n",
      "Warning: bin edges are not unique\n",
      "最后分组 [1.66354683e+00 3.15428126e+01 7.03429046e+06]\n",
      "10047359\n",
      "原始分组 [1.66354683e+00 1.66354683e+00 1.20430399e+03 7.91758131e+06]\n",
      "Warning: bin edges are not unique\n",
      "最后分组 [1.66354683e+00 3.15428126e+01 7.91758131e+06]\n",
      "10047362\n",
      "原始分组 [1.66354683e+00 1.66354683e+00 1.10719638e+03 5.38059261e+06]\n",
      "Warning: bin edges are not unique\n",
      "最后分组 [1.66354683e+00 2.40729962e+01 5.38059261e+06]\n",
      "Total: 3634992\n"
     ]
    }
   ],
   "source": [
    "import random\n",
    "# 创建一个空的 DataFrame，用于存储抽样后的数据\n",
    "sampled_df = pd.DataFrame()\n",
    "\n",
    "for i in range(0,len(group_id_df)):\n",
    "    temp_groupid= group_id_df.loc[i,\"group_id\"]\n",
    "    print(temp_groupid)\n",
    "    # print(temp_groupid)\n",
    "    temp_downsample_number= group_id_df.loc[i,\"downsample_number\"]\n",
    "    # print(temp_downsample_number)\n",
    "    temp_data= session.sql(f'select * from tbl where groupid=={temp_groupid}').toPandas()\n",
    "    # 将列 'stay_time_s' 等分为 4 个分组\n",
    "    q=3\n",
    "    bin_edges = np.percentile(temp_data['stay_time_s'], np.linspace(0, 100, q+1))\n",
    "    print(\"原始分组\",bin_edges)\n",
    "    if len(np.unique(bin_edges, return_counts=True)[0]) < q+1:\n",
    "        print('Warning: bin edges are not unique')\n",
    "        q=q-1\n",
    "    else:\n",
    "        print('Bin edges are unique')\n",
    "        q=q\n",
    "    bin_edges = np.percentile(temp_data['stay_time_s'], np.linspace(0, 100, q+1))\n",
    "    print(\"最后分组\",bin_edges)\n",
    "    bins = pd.qcut(temp_data['stay_time_s'], q=q, labels=False)\n",
    "    n=round(temp_downsample_number/q)\n",
    "    temp_sampled_data = pd.concat([group.sample(n) for _, group in temp_data.groupby(bins)])\n",
    "    sampled_df = pd.concat([sampled_df, temp_sampled_data])\n",
    "# 输出抽样后的样本数量\n",
    "sampled_df=sampled_df.reset_index()\n",
    "print(f'Total: {len(sampled_df)}')"
   ]
  },
  {
   "cell_type": "code",
   "execution_count": 23,
   "id": "fcf68689",
   "metadata": {},
   "outputs": [],
   "source": [
    "sampled_df.to_csv(\"sampled_df.csv\")"
   ]
  },
  {
   "cell_type": "code",
   "execution_count": 30,
   "id": "d78913cf",
   "metadata": {},
   "outputs": [],
   "source": [
    "# 脱敏数据检查\n",
    "# 拉新渠道实验： [10047362 10047359 10047363 10047361 10047360]\n",
    "# 拉新渠道：对照组：10047359，10047360； 实验组：group1:10047361; group2:10047362;group3:10047363\n",
    "group_mean=[]\n",
    "group_mean.append(np.mean(sampled_df[sampled_df[\"groupid\"]==10047361][\"session_time\"]))\n",
    "group_mean.append(np.mean(sampled_df[sampled_df[\"groupid\"]==10047362][\"session_time\"]))\n",
    "group_mean.append(np.mean(sampled_df[sampled_df[\"groupid\"]==10047363][\"session_time\"]))\n",
    "group_mean.append(np.mean(sampled_df[sampled_df[\"groupid\"]==10047359][\"session_time\"]))\n",
    "group_mean.append(np.mean(sampled_df[sampled_df[\"groupid\"]==10047360][\"session_time\"]))\n",
    "group_std=[]\n",
    "group_std.append(np.std(sampled_df[sampled_df[\"groupid\"]==10047361][\"session_time\"]))\n",
    "group_std.append(np.std(sampled_df[sampled_df[\"groupid\"]==10047362][\"session_time\"]))\n",
    "group_std.append(np.std(sampled_df[sampled_df[\"groupid\"]==10047363][\"session_time\"]))\n",
    "group_std.append(np.std(sampled_df[sampled_df[\"groupid\"]==10047359][\"session_time\"]))\n",
    "group_std.append(np.std(sampled_df[sampled_df[\"groupid\"]==10047360][\"session_time\"]))"
   ]
  },
  {
   "cell_type": "code",
   "execution_count": 31,
   "id": "f3958488",
   "metadata": {},
   "outputs": [
    {
     "data": {
      "text/html": [
       "<div>\n",
       "<style scoped>\n",
       "    .dataframe tbody tr th:only-of-type {\n",
       "        vertical-align: middle;\n",
       "    }\n",
       "\n",
       "    .dataframe tbody tr th {\n",
       "        vertical-align: top;\n",
       "    }\n",
       "\n",
       "    .dataframe thead th {\n",
       "        text-align: right;\n",
       "    }\n",
       "</style>\n",
       "<table border=\"1\" class=\"dataframe\">\n",
       "  <thead>\n",
       "    <tr style=\"text-align: right;\">\n",
       "      <th></th>\n",
       "      <th>group_mean</th>\n",
       "      <th>group_std</th>\n",
       "    </tr>\n",
       "  </thead>\n",
       "  <tbody>\n",
       "    <tr>\n",
       "      <th>0</th>\n",
       "      <td>2830.722793</td>\n",
       "      <td>5954.095574</td>\n",
       "    </tr>\n",
       "    <tr>\n",
       "      <th>1</th>\n",
       "      <td>2839.784803</td>\n",
       "      <td>6198.320219</td>\n",
       "    </tr>\n",
       "    <tr>\n",
       "      <th>2</th>\n",
       "      <td>2857.233274</td>\n",
       "      <td>5998.159136</td>\n",
       "    </tr>\n",
       "    <tr>\n",
       "      <th>3</th>\n",
       "      <td>2818.761916</td>\n",
       "      <td>6097.856038</td>\n",
       "    </tr>\n",
       "    <tr>\n",
       "      <th>4</th>\n",
       "      <td>2859.814589</td>\n",
       "      <td>6121.056328</td>\n",
       "    </tr>\n",
       "  </tbody>\n",
       "</table>\n",
       "</div>"
      ],
      "text/plain": [
       "    group_mean    group_std\n",
       "0  2830.722793  5954.095574\n",
       "1  2839.784803  6198.320219\n",
       "2  2857.233274  5998.159136\n",
       "3  2818.761916  6097.856038\n",
       "4  2859.814589  6121.056328"
      ]
     },
     "execution_count": 31,
     "metadata": {},
     "output_type": "execute_result"
    }
   ],
   "source": [
    "check=pd.DataFrame(dict(\n",
    "    group_mean=group_mean,\n",
    "    group_std=group_std\n",
    "))\n",
    "check"
   ]
  },
  {
   "cell_type": "markdown",
   "id": "33934337",
   "metadata": {},
   "source": [
    "----------------------------------------------------------------------------------------------------------------------------------------------"
   ]
  },
  {
   "cell_type": "markdown",
   "id": "b97daeef",
   "metadata": {},
   "source": [
    "1. down_sample 后的数据--EDA"
   ]
  },
  {
   "cell_type": "code",
   "execution_count": 24,
   "id": "fac28642",
   "metadata": {},
   "outputs": [
    {
     "data": {
      "text/html": [
       "<div>\n",
       "<style scoped>\n",
       "    .dataframe tbody tr th:only-of-type {\n",
       "        vertical-align: middle;\n",
       "    }\n",
       "\n",
       "    .dataframe tbody tr th {\n",
       "        vertical-align: top;\n",
       "    }\n",
       "\n",
       "    .dataframe thead th {\n",
       "        text-align: right;\n",
       "    }\n",
       "</style>\n",
       "<table border=\"1\" class=\"dataframe\">\n",
       "  <thead>\n",
       "    <tr style=\"text-align: right;\">\n",
       "      <th></th>\n",
       "      <th>index</th>\n",
       "      <th>session_time</th>\n",
       "      <th>stay_time_s</th>\n",
       "      <th>rate</th>\n",
       "      <th>feedcnt_f1c1</th>\n",
       "      <th>feedcnt_f2c1</th>\n",
       "      <th>feedcnt_f3c1</th>\n",
       "      <th>feedcnt_f4c1</th>\n",
       "      <th>feedcnt_f5c1</th>\n",
       "      <th>feedcnt_f6c1</th>\n",
       "      <th>...</th>\n",
       "      <th>feedcnt_f5c3</th>\n",
       "      <th>feedcnt_f6c3</th>\n",
       "      <th>feedcnt_f1c4</th>\n",
       "      <th>feedcnt_f2c4</th>\n",
       "      <th>feedcnt_f3c4</th>\n",
       "      <th>feedcnt_f4c4</th>\n",
       "      <th>feedcnt_f5c4</th>\n",
       "      <th>feedcnt_f6c4</th>\n",
       "      <th>groupid</th>\n",
       "      <th>exptid</th>\n",
       "    </tr>\n",
       "  </thead>\n",
       "  <tbody>\n",
       "    <tr>\n",
       "      <th>count</th>\n",
       "      <td>3634995.000</td>\n",
       "      <td>3634995.000</td>\n",
       "      <td>3634995.000</td>\n",
       "      <td>3634995.000</td>\n",
       "      <td>3634995.000</td>\n",
       "      <td>3634995.000</td>\n",
       "      <td>3634995.000</td>\n",
       "      <td>3634995.000</td>\n",
       "      <td>3634995.000</td>\n",
       "      <td>3634995.000</td>\n",
       "      <td>...</td>\n",
       "      <td>3634995.000</td>\n",
       "      <td>3634995.000</td>\n",
       "      <td>3634995.000</td>\n",
       "      <td>3634995.000</td>\n",
       "      <td>3634995.000</td>\n",
       "      <td>3634995.000</td>\n",
       "      <td>3634995.000</td>\n",
       "      <td>3634995.000</td>\n",
       "      <td>3.634995e+06</td>\n",
       "      <td>3634995.000</td>\n",
       "    </tr>\n",
       "    <tr>\n",
       "      <th>mean</th>\n",
       "      <td>120343.032</td>\n",
       "      <td>3012.312</td>\n",
       "      <td>77689.566</td>\n",
       "      <td>5.948</td>\n",
       "      <td>0.000</td>\n",
       "      <td>0.001</td>\n",
       "      <td>0.004</td>\n",
       "      <td>0.006</td>\n",
       "      <td>0.012</td>\n",
       "      <td>0.023</td>\n",
       "      <td>...</td>\n",
       "      <td>0.011</td>\n",
       "      <td>0.003</td>\n",
       "      <td>0.097</td>\n",
       "      <td>0.139</td>\n",
       "      <td>0.196</td>\n",
       "      <td>0.213</td>\n",
       "      <td>0.119</td>\n",
       "      <td>0.027</td>\n",
       "      <td>9.117938e+06</td>\n",
       "      <td>9084827.013</td>\n",
       "    </tr>\n",
       "    <tr>\n",
       "      <th>std</th>\n",
       "      <td>103051.662</td>\n",
       "      <td>7030.670</td>\n",
       "      <td>269921.452</td>\n",
       "      <td>0.103</td>\n",
       "      <td>0.001</td>\n",
       "      <td>0.004</td>\n",
       "      <td>0.018</td>\n",
       "      <td>0.030</td>\n",
       "      <td>0.051</td>\n",
       "      <td>0.107</td>\n",
       "      <td>...</td>\n",
       "      <td>0.045</td>\n",
       "      <td>0.012</td>\n",
       "      <td>0.233</td>\n",
       "      <td>0.205</td>\n",
       "      <td>0.194</td>\n",
       "      <td>0.198</td>\n",
       "      <td>0.151</td>\n",
       "      <td>0.081</td>\n",
       "      <td>4.745986e+05</td>\n",
       "      <td>452100.791</td>\n",
       "    </tr>\n",
       "    <tr>\n",
       "      <th>min</th>\n",
       "      <td>0.000</td>\n",
       "      <td>-142977.999</td>\n",
       "      <td>1.664</td>\n",
       "      <td>5.873</td>\n",
       "      <td>0.000</td>\n",
       "      <td>0.000</td>\n",
       "      <td>0.000</td>\n",
       "      <td>0.000</td>\n",
       "      <td>0.000</td>\n",
       "      <td>0.000</td>\n",
       "      <td>...</td>\n",
       "      <td>0.000</td>\n",
       "      <td>0.000</td>\n",
       "      <td>0.000</td>\n",
       "      <td>0.000</td>\n",
       "      <td>0.000</td>\n",
       "      <td>0.000</td>\n",
       "      <td>0.000</td>\n",
       "      <td>0.000</td>\n",
       "      <td>8.540112e+06</td>\n",
       "      <td>8540098.000</td>\n",
       "    </tr>\n",
       "    <tr>\n",
       "      <th>25%</th>\n",
       "      <td>47370.000</td>\n",
       "      <td>1826.725</td>\n",
       "      <td>1.664</td>\n",
       "      <td>5.889</td>\n",
       "      <td>0.000</td>\n",
       "      <td>0.000</td>\n",
       "      <td>0.000</td>\n",
       "      <td>0.000</td>\n",
       "      <td>0.000</td>\n",
       "      <td>0.000</td>\n",
       "      <td>...</td>\n",
       "      <td>0.000</td>\n",
       "      <td>0.000</td>\n",
       "      <td>0.000</td>\n",
       "      <td>0.000</td>\n",
       "      <td>0.000</td>\n",
       "      <td>0.000</td>\n",
       "      <td>0.000</td>\n",
       "      <td>0.000</td>\n",
       "      <td>8.540127e+06</td>\n",
       "      <td>8540098.000</td>\n",
       "    </tr>\n",
       "    <tr>\n",
       "      <th>50%</th>\n",
       "      <td>98548.000</td>\n",
       "      <td>2212.741</td>\n",
       "      <td>614.188</td>\n",
       "      <td>5.908</td>\n",
       "      <td>0.000</td>\n",
       "      <td>0.000</td>\n",
       "      <td>0.000</td>\n",
       "      <td>0.000</td>\n",
       "      <td>0.000</td>\n",
       "      <td>0.000</td>\n",
       "      <td>...</td>\n",
       "      <td>0.000</td>\n",
       "      <td>0.000</td>\n",
       "      <td>0.040</td>\n",
       "      <td>0.132</td>\n",
       "      <td>0.244</td>\n",
       "      <td>0.256</td>\n",
       "      <td>0.087</td>\n",
       "      <td>0.003</td>\n",
       "      <td>9.064443e+06</td>\n",
       "      <td>8998768.000</td>\n",
       "    </tr>\n",
       "    <tr>\n",
       "      <th>75%</th>\n",
       "      <td>170378.000</td>\n",
       "      <td>2361.549</td>\n",
       "      <td>18101.029</td>\n",
       "      <td>5.969</td>\n",
       "      <td>0.000</td>\n",
       "      <td>0.000</td>\n",
       "      <td>0.000</td>\n",
       "      <td>0.000</td>\n",
       "      <td>0.000</td>\n",
       "      <td>0.000</td>\n",
       "      <td>...</td>\n",
       "      <td>0.000</td>\n",
       "      <td>0.000</td>\n",
       "      <td>0.080</td>\n",
       "      <td>0.183</td>\n",
       "      <td>0.296</td>\n",
       "      <td>0.319</td>\n",
       "      <td>0.180</td>\n",
       "      <td>0.013</td>\n",
       "      <td>9.457554e+06</td>\n",
       "      <td>9457529.000</td>\n",
       "    </tr>\n",
       "    <tr>\n",
       "      <th>max</th>\n",
       "      <td>679828.000</td>\n",
       "      <td>188759.447</td>\n",
       "      <td>9744556.488</td>\n",
       "      <td>6.521</td>\n",
       "      <td>0.004</td>\n",
       "      <td>0.030</td>\n",
       "      <td>0.170</td>\n",
       "      <td>0.294</td>\n",
       "      <td>0.359</td>\n",
       "      <td>0.524</td>\n",
       "      <td>...</td>\n",
       "      <td>0.379</td>\n",
       "      <td>0.059</td>\n",
       "      <td>0.994</td>\n",
       "      <td>0.955</td>\n",
       "      <td>0.836</td>\n",
       "      <td>0.781</td>\n",
       "      <td>0.661</td>\n",
       "      <td>0.401</td>\n",
       "      <td>1.004736e+07</td>\n",
       "      <td>9916162.000</td>\n",
       "    </tr>\n",
       "  </tbody>\n",
       "</table>\n",
       "<p>8 rows × 30 columns</p>\n",
       "</div>"
      ],
      "text/plain": [
       "             index  session_time  stay_time_s         rate  feedcnt_f1c1  \\\n",
       "count  3634995.000   3634995.000  3634995.000  3634995.000   3634995.000   \n",
       "mean    120343.032      3012.312    77689.566        5.948         0.000   \n",
       "std     103051.662      7030.670   269921.452        0.103         0.001   \n",
       "min          0.000   -142977.999        1.664        5.873         0.000   \n",
       "25%      47370.000      1826.725        1.664        5.889         0.000   \n",
       "50%      98548.000      2212.741      614.188        5.908         0.000   \n",
       "75%     170378.000      2361.549    18101.029        5.969         0.000   \n",
       "max     679828.000    188759.447  9744556.488        6.521         0.004   \n",
       "\n",
       "       feedcnt_f2c1  feedcnt_f3c1  feedcnt_f4c1  feedcnt_f5c1  feedcnt_f6c1  \\\n",
       "count   3634995.000   3634995.000   3634995.000   3634995.000   3634995.000   \n",
       "mean          0.001         0.004         0.006         0.012         0.023   \n",
       "std           0.004         0.018         0.030         0.051         0.107   \n",
       "min           0.000         0.000         0.000         0.000         0.000   \n",
       "25%           0.000         0.000         0.000         0.000         0.000   \n",
       "50%           0.000         0.000         0.000         0.000         0.000   \n",
       "75%           0.000         0.000         0.000         0.000         0.000   \n",
       "max           0.030         0.170         0.294         0.359         0.524   \n",
       "\n",
       "       ...  feedcnt_f5c3  feedcnt_f6c3  feedcnt_f1c4  feedcnt_f2c4  \\\n",
       "count  ...   3634995.000   3634995.000   3634995.000   3634995.000   \n",
       "mean   ...         0.011         0.003         0.097         0.139   \n",
       "std    ...         0.045         0.012         0.233         0.205   \n",
       "min    ...         0.000         0.000         0.000         0.000   \n",
       "25%    ...         0.000         0.000         0.000         0.000   \n",
       "50%    ...         0.000         0.000         0.040         0.132   \n",
       "75%    ...         0.000         0.000         0.080         0.183   \n",
       "max    ...         0.379         0.059         0.994         0.955   \n",
       "\n",
       "       feedcnt_f3c4  feedcnt_f4c4  feedcnt_f5c4  feedcnt_f6c4       groupid  \\\n",
       "count   3634995.000   3634995.000   3634995.000   3634995.000  3.634995e+06   \n",
       "mean          0.196         0.213         0.119         0.027  9.117938e+06   \n",
       "std           0.194         0.198         0.151         0.081  4.745986e+05   \n",
       "min           0.000         0.000         0.000         0.000  8.540112e+06   \n",
       "25%           0.000         0.000         0.000         0.000  8.540127e+06   \n",
       "50%           0.244         0.256         0.087         0.003  9.064443e+06   \n",
       "75%           0.296         0.319         0.180         0.013  9.457554e+06   \n",
       "max           0.836         0.781         0.661         0.401  1.004736e+07   \n",
       "\n",
       "            exptid  \n",
       "count  3634995.000  \n",
       "mean   9084827.013  \n",
       "std     452100.791  \n",
       "min    8540098.000  \n",
       "25%    8540098.000  \n",
       "50%    8998768.000  \n",
       "75%    9457529.000  \n",
       "max    9916162.000  \n",
       "\n",
       "[8 rows x 30 columns]"
      ]
     },
     "execution_count": 24,
     "metadata": {},
     "output_type": "execute_result"
    }
   ],
   "source": [
    "round(sampled_df.describe(),3)"
   ]
  },
  {
   "cell_type": "code",
   "execution_count": 25,
   "id": "d90f551e",
   "metadata": {},
   "outputs": [],
   "source": [
    "# check f1c1+ f1c2.... f6c4 = 1?\n",
    "sampled_df[\"sum\"]= sampled_df[\"feedcnt_f1c1\"] + sampled_df[\"feedcnt_f1c2\"] + sampled_df[\"feedcnt_f1c3\"] + sampled_df[\"feedcnt_f1c4\"] + sampled_df[\"feedcnt_f2c1\"] + sampled_df[\"feedcnt_f2c2\"] + sampled_df[\"feedcnt_f2c3\"] + sampled_df[\"feedcnt_f2c4\"] +sampled_df[\"feedcnt_f3c1\"] + sampled_df[\"feedcnt_f3c2\"] + sampled_df[\"feedcnt_f3c3\"] + sampled_df[\"feedcnt_f3c4\"] +sampled_df[\"feedcnt_f4c1\"] + sampled_df[\"feedcnt_f4c2\"] + sampled_df[\"feedcnt_f4c3\"] + sampled_df[\"feedcnt_f4c4\"] +sampled_df[\"feedcnt_f5c1\"] + sampled_df[\"feedcnt_f5c2\"] + sampled_df[\"feedcnt_f5c3\"] + sampled_df[\"feedcnt_f5c4\"] +sampled_df[\"feedcnt_f6c1\"] + sampled_df[\"feedcnt_f6c2\"] + sampled_df[\"feedcnt_f6c3\"] + sampled_df[\"feedcnt_f6c4\"]"
   ]
  },
  {
   "cell_type": "code",
   "execution_count": 26,
   "id": "4171f725",
   "metadata": {},
   "outputs": [
    {
     "data": {
      "text/plain": [
       "array([1., 0., 1., 1., 1.])"
      ]
     },
     "execution_count": 26,
     "metadata": {},
     "output_type": "execute_result"
    }
   ],
   "source": [
    "sampled_df[\"sum\"].unique()"
   ]
  },
  {
   "cell_type": "markdown",
   "id": "17d77514",
   "metadata": {},
   "source": [
    "结论： 脱敏后的 f1c1+ ...f6c4= 0或者1,合理"
   ]
  },
  {
   "cell_type": "markdown",
   "id": "1575ac35",
   "metadata": {},
   "source": [
    "# 3. 建模数据处理"
   ]
  },
  {
   "cell_type": "markdown",
   "id": "7ce92b68",
   "metadata": {},
   "source": [
    "1. 创建变量"
   ]
  },
  {
   "cell_type": "code",
   "execution_count": 27,
   "id": "9f1ef8d8",
   "metadata": {},
   "outputs": [],
   "source": [
    "new_df= sampled_df"
   ]
  },
  {
   "cell_type": "code",
   "execution_count": 28,
   "id": "44ed175c",
   "metadata": {},
   "outputs": [],
   "source": [
    "# 创建变量rate_f1c1,...rate_f6c4\n",
    "new_df[\"rate_f1c1\"]= new_df[\"feedcnt_f1c1\"]* new_df[\"rate\"]\n",
    "new_df[\"rate_f1c2\"]= new_df[\"feedcnt_f1c2\"]* new_df[\"rate\"]\n",
    "new_df[\"rate_f1c3\"]= new_df[\"feedcnt_f1c3\"]* new_df[\"rate\"]\n",
    "new_df[\"rate_f1c4\"]= new_df[\"feedcnt_f1c4\"]* new_df[\"rate\"]\n",
    "new_df[\"rate_f2c1\"]= new_df[\"feedcnt_f2c1\"]* new_df[\"rate\"]\n",
    "new_df[\"rate_f2c2\"]= new_df[\"feedcnt_f2c2\"]* new_df[\"rate\"]\n",
    "new_df[\"rate_f2c3\"]= new_df[\"feedcnt_f2c3\"]* new_df[\"rate\"]\n",
    "new_df[\"rate_f2c4\"]= new_df[\"feedcnt_f2c4\"]* new_df[\"rate\"]\n",
    "new_df[\"rate_f3c1\"]= new_df[\"feedcnt_f3c1\"]* new_df[\"rate\"]\n",
    "new_df[\"rate_f3c2\"]= new_df[\"feedcnt_f3c2\"]* new_df[\"rate\"]\n",
    "new_df[\"rate_f3c3\"]= new_df[\"feedcnt_f3c3\"]* new_df[\"rate\"]\n",
    "new_df[\"rate_f3c4\"]= new_df[\"feedcnt_f3c4\"]* new_df[\"rate\"]\n",
    "new_df[\"rate_f4c1\"]= new_df[\"feedcnt_f4c1\"]* new_df[\"rate\"]\n",
    "new_df[\"rate_f4c2\"]= new_df[\"feedcnt_f4c2\"]* new_df[\"rate\"]\n",
    "new_df[\"rate_f4c3\"]= new_df[\"feedcnt_f4c3\"]* new_df[\"rate\"]\n",
    "new_df[\"rate_f4c4\"]= new_df[\"feedcnt_f4c4\"]* new_df[\"rate\"]\n",
    "new_df[\"rate_f5c1\"]= new_df[\"feedcnt_f5c1\"]* new_df[\"rate\"]\n",
    "new_df[\"rate_f5c2\"]= new_df[\"feedcnt_f5c2\"]* new_df[\"rate\"]\n",
    "new_df[\"rate_f5c3\"]= new_df[\"feedcnt_f5c3\"]* new_df[\"rate\"]\n",
    "new_df[\"rate_f5c4\"]= new_df[\"feedcnt_f5c4\"]* new_df[\"rate\"]\n",
    "new_df[\"rate_f6c1\"]= new_df[\"feedcnt_f6c1\"]* new_df[\"rate\"]\n",
    "new_df[\"rate_f6c2\"]= new_df[\"feedcnt_f6c2\"]* new_df[\"rate\"]\n",
    "new_df[\"rate_f6c3\"]= new_df[\"feedcnt_f6c3\"]* new_df[\"rate\"]\n",
    "new_df[\"rate_f6c4\"]= new_df[\"feedcnt_f6c4\"]* new_df[\"rate\"]\n",
    "# 创建变量 rate_f1,...rate_f6\n",
    "new_df[\"rate_f1\"]= (new_df[\"feedcnt_f1c1\"]+ new_df[\"feedcnt_f1c2\"]+new_df[\"feedcnt_f1c3\"]+new_df[\"feedcnt_f1c4\"])*new_df[\"rate\"]\n",
    "new_df[\"rate_f2\"]= (new_df[\"feedcnt_f2c1\"]+ new_df[\"feedcnt_f2c2\"]+new_df[\"feedcnt_f2c3\"]+new_df[\"feedcnt_f2c4\"])*new_df[\"rate\"]\n",
    "new_df[\"rate_f3\"]= (new_df[\"feedcnt_f3c1\"]+ new_df[\"feedcnt_f3c2\"]+new_df[\"feedcnt_f3c3\"]+new_df[\"feedcnt_f3c4\"])*new_df[\"rate\"]\n",
    "new_df[\"rate_f4\"]= (new_df[\"feedcnt_f4c1\"]+ new_df[\"feedcnt_f4c2\"]+new_df[\"feedcnt_f4c3\"]+new_df[\"feedcnt_f4c4\"])*new_df[\"rate\"]\n",
    "new_df[\"rate_f5\"]= (new_df[\"feedcnt_f5c1\"]+ new_df[\"feedcnt_f5c2\"]+new_df[\"feedcnt_f5c3\"]+new_df[\"feedcnt_f5c4\"])*new_df[\"rate\"]\n",
    "new_df[\"rate_f6\"]= (new_df[\"feedcnt_f6c1\"]+ new_df[\"feedcnt_f6c2\"]+new_df[\"feedcnt_f6c3\"]+new_df[\"feedcnt_f6c4\"])*new_df[\"rate\"]\n",
    "# 创建变量：rate_c1,c2,c3,rate_c4\n",
    "new_df[\"rate_c1\"]= (new_df[\"feedcnt_f1c1\"]+ new_df[\"feedcnt_f2c1\"]+new_df[\"feedcnt_f3c1\"]+new_df[\"feedcnt_f4c1\"]+ new_df[\"feedcnt_f5c1\"]+new_df[\"feedcnt_f6c1\"])*new_df[\"rate\"]\n",
    "new_df[\"rate_c2\"]= (new_df[\"feedcnt_f1c2\"]+ new_df[\"feedcnt_f2c2\"]+new_df[\"feedcnt_f3c2\"]+new_df[\"feedcnt_f4c2\"]+ new_df[\"feedcnt_f5c2\"]+new_df[\"feedcnt_f6c2\"])*new_df[\"rate\"]\n",
    "new_df[\"rate_c3\"]= (new_df[\"feedcnt_f1c3\"]+ new_df[\"feedcnt_f2c3\"]+new_df[\"feedcnt_f3c3\"]+new_df[\"feedcnt_f4c3\"]+ new_df[\"feedcnt_f5c3\"]+new_df[\"feedcnt_f6c3\"])*new_df[\"rate\"]\n",
    "new_df[\"rate_c4\"]= (new_df[\"feedcnt_f1c4\"]+ new_df[\"feedcnt_f2c4\"]+new_df[\"feedcnt_f3c4\"]+new_df[\"feedcnt_f4c4\"]+ new_df[\"feedcnt_f5c4\"]+new_df[\"feedcnt_f6c4\"])*new_df[\"rate\"]"
   ]
  },
  {
   "cell_type": "code",
   "execution_count": 29,
   "id": "3a9d495a",
   "metadata": {},
   "outputs": [],
   "source": [
    "# save new_df\n",
    "new_df.to_csv(\"new_df.csv\")"
   ]
  },
  {
   "cell_type": "markdown",
   "id": "4243617e",
   "metadata": {},
   "source": [
    "----------------------------------------------------------------------------------------------------------------------------------------------"
   ]
  },
  {
   "cell_type": "markdown",
   "id": "a35c1091",
   "metadata": {},
   "source": [
    "清空内存"
   ]
  },
  {
   "cell_type": "code",
   "execution_count": 30,
   "id": "ccecb684",
   "metadata": {},
   "outputs": [
    {
     "data": {
      "text/plain": [
       "70"
      ]
     },
     "execution_count": 30,
     "metadata": {},
     "output_type": "execute_result"
    }
   ],
   "source": [
    "# 清除所有变量\n",
    "import gc\n",
    "gc.collect()"
   ]
  },
  {
   "cell_type": "code",
   "execution_count": 31,
   "id": "d4ca11a9",
   "metadata": {},
   "outputs": [],
   "source": [
    "# 读取new_df\n",
    "new_df=pd.read_csv(\"new_df.csv\")"
   ]
  },
  {
   "cell_type": "markdown",
   "id": "0182fdaa",
   "metadata": {},
   "source": [
    "----------------------------------------------------------------------------------------------------------------------------------------------"
   ]
  },
  {
   "cell_type": "markdown",
   "id": "94df2b99",
   "metadata": {},
   "source": [
    "2. 划分training set和 test set"
   ]
  },
  {
   "cell_type": "code",
   "execution_count": 17,
   "id": "89e87fe1",
   "metadata": {},
   "outputs": [
    {
     "name": "stdout",
     "output_type": "stream",
     "text": [
      "train_df长度 3263645\n",
      "test_df长度 371348\n"
     ]
    }
   ],
   "source": [
    "# 划分测试集和训练集\n",
    "train_df= new_df[(new_df[\"exptid\"]==8540098)| (new_df[\"exptid\"]==8998768) | (new_df[\"exptid\"]==9457529)]\n",
    "print(\"train_df长度\",len(train_df))\n",
    "test_df= new_df[new_df[\"exptid\"]==9916162]\n",
    "print(\"test_df长度\",len(test_df))"
   ]
  },
  {
   "cell_type": "code",
   "execution_count": 18,
   "id": "33cf3ba7",
   "metadata": {},
   "outputs": [
    {
     "name": "stdout",
     "output_type": "stream",
     "text": [
      "test_df_group1长度 45317\n",
      "test_df_group2长度 9065\n",
      "test_df_group3长度 226609\n"
     ]
    }
   ],
   "source": [
    "# 拉新渠道实验： [10047362 10047359 10047363 10047361 10047360]\n",
    "# 拉新渠道，控制组：10047359,10047360\n",
    "# 拉新渠道，实验组：10047361,10047362,10047363\n",
    "test_df_group1= new_df[new_df[\"groupid\"]==10047361]\n",
    "print(\"test_df_group1长度\",len(test_df_group1))\n",
    "test_df_group2= new_df[new_df[\"groupid\"]==10047362]\n",
    "print(\"test_df_group2长度\",len(test_df_group2))\n",
    "test_df_group3= new_df[new_df[\"groupid\"]==10047363]\n",
    "print(\"test_df_group3长度\",len(test_df_group3))\n",
    "test_df_control=new_df[(new_df[\"groupid\"]==10047359)|(new_df[\"groupid\"]==10047360)]"
   ]
  },
  {
   "cell_type": "code",
   "execution_count": 19,
   "id": "4ddd65a0",
   "metadata": {},
   "outputs": [
    {
     "name": "stdout",
     "output_type": "stream",
     "text": [
      "group_1_ATE: -38.12799429821189\n",
      "group_2_ATE: -94.31571706412524\n",
      "group_3_ATE: 24.1720703290689\n"
     ]
    }
   ],
   "source": [
    "real_ATE=[]\n",
    "group_1_ATE= np.mean(test_df_group1[\"session_time\"])- np.mean(test_df_control[\"session_time\"])\n",
    "group_2_ATE= np.mean(test_df_group2[\"session_time\"])- np.mean(test_df_control[\"session_time\"])\n",
    "group_3_ATE= np.mean(test_df_group3[\"session_time\"])- np.mean(test_df_control[\"session_time\"])\n",
    "real_ATE.append(group_1_ATE)\n",
    "real_ATE.append(group_2_ATE)\n",
    "real_ATE.append(group_3_ATE)\n",
    "print(\"group_1_ATE:\",group_1_ATE)\n",
    "print(\"group_2_ATE:\",group_2_ATE)\n",
    "print(\"group_3_ATE:\",group_3_ATE)"
   ]
  },
  {
   "cell_type": "markdown",
   "id": "23a1fa4c",
   "metadata": {},
   "source": [
    "# 4. Regression Models"
   ]
  },
  {
   "cell_type": "markdown",
   "id": "60be742c",
   "metadata": {},
   "source": [
    "## Model_1：baseline model(不考虑control variable)"
   ]
  },
  {
   "cell_type": "code",
   "execution_count": 19,
   "id": "6a40a4e6",
   "metadata": {},
   "outputs": [
    {
     "name": "stdout",
     "output_type": "stream",
     "text": [
      "                            OLS Regression Results                            \n",
      "==============================================================================\n",
      "Dep. Variable:           session_time   R-squared:                       0.003\n",
      "Model:                            OLS   Adj. R-squared:                  0.003\n",
      "Method:                 Least Squares   F-statistic:                     563.1\n",
      "Date:                Thu, 30 Mar 2023   Prob (F-statistic):               0.00\n",
      "Time:                        14:37:55   Log-Likelihood:            -3.3100e+07\n",
      "No. Observations:             3263645   AIC:                         6.620e+07\n",
      "Df Residuals:                 3263629   BIC:                         6.620e+07\n",
      "Df Model:                          15                                         \n",
      "Covariance Type:            nonrobust                                         \n",
      "==============================================================================\n",
      "                 coef    std err          t      P>|t|      [0.025      0.975]\n",
      "------------------------------------------------------------------------------\n",
      "Intercept   2813.4772     11.885    236.717      0.000    2790.182    2836.772\n",
      "rate_f1c1  -7.135e+11   3.38e+12     -0.211      0.833   -7.34e+12    5.91e+12\n",
      "rate_f1c2   3.215e+12   4.36e+12      0.738      0.461   -5.32e+12    1.18e+13\n",
      "rate_f1c3   -1.61e+13   1.58e+13     -1.019      0.308   -4.71e+13    1.49e+13\n",
      "rate_f1c4    100.1340     45.878      2.183      0.029      10.215     190.053\n",
      "rate_f2c1  -3.426e+13   4.55e+13     -0.753      0.451   -1.23e+14    5.49e+13\n",
      "rate_f2c2  -1.986e+13   2.37e+13     -0.838      0.402   -6.63e+13    2.66e+13\n",
      "rate_f2c3   2.254e+14   2.18e+14      1.033      0.302   -2.02e+14    6.53e+14\n",
      "rate_f2c4      0.8336     27.521      0.030      0.976     -53.107      54.774\n",
      "rate_f3c1    1.38e+14   1.59e+14      0.866      0.387   -1.74e+14     4.5e+14\n",
      "rate_f3c2  -5.468e+13    7.5e+13     -0.729      0.466   -2.02e+14    9.23e+13\n",
      "rate_f3c3  -2.239e+14   5.62e+14     -0.398      0.690   -1.33e+15    8.78e+14\n",
      "rate_f3c4     38.3969     17.405      2.206      0.027       4.283      72.510\n",
      "rate_f4c1   2.841e+14   3.11e+14      0.914      0.361   -3.25e+14    8.93e+14\n",
      "rate_f4c2  -2.264e+14   2.27e+14     -0.998      0.318   -6.71e+14    2.18e+14\n",
      "rate_f4c3  -1.849e+14   5.87e+14     -0.315      0.753   -1.34e+15    9.65e+14\n",
      "rate_f4c4     48.5474     12.854      3.777      0.000      23.355      73.740\n",
      "rate_f5c1  -3.358e+14   3.28e+14     -1.025      0.305   -9.78e+14    3.06e+14\n",
      "rate_f5c2       8e+14   7.66e+14      1.044      0.296   -7.01e+14     2.3e+15\n",
      "rate_f5c3   3.323e+14   5.18e+14      0.642      0.521   -6.82e+14    1.35e+15\n",
      "rate_f5c4     29.7746     14.542      2.048      0.041       1.273      58.276\n",
      "rate_f6c1   9.998e+13   9.43e+13      1.060      0.289   -8.49e+13    2.85e+14\n",
      "rate_f6c2  -1.181e+14   1.13e+14     -1.047      0.295   -3.39e+14    1.03e+14\n",
      "rate_f6c3  -8.541e+14   8.06e+14     -1.059      0.289   -2.43e+15    7.26e+14\n",
      "rate_f6c4     23.1172     51.088      0.452      0.651     -77.014     123.248\n",
      "==============================================================================\n",
      "Omnibus:                  2916740.381   Durbin-Watson:                   1.999\n",
      "Prob(Omnibus):                  0.000   Jarque-Bera (JB):        564754334.731\n",
      "Skew:                           3.668   Prob(JB):                         0.00\n",
      "Kurtosis:                      67.025   Cond. No.                     6.38e+17\n",
      "==============================================================================\n",
      "\n",
      "Notes:\n",
      "[1] Standard Errors assume that the covariance matrix of the errors is correctly specified.\n",
      "[2] The smallest eigenvalue is 5.38e-29. This might indicate that there are\n",
      "strong multicollinearity problems or that the design matrix is singular.\n"
     ]
    }
   ],
   "source": [
    "import statsmodels.formula.api as smf\n",
    "\n",
    "#Model 1: 不加控制变量，24个组\n",
    "# 选择特征\n",
    "features = ['rate_f1c1', 'rate_f1c2', 'rate_f1c3', 'rate_f1c4','rate_f2c1', 'rate_f2c2', 'rate_f2c3', 'rate_f2c4','rate_f3c1', 'rate_f3c2', 'rate_f3c3', 'rate_f3c4','rate_f4c1', 'rate_f4c2', 'rate_f4c3', 'rate_f4c4','rate_f5c1', 'rate_f5c2', 'rate_f5c3', 'rate_f5c4','rate_f6c1', 'rate_f6c2', 'rate_f6c3', 'rate_f6c4']\n",
    "\n",
    "# 选择目标\n",
    "target = 'session_time'\n",
    "\n",
    "# 指定线性回归模型公式\n",
    "formula = \"session_time ~ rate_f1c1 + rate_f1c2 + rate_f1c3 + rate_f1c4 + rate_f2c1 + rate_f2c2+ rate_f2c3+ rate_f2c4 + rate_f3c1 + rate_f3c2 + rate_f3c3 + rate_f3c4 + rate_f4c1 + rate_f4c2 + rate_f4c3 + rate_f4c4 + rate_f5c1 + rate_f5c2 + rate_f5c3 + rate_f5c4 + rate_f6c1 + rate_f6c2 + rate_f6c3 + rate_f6c4\"\n",
    "\n",
    "# 在训练集上拟合线性回归模型\n",
    "model_1 = smf.ols(formula=formula, data=train_df).fit()\n",
    "\n",
    "# results\n",
    "print(model_1.summary())\n",
    "\n",
    "# 在测试集上进行预测\n",
    "model_1_y_hat_group1 = model_1.predict(test_df_group1[features])\n",
    "model_1_y_hat_group2 = model_1.predict(test_df_group2[features])\n",
    "model_1_y_hat_group3 = model_1.predict(test_df_group3[features])"
   ]
  },
  {
   "cell_type": "code",
   "execution_count": 20,
   "id": "151e1225",
   "metadata": {},
   "outputs": [
    {
     "name": "stdout",
     "output_type": "stream",
     "text": [
      "model_1_R2: [0.0025812858542036965, -8.630613542881346e+20, -2.49370268321993e+18, -1.5120910911128312e+18]\n"
     ]
    }
   ],
   "source": [
    "# 个体level\n",
    "Model_1_R2=[]\n",
    "Model_1_R2.append(r2_score(train_df[target],model_1.predict(train_df[features])))\n",
    "Model_1_R2.append(r2_score(test_df_group1[target],model_1.predict(test_df_group1[features])))\n",
    "Model_1_R2.append(r2_score(test_df_group2[target],model_1.predict(test_df_group2[features])))\n",
    "Model_1_R2.append(r2_score(test_df_group3[target],model_1.predict(test_df_group3[features])))\n",
    "\n",
    "print(\"model_1_R2:\",Model_1_R2)"
   ]
  },
  {
   "cell_type": "code",
   "execution_count": 21,
   "id": "66cfef78",
   "metadata": {},
   "outputs": [
    {
     "name": "stdout",
     "output_type": "stream",
     "text": [
      "model_1_ATE: [177912063496046.28, 8695137310727.869, -7430651547262.69]\n"
     ]
    }
   ],
   "source": [
    "model_1_ATE=[]\n",
    "model_1_group_1_ATE= np.mean(model_1_y_hat_group1)- np.mean(test_df_control[\"session_time\"])\n",
    "model_1_group_2_ATE= np.mean(model_1_y_hat_group2)- np.mean(test_df_control[\"session_time\"])\n",
    "model_1_group_3_ATE= np.mean(model_1_y_hat_group3)- np.mean(test_df_control[\"session_time\"])\n",
    "model_1_ATE.append(model_1_group_1_ATE)\n",
    "model_1_ATE.append(model_1_group_2_ATE)\n",
    "model_1_ATE.append(model_1_group_3_ATE)\n",
    "print(\"model_1_ATE:\",model_1_ATE)"
   ]
  },
  {
   "cell_type": "markdown",
   "id": "0bd2d9cd",
   "metadata": {},
   "source": [
    "# Model_1.1: f1c4+ f2c4 + f3c4 + f4c4 +f5c4 + f6c4"
   ]
  },
  {
   "cell_type": "code",
   "execution_count": 15,
   "id": "dd358972",
   "metadata": {},
   "outputs": [
    {
     "name": "stdout",
     "output_type": "stream",
     "text": [
      "                            OLS Regression Results                            \n",
      "==============================================================================\n",
      "Dep. Variable:           session_time   R-squared:                       0.001\n",
      "Model:                            OLS   Adj. R-squared:                  0.001\n",
      "Method:                 Least Squares   F-statistic:                     365.8\n",
      "Date:                Thu, 30 Mar 2023   Prob (F-statistic):               0.00\n",
      "Time:                        13:46:42   Log-Likelihood:            -3.3103e+07\n",
      "No. Observations:             3263645   AIC:                         6.621e+07\n",
      "Df Residuals:                 3263638   BIC:                         6.621e+07\n",
      "Df Model:                           6                                         \n",
      "Covariance Type:            nonrobust                                         \n",
      "==============================================================================\n",
      "                 coef    std err          t      P>|t|      [0.025      0.975]\n",
      "------------------------------------------------------------------------------\n",
      "Intercept   2705.6305      9.686    279.337      0.000    2686.647    2724.615\n",
      "rate_f1c4    -42.8055      2.690    -15.915      0.000     -48.077     -37.534\n",
      "rate_f2c4    -13.0510      2.838     -4.598      0.000     -18.614      -7.488\n",
      "rate_f3c4     43.7209      3.061     14.285      0.000      37.722      49.719\n",
      "rate_f4c4     67.8901      2.992     22.693      0.000      62.026      73.754\n",
      "rate_f5c4     18.3945      3.870      4.753      0.000      10.810      25.979\n",
      "rate_f6c4   -111.1569      7.481    -14.859      0.000    -125.819     -96.495\n",
      "==============================================================================\n",
      "Omnibus:                  2922017.978   Durbin-Watson:                   1.995\n",
      "Prob(Omnibus):                  0.000   Jarque-Bera (JB):        563316627.481\n",
      "Skew:                           3.682   Prob(JB):                         0.00\n",
      "Kurtosis:                      66.940   Cond. No.                         8.66\n",
      "==============================================================================\n",
      "\n",
      "Notes:\n",
      "[1] Standard Errors assume that the covariance matrix of the errors is correctly specified.\n"
     ]
    }
   ],
   "source": [
    "import statsmodels.formula.api as smf\n",
    "\n",
    "#Model 1: 不加控制变量，24个组\n",
    "# 选择特征\n",
    "features = ['rate_f1c1', 'rate_f1c2', 'rate_f1c3', 'rate_f1c4','rate_f2c1', 'rate_f2c2', 'rate_f2c3', 'rate_f2c4','rate_f3c1', 'rate_f3c2', 'rate_f3c3', 'rate_f3c4','rate_f4c1', 'rate_f4c2', 'rate_f4c3', 'rate_f4c4','rate_f5c1', 'rate_f5c2', 'rate_f5c3', 'rate_f5c4','rate_f6c1', 'rate_f6c2', 'rate_f6c3', 'rate_f6c4']\n",
    "\n",
    "# 选择目标\n",
    "target = 'session_time'\n",
    "\n",
    "# 指定线性回归模型公式\n",
    "formula = \"session_time ~ rate_f1c4 + rate_f2c4 + rate_f3c4 + rate_f4c4 + rate_f5c4 + rate_f6c4\"\n",
    "\n",
    "# 在训练集上拟合线性回归模型\n",
    "model_1_1 = smf.ols(formula=formula, data=train_df).fit()\n",
    "\n",
    "# results\n",
    "print(model_1_1.summary())\n",
    "\n",
    "# 在测试集上进行预测\n",
    "model_1_1_y_hat_group1 = model_1_1.predict(test_df_group1[features])\n",
    "model_1_1_y_hat_group2 = model_1_1.predict(test_df_group2[features])\n",
    "model_1_1_y_hat_group3 = model_1_1.predict(test_df_group3[features])"
   ]
  },
  {
   "cell_type": "code",
   "execution_count": 16,
   "id": "74574c2e",
   "metadata": {},
   "outputs": [
    {
     "name": "stdout",
     "output_type": "stream",
     "text": [
      "model_1_1_R2: [0.0006719859877284406, -4.9764179981259815e-06, -0.0016249784138742118, -4.4121606723734885e-07]\n"
     ]
    }
   ],
   "source": [
    "# 个体level\n",
    "Model_1_1_R2=[]\n",
    "Model_1_1_R2.append(r2_score(train_df[target],model_1_1.predict(train_df[features])))\n",
    "Model_1_1_R2.append(r2_score(test_df_group1[target],model_1_1.predict(test_df_group1[features])))\n",
    "Model_1_1_R2.append(r2_score(test_df_group2[target],model_1_1.predict(test_df_group2[features])))\n",
    "Model_1_1_R2.append(r2_score(test_df_group3[target],model_1_1.predict(test_df_group3[features])))\n",
    "\n",
    "print(\"model_1_1_R2:\",Model_1_1_R2)\n"
   ]
  },
  {
   "cell_type": "code",
   "execution_count": 18,
   "id": "1d46a16d",
   "metadata": {},
   "outputs": [
    {
     "name": "stdout",
     "output_type": "stream",
     "text": [
      "model_1_1_ATE: [-51.63760976793401, 127.6459134470133, 28.185942878050355]\n"
     ]
    }
   ],
   "source": [
    "model_1_1_ATE=[]\n",
    "model_1_1_group_1_ATE= np.mean(model_1_1_y_hat_group1)- np.mean(test_df_control[\"session_time\"])\n",
    "model_1_1_group_2_ATE= np.mean(model_1_1_y_hat_group2)- np.mean(test_df_control[\"session_time\"])\n",
    "model_1_1_group_3_ATE= np.mean(model_1_1_y_hat_group3)- np.mean(test_df_control[\"session_time\"])\n",
    "model_1_1_ATE.append(model_1_1_group_1_ATE)\n",
    "model_1_1_ATE.append(model_1_1_group_2_ATE)\n",
    "model_1_1_ATE.append(model_1_1_group_3_ATE)\n",
    "print(\"model_1_1_ATE:\",model_1_1_ATE)"
   ]
  },
  {
   "cell_type": "markdown",
   "id": "a4f33456",
   "metadata": {},
   "source": [
    "## Model_2: 加入控制变量"
   ]
  },
  {
   "cell_type": "code",
   "execution_count": 22,
   "id": "abbbb66d",
   "metadata": {},
   "outputs": [
    {
     "name": "stdout",
     "output_type": "stream",
     "text": [
      "                            OLS Regression Results                            \n",
      "==============================================================================\n",
      "Dep. Variable:           session_time   R-squared:                       0.084\n",
      "Model:                            OLS   Adj. R-squared:                  0.084\n",
      "Method:                 Least Squares   F-statistic:                 1.873e+04\n",
      "Date:                Thu, 30 Mar 2023   Prob (F-statistic):               0.00\n",
      "Time:                        14:38:17   Log-Likelihood:            -3.2961e+07\n",
      "No. Observations:             3263645   AIC:                         6.592e+07\n",
      "Df Residuals:                 3263628   BIC:                         6.592e+07\n",
      "Df Model:                          16                                         \n",
      "Covariance Type:            nonrobust                                         \n",
      "===============================================================================\n",
      "                  coef    std err          t      P>|t|      [0.025      0.975]\n",
      "-------------------------------------------------------------------------------\n",
      "Intercept    2378.4360     11.385    208.908      0.000    2356.122    2400.750\n",
      "stay_time_s     0.0074   1.38e-05    538.929      0.000       0.007       0.007\n",
      "rate_f1c1   -2.681e+04   6267.203     -4.278      0.000   -3.91e+04   -1.45e+04\n",
      "rate_f1c2   -3.843e+04   8754.966     -4.390      0.000   -5.56e+04   -2.13e+04\n",
      "rate_f1c3   -6401.1888   1468.088     -4.360      0.000   -9278.590   -3523.787\n",
      "rate_f1c4     117.4017     43.959      2.671      0.008      31.244     203.559\n",
      "rate_f2c1    1055.2427    591.353      1.784      0.074    -103.788    2214.274\n",
      "rate_f2c2   -4492.1969    609.239     -7.373      0.000   -5686.285   -3298.109\n",
      "rate_f2c3    3945.8449    276.354     14.278      0.000    3404.201    4487.488\n",
      "rate_f2c4     -12.3780     26.331     -0.470      0.638     -63.986      39.230\n",
      "rate_f3c1    2.473e+04    976.519     25.327      0.000    2.28e+04    2.66e+04\n",
      "rate_f3c2   -1.952e+04    704.047    -27.727      0.000   -2.09e+04   -1.81e+04\n",
      "rate_f3c3   -6393.5895    240.140    -26.624      0.000   -6864.255   -5922.924\n",
      "rate_f3c4      43.4063     16.643      2.608      0.009      10.786      76.026\n",
      "rate_f4c1   -1.587e+04    623.848    -25.446      0.000   -1.71e+04   -1.47e+04\n",
      "rate_f4c2      1.7e+04    674.604     25.205      0.000    1.57e+04    1.83e+04\n",
      "rate_f4c3   -2315.3532     99.209    -23.338      0.000   -2509.799   -2120.908\n",
      "rate_f4c4      47.2523     12.310      3.839      0.000      23.125      71.379\n",
      "rate_f5c1    1221.4798     79.574     15.350      0.000    1065.517    1377.443\n",
      "rate_f5c2   -1.161e+04    427.010    -27.182      0.000   -1.24e+04   -1.08e+04\n",
      "rate_f5c3    5474.8692    214.732     25.496      0.000    5054.002    5895.736\n",
      "rate_f5c4      31.5344     13.933      2.263      0.024       4.227      58.842\n",
      "rate_f6c1    1034.4266     49.216     21.018      0.000     937.965    1130.889\n",
      "rate_f6c2   -2791.4383    106.904    -26.112      0.000   -3000.967   -2581.910\n",
      "rate_f6c3   -9980.0099    383.458    -26.026      0.000   -1.07e+04   -9228.445\n",
      "rate_f6c4      36.5730     48.956      0.747      0.455     -59.380     132.526\n",
      "==============================================================================\n",
      "Omnibus:                  1648809.932   Durbin-Watson:                   2.000\n",
      "Prob(Omnibus):                  0.000   Jarque-Bera (JB):        595708259.959\n",
      "Skew:                           1.179   Prob(JB):                         0.00\n",
      "Kurtosis:                      69.145   Cond. No.                     1.03e+16\n",
      "==============================================================================\n",
      "\n",
      "Notes:\n",
      "[1] Standard Errors assume that the covariance matrix of the errors is correctly specified.\n",
      "[2] The smallest eigenvalue is 1.83e-15. This might indicate that there are\n",
      "strong multicollinearity problems or that the design matrix is singular.\n"
     ]
    }
   ],
   "source": [
    "import statsmodels.formula.api as smf\n",
    "\n",
    "#Model 2: 加控制变量，24个组\n",
    "# 选择特征\n",
    "features = ['stay_time_s','rate_f1c1', 'rate_f1c2', 'rate_f1c3', 'rate_f1c4','rate_f2c1', 'rate_f2c2', 'rate_f2c3', 'rate_f2c4','rate_f3c1', 'rate_f3c2', 'rate_f3c3', 'rate_f3c4','rate_f4c1', 'rate_f4c2', 'rate_f4c3', 'rate_f4c4','rate_f5c1', 'rate_f5c2', 'rate_f5c3', 'rate_f5c4','rate_f6c1', 'rate_f6c2', 'rate_f6c3', 'rate_f6c4']\n",
    "\n",
    "# 选择目标\n",
    "target = 'session_time'\n",
    "\n",
    "# 指定线性回归模型公式\n",
    "formula = \"session_time ~ stay_time_s + rate_f1c1 + rate_f1c2 + rate_f1c3 + rate_f1c4 + rate_f2c1 + rate_f2c2+ rate_f2c3+ rate_f2c4 + rate_f3c1 + rate_f3c2 + rate_f3c3 + rate_f3c4 + rate_f4c1 + rate_f4c2 + rate_f4c3 + rate_f4c4 + rate_f5c1 + rate_f5c2 + rate_f5c3 + rate_f5c4 + rate_f6c1 + rate_f6c2 + rate_f6c3 + rate_f6c4\"\n",
    "\n",
    "# 在训练集上拟合线性回归模型\n",
    "model_2 = smf.ols(formula=formula, data=train_df).fit()\n",
    "\n",
    "# results\n",
    "print(model_2.summary())\n",
    "\n",
    "# 在测试集上进行预测\n",
    "model_2_y_hat_group1 = model_2.predict(test_df_group1[features])\n",
    "model_2_y_hat_group2 = model_2.predict(test_df_group2[features])\n",
    "model_2_y_hat_group3 = model_2.predict(test_df_group3[features])"
   ]
  },
  {
   "cell_type": "code",
   "execution_count": 23,
   "id": "ceac7425",
   "metadata": {},
   "outputs": [
    {
     "name": "stdout",
     "output_type": "stream",
     "text": [
      "model_2_R2: [0.08409202672023475, -0.00634390597632617, -0.5193342087231356, -0.4876505519780687]\n"
     ]
    }
   ],
   "source": [
    "# 个体level\n",
    "Model_2_R2=[]\n",
    "Model_2_R2.append(r2_score(train_df[target],model_2.predict(train_df[features])))\n",
    "Model_2_R2.append(r2_score(test_df_group1[target],model_2.predict(test_df_group1[features])))\n",
    "Model_2_R2.append(r2_score(test_df_group2[target],model_2.predict(test_df_group2[features])))\n",
    "Model_2_R2.append(r2_score(test_df_group3[target],model_2.predict(test_df_group3[features])))\n",
    "\n",
    "print(\"model_2_R2:\",Model_2_R2)"
   ]
  },
  {
   "cell_type": "code",
   "execution_count": 24,
   "id": "d2fb5983",
   "metadata": {},
   "outputs": [
    {
     "name": "stdout",
     "output_type": "stream",
     "text": [
      "model_2_ATE: [1380.8889873280582, 4025.931761758345, 4528.275100765464]\n"
     ]
    }
   ],
   "source": [
    "model_2_ATE=[]\n",
    "model_2_group_1_ATE= np.mean(model_2_y_hat_group1)- np.mean(test_df_control[\"session_time\"])\n",
    "model_2_group_2_ATE= np.mean(model_2_y_hat_group2)- np.mean(test_df_control[\"session_time\"])\n",
    "model_2_group_3_ATE= np.mean(model_2_y_hat_group3)- np.mean(test_df_control[\"session_time\"])\n",
    "model_2_ATE.append(model_2_group_1_ATE)\n",
    "model_2_ATE.append(model_2_group_2_ATE)\n",
    "model_2_ATE.append(model_2_group_3_ATE)\n",
    "print(\"model_2_ATE:\",model_2_ATE)"
   ]
  },
  {
   "cell_type": "markdown",
   "id": "cf7b5df7",
   "metadata": {},
   "source": [
    "## Model_2.1: f1c4+ f2c4 + f3c4 + f4c4 +f5c4 + f6c4"
   ]
  },
  {
   "cell_type": "code",
   "execution_count": null,
   "id": "2bc95a25",
   "metadata": {},
   "outputs": [],
   "source": []
  },
  {
   "cell_type": "code",
   "execution_count": null,
   "id": "c417212e",
   "metadata": {},
   "outputs": [],
   "source": []
  },
  {
   "cell_type": "code",
   "execution_count": null,
   "id": "944aa6c2",
   "metadata": {},
   "outputs": [],
   "source": []
  },
  {
   "cell_type": "markdown",
   "id": "65541eb5",
   "metadata": {},
   "source": [
    "## Model_3: 只看f1+ f2+f3+f4+f5+f6"
   ]
  },
  {
   "cell_type": "code",
   "execution_count": 25,
   "id": "a184e75b",
   "metadata": {},
   "outputs": [
    {
     "name": "stdout",
     "output_type": "stream",
     "text": [
      "                            OLS Regression Results                            \n",
      "==============================================================================\n",
      "Dep. Variable:           session_time   R-squared:                       0.082\n",
      "Model:                            OLS   Adj. R-squared:                  0.082\n",
      "Method:                 Least Squares   F-statistic:                 4.172e+04\n",
      "Date:                Thu, 30 Mar 2023   Prob (F-statistic):               0.00\n",
      "Time:                        14:38:26   Log-Likelihood:            -3.2964e+07\n",
      "No. Observations:             3263645   AIC:                         6.593e+07\n",
      "Df Residuals:                 3263637   BIC:                         6.593e+07\n",
      "Df Model:                           7                                         \n",
      "Covariance Type:            nonrobust                                         \n",
      "===============================================================================\n",
      "                  coef    std err          t      P>|t|      [0.025      0.975]\n",
      "-------------------------------------------------------------------------------\n",
      "Intercept    2413.9492     11.388    211.966      0.000    2391.628    2436.270\n",
      "stay_time_s     0.0074   1.38e-05    538.351      0.000       0.007       0.007\n",
      "rate_f1       -62.8609      2.803    -22.423      0.000     -68.355     -57.366\n",
      "rate_f2       -29.8922      2.868    -10.422      0.000     -35.514     -24.271\n",
      "rate_f3        16.2682      2.852      5.704      0.000      10.678      21.859\n",
      "rate_f4        31.4721      2.722     11.560      0.000      26.136      36.808\n",
      "rate_f5       -21.7963      2.935     -7.425      0.000     -27.550     -16.043\n",
      "rate_f6       -75.4199      3.148    -23.959      0.000     -81.590     -69.250\n",
      "==============================================================================\n",
      "Omnibus:                  1660437.926   Durbin-Watson:                   1.995\n",
      "Prob(Omnibus):                  0.000   Jarque-Bera (JB):        592997733.216\n",
      "Skew:                           1.199   Prob(JB):                         0.00\n",
      "Kurtosis:                      68.992   Cond. No.                     9.21e+05\n",
      "==============================================================================\n",
      "\n",
      "Notes:\n",
      "[1] Standard Errors assume that the covariance matrix of the errors is correctly specified.\n",
      "[2] The condition number is large, 9.21e+05. This might indicate that there are\n",
      "strong multicollinearity or other numerical problems.\n"
     ]
    }
   ],
   "source": [
    "import statsmodels.formula.api as smf\n",
    "\n",
    "#Model 3: \n",
    "# 选择特征\n",
    "features = ['stay_time_s','rate_f1', 'rate_f2', 'rate_f3', 'rate_f4','rate_f5', 'rate_f6']\n",
    "# 选择目标\n",
    "target = 'session_time'\n",
    "\n",
    "# 指定线性回归模型公式\n",
    "formula = \"session_time ~ stay_time_s + rate_f1 + rate_f2 + rate_f3 + rate_f4 + rate_f5 + rate_f6\"    \n",
    "# 在训练集上拟合线性回归模型\n",
    "model_3 = smf.ols(formula=formula, data=train_df).fit()\n",
    "\n",
    "# results\n",
    "print(model_3.summary())\n",
    "\n",
    "# 在测试集上进行预测\n",
    "model_3_y_hat_group1 = model_3.predict(test_df_group1[features])\n",
    "model_3_y_hat_group2 = model_3.predict(test_df_group2[features])\n",
    "model_3_y_hat_group3 = model_3.predict(test_df_group3[features])"
   ]
  },
  {
   "cell_type": "code",
   "execution_count": 26,
   "id": "32adcaa7",
   "metadata": {},
   "outputs": [
    {
     "name": "stdout",
     "output_type": "stream",
     "text": [
      "model_3_R2: [0.0821289093568075, 0.04839245255445224, 0.03931511733145854, 0.06791907070963998]\n"
     ]
    }
   ],
   "source": [
    "# 个体level\n",
    "Model_3_R2=[]\n",
    "Model_3_R2.append(r2_score(train_df[target],model_3.predict(train_df[features])))\n",
    "Model_3_R2.append(r2_score(test_df_group1[target],model_3.predict(test_df_group1[features])))\n",
    "Model_3_R2.append(r2_score(test_df_group2[target],model_3.predict(test_df_group2[features])))\n",
    "Model_3_R2.append(r2_score(test_df_group3[target],model_3.predict(test_df_group3[features])))\n",
    "\n",
    "print(\"model_3_R2:\",Model_3_R2)"
   ]
  },
  {
   "cell_type": "code",
   "execution_count": 27,
   "id": "d14f5ed8",
   "metadata": {},
   "outputs": [
    {
     "name": "stdout",
     "output_type": "stream",
     "text": [
      "model_3_ATE: [40.38757172603164, 103.21615440660162, 34.670764979859996]\n"
     ]
    }
   ],
   "source": [
    "model_3_ATE=[]\n",
    "model_3_group_1_ATE= np.mean(model_3_y_hat_group1)- np.mean(test_df_control[\"session_time\"])\n",
    "model_3_group_2_ATE= np.mean(model_3_y_hat_group2)- np.mean(test_df_control[\"session_time\"])\n",
    "model_3_group_3_ATE= np.mean(model_3_y_hat_group3)- np.mean(test_df_control[\"session_time\"])\n",
    "model_3_ATE.append(model_3_group_1_ATE)\n",
    "model_3_ATE.append(model_3_group_2_ATE)\n",
    "model_3_ATE.append(model_3_group_3_ATE)\n",
    "print(\"model_3_ATE:\",model_3_ATE)"
   ]
  },
  {
   "cell_type": "markdown",
   "id": "e0e58e59",
   "metadata": {},
   "source": [
    "## Model 3.1: f1+ f2+ f3 +f4 +f5+f6 ,不加control"
   ]
  },
  {
   "cell_type": "code",
   "execution_count": 20,
   "id": "ed3e0053",
   "metadata": {},
   "outputs": [
    {
     "name": "stdout",
     "output_type": "stream",
     "text": [
      "                            OLS Regression Results                            \n",
      "==============================================================================\n",
      "Dep. Variable:           session_time   R-squared:                       0.001\n",
      "Model:                            OLS   Adj. R-squared:                  0.001\n",
      "Method:                 Least Squares   F-statistic:                     336.9\n",
      "Date:                Thu, 30 Mar 2023   Prob (F-statistic):               0.00\n",
      "Time:                        18:29:28   Log-Likelihood:            -3.3103e+07\n",
      "No. Observations:             3263645   AIC:                         6.621e+07\n",
      "Df Residuals:                 3263638   BIC:                         6.621e+07\n",
      "Df Model:                           6                                         \n",
      "Covariance Type:            nonrobust                                         \n",
      "==============================================================================\n",
      "                 coef    std err          t      P>|t|      [0.025      0.975]\n",
      "------------------------------------------------------------------------------\n",
      "Intercept   2849.8789     11.853    240.431      0.000    2826.647    2873.111\n",
      "rate_f1      -64.4724      2.925    -22.040      0.000     -70.206     -58.739\n",
      "rate_f2      -30.3902      2.993    -10.155      0.000     -36.256     -24.524\n",
      "rate_f3       15.9329      2.976      5.353      0.000      10.099      21.766\n",
      "rate_f4       31.1064      2.841     10.950      0.000      25.539      36.674\n",
      "rate_f5      -21.9221      3.063     -7.157      0.000     -27.925     -15.919\n",
      "rate_f6      -76.2452      3.285    -23.213      0.000     -82.683     -69.807\n",
      "==============================================================================\n",
      "Omnibus:                  2922157.807   Durbin-Watson:                   1.995\n",
      "Prob(Omnibus):                  0.000   Jarque-Bera (JB):        563301139.731\n",
      "Skew:                           3.682   Prob(JB):                         0.00\n",
      "Kurtosis:                      66.939   Cond. No.                         10.4\n",
      "==============================================================================\n",
      "\n",
      "Notes:\n",
      "[1] Standard Errors assume that the covariance matrix of the errors is correctly specified.\n"
     ]
    }
   ],
   "source": [
    "import statsmodels.formula.api as smf\n",
    "\n",
    "#Model 3: \n",
    "# 选择特征\n",
    "features = ['rate_f1', 'rate_f2', 'rate_f3', 'rate_f4','rate_f5', 'rate_f6']\n",
    "# 选择目标\n",
    "target = 'session_time'\n",
    "\n",
    "# 指定线性回归模型公式\n",
    "formula = \"session_time ~ rate_f1 + rate_f2 + rate_f3 + rate_f4 + rate_f5 + rate_f6\"    \n",
    "# 在训练集上拟合线性回归模型\n",
    "model_3 = smf.ols(formula=formula, data=train_df).fit()\n",
    "\n",
    "# results\n",
    "print(model_3.summary())\n",
    "\n",
    "# 在测试集上进行预测\n",
    "model_3_y_hat_group1 = model_3.predict(test_df_group1[features])\n",
    "model_3_y_hat_group2 = model_3.predict(test_df_group2[features])\n",
    "model_3_y_hat_group3 = model_3.predict(test_df_group3[features])"
   ]
  },
  {
   "cell_type": "code",
   "execution_count": 21,
   "id": "57c2ebfa",
   "metadata": {},
   "outputs": [
    {
     "name": "stdout",
     "output_type": "stream",
     "text": [
      "model_3_R2: [0.0006189280668030817, -0.00017626674927861963, -0.0015056543406528622, -1.0308448402218673e-05]\n"
     ]
    }
   ],
   "source": [
    "# 个体level\n",
    "Model_3_R2=[]\n",
    "Model_3_R2.append(r2_score(train_df[target],model_3.predict(train_df[features])))\n",
    "Model_3_R2.append(r2_score(test_df_group1[target],model_3.predict(test_df_group1[features])))\n",
    "Model_3_R2.append(r2_score(test_df_group2[target],model_3.predict(test_df_group2[features])))\n",
    "Model_3_R2.append(r2_score(test_df_group3[target],model_3.predict(test_df_group3[features])))\n",
    "\n",
    "print(\"model_3_R2:\",Model_3_R2)"
   ]
  },
  {
   "cell_type": "code",
   "execution_count": 22,
   "id": "73531c1a",
   "metadata": {},
   "outputs": [
    {
     "name": "stdout",
     "output_type": "stream",
     "text": [
      "model_3_ATE: [42.27454394028064, 119.3410972242641, 43.57353732878255]\n"
     ]
    }
   ],
   "source": [
    "model_3_ATE=[]\n",
    "model_3_group_1_ATE= np.mean(model_3_y_hat_group1)- np.mean(test_df_control[\"session_time\"])\n",
    "model_3_group_2_ATE= np.mean(model_3_y_hat_group2)- np.mean(test_df_control[\"session_time\"])\n",
    "model_3_group_3_ATE= np.mean(model_3_y_hat_group3)- np.mean(test_df_control[\"session_time\"])\n",
    "model_3_ATE.append(model_3_group_1_ATE)\n",
    "model_3_ATE.append(model_3_group_2_ATE)\n",
    "model_3_ATE.append(model_3_group_3_ATE)\n",
    "print(\"model_3_ATE:\",model_3_ATE)"
   ]
  },
  {
   "cell_type": "markdown",
   "id": "9b951b4b",
   "metadata": {},
   "source": [
    "## Model_4: 只看c1+ c2 + c3 + c4"
   ]
  },
  {
   "cell_type": "code",
   "execution_count": 28,
   "id": "3b48aacd",
   "metadata": {},
   "outputs": [
    {
     "name": "stdout",
     "output_type": "stream",
     "text": [
      "                            OLS Regression Results                            \n",
      "==============================================================================\n",
      "Dep. Variable:           session_time   R-squared:                       0.082\n",
      "Model:                            OLS   Adj. R-squared:                  0.082\n",
      "Method:                 Least Squares   F-statistic:                 5.828e+04\n",
      "Date:                Thu, 30 Mar 2023   Prob (F-statistic):               0.00\n",
      "Time:                        14:38:31   Log-Likelihood:            -3.2964e+07\n",
      "No. Observations:             3263645   AIC:                         6.593e+07\n",
      "Df Residuals:                 3263639   BIC:                         6.593e+07\n",
      "Df Model:                           5                                         \n",
      "Covariance Type:            nonrobust                                         \n",
      "===============================================================================\n",
      "                  coef    std err          t      P>|t|      [0.025      0.975]\n",
      "-------------------------------------------------------------------------------\n",
      "Intercept    2409.9572     11.390    211.592      0.000    2387.634    2432.281\n",
      "stay_time_s     0.0074   1.38e-05    538.349      0.000       0.007       0.007\n",
      "rate_c1      -148.1675      4.147    -35.731      0.000    -156.295    -140.040\n",
      "rate_c2       -29.2014      4.946     -5.904      0.000     -38.896     -19.507\n",
      "rate_c3        -6.4790      5.059     -1.281      0.200     -16.395       3.436\n",
      "rate_c4         1.7527      2.015      0.870      0.384      -2.196       5.702\n",
      "==============================================================================\n",
      "Omnibus:                  1661177.011   Durbin-Watson:                   1.995\n",
      "Prob(Omnibus):                  0.000   Jarque-Bera (JB):        592779826.571\n",
      "Skew:                           1.201   Prob(JB):                         0.00\n",
      "Kurtosis:                      68.980   Cond. No.                     9.01e+05\n",
      "==============================================================================\n",
      "\n",
      "Notes:\n",
      "[1] Standard Errors assume that the covariance matrix of the errors is correctly specified.\n",
      "[2] The condition number is large, 9.01e+05. This might indicate that there are\n",
      "strong multicollinearity or other numerical problems.\n"
     ]
    }
   ],
   "source": [
    "import statsmodels.formula.api as smf\n",
    "\n",
    "#Model 4: \n",
    "# 选择特征\n",
    "features = ['stay_time_s','rate_c1', 'rate_c2', 'rate_c3', 'rate_c4']\n",
    "# 选择目标\n",
    "target = 'session_time'\n",
    "\n",
    "# 指定线性回归模型公式\n",
    "formula = \"session_time ~ stay_time_s + rate_c1 + rate_c2 + rate_c3 + rate_c4\"    \n",
    "# 在训练集上拟合线性回归模型\n",
    "model_4 = smf.ols(formula=formula, data=train_df).fit()\n",
    "\n",
    "# results\n",
    "print(model_4.summary())\n",
    "\n",
    "# 在测试集上进行预测\n",
    "model_4_y_hat_group1 = model_4.predict(test_df_group1[features])\n",
    "model_4_y_hat_group2 = model_4.predict(test_df_group2[features])\n",
    "model_4_y_hat_group3 = model_4.predict(test_df_group3[features])"
   ]
  },
  {
   "cell_type": "code",
   "execution_count": 29,
   "id": "14670a35",
   "metadata": {},
   "outputs": [
    {
     "name": "stdout",
     "output_type": "stream",
     "text": [
      "model_4_R2: [0.08197099073805825, 0.04802378607437996, 0.040531643695965625, 0.0678749491558297]\n"
     ]
    }
   ],
   "source": [
    "# 个体level\n",
    "Model_4_R2=[]\n",
    "Model_4_R2.append(r2_score(train_df[target],model_4.predict(train_df[features])))\n",
    "Model_4_R2.append(r2_score(test_df_group1[target],model_4.predict(test_df_group1[features])))\n",
    "Model_4_R2.append(r2_score(test_df_group2[target],model_4.predict(test_df_group2[features])))\n",
    "Model_4_R2.append(r2_score(test_df_group3[target],model_4.predict(test_df_group3[features])))\n",
    "\n",
    "print(\"model_4_R2:\",Model_4_R2)"
   ]
  },
  {
   "cell_type": "code",
   "execution_count": 30,
   "id": "ae90cbd8",
   "metadata": {},
   "outputs": [
    {
     "name": "stdout",
     "output_type": "stream",
     "text": [
      "model_4_ATE: [-178.02397482332026, -49.7436353307794, -16.787216914823148]\n"
     ]
    }
   ],
   "source": [
    "model_4_ATE=[]\n",
    "model_4_group_1_ATE= np.mean(model_4_y_hat_group1)- np.mean(test_df_control[\"session_time\"])\n",
    "model_4_group_2_ATE= np.mean(model_4_y_hat_group2)- np.mean(test_df_control[\"session_time\"])\n",
    "model_4_group_3_ATE= np.mean(model_4_y_hat_group3)- np.mean(test_df_control[\"session_time\"])\n",
    "model_4_ATE.append(model_4_group_1_ATE)\n",
    "model_4_ATE.append(model_4_group_2_ATE)\n",
    "model_4_ATE.append(model_4_group_3_ATE)\n",
    "\n",
    "print(\"model_4_ATE:\",model_4_ATE)"
   ]
  },
  {
   "cell_type": "markdown",
   "id": "17356636",
   "metadata": {},
   "source": [
    "## Model 4.1：c1+ c2 +c3 + c4 , without control"
   ]
  },
  {
   "cell_type": "code",
   "execution_count": 23,
   "id": "f801f7e7",
   "metadata": {},
   "outputs": [
    {
     "name": "stdout",
     "output_type": "stream",
     "text": [
      "                            OLS Regression Results                            \n",
      "==============================================================================\n",
      "Dep. Variable:           session_time   R-squared:                       0.000\n",
      "Model:                            OLS   Adj. R-squared:                  0.000\n",
      "Method:                 Least Squares   F-statistic:                     365.3\n",
      "Date:                Thu, 30 Mar 2023   Prob (F-statistic):          4.23e-315\n",
      "Time:                        18:32:41   Log-Likelihood:            -3.3103e+07\n",
      "No. Observations:             3263645   AIC:                         6.621e+07\n",
      "Df Residuals:                 3263640   BIC:                         6.621e+07\n",
      "Df Model:                           4                                         \n",
      "Covariance Type:            nonrobust                                         \n",
      "==============================================================================\n",
      "                 coef    std err          t      P>|t|      [0.025      0.975]\n",
      "------------------------------------------------------------------------------\n",
      "Intercept   2845.9820     11.855    240.076      0.000    2822.748    2869.216\n",
      "rate_c1     -148.8202      4.327    -34.394      0.000    -157.301    -140.340\n",
      "rate_c2      -28.1817      5.161     -5.460      0.000     -38.298     -18.066\n",
      "rate_c3       -5.2181      5.279     -0.988      0.323     -15.564       5.128\n",
      "rate_c4        1.1385      2.102      0.542      0.588      -2.982       5.259\n",
      "==============================================================================\n",
      "Omnibus:                  2922567.510   Durbin-Watson:                   1.995\n",
      "Prob(Omnibus):                  0.000   Jarque-Bera (JB):        563210140.117\n",
      "Skew:                           3.683   Prob(JB):                         0.00\n",
      "Kurtosis:                      66.933   Cond. No.                         19.6\n",
      "==============================================================================\n",
      "\n",
      "Notes:\n",
      "[1] Standard Errors assume that the covariance matrix of the errors is correctly specified.\n"
     ]
    }
   ],
   "source": [
    "import statsmodels.formula.api as smf\n",
    "\n",
    "#Model 4: \n",
    "# 选择特征\n",
    "features = ['rate_c1', 'rate_c2', 'rate_c3', 'rate_c4']\n",
    "# 选择目标\n",
    "target = 'session_time'\n",
    "\n",
    "# 指定线性回归模型公式\n",
    "formula = \"session_time ~ rate_c1 + rate_c2 + rate_c3 + rate_c4\"    \n",
    "# 在训练集上拟合线性回归模型\n",
    "model_4 = smf.ols(formula=formula, data=train_df).fit()\n",
    "\n",
    "# results\n",
    "print(model_4.summary())\n",
    "\n",
    "# 在测试集上进行预测\n",
    "model_4_y_hat_group1 = model_4.predict(test_df_group1[features])\n",
    "model_4_y_hat_group2 = model_4.predict(test_df_group2[features])\n",
    "model_4_y_hat_group3 = model_4.predict(test_df_group3[features])"
   ]
  },
  {
   "cell_type": "code",
   "execution_count": 24,
   "id": "64e239e7",
   "metadata": {},
   "outputs": [
    {
     "name": "stdout",
     "output_type": "stream",
     "text": [
      "model_4_R2: [0.0004475388958804505, -0.0004950363696973881, -0.00012277225902224131, -2.6351146133585246e-05]\n"
     ]
    }
   ],
   "source": [
    "# 个体level\n",
    "Model_4_R2=[]\n",
    "Model_4_R2.append(r2_score(train_df[target],model_4.predict(train_df[features])))\n",
    "Model_4_R2.append(r2_score(test_df_group1[target],model_4.predict(test_df_group1[features])))\n",
    "Model_4_R2.append(r2_score(test_df_group2[target],model_4.predict(test_df_group2[features])))\n",
    "Model_4_R2.append(r2_score(test_df_group3[target],model_4.predict(test_df_group3[features])))\n",
    "\n",
    "print(\"model_4_R2:\",Model_4_R2)"
   ]
  },
  {
   "cell_type": "code",
   "execution_count": 25,
   "id": "30ea8950",
   "metadata": {},
   "outputs": [
    {
     "name": "stdout",
     "output_type": "stream",
     "text": [
      "model_4_ATE: [-172.8700333359816, -33.30526656373968, -6.847635390317919]\n"
     ]
    }
   ],
   "source": [
    "model_4_ATE=[]\n",
    "model_4_group_1_ATE= np.mean(model_4_y_hat_group1)- np.mean(test_df_control[\"session_time\"])\n",
    "model_4_group_2_ATE= np.mean(model_4_y_hat_group2)- np.mean(test_df_control[\"session_time\"])\n",
    "model_4_group_3_ATE= np.mean(model_4_y_hat_group3)- np.mean(test_df_control[\"session_time\"])\n",
    "model_4_ATE.append(model_4_group_1_ATE)\n",
    "model_4_ATE.append(model_4_group_2_ATE)\n",
    "model_4_ATE.append(model_4_group_3_ATE)\n",
    "\n",
    "print(\"model_4_ATE:\",model_4_ATE)"
   ]
  },
  {
   "cell_type": "markdown",
   "id": "b3d1cb82",
   "metadata": {},
   "source": [
    "## Model_5: model selection"
   ]
  },
  {
   "cell_type": "code",
   "execution_count": 19,
   "id": "4c0b04df",
   "metadata": {},
   "outputs": [],
   "source": [
    "from sklearn.model_selection import train_test_split\n",
    "from sklearn.preprocessing import StandardScaler  # standardize the predictors\n",
    "from sklearn.linear_model import Lasso\n",
    "\n",
    "# 选择特征\n",
    "features = ['stay_time_s','rate_f1c1', 'rate_f1c2', 'rate_f1c3', 'rate_f1c4','rate_f2c1', 'rate_f2c2', 'rate_f2c3', 'rate_f2c4','rate_f3c1', 'rate_f3c2', 'rate_f3c3', 'rate_f3c4','rate_f4c1', 'rate_f4c2', 'rate_f4c3', 'rate_f4c4','rate_f5c1', 'rate_f5c2', 'rate_f5c3', 'rate_f5c4','rate_f6c1', 'rate_f6c2', 'rate_f6c3', 'rate_f6c4']\n",
    "\n",
    "# 选择目标\n",
    "target = 'session_time'"
   ]
  },
  {
   "cell_type": "code",
   "execution_count": 32,
   "id": "f81313fd",
   "metadata": {},
   "outputs": [],
   "source": [
    "# 1. Split the training set into training and validation sets\n",
    "X_train_all= train_df[features]\n",
    "y_train_all= train_df[target]\n",
    "X_train, X_val, y_train, y_val = train_test_split(X_train_all, y_train_all, test_size=0.2, random_state=42)\n",
    "X_test_1= test_df_group1[features]\n",
    "X_test_2= test_df_group2[features]\n",
    "X_test_3= test_df_group3[features]"
   ]
  },
  {
   "cell_type": "code",
   "execution_count": 33,
   "id": "33692820",
   "metadata": {},
   "outputs": [],
   "source": [
    "# 2.标准化数据集\n",
    "scaler = StandardScaler()\n",
    "X_train_all = scaler.fit_transform(X_train_all)\n",
    "X_train = scaler.fit_transform(X_train)\n",
    "X_val = scaler.transform(X_val)\n",
    "X_test_1 = scaler.transform(X_test_1)\n",
    "X_test_2 = scaler.transform(X_test_2)\n",
    "X_test_2 = scaler.transform(X_test_2)"
   ]
  },
  {
   "cell_type": "code",
   "execution_count": 34,
   "id": "f0e4fb3a",
   "metadata": {},
   "outputs": [],
   "source": [
    "# 3.运用Lassocv 找到最优的alpha值\n",
    "from sklearn.linear_model import LassoCV\n",
    "\n",
    "# Create a LassoCV object with cross-validation\n",
    "regressor = LassoCV(cv=5)\n",
    "\n",
    "# Fit the LassoCV object on the training set\n",
    "regressor.fit(X_train, y_train)\n",
    "\n",
    "# Predict on the validation set\n",
    "y_val_pred = regressor.predict(X_val)"
   ]
  },
  {
   "cell_type": "code",
   "execution_count": 35,
   "id": "0f4f081e",
   "metadata": {},
   "outputs": [
    {
     "name": "stdout",
     "output_type": "stream",
     "text": [
      "Lasso validation set- R2： 0.08137623260731919\n",
      "Best alpha: 1.7620147449330423\n"
     ]
    }
   ],
   "source": [
    "# Evaluate the performance of the model on the validation set\n",
    "print(\"Lasso validation set- R2：\",r2_score(y_val, y_val_pred))\n",
    "print('Best alpha:', regressor.alpha_)"
   ]
  },
  {
   "cell_type": "code",
   "execution_count": 36,
   "id": "35598f18",
   "metadata": {},
   "outputs": [],
   "source": [
    "# 4.使用最优的alpha值运用Lasso模型\n",
    "from sklearn.linear_model import Lasso\n",
    "\n",
    "# Create a Lasso object with the best alpha value\n",
    "# regressor = Lasso(alpha=regressor.alpha_)\n",
    "regressor = Lasso(alpha=1)\n",
    "regressor.fit(X_train_all, y_train_all)\n",
    "\n",
    "# Predict on the test set\n",
    "model_5_y_hat_group1 = regressor.predict(X_test_1)\n",
    "model_5_y_hat_group2 = regressor.predict(X_test_2)\n",
    "model_5_y_hat_group3 = regressor.predict(X_test_3)"
   ]
  },
  {
   "cell_type": "markdown",
   "id": "71328284",
   "metadata": {},
   "source": [
    "输出结果"
   ]
  },
  {
   "cell_type": "code",
   "execution_count": 37,
   "id": "acf9ac0f",
   "metadata": {},
   "outputs": [
    {
     "name": "stdout",
     "output_type": "stream",
     "text": [
      "model_5_R2: [0.08391654411493898, 0.04721802785168083, -177.1737411076267, -4887733015.884496]\n"
     ]
    }
   ],
   "source": [
    "# 个体level\n",
    "Model_5_R2=[]\n",
    "Model_5_R2.append(r2_score(y_train_all,regressor.predict(X_train_all)))\n",
    "Model_5_R2.append(r2_score(test_df_group1[target],regressor.predict(X_test_1)))\n",
    "Model_5_R2.append(r2_score(test_df_group2[target],regressor.predict(X_test_2)))\n",
    "Model_5_R2.append(r2_score(test_df_group3[target],regressor.predict(X_test_3)))\n",
    "\n",
    "print(\"model_5_R2:\",Model_5_R2)"
   ]
  },
  {
   "cell_type": "code",
   "execution_count": 38,
   "id": "114279bd",
   "metadata": {},
   "outputs": [
    {
     "name": "stdout",
     "output_type": "stream",
     "text": [
      "model_5_ATE: [-258.23525901468884, -73385.84554041349, 100375391.22453539]\n"
     ]
    }
   ],
   "source": [
    "# group ATE level\n",
    "model_5_ATE=[]\n",
    "model_5_group_1_ATE= np.mean(model_5_y_hat_group1)- np.mean(test_df_control[\"session_time\"])\n",
    "model_5_group_2_ATE= np.mean(model_5_y_hat_group2)- np.mean(test_df_control[\"session_time\"])\n",
    "model_5_group_3_ATE= np.mean(model_5_y_hat_group3)- np.mean(test_df_control[\"session_time\"])\n",
    "model_5_ATE.append(model_5_group_1_ATE)\n",
    "model_5_ATE.append(model_5_group_2_ATE)\n",
    "model_5_ATE.append(model_5_group_3_ATE)\n",
    "\n",
    "print(\"model_5_ATE:\",model_5_ATE)"
   ]
  },
  {
   "cell_type": "markdown",
   "id": "0d2aca7e",
   "metadata": {},
   "source": [
    "# Model 6: f1+ f2 + f3 + f4 + f5 + f6 + c1 + c2 + c3 + c4"
   ]
  },
  {
   "cell_type": "code",
   "execution_count": 19,
   "id": "3f0f1e76",
   "metadata": {},
   "outputs": [
    {
     "name": "stdout",
     "output_type": "stream",
     "text": [
      "                            OLS Regression Results                            \n",
      "==============================================================================\n",
      "Dep. Variable:           session_time   R-squared:                       0.082\n",
      "Model:                            OLS   Adj. R-squared:                  0.082\n",
      "Method:                 Least Squares   F-statistic:                 2.934e+04\n",
      "Date:                Thu, 30 Mar 2023   Prob (F-statistic):               0.00\n",
      "Time:                        15:38:00   Log-Likelihood:            -3.2963e+07\n",
      "No. Observations:             3263645   AIC:                         6.593e+07\n",
      "Df Residuals:                 3263634   BIC:                         6.593e+07\n",
      "Df Model:                          10                                         \n",
      "Covariance Type:            nonrobust                                         \n",
      "===============================================================================\n",
      "                  coef    std err          t      P>|t|      [0.025      0.975]\n",
      "-------------------------------------------------------------------------------\n",
      "Intercept    2403.6130     11.390    211.027      0.000    2381.289    2425.937\n",
      "stay_time_s     0.0074   1.38e-05    538.467      0.000       0.007       0.007\n",
      "rate_f1       -96.1551      2.509    -38.329      0.000    -101.072     -91.238\n",
      "rate_f2       -67.0301      2.686    -24.951      0.000     -72.295     -61.765\n",
      "rate_f3       -13.8145      2.615     -5.282      0.000     -18.941      -8.688\n",
      "rate_f4         8.9693      2.380      3.768      0.000       4.304      13.635\n",
      "rate_f5       -12.3898      2.311     -5.361      0.000     -16.919      -7.860\n",
      "rate_f6         5.3306      3.433      1.553      0.120      -1.397      12.058\n",
      "rate_c1      -172.4272      5.546    -31.090      0.000    -183.297    -161.557\n",
      "rate_c2       -29.5484      4.596     -6.428      0.000     -38.557     -20.539\n",
      "rate_c3        -4.9974      4.560     -1.096      0.273     -13.935       3.940\n",
      "rate_c4        31.8836      1.831     17.409      0.000      28.294      35.473\n",
      "==============================================================================\n",
      "Omnibus:                  1658290.624   Durbin-Watson:                   1.996\n",
      "Prob(Omnibus):                  0.000   Jarque-Bera (JB):        593466450.054\n",
      "Skew:                           1.196   Prob(JB):                         0.00\n",
      "Kurtosis:                      69.019   Cond. No.                     1.65e+19\n",
      "==============================================================================\n",
      "\n",
      "Notes:\n",
      "[1] Standard Errors assume that the covariance matrix of the errors is correctly specified.\n",
      "[2] The smallest eigenvalue is 7.15e-22. This might indicate that there are\n",
      "strong multicollinearity problems or that the design matrix is singular.\n"
     ]
    }
   ],
   "source": [
    "import statsmodels.formula.api as smf\n",
    "\n",
    "#Model 4: \n",
    "# 选择特征\n",
    "features = ['stay_time_s','rate_c1', 'rate_c2', 'rate_c3', 'rate_c4','rate_f1', 'rate_f2','rate_f3','rate_f4','rate_f5','rate_f6' ]\n",
    "# 选择目标\n",
    "target = 'session_time'\n",
    "\n",
    "# 指定线性回归模型公式\n",
    "formula = \"session_time ~ stay_time_s + rate_f1 + rate_f2 + rate_f3 + rate_f4 + rate_f5 + rate_f6 + rate_c1 + rate_c2 + rate_c3 + rate_c4\"    \n",
    "# 在训练集上拟合线性回归模型\n",
    "model_6 = smf.ols(formula=formula, data=train_df).fit()\n",
    "\n",
    "# results\n",
    "print(model_6.summary())\n",
    "\n",
    "# 在测试集上进行预测\n",
    "model_6_y_hat_group1 = model_6.predict(test_df_group1[features])\n",
    "model_6_y_hat_group2 = model_6.predict(test_df_group2[features])\n",
    "model_6_y_hat_group3 = model_6.predict(test_df_group3[features])"
   ]
  },
  {
   "cell_type": "code",
   "execution_count": 20,
   "id": "c89ce791",
   "metadata": {},
   "outputs": [
    {
     "name": "stdout",
     "output_type": "stream",
     "text": [
      "model_6_R2: [0.08247450970753167, 0.0481327020905189, 0.039695738251304236, 0.06790342629582424]\n"
     ]
    }
   ],
   "source": [
    "# 个体level\n",
    "Model_6_R2=[]\n",
    "Model_6_R2.append(r2_score(train_df[target],model_6.predict(train_df[features])))\n",
    "Model_6_R2.append(r2_score(test_df_group1[target],model_6.predict(test_df_group1[features])))\n",
    "Model_6_R2.append(r2_score(test_df_group2[target],model_6.predict(test_df_group2[features])))\n",
    "Model_6_R2.append(r2_score(test_df_group3[target],model_6.predict(test_df_group3[features])))\n",
    "\n",
    "print(\"model_6_R2:\",Model_6_R2)"
   ]
  },
  {
   "cell_type": "code",
   "execution_count": 21,
   "id": "2bbf070a",
   "metadata": {},
   "outputs": [
    {
     "name": "stdout",
     "output_type": "stream",
     "text": [
      "model_6_ATE: [-163.23112766718623, 71.29443557526929, -1.6379926334766424]\n"
     ]
    }
   ],
   "source": [
    "model_6_ATE=[]\n",
    "model_6_group_1_ATE= np.mean(model_6_y_hat_group1)- np.mean(test_df_control[\"session_time\"])\n",
    "model_6_group_2_ATE= np.mean(model_6_y_hat_group2)- np.mean(test_df_control[\"session_time\"])\n",
    "model_6_group_3_ATE= np.mean(model_6_y_hat_group3)- np.mean(test_df_control[\"session_time\"])\n",
    "model_6_ATE.append(model_6_group_1_ATE)\n",
    "model_6_ATE.append(model_6_group_2_ATE)\n",
    "model_6_ATE.append(model_6_group_3_ATE)\n",
    "\n",
    "print(\"model_6_ATE:\",model_6_ATE)"
   ]
  },
  {
   "cell_type": "markdown",
   "id": "b1a2d1a8",
   "metadata": {},
   "source": [
    "# Model 7: 加上交互项：X*T "
   ]
  },
  {
   "cell_type": "code",
   "execution_count": 22,
   "id": "a18fb218",
   "metadata": {},
   "outputs": [
    {
     "name": "stdout",
     "output_type": "stream",
     "text": [
      "                            OLS Regression Results                            \n",
      "==============================================================================\n",
      "Dep. Variable:           session_time   R-squared:                       0.086\n",
      "Model:                            OLS   Adj. R-squared:                  0.086\n",
      "Method:                 Least Squares   F-statistic:                     9913.\n",
      "Date:                Thu, 30 Mar 2023   Prob (F-statistic):               0.00\n",
      "Time:                        15:38:35   Log-Likelihood:            -3.2957e+07\n",
      "No. Observations:             3263645   AIC:                         6.591e+07\n",
      "Df Residuals:                 3263613   BIC:                         6.591e+07\n",
      "Df Model:                          31                                         \n",
      "Covariance Type:            nonrobust                                         \n",
      "=========================================================================================\n",
      "                            coef    std err          t      P>|t|      [0.025      0.975]\n",
      "-----------------------------------------------------------------------------------------\n",
      "Intercept              2355.4515     11.683    201.616      0.000    2332.554    2378.349\n",
      "stay_time_s               0.0078   4.75e-05    164.312      0.000       0.008       0.008\n",
      "rate_f1c1             -1.202e+04   6448.965     -1.864      0.062   -2.47e+04     615.767\n",
      "rate_f1c2             -1.758e+04   9008.876     -1.951      0.051   -3.52e+04      78.053\n",
      "rate_f1c3             -2913.3033   1510.666     -1.928      0.054   -5874.155      47.548\n",
      "rate_f1c4                29.7527     45.234      0.658      0.511     -58.904     118.409\n",
      "rate_f2c1              -139.6046    608.553     -0.229      0.819   -1332.346    1053.137\n",
      "rate_f2c2             -4518.3886    626.962     -7.207      0.000   -5747.212   -3289.565\n",
      "rate_f2c3              2691.8974    284.379      9.466      0.000    2134.525    3249.270\n",
      "rate_f2c4                38.5654     27.097      1.423      0.155     -14.544      91.675\n",
      "rate_f3c1              1.842e+04   1004.780     18.332      0.000    1.65e+04    2.04e+04\n",
      "rate_f3c2             -1.448e+04    724.462    -19.992      0.000   -1.59e+04   -1.31e+04\n",
      "rate_f3c3             -4735.6054    247.101    -19.165      0.000   -5219.916   -4251.295\n",
      "rate_f3c4                27.6639     17.124      1.615      0.106      -5.899      61.227\n",
      "rate_f4c1             -1.186e+04    641.908    -18.472      0.000   -1.31e+04   -1.06e+04\n",
      "rate_f4c2              1.258e+04    694.151     18.124      0.000    1.12e+04    1.39e+04\n",
      "rate_f4c3             -1718.2678    102.080    -16.833      0.000   -1918.341   -1518.195\n",
      "rate_f4c4                44.3877     12.665      3.505      0.000      19.565      69.211\n",
      "rate_f5c1               930.2687     81.880     11.361      0.000     769.787    1090.751\n",
      "rate_f5c2             -8627.6401    439.376    -19.636      0.000   -9488.802   -7766.478\n",
      "rate_f5c3              4101.0191    220.950     18.561      0.000    3667.964    4534.074\n",
      "rate_f5c4                20.7274     14.337      1.446      0.148      -7.372      48.827\n",
      "rate_f6c1               769.7881     50.643     15.200      0.000     670.529     869.047\n",
      "rate_f6c2             -2075.6226    110.000    -18.869      0.000   -2291.219   -1860.026\n",
      "rate_f6c3             -7418.5959    394.564    -18.802      0.000   -8191.928   -6645.264\n",
      "rate_f6c4                23.7377     50.375      0.471      0.637     -74.995     122.470\n",
      "stay_time_s:rate_f1c1    -0.2599      0.027     -9.728      0.000      -0.312      -0.208\n",
      "stay_time_s:rate_f1c2    -0.3665      0.037     -9.820      0.000      -0.440      -0.293\n",
      "stay_time_s:rate_f1c3    -0.0613      0.006     -9.797      0.000      -0.074      -0.049\n",
      "stay_time_s:rate_f1c4     0.0015      0.000      8.246      0.000       0.001       0.002\n",
      "stay_time_s:rate_f2c1     0.0211      0.003      8.408      0.000       0.016       0.026\n",
      "stay_time_s:rate_f2c2     0.0009      0.003      0.367      0.714      -0.004       0.006\n",
      "stay_time_s:rate_f2c3     0.0217      0.001     18.472      0.000       0.019       0.024\n",
      "stay_time_s:rate_f2c4    -0.0009      0.000     -8.046      0.000      -0.001      -0.001\n",
      "stay_time_s:rate_f3c1     0.1091      0.004     26.334      0.000       0.101       0.117\n",
      "stay_time_s:rate_f3c2    -0.0870      0.003    -29.089      0.000      -0.093      -0.081\n",
      "stay_time_s:rate_f3c3    -0.0287      0.001    -28.300      0.000      -0.031      -0.027\n",
      "stay_time_s:rate_f3c4     0.0003      7e-05      3.943      0.000       0.000       0.000\n",
      "stay_time_s:rate_f4c1    -0.0693      0.003    -25.996      0.000      -0.074      -0.064\n",
      "stay_time_s:rate_f4c2     0.0763      0.003     26.500      0.000       0.071       0.082\n",
      "stay_time_s:rate_f4c3    -0.0104      0.000    -25.040      0.000      -0.011      -0.010\n",
      "stay_time_s:rate_f4c4  4.578e-05   5.22e-05      0.878      0.380   -5.64e-05       0.000\n",
      "stay_time_s:rate_f5c1     0.0049      0.000     13.821      0.000       0.004       0.006\n",
      "stay_time_s:rate_f5c2    -0.0511      0.002    -27.524      0.000      -0.055      -0.047\n",
      "stay_time_s:rate_f5c3     0.0238      0.001     26.404      0.000       0.022       0.026\n",
      "stay_time_s:rate_f5c4     0.0002   5.95e-05      3.194      0.001    7.34e-05       0.000\n",
      "stay_time_s:rate_f6c1     0.0046      0.000     21.577      0.000       0.004       0.005\n",
      "stay_time_s:rate_f6c2    -0.0124      0.000    -27.193      0.000      -0.013      -0.011\n",
      "stay_time_s:rate_f6c3    -0.0441      0.002    -26.865      0.000      -0.047      -0.041\n",
      "stay_time_s:rate_f6c4     0.0002      0.000      1.122      0.262      -0.000       0.001\n",
      "==============================================================================\n",
      "Omnibus:                  1618520.703   Durbin-Watson:                   2.000\n",
      "Prob(Omnibus):                  0.000   Jarque-Bera (JB):        596470388.557\n",
      "Skew:                           1.127   Prob(JB):                         0.00\n",
      "Kurtosis:                      69.191   Cond. No.                     1.94e+16\n",
      "==============================================================================\n",
      "\n",
      "Notes:\n",
      "[1] Standard Errors assume that the covariance matrix of the errors is correctly specified.\n",
      "[2] The smallest eigenvalue is 3.47e-15. This might indicate that there are\n",
      "strong multicollinearity problems or that the design matrix is singular.\n"
     ]
    }
   ],
   "source": [
    "import statsmodels.formula.api as smf\n",
    "\n",
    "#Model 4: \n",
    "# 选择特征\n",
    "features = ['stay_time_s','rate_f1c1', 'rate_f1c2', 'rate_f1c3', 'rate_f1c4','rate_f2c1', 'rate_f2c2', 'rate_f2c3', 'rate_f2c4','rate_f3c1', 'rate_f3c2', 'rate_f3c3', 'rate_f3c4','rate_f4c1', 'rate_f4c2', 'rate_f4c3', 'rate_f4c4','rate_f5c1', 'rate_f5c2', 'rate_f5c3', 'rate_f5c4','rate_f6c1', 'rate_f6c2', 'rate_f6c3', 'rate_f6c4']\n",
    "\n",
    "# 选择目标\n",
    "target = 'session_time'\n",
    "\n",
    "# 指定线性回归模型公式\n",
    "formula = \"session_time ~ stay_time_s*(rate_f1c1 + rate_f1c2 + rate_f1c3 + rate_f1c4 + rate_f2c1 + rate_f2c2+ rate_f2c3+ rate_f2c4 + rate_f3c1 + rate_f3c2 + rate_f3c3 + rate_f3c4 + rate_f4c1 + rate_f4c2 + rate_f4c3 + rate_f4c4 + rate_f5c1 + rate_f5c2 + rate_f5c3 + rate_f5c4 + rate_f6c1 + rate_f6c2 + rate_f6c3 + rate_f6c4)\"\n",
    "   \n",
    "# 在训练集上拟合线性回归模型\n",
    "model_7 = smf.ols(formula=formula, data=train_df).fit()\n",
    "\n",
    "# results\n",
    "print(model_7.summary())\n",
    "\n",
    "# 在测试集上进行预测\n",
    "model_7_y_hat_group1 = model_7.predict(test_df_group1[features])\n",
    "model_7_y_hat_group2 = model_7.predict(test_df_group2[features])\n",
    "model_7_y_hat_group3 = model_7.predict(test_df_group3[features])"
   ]
  },
  {
   "cell_type": "code",
   "execution_count": 23,
   "id": "befd926e",
   "metadata": {},
   "outputs": [
    {
     "name": "stdout",
     "output_type": "stream",
     "text": [
      "model_7_R2: [0.08605747954653631, -0.1593677613508908, -1.3028839823183138, -1.0657647069075002]\n"
     ]
    }
   ],
   "source": [
    "# 个体level\n",
    "Model_7_R2=[]\n",
    "Model_7_R2.append(r2_score(train_df[target],model_7.predict(train_df[features])))\n",
    "Model_7_R2.append(r2_score(test_df_group1[target],model_7.predict(test_df_group1[features])))\n",
    "Model_7_R2.append(r2_score(test_df_group2[target],model_7.predict(test_df_group2[features])))\n",
    "Model_7_R2.append(r2_score(test_df_group3[target],model_7.predict(test_df_group3[features])))\n",
    "\n",
    "print(\"model_7_R2:\",Model_7_R2)"
   ]
  },
  {
   "cell_type": "code",
   "execution_count": 24,
   "id": "2c9c331d",
   "metadata": {},
   "outputs": [
    {
     "name": "stdout",
     "output_type": "stream",
     "text": [
      "model_7_ATE: [1394.821474216907, 3997.5191277827266, 4511.786440241345]\n"
     ]
    }
   ],
   "source": [
    "model_7_ATE=[]\n",
    "model_7_group_1_ATE= np.mean(model_7_y_hat_group1)- np.mean(test_df_control[\"session_time\"])\n",
    "model_7_group_2_ATE= np.mean(model_7_y_hat_group2)- np.mean(test_df_control[\"session_time\"])\n",
    "model_7_group_3_ATE= np.mean(model_7_y_hat_group3)- np.mean(test_df_control[\"session_time\"])\n",
    "model_7_ATE.append(model_7_group_1_ATE)\n",
    "model_7_ATE.append(model_7_group_2_ATE)\n",
    "model_7_ATE.append(model_7_group_3_ATE)\n",
    "\n",
    "print(\"model_7_ATE:\",model_7_ATE)"
   ]
  },
  {
   "cell_type": "markdown",
   "id": "2e0214fa",
   "metadata": {},
   "source": [
    "# Model 8: X*(f1 + f2 + f3 + f4 + f5 + f6)"
   ]
  },
  {
   "cell_type": "code",
   "execution_count": 25,
   "id": "f1976d1c",
   "metadata": {},
   "outputs": [
    {
     "name": "stdout",
     "output_type": "stream",
     "text": [
      "                            OLS Regression Results                            \n",
      "==============================================================================\n",
      "Dep. Variable:           session_time   R-squared:                       0.083\n",
      "Model:                            OLS   Adj. R-squared:                  0.083\n",
      "Method:                 Least Squares   F-statistic:                 2.261e+04\n",
      "Date:                Thu, 30 Mar 2023   Prob (F-statistic):               0.00\n",
      "Time:                        15:38:53   Log-Likelihood:            -3.2963e+07\n",
      "No. Observations:             3263645   AIC:                         6.593e+07\n",
      "Df Residuals:                 3263631   BIC:                         6.593e+07\n",
      "Df Model:                          13                                         \n",
      "Covariance Type:            nonrobust                                         \n",
      "=======================================================================================\n",
      "                          coef    std err          t      P>|t|      [0.025      0.975]\n",
      "---------------------------------------------------------------------------------------\n",
      "Intercept            2383.6230     11.696    203.804      0.000    2360.700    2406.546\n",
      "stay_time_s             0.0079   4.76e-05    166.752      0.000       0.008       0.008\n",
      "rate_f1               -48.6709      2.886    -16.862      0.000     -54.328     -43.014\n",
      "rate_f2               -18.3879      2.953     -6.228      0.000     -24.175     -12.601\n",
      "rate_f3                17.7987      2.937      6.061      0.000      12.043      23.554\n",
      "rate_f4                25.4482      2.803      9.078      0.000      19.954      30.943\n",
      "rate_f5                -8.9784      3.022     -2.971      0.003     -14.902      -3.055\n",
      "rate_f6               -57.1480      3.241    -17.630      0.000     -63.501     -50.795\n",
      "stay_time_s:rate_f1    -0.0002   1.19e-05    -20.604      0.000      -0.000      -0.000\n",
      "stay_time_s:rate_f2    -0.0002    1.2e-05    -16.324      0.000      -0.000      -0.000\n",
      "stay_time_s:rate_f3 -2.575e-05    1.2e-05     -2.151      0.032   -4.92e-05   -2.28e-06\n",
      "stay_time_s:rate_f4     0.0001   1.15e-05      9.048      0.000    8.13e-05       0.000\n",
      "stay_time_s:rate_f5    -0.0002   1.23e-05    -17.732      0.000      -0.000      -0.000\n",
      "stay_time_s:rate_f6    -0.0003   1.33e-05    -23.541      0.000      -0.000      -0.000\n",
      "==============================================================================\n",
      "Omnibus:                  1653164.259   Durbin-Watson:                   1.995\n",
      "Prob(Omnibus):                  0.000   Jarque-Bera (JB):        593036098.384\n",
      "Skew:                           1.187   Prob(JB):                         0.00\n",
      "Kurtosis:                      68.995   Cond. No.                     2.62e+06\n",
      "==============================================================================\n",
      "\n",
      "Notes:\n",
      "[1] Standard Errors assume that the covariance matrix of the errors is correctly specified.\n",
      "[2] The condition number is large, 2.62e+06. This might indicate that there are\n",
      "strong multicollinearity or other numerical problems.\n"
     ]
    }
   ],
   "source": [
    "import statsmodels.formula.api as smf\n",
    "\n",
    "#Model 8: \n",
    "# 选择特征\n",
    "features = ['stay_time_s','rate_f1', 'rate_f2', 'rate_f3', 'rate_f4','rate_f5', 'rate_f6']\n",
    "# 选择目标\n",
    "target = 'session_time'\n",
    "\n",
    "# 指定线性回归模型公式\n",
    "formula = \"session_time ~ stay_time_s *(rate_f1 + rate_f2 + rate_f3 + rate_f4 + rate_f5 + rate_f6)\"    \n",
    "# 在训练集上拟合线性回归模型\n",
    "model_8 = smf.ols(formula=formula, data=train_df).fit()\n",
    "\n",
    "# results\n",
    "print(model_8.summary())\n",
    "\n",
    "# 在测试集上进行预测\n",
    "model_8_y_hat_group1 = model_8.predict(test_df_group1[features])\n",
    "model_8_y_hat_group2 = model_8.predict(test_df_group2[features])\n",
    "model_8_y_hat_group3 = model_8.predict(test_df_group3[features])"
   ]
  },
  {
   "cell_type": "code",
   "execution_count": 26,
   "id": "0e337052",
   "metadata": {},
   "outputs": [
    {
     "name": "stdout",
     "output_type": "stream",
     "text": [
      "model_8_R2: [0.08260855748480844, 0.04770997482145756, 0.03450916762339307, 0.06734130351163581]\n"
     ]
    }
   ],
   "source": [
    "# 个体level\n",
    "Model_8_R2=[]\n",
    "Model_8_R2.append(r2_score(train_df[target],model_8.predict(train_df[features])))\n",
    "Model_8_R2.append(r2_score(test_df_group1[target],model_8.predict(test_df_group1[features])))\n",
    "Model_8_R2.append(r2_score(test_df_group2[target],model_8.predict(test_df_group2[features])))\n",
    "Model_8_R2.append(r2_score(test_df_group3[target],model_8.predict(test_df_group3[features])))\n",
    "\n",
    "print(\"model_8_R2:\",Model_8_R2)"
   ]
  },
  {
   "cell_type": "code",
   "execution_count": 27,
   "id": "bd951391",
   "metadata": {},
   "outputs": [
    {
     "name": "stdout",
     "output_type": "stream",
     "text": [
      "model_8_ATE: [40.46673060433841, 102.1414254467827, 34.30920350147608]\n"
     ]
    }
   ],
   "source": [
    "model_8_ATE=[]\n",
    "model_8_group_1_ATE= np.mean(model_8_y_hat_group1)- np.mean(test_df_control[\"session_time\"])\n",
    "model_8_group_2_ATE= np.mean(model_8_y_hat_group2)- np.mean(test_df_control[\"session_time\"])\n",
    "model_8_group_3_ATE= np.mean(model_8_y_hat_group3)- np.mean(test_df_control[\"session_time\"])\n",
    "model_8_ATE.append(model_8_group_1_ATE)\n",
    "model_8_ATE.append(model_8_group_2_ATE)\n",
    "model_8_ATE.append(model_8_group_3_ATE)\n",
    "\n",
    "print(\"model_8_ATE:\",model_8_ATE)"
   ]
  },
  {
   "cell_type": "markdown",
   "id": "01311950",
   "metadata": {},
   "source": [
    "# Model 9: X*(c1 + c2 + c3 +c4)"
   ]
  },
  {
   "cell_type": "code",
   "execution_count": 28,
   "id": "70445919",
   "metadata": {},
   "outputs": [
    {
     "name": "stdout",
     "output_type": "stream",
     "text": [
      "                            OLS Regression Results                            \n",
      "==============================================================================\n",
      "Dep. Variable:           session_time   R-squared:                       0.082\n",
      "Model:                            OLS   Adj. R-squared:                  0.082\n",
      "Method:                 Least Squares   F-statistic:                 3.255e+04\n",
      "Date:                Thu, 30 Mar 2023   Prob (F-statistic):               0.00\n",
      "Time:                        15:39:01   Log-Likelihood:            -3.2964e+07\n",
      "No. Observations:             3263645   AIC:                         6.593e+07\n",
      "Df Residuals:                 3263635   BIC:                         6.593e+07\n",
      "Df Model:                           9                                         \n",
      "Covariance Type:            nonrobust                                         \n",
      "=======================================================================================\n",
      "                          coef    std err          t      P>|t|      [0.025      0.975]\n",
      "---------------------------------------------------------------------------------------\n",
      "Intercept            2380.5688     11.698    203.510      0.000    2357.642    2403.496\n",
      "stay_time_s             0.0079   4.76e-05    166.410      0.000       0.008       0.008\n",
      "rate_c1              -113.9086      4.271    -26.672      0.000    -122.279    -105.538\n",
      "rate_c2               -16.5837      5.098     -3.253      0.001     -26.575      -6.593\n",
      "rate_c3                 6.6155      5.214      1.269      0.205      -3.604      16.835\n",
      "rate_c4                 4.8790      2.075      2.352      0.019       0.813       8.945\n",
      "stay_time_s:rate_c1    -0.0006   1.75e-05    -33.485      0.000      -0.001      -0.001\n",
      "stay_time_s:rate_c2    -0.0002   2.08e-05    -10.237      0.000      -0.000      -0.000\n",
      "stay_time_s:rate_c3    -0.0002   2.12e-05    -10.388      0.000      -0.000      -0.000\n",
      "stay_time_s:rate_c4 -5.299e-05   8.45e-06     -6.272      0.000   -6.95e-05   -3.64e-05\n",
      "==============================================================================\n",
      "Omnibus:                  1656476.709   Durbin-Watson:                   1.995\n",
      "Prob(Omnibus):                  0.000   Jarque-Bera (JB):        592692037.935\n",
      "Skew:                           1.193   Prob(JB):                         0.00\n",
      "Kurtosis:                      68.976   Cond. No.                     4.93e+06\n",
      "==============================================================================\n",
      "\n",
      "Notes:\n",
      "[1] Standard Errors assume that the covariance matrix of the errors is correctly specified.\n",
      "[2] The condition number is large, 4.93e+06. This might indicate that there are\n",
      "strong multicollinearity or other numerical problems.\n"
     ]
    }
   ],
   "source": [
    "import statsmodels.formula.api as smf\n",
    "\n",
    "#Model 4: \n",
    "# 选择特征\n",
    "features = ['stay_time_s','rate_c1', 'rate_c2', 'rate_c3', 'rate_c4']\n",
    "# 选择目标\n",
    "target = 'session_time'\n",
    "\n",
    "# 指定线性回归模型公式\n",
    "formula = \"session_time ~ stay_time_s*(rate_c1 + rate_c2 + rate_c3 + rate_c4)\"    \n",
    "# 在训练集上拟合线性回归模型\n",
    "model_9 = smf.ols(formula=formula, data=train_df).fit()\n",
    "\n",
    "# results\n",
    "print(model_9.summary())\n",
    "\n",
    "# 在测试集上进行预测\n",
    "model_9_y_hat_group1 = model_9.predict(test_df_group1[features])\n",
    "model_9_y_hat_group2 = model_9.predict(test_df_group2[features])\n",
    "model_9_y_hat_group3 = model_9.predict(test_df_group3[features])"
   ]
  },
  {
   "cell_type": "code",
   "execution_count": 29,
   "id": "285a15fc",
   "metadata": {},
   "outputs": [
    {
     "name": "stdout",
     "output_type": "stream",
     "text": [
      "model_9_R2: [0.08235905733001392, 0.05090029448391131, 0.041702666207442673, 0.0679380716951643]\n"
     ]
    }
   ],
   "source": [
    "# 个体level\n",
    "Model_9_R2=[]\n",
    "Model_9_R2.append(r2_score(train_df[target],model_9.predict(train_df[features])))\n",
    "Model_9_R2.append(r2_score(test_df_group1[target],model_9.predict(test_df_group1[features])))\n",
    "Model_9_R2.append(r2_score(test_df_group2[target],model_9.predict(test_df_group2[features])))\n",
    "Model_9_R2.append(r2_score(test_df_group3[target],model_9.predict(test_df_group3[features])))\n",
    "\n",
    "print(\"model_9_R2:\",Model_9_R2)"
   ]
  },
  {
   "cell_type": "code",
   "execution_count": 30,
   "id": "66bd7be2",
   "metadata": {},
   "outputs": [
    {
     "name": "stdout",
     "output_type": "stream",
     "text": [
      "model_9_ATE: [-177.49826208401146, -49.221525130517875, -16.566812605032283]\n"
     ]
    }
   ],
   "source": [
    "model_9_ATE=[]\n",
    "model_9_group_1_ATE= np.mean(model_9_y_hat_group1)- np.mean(test_df_control[\"session_time\"])\n",
    "model_9_group_2_ATE= np.mean(model_9_y_hat_group2)- np.mean(test_df_control[\"session_time\"])\n",
    "model_9_group_3_ATE= np.mean(model_9_y_hat_group3)- np.mean(test_df_control[\"session_time\"])\n",
    "model_9_ATE.append(model_9_group_1_ATE)\n",
    "model_9_ATE.append(model_9_group_2_ATE)\n",
    "model_9_ATE.append(model_9_group_3_ATE)\n",
    "\n",
    "print(\"model_9_ATE:\",model_9_ATE)"
   ]
  },
  {
   "cell_type": "markdown",
   "id": "603750f5",
   "metadata": {},
   "source": [
    "# 5. Compare all Models"
   ]
  },
  {
   "cell_type": "markdown",
   "id": "89491e48",
   "metadata": {},
   "source": [
    "# ---------------------------- first 5 models------------------------------------------"
   ]
  },
  {
   "cell_type": "code",
   "execution_count": 39,
   "id": "4fd38cf6",
   "metadata": {},
   "outputs": [
    {
     "data": {
      "text/html": [
       "<div>\n",
       "<style scoped>\n",
       "    .dataframe tbody tr th:only-of-type {\n",
       "        vertical-align: middle;\n",
       "    }\n",
       "\n",
       "    .dataframe tbody tr th {\n",
       "        vertical-align: top;\n",
       "    }\n",
       "\n",
       "    .dataframe thead th {\n",
       "        text-align: right;\n",
       "    }\n",
       "</style>\n",
       "<table border=\"1\" class=\"dataframe\">\n",
       "  <thead>\n",
       "    <tr style=\"text-align: right;\">\n",
       "      <th></th>\n",
       "      <th>model_1_R2</th>\n",
       "      <th>model_2_R2</th>\n",
       "      <th>model_3_R2</th>\n",
       "      <th>model_4_R2</th>\n",
       "      <th>model_5_R2</th>\n",
       "    </tr>\n",
       "  </thead>\n",
       "  <tbody>\n",
       "    <tr>\n",
       "      <th>0</th>\n",
       "      <td>2.581286e-03</td>\n",
       "      <td>0.084092</td>\n",
       "      <td>0.082129</td>\n",
       "      <td>0.081971</td>\n",
       "      <td>8.391654e-02</td>\n",
       "    </tr>\n",
       "    <tr>\n",
       "      <th>1</th>\n",
       "      <td>-8.630614e+20</td>\n",
       "      <td>-0.006344</td>\n",
       "      <td>0.048392</td>\n",
       "      <td>0.048024</td>\n",
       "      <td>4.721803e-02</td>\n",
       "    </tr>\n",
       "    <tr>\n",
       "      <th>2</th>\n",
       "      <td>-2.493703e+18</td>\n",
       "      <td>-0.519334</td>\n",
       "      <td>0.039315</td>\n",
       "      <td>0.040532</td>\n",
       "      <td>-1.771737e+02</td>\n",
       "    </tr>\n",
       "    <tr>\n",
       "      <th>3</th>\n",
       "      <td>-1.512091e+18</td>\n",
       "      <td>-0.487651</td>\n",
       "      <td>0.067919</td>\n",
       "      <td>0.067875</td>\n",
       "      <td>-4.887733e+09</td>\n",
       "    </tr>\n",
       "  </tbody>\n",
       "</table>\n",
       "</div>"
      ],
      "text/plain": [
       "     model_1_R2  model_2_R2  model_3_R2  model_4_R2    model_5_R2\n",
       "0  2.581286e-03    0.084092    0.082129    0.081971  8.391654e-02\n",
       "1 -8.630614e+20   -0.006344    0.048392    0.048024  4.721803e-02\n",
       "2 -2.493703e+18   -0.519334    0.039315    0.040532 -1.771737e+02\n",
       "3 -1.512091e+18   -0.487651    0.067919    0.067875 -4.887733e+09"
      ]
     },
     "execution_count": 39,
     "metadata": {},
     "output_type": "execute_result"
    }
   ],
   "source": [
    "all_model_indi_R2= pd.DataFrame(dict(\n",
    "    model_1_R2=Model_1_R2,\n",
    "    model_2_R2=Model_2_R2,\n",
    "    model_3_R2=Model_3_R2,\n",
    "    model_4_R2=Model_4_R2,\n",
    "    model_5_R2=Model_5_R2,\n",
    "))\n",
    "all_model_indi_R2"
   ]
  },
  {
   "cell_type": "code",
   "execution_count": 40,
   "id": "9d90aaa0",
   "metadata": {},
   "outputs": [
    {
     "data": {
      "text/html": [
       "<div>\n",
       "<style scoped>\n",
       "    .dataframe tbody tr th:only-of-type {\n",
       "        vertical-align: middle;\n",
       "    }\n",
       "\n",
       "    .dataframe tbody tr th {\n",
       "        vertical-align: top;\n",
       "    }\n",
       "\n",
       "    .dataframe thead th {\n",
       "        text-align: right;\n",
       "    }\n",
       "</style>\n",
       "<table border=\"1\" class=\"dataframe\">\n",
       "  <thead>\n",
       "    <tr style=\"text-align: right;\">\n",
       "      <th></th>\n",
       "      <th>real_ATE</th>\n",
       "      <th>model_1_ATE</th>\n",
       "      <th>model_2_ATE</th>\n",
       "      <th>model_3_ATE</th>\n",
       "      <th>model_4_ATE</th>\n",
       "      <th>model_5_ATE</th>\n",
       "    </tr>\n",
       "  </thead>\n",
       "  <tbody>\n",
       "    <tr>\n",
       "      <th>0</th>\n",
       "      <td>-38.127994</td>\n",
       "      <td>1.779121e+14</td>\n",
       "      <td>1380.888987</td>\n",
       "      <td>40.387572</td>\n",
       "      <td>-178.023975</td>\n",
       "      <td>-2.582353e+02</td>\n",
       "    </tr>\n",
       "    <tr>\n",
       "      <th>1</th>\n",
       "      <td>-94.315717</td>\n",
       "      <td>8.695137e+12</td>\n",
       "      <td>4025.931762</td>\n",
       "      <td>103.216154</td>\n",
       "      <td>-49.743635</td>\n",
       "      <td>-7.338585e+04</td>\n",
       "    </tr>\n",
       "    <tr>\n",
       "      <th>2</th>\n",
       "      <td>24.172070</td>\n",
       "      <td>-7.430652e+12</td>\n",
       "      <td>4528.275101</td>\n",
       "      <td>34.670765</td>\n",
       "      <td>-16.787217</td>\n",
       "      <td>1.003754e+08</td>\n",
       "    </tr>\n",
       "  </tbody>\n",
       "</table>\n",
       "</div>"
      ],
      "text/plain": [
       "    real_ATE   model_1_ATE  model_2_ATE  model_3_ATE  model_4_ATE  \\\n",
       "0 -38.127994  1.779121e+14  1380.888987    40.387572  -178.023975   \n",
       "1 -94.315717  8.695137e+12  4025.931762   103.216154   -49.743635   \n",
       "2  24.172070 -7.430652e+12  4528.275101    34.670765   -16.787217   \n",
       "\n",
       "    model_5_ATE  \n",
       "0 -2.582353e+02  \n",
       "1 -7.338585e+04  \n",
       "2  1.003754e+08  "
      ]
     },
     "execution_count": 40,
     "metadata": {},
     "output_type": "execute_result"
    }
   ],
   "source": [
    "all_ATE= pd.DataFrame(dict(\n",
    "    real_ATE=real_ATE,\n",
    "    model_1_ATE=model_1_ATE,\n",
    "    model_2_ATE=model_2_ATE,\n",
    "    model_3_ATE=model_3_ATE,\n",
    "    model_4_ATE=model_4_ATE,\n",
    "    model_5_ATE=model_5_ATE,\n",
    "))\n",
    "all_ATE"
   ]
  },
  {
   "cell_type": "code",
   "execution_count": 26,
   "id": "52caf21d",
   "metadata": {},
   "outputs": [],
   "source": [
    "# 给定两列值，Y和 Y_hat\n",
    "# 计算两列的R square\n",
    "def r_square(y, y_hat):\n",
    "    # 计算平均值\n",
    "    y_mean = np.mean(y)\n",
    "    # 计算总的方差\n",
    "    total_variance = np.sum((y - y_mean) ** 2)\n",
    "    # 计算残差\n",
    "    residual = np.sum((y - y_hat) ** 2)\n",
    "    # 计算R square\n",
    "    r_square = 1 - residual / total_variance\n",
    "    return r_square\n",
    "\n",
    "# 给定两列值，Y和 Y_hat\n",
    "# 计算两列的MAPE\n",
    "def mape(y, y_hat):\n",
    "    # 计算MAPE\n",
    "    mape = np.mean(np.abs((y - y_hat) / y))\n",
    "    return mape"
   ]
  },
  {
   "cell_type": "code",
   "execution_count": 32,
   "id": "7b9c43a0",
   "metadata": {},
   "outputs": [
    {
     "data": {
      "text/plain": [
       "0    1.821367\n",
       "dtype: float64"
      ]
     },
     "execution_count": 32,
     "metadata": {},
     "output_type": "execute_result"
    }
   ],
   "source": [
    "mape(pd.DataFrame(real_ATE),pd.DataFrame(model_4_ATE))"
   ]
  },
  {
   "cell_type": "code",
   "execution_count": 42,
   "id": "e5e80b84",
   "metadata": {},
   "outputs": [],
   "source": [
    "all_model_ATE_R2=[]\n",
    "all_model_ATE_R2.append(r_square(all_ATE[\"real_ATE\"],all_ATE[\"model_1_ATE\"]))\n",
    "all_model_ATE_R2.append(r_square(all_ATE[\"real_ATE\"],all_ATE[\"model_2_ATE\"]))\n",
    "all_model_ATE_R2.append(r_square(all_ATE[\"real_ATE\"],all_ATE[\"model_3_ATE\"]))\n",
    "all_model_ATE_R2.append(r_square(all_ATE[\"real_ATE\"],all_ATE[\"model_4_ATE\"]))\n",
    "all_model_ATE_R2.append(r_square(all_ATE[\"real_ATE\"],all_ATE[\"model_5_ATE\"]))\n"
   ]
  },
  {
   "cell_type": "code",
   "execution_count": 43,
   "id": "1b433d75",
   "metadata": {},
   "outputs": [],
   "source": [
    "all_model_ATE_MAPE=[]\n",
    "all_model_ATE_MAPE.append(mape(all_ATE[\"real_ATE\"],all_ATE[\"model_1_ATE\"]))\n",
    "all_model_ATE_MAPE.append(mape(all_ATE[\"real_ATE\"],all_ATE[\"model_2_ATE\"]))\n",
    "all_model_ATE_MAPE.append(mape(all_ATE[\"real_ATE\"],all_ATE[\"model_3_ATE\"]))\n",
    "all_model_ATE_MAPE.append(mape(all_ATE[\"real_ATE\"],all_ATE[\"model_4_ATE\"]))\n",
    "all_model_ATE_MAPE.append(mape(all_ATE[\"real_ATE\"],all_ATE[\"model_5_ATE\"]))\n"
   ]
  },
  {
   "cell_type": "code",
   "execution_count": 44,
   "id": "d0b6cf8a",
   "metadata": {},
   "outputs": [
    {
     "data": {
      "text/html": [
       "<div>\n",
       "<style scoped>\n",
       "    .dataframe tbody tr th:only-of-type {\n",
       "        vertical-align: middle;\n",
       "    }\n",
       "\n",
       "    .dataframe tbody tr th {\n",
       "        vertical-align: top;\n",
       "    }\n",
       "\n",
       "    .dataframe thead th {\n",
       "        text-align: right;\n",
       "    }\n",
       "</style>\n",
       "<table border=\"1\" class=\"dataframe\">\n",
       "  <thead>\n",
       "    <tr style=\"text-align: right;\">\n",
       "      <th></th>\n",
       "      <th>all_model_ATE_R2</th>\n",
       "      <th>all_model_ATE_MAPE</th>\n",
       "    </tr>\n",
       "  </thead>\n",
       "  <tbody>\n",
       "    <tr>\n",
       "      <th>0</th>\n",
       "      <td>-4.523762e+24</td>\n",
       "      <td>1.688593e+12</td>\n",
       "    </tr>\n",
       "    <tr>\n",
       "      <th>1</th>\n",
       "      <td>-5.589311e+03</td>\n",
       "      <td>8.907930e+01</td>\n",
       "    </tr>\n",
       "    <tr>\n",
       "      <th>2</th>\n",
       "      <td>-5.446680e+00</td>\n",
       "      <td>1.529321e+00</td>\n",
       "    </tr>\n",
       "    <tr>\n",
       "      <th>3</th>\n",
       "      <td>-2.307079e+00</td>\n",
       "      <td>1.945396e+00</td>\n",
       "    </tr>\n",
       "    <tr>\n",
       "      <th>4</th>\n",
       "      <td>-1.434010e+12</td>\n",
       "      <td>1.384439e+06</td>\n",
       "    </tr>\n",
       "  </tbody>\n",
       "</table>\n",
       "</div>"
      ],
      "text/plain": [
       "   all_model_ATE_R2  all_model_ATE_MAPE\n",
       "0     -4.523762e+24        1.688593e+12\n",
       "1     -5.589311e+03        8.907930e+01\n",
       "2     -5.446680e+00        1.529321e+00\n",
       "3     -2.307079e+00        1.945396e+00\n",
       "4     -1.434010e+12        1.384439e+06"
      ]
     },
     "execution_count": 44,
     "metadata": {},
     "output_type": "execute_result"
    }
   ],
   "source": [
    "all_model_ATE_metrics=pd.DataFrame(dict(\n",
    "    all_model_ATE_R2=all_model_ATE_R2,\n",
    "    all_model_ATE_MAPE=all_model_ATE_MAPE\n",
    "))\n",
    "all_model_ATE_metrics"
   ]
  },
  {
   "cell_type": "code",
   "execution_count": 45,
   "id": "48af0493",
   "metadata": {},
   "outputs": [],
   "source": [
    "all_model_indi_R2.to_excel(\"all_model_indi_R2.xls\")\n",
    "all_ATE.to_excel(\"all_ATE.xls\")\n",
    "all_model_ATE_metrics.to_excel(\"all_model_ATE_metrics.xls\")"
   ]
  },
  {
   "cell_type": "markdown",
   "id": "9e97f1e2",
   "metadata": {},
   "source": [
    "# -------------------------------rest models----------------------------"
   ]
  },
  {
   "cell_type": "code",
   "execution_count": 34,
   "id": "96eecb15",
   "metadata": {},
   "outputs": [
    {
     "data": {
      "text/html": [
       "<div>\n",
       "<style scoped>\n",
       "    .dataframe tbody tr th:only-of-type {\n",
       "        vertical-align: middle;\n",
       "    }\n",
       "\n",
       "    .dataframe tbody tr th {\n",
       "        vertical-align: top;\n",
       "    }\n",
       "\n",
       "    .dataframe thead th {\n",
       "        text-align: right;\n",
       "    }\n",
       "</style>\n",
       "<table border=\"1\" class=\"dataframe\">\n",
       "  <thead>\n",
       "    <tr style=\"text-align: right;\">\n",
       "      <th></th>\n",
       "      <th>model_6_R2</th>\n",
       "      <th>model_7_R2</th>\n",
       "      <th>model_8_R2</th>\n",
       "      <th>model_9_R2</th>\n",
       "    </tr>\n",
       "  </thead>\n",
       "  <tbody>\n",
       "    <tr>\n",
       "      <th>0</th>\n",
       "      <td>0.082475</td>\n",
       "      <td>0.086057</td>\n",
       "      <td>0.082609</td>\n",
       "      <td>0.082359</td>\n",
       "    </tr>\n",
       "    <tr>\n",
       "      <th>1</th>\n",
       "      <td>0.048133</td>\n",
       "      <td>-0.159368</td>\n",
       "      <td>0.047710</td>\n",
       "      <td>0.050900</td>\n",
       "    </tr>\n",
       "    <tr>\n",
       "      <th>2</th>\n",
       "      <td>0.039696</td>\n",
       "      <td>-1.302884</td>\n",
       "      <td>0.034509</td>\n",
       "      <td>0.041703</td>\n",
       "    </tr>\n",
       "    <tr>\n",
       "      <th>3</th>\n",
       "      <td>0.067903</td>\n",
       "      <td>-1.065765</td>\n",
       "      <td>0.067341</td>\n",
       "      <td>0.067938</td>\n",
       "    </tr>\n",
       "  </tbody>\n",
       "</table>\n",
       "</div>"
      ],
      "text/plain": [
       "   model_6_R2  model_7_R2  model_8_R2  model_9_R2\n",
       "0    0.082475    0.086057    0.082609    0.082359\n",
       "1    0.048133   -0.159368    0.047710    0.050900\n",
       "2    0.039696   -1.302884    0.034509    0.041703\n",
       "3    0.067903   -1.065765    0.067341    0.067938"
      ]
     },
     "execution_count": 34,
     "metadata": {},
     "output_type": "execute_result"
    }
   ],
   "source": [
    "all_model_indi_R2= pd.DataFrame(dict(\n",
    "    model_6_R2=Model_6_R2,\n",
    "    model_7_R2=Model_7_R2,\n",
    "    model_8_R2=Model_8_R2,\n",
    "    model_9_R2=Model_9_R2\n",
    "))\n",
    "all_model_indi_R2"
   ]
  },
  {
   "cell_type": "code",
   "execution_count": 35,
   "id": "9fc4e7a8",
   "metadata": {},
   "outputs": [
    {
     "data": {
      "text/html": [
       "<div>\n",
       "<style scoped>\n",
       "    .dataframe tbody tr th:only-of-type {\n",
       "        vertical-align: middle;\n",
       "    }\n",
       "\n",
       "    .dataframe tbody tr th {\n",
       "        vertical-align: top;\n",
       "    }\n",
       "\n",
       "    .dataframe thead th {\n",
       "        text-align: right;\n",
       "    }\n",
       "</style>\n",
       "<table border=\"1\" class=\"dataframe\">\n",
       "  <thead>\n",
       "    <tr style=\"text-align: right;\">\n",
       "      <th></th>\n",
       "      <th>real_ATE</th>\n",
       "      <th>model_6_ATE</th>\n",
       "      <th>model_7_ATE</th>\n",
       "      <th>model_8_ATE</th>\n",
       "      <th>model_9_ATE</th>\n",
       "    </tr>\n",
       "  </thead>\n",
       "  <tbody>\n",
       "    <tr>\n",
       "      <th>0</th>\n",
       "      <td>-38.127994</td>\n",
       "      <td>-163.231128</td>\n",
       "      <td>1394.821474</td>\n",
       "      <td>40.466731</td>\n",
       "      <td>-177.498262</td>\n",
       "    </tr>\n",
       "    <tr>\n",
       "      <th>1</th>\n",
       "      <td>-94.315717</td>\n",
       "      <td>71.294436</td>\n",
       "      <td>3997.519128</td>\n",
       "      <td>102.141425</td>\n",
       "      <td>-49.221525</td>\n",
       "    </tr>\n",
       "    <tr>\n",
       "      <th>2</th>\n",
       "      <td>24.172070</td>\n",
       "      <td>-1.637993</td>\n",
       "      <td>4511.786440</td>\n",
       "      <td>34.309204</td>\n",
       "      <td>-16.566813</td>\n",
       "    </tr>\n",
       "  </tbody>\n",
       "</table>\n",
       "</div>"
      ],
      "text/plain": [
       "    real_ATE  model_6_ATE  model_7_ATE  model_8_ATE  model_9_ATE\n",
       "0 -38.127994  -163.231128  1394.821474    40.466731  -177.498262\n",
       "1 -94.315717    71.294436  3997.519128   102.141425   -49.221525\n",
       "2  24.172070    -1.637993  4511.786440    34.309204   -16.566813"
      ]
     },
     "execution_count": 35,
     "metadata": {},
     "output_type": "execute_result"
    }
   ],
   "source": [
    "all_ATE= pd.DataFrame(dict(\n",
    "    real_ATE=real_ATE,\n",
    "    model_6_ATE=model_6_ATE,\n",
    "    model_7_ATE=model_7_ATE,\n",
    "    model_8_ATE=model_8_ATE,\n",
    "    model_9_ATE=model_9_ATE\n",
    "))\n",
    "all_ATE"
   ]
  },
  {
   "cell_type": "code",
   "execution_count": 38,
   "id": "3b8a9d5e",
   "metadata": {},
   "outputs": [],
   "source": [
    "all_model_ATE_R2=[]\n",
    "all_model_ATE_R2.append(r_square(all_ATE[\"real_ATE\"],all_ATE[\"model_6_ATE\"]))\n",
    "all_model_ATE_R2.append(r_square(all_ATE[\"real_ATE\"],all_ATE[\"model_7_ATE\"]))\n",
    "all_model_ATE_R2.append(r_square(all_ATE[\"real_ATE\"],all_ATE[\"model_8_ATE\"]))\n",
    "all_model_ATE_R2.append(r_square(all_ATE[\"real_ATE\"],all_ATE[\"model_9_ATE\"]))"
   ]
  },
  {
   "cell_type": "code",
   "execution_count": 39,
   "id": "c249d9c1",
   "metadata": {},
   "outputs": [],
   "source": [
    "all_model_ATE_MAPE=[]\n",
    "all_model_ATE_MAPE.append(mape(all_ATE[\"real_ATE\"],all_ATE[\"model_6_ATE\"]))\n",
    "all_model_ATE_MAPE.append(mape(all_ATE[\"real_ATE\"],all_ATE[\"model_7_ATE\"]))\n",
    "all_model_ATE_MAPE.append(mape(all_ATE[\"real_ATE\"],all_ATE[\"model_8_ATE\"]))\n",
    "all_model_ATE_MAPE.append(mape(all_ATE[\"real_ATE\"],all_ATE[\"model_9_ATE\"]))"
   ]
  },
  {
   "cell_type": "code",
   "execution_count": 40,
   "id": "07339c68",
   "metadata": {},
   "outputs": [
    {
     "data": {
      "text/html": [
       "<div>\n",
       "<style scoped>\n",
       "    .dataframe tbody tr th:only-of-type {\n",
       "        vertical-align: middle;\n",
       "    }\n",
       "\n",
       "    .dataframe tbody tr th {\n",
       "        vertical-align: top;\n",
       "    }\n",
       "\n",
       "    .dataframe thead th {\n",
       "        text-align: right;\n",
       "    }\n",
       "</style>\n",
       "<table border=\"1\" class=\"dataframe\">\n",
       "  <thead>\n",
       "    <tr style=\"text-align: right;\">\n",
       "      <th></th>\n",
       "      <th>all_model_ATE_R2</th>\n",
       "      <th>all_model_ATE_MAPE</th>\n",
       "    </tr>\n",
       "  </thead>\n",
       "  <tbody>\n",
       "    <tr>\n",
       "      <th>0</th>\n",
       "      <td>-5.226056</td>\n",
       "      <td>2.034937</td>\n",
       "    </tr>\n",
       "    <tr>\n",
       "      <th>1</th>\n",
       "      <td>-5540.654940</td>\n",
       "      <td>88.873309</td>\n",
       "    </tr>\n",
       "    <tr>\n",
       "      <th>2</th>\n",
       "      <td>-5.387121</td>\n",
       "      <td>1.521229</td>\n",
       "    </tr>\n",
       "    <tr>\n",
       "      <th>3</th>\n",
       "      <td>-2.290283</td>\n",
       "      <td>1.939605</td>\n",
       "    </tr>\n",
       "  </tbody>\n",
       "</table>\n",
       "</div>"
      ],
      "text/plain": [
       "   all_model_ATE_R2  all_model_ATE_MAPE\n",
       "0         -5.226056            2.034937\n",
       "1      -5540.654940           88.873309\n",
       "2         -5.387121            1.521229\n",
       "3         -2.290283            1.939605"
      ]
     },
     "execution_count": 40,
     "metadata": {},
     "output_type": "execute_result"
    }
   ],
   "source": [
    "all_model_ATE_metrics=pd.DataFrame(dict(\n",
    "    all_model_ATE_R2=all_model_ATE_R2,\n",
    "    all_model_ATE_MAPE=all_model_ATE_MAPE\n",
    "))\n",
    "all_model_ATE_metrics"
   ]
  },
  {
   "cell_type": "code",
   "execution_count": 41,
   "id": "7c8faab6",
   "metadata": {},
   "outputs": [],
   "source": [
    "all_model_indi_R2.to_excel(\"all_model_indi_R2_1.xls\")\n",
    "all_ATE.to_excel(\"all_ATE_1.xls\")\n",
    "all_model_ATE_metrics.to_excel(\"all_model_ATE_metrics_1.xls\")"
   ]
  },
  {
   "cell_type": "code",
   "execution_count": null,
   "id": "fdf263ba",
   "metadata": {},
   "outputs": [],
   "source": []
  }
 ],
 "metadata": {
  "kernelspec": {
   "display_name": "Python 3.7",
   "language": "python",
   "name": "python3"
  },
  "language_info": {
   "codemirror_mode": {
    "name": "ipython",
    "version": 3
   },
   "file_extension": ".py",
   "mimetype": "text/x-python",
   "name": "python",
   "nbconvert_exporter": "python",
   "pygments_lexer": "ipython3",
   "version": "3.7.3"
  }
 },
 "nbformat": 4,
 "nbformat_minor": 5
}
